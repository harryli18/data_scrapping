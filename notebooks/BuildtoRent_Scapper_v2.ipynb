{
 "cells": [
  {
   "cell_type": "code",
   "execution_count": 1,
   "metadata": {},
   "outputs": [],
   "source": [
    "from seai_handler import extract_seai_details\n",
    "import pandas as pd\n",
    "import os\n",
    "#import time\n",
    "from datetime import datetime\n",
    "from selenium import webdriver\n",
    "from webdriver_manager.chrome import ChromeDriverManager\n",
    "from selenium.webdriver.common.by import By\n",
    "import bs4\n",
    "\n",
    "#from selenium.webdriver.common.by import By\n",
    "#from selenium.webdriver.support import expected_conditions as EC\n",
    "from selenium.webdriver.chrome.options import Options"
   ]
  },
  {
   "cell_type": "code",
   "execution_count": 2,
   "metadata": {},
   "outputs": [],
   "source": [
    "data_dir = 'C:/Users/harry.li/OneDrive - Cushman & Wakefield/realsight/data/'\n",
    "report_dir = 'C:/Users/harry.li/OneDrive - Cushman & Wakefield/realsight/report/'"
   ]
  },
  {
   "cell_type": "code",
   "execution_count": 3,
   "metadata": {},
   "outputs": [
    {
     "name": "stdout",
     "output_type": "stream",
     "text": [
      "\n"
     ]
    },
    {
     "name": "stderr",
     "output_type": "stream",
     "text": [
      "[WDM] - ====== WebDriver manager ======\n",
      "[WDM] - Current google-chrome version is 107.0.5304\n",
      "[WDM] - Get LATEST chromedriver version for 107.0.5304 google-chrome\n",
      "[WDM] - Driver [C:\\Users\\Harry\\.wdm\\drivers\\chromedriver\\win32\\107.0.5304.62\\chromedriver.exe] found in cache\n",
      "C:\\Users\\Harry\\AppData\\Local\\Temp\\ipykernel_27916\\3137345664.py:8: DeprecationWarning: executable_path has been deprecated, please pass in a Service object\n",
      "  browser = webdriver.Chrome(ChromeDriverManager().install(), chrome_options=options)\n",
      "C:\\Users\\Harry\\AppData\\Local\\Temp\\ipykernel_27916\\3137345664.py:8: DeprecationWarning: use options instead of chrome_options\n",
      "  browser = webdriver.Chrome(ChromeDriverManager().install(), chrome_options=options)\n"
     ]
    }
   ],
   "source": [
    "options = Options()\n",
    "#options.add_experimental_option('excludeSwitches', ['enable-logging'])\n",
    "options.add_experimental_option(\"useAutomationExtension\", False)\n",
    "options.add_experimental_option(\"excludeSwitches\",[\"enable-automation\", 'enable-logging'])\n",
    "#options.add_argument('--headless')\n",
    "options.add_argument('--disable-gpu')  # Last I checked this was necessary.\n",
    "\n",
    "browser = webdriver.Chrome(ChromeDriverManager().install(), chrome_options=options)"
   ]
  },
  {
   "cell_type": "code",
   "execution_count": 4,
   "metadata": {},
   "outputs": [],
   "source": [
    "city_df = pd.DataFrame()\n",
    "city_df['city'] = [ 'Bristol',\n",
    " 'Manchester',\n",
    "#  'Cardiff',\n",
    " 'Edinburgh',\n",
    " 'Glasgow',\n",
    " 'Leeds',\n",
    " 'Birmingham',\n",
    " 'Newcastle',\n",
    " 'London',\n",
    "]\n",
    "city_df['max_page'] = [1, 6, 1, 1, 2, 1, 1, 31]\n",
    "\n",
    "master_df = pd.DataFrame()"
   ]
  },
  {
   "cell_type": "code",
   "execution_count": 6,
   "metadata": {},
   "outputs": [],
   "source": [
    "for index, row in city_df.iterrows():\n",
    "    city, max_page = row['city'], row['max_page']\n",
    "    full_data_list = []\n",
    "    for page_number in range(1, max_page+1):\n",
    "        url = \"https://buildtorent.io/properties/?address={}&radius=5000&rentMax=30000&sort=RECOMMENDED&page={}&itemsPerPage=20\".format(city, page_number)\n",
    "        browser.get(url)\n",
    "        browser.implicitly_wait(2)\n",
    "        data1 = browser.find_element(By.XPATH,'//*[@id=\"gatsby-focus-wrapper\"]/div/main/div/div/div[1]/div/div[3]/div[1]/div/div/div[2]')\n",
    "        new_data1 = data1.text.split('\\nView Properties')\n",
    "        data2 = browser.find_element(By.XPATH,'//*[@id=\"gatsby-focus-wrapper\"]/div/main/div/div/div[1]/div/div[3]/div[1]/div/div/div[4]')\n",
    "        new_data2 = data2.text.split('\\nView Properties')\n",
    "\n",
    "        full_data_list = full_data_list + new_data1[:-1] + new_data2[:-1]\n",
    "        browser.implicitly_wait(0)\n",
    "\n",
    "    df = pd.DataFrame()\n",
    "    scheme_name_list = []\n",
    "    address_list = []\n",
    "    description_list = []\n",
    "    onebed_list = []\n",
    "    twobed_list = []\n",
    "    threebed_list = []\n",
    "    studio_list = []\n",
    "    private_room_list = []\n",
    "    tag_list = []\n",
    "    nearest_stations_list = []\n",
    "\n",
    "    for item in full_data_list:\n",
    "        info_list = pd.DataFrame(item.split('\\n'))\n",
    "        info_list = info_list[info_list[0]!='']\n",
    "        info_list.reset_index(inplace=True)\n",
    "\n",
    "        scheme_name_list.append(info_list[0].loc[0])\n",
    "        address_list.append(info_list[0].loc[2])\n",
    "        description_list.append(info_list[0].loc[info_list[0].str.len().idxmax()])\n",
    "        tag_list.append(list(info_list[0].iloc[3:info_list[0].str.len().idxmax()]))\n",
    "\n",
    "        col_name = '1-Bedroom'\n",
    "        index_a = info_list[0][info_list[0].str.contains(col_name)].index\n",
    "        if info_list[0].iloc[index_a+1].empty:\n",
    "            onebed_list.append(None)\n",
    "        else:\n",
    "            onebed_list.append(info_list[0].iloc[index_a+1].values[0])\n",
    "\n",
    "        col_name = '2-Bedroom'\n",
    "        index_a = info_list[0][info_list[0].str.contains(col_name)].index\n",
    "        if info_list[0].iloc[index_a+1].empty:\n",
    "            twobed_list.append(None)\n",
    "        else:\n",
    "            twobed_list.append(info_list[0].iloc[index_a+1].values[0])\n",
    "\n",
    "        col_name = '3-Bedroom'\n",
    "        index_a = info_list[0][info_list[0].str.contains(col_name)].index\n",
    "        if info_list[0].iloc[index_a+1].empty:\n",
    "            threebed_list.append(None)\n",
    "        else:\n",
    "            threebed_list.append(info_list[0].iloc[index_a+1].values[0])\n",
    "\n",
    "        col_name = 'Studio'\n",
    "        index_a = info_list[0][info_list[0].str.contains(col_name)].index\n",
    "        if info_list[0].iloc[index_a+1].empty:\n",
    "            studio_list.append(None)\n",
    "        else:\n",
    "            studio_list.append(info_list[0].iloc[index_a+1].values[0])\n",
    "\n",
    "        col_name = 'Private'\n",
    "        index_a = info_list[0][info_list[0].str.contains(col_name)].index\n",
    "        if info_list[0].iloc[index_a+1].empty:\n",
    "            private_room_list.append(None)\n",
    "        else:\n",
    "            private_room_list.append(info_list[0].iloc[index_a+1].values[0])\n",
    "            \n",
    "        index_a = info_list[0].str.len().idxmax()+ 1\n",
    "        index_b = info_list[0][info_list[0].str.contains('Bedroom|Studio|Room')].index.min()\n",
    "        nearest_stations_list.append(list(info_list[0].iloc[index_a:index_b]))\n",
    "    \n",
    "    df['Scheme Name'] = scheme_name_list\n",
    "    df['Address'] = address_list\n",
    "    df['Tags'] = tag_list\n",
    "    df['Description'] = description_list\n",
    "    df['1-Bedroom'] = onebed_list\n",
    "    df['2-Bedroom'] = twobed_list\n",
    "    df['3-Bedroom'] = threebed_list\n",
    "    df['Studio'] = studio_list\n",
    "    df['Private Room'] = private_room_list\n",
    "    df['Station Info'] = nearest_stations_list\n",
    "    df['City'] = city\n",
    "    master_df = pd.concat([master_df, df])\n",
    "    print(city)\n",
    "    \n",
    "browser.quit()"
   ]
  },
  {
   "cell_type": "code",
   "execution_count": 45,
   "metadata": {},
   "outputs": [
    {
     "data": {
      "text/plain": [
       "Index(['1-Bedroom', '2-Bedroom', '3-Bedroom', 'Studio', 'Private Room'], dtype='object')"
      ]
     },
     "execution_count": 45,
     "metadata": {},
     "output_type": "execute_result"
    }
   ],
   "source": [
    "master_df.columns[4:9]"
   ]
  },
  {
   "cell_type": "code",
   "execution_count": 38,
   "metadata": {},
   "outputs": [],
   "source": [
    "master_df['Studio'] = master_df['Studio'].str.replace('From ', '')\n",
    "master_df['Studio'] = master_df['Studio'].str.replace('/month', '')\n",
    "master_df[master_df.columns[4:9]] = master_df[master_df.columns[4:9]].replace('[\\£,]', '', regex=True).astype(float)"
   ]
  },
  {
   "cell_type": "code",
   "execution_count": 46,
   "metadata": {},
   "outputs": [],
   "source": [
    "report_dir = 'C:/Users/harry/OneDrive - Cushman & Wakefield/realsight/report/'\n",
    "master_df.to_csv(os.path.join(report_dir, 'BTR_Schemes_top9City.csv'), index=False) "
   ]
  },
  {
   "cell_type": "code",
   "execution_count": 44,
   "metadata": {},
   "outputs": [],
   "source": []
  },
  {
   "cell_type": "code",
   "execution_count": 43,
   "metadata": {},
   "outputs": [
    {
     "data": {
      "text/html": [
       "<div>\n",
       "<style scoped>\n",
       "    .dataframe tbody tr th:only-of-type {\n",
       "        vertical-align: middle;\n",
       "    }\n",
       "\n",
       "    .dataframe tbody tr th {\n",
       "        vertical-align: top;\n",
       "    }\n",
       "\n",
       "    .dataframe thead th {\n",
       "        text-align: right;\n",
       "    }\n",
       "</style>\n",
       "<table border=\"1\" class=\"dataframe\">\n",
       "  <thead>\n",
       "    <tr style=\"text-align: right;\">\n",
       "      <th></th>\n",
       "      <th>1-Bedroom</th>\n",
       "      <th>2-Bedroom</th>\n",
       "      <th>3-Bedroom</th>\n",
       "      <th>Studio</th>\n",
       "      <th>Private Room</th>\n",
       "    </tr>\n",
       "  </thead>\n",
       "  <tbody>\n",
       "    <tr>\n",
       "      <th>0</th>\n",
       "      <td>1145.0</td>\n",
       "      <td>1570.0</td>\n",
       "      <td>NaN</td>\n",
       "      <td>905.0</td>\n",
       "      <td>NaN</td>\n",
       "    </tr>\n",
       "    <tr>\n",
       "      <th>1</th>\n",
       "      <td>1125.0</td>\n",
       "      <td>1495.0</td>\n",
       "      <td>1845.0</td>\n",
       "      <td>NaN</td>\n",
       "      <td>NaN</td>\n",
       "    </tr>\n",
       "    <tr>\n",
       "      <th>2</th>\n",
       "      <td>1160.0</td>\n",
       "      <td>1505.0</td>\n",
       "      <td>2150.0</td>\n",
       "      <td>1040.0</td>\n",
       "      <td>NaN</td>\n",
       "    </tr>\n",
       "    <tr>\n",
       "      <th>3</th>\n",
       "      <td>1025.0</td>\n",
       "      <td>1495.0</td>\n",
       "      <td>2250.0</td>\n",
       "      <td>NaN</td>\n",
       "      <td>NaN</td>\n",
       "    </tr>\n",
       "    <tr>\n",
       "      <th>4</th>\n",
       "      <td>1250.0</td>\n",
       "      <td>1575.0</td>\n",
       "      <td>NaN</td>\n",
       "      <td>NaN</td>\n",
       "      <td>NaN</td>\n",
       "    </tr>\n",
       "    <tr>\n",
       "      <th>...</th>\n",
       "      <td>...</td>\n",
       "      <td>...</td>\n",
       "      <td>...</td>\n",
       "      <td>...</td>\n",
       "      <td>...</td>\n",
       "    </tr>\n",
       "    <tr>\n",
       "      <th>611</th>\n",
       "      <td>2383.0</td>\n",
       "      <td>3120.0</td>\n",
       "      <td>3250.0</td>\n",
       "      <td>2166.0</td>\n",
       "      <td>NaN</td>\n",
       "    </tr>\n",
       "    <tr>\n",
       "      <th>612</th>\n",
       "      <td>1733.0</td>\n",
       "      <td>NaN</td>\n",
       "      <td>NaN</td>\n",
       "      <td>NaN</td>\n",
       "      <td>NaN</td>\n",
       "    </tr>\n",
       "    <tr>\n",
       "      <th>613</th>\n",
       "      <td>2380.0</td>\n",
       "      <td>3044.0</td>\n",
       "      <td>3696.0</td>\n",
       "      <td>1950.0</td>\n",
       "      <td>NaN</td>\n",
       "    </tr>\n",
       "    <tr>\n",
       "      <th>614</th>\n",
       "      <td>1625.0</td>\n",
       "      <td>NaN</td>\n",
       "      <td>NaN</td>\n",
       "      <td>NaN</td>\n",
       "      <td>NaN</td>\n",
       "    </tr>\n",
       "    <tr>\n",
       "      <th>615</th>\n",
       "      <td>1200.0</td>\n",
       "      <td>NaN</td>\n",
       "      <td>NaN</td>\n",
       "      <td>NaN</td>\n",
       "      <td>NaN</td>\n",
       "    </tr>\n",
       "  </tbody>\n",
       "</table>\n",
       "<p>788 rows × 5 columns</p>\n",
       "</div>"
      ],
      "text/plain": [
       "     1-Bedroom  2-Bedroom  3-Bedroom  Studio  Private Room\n",
       "0       1145.0     1570.0        NaN   905.0           NaN\n",
       "1       1125.0     1495.0     1845.0     NaN           NaN\n",
       "2       1160.0     1505.0     2150.0  1040.0           NaN\n",
       "3       1025.0     1495.0     2250.0     NaN           NaN\n",
       "4       1250.0     1575.0        NaN     NaN           NaN\n",
       "..         ...        ...        ...     ...           ...\n",
       "611     2383.0     3120.0     3250.0  2166.0           NaN\n",
       "612     1733.0        NaN        NaN     NaN           NaN\n",
       "613     2380.0     3044.0     3696.0  1950.0           NaN\n",
       "614     1625.0        NaN        NaN     NaN           NaN\n",
       "615     1200.0        NaN        NaN     NaN           NaN\n",
       "\n",
       "[788 rows x 5 columns]"
      ]
     },
     "execution_count": 43,
     "metadata": {},
     "output_type": "execute_result"
    }
   ],
   "source": [
    "master_df[master_df.columns[4:9]].replace('[\\£,]', '', regex=True).astype(float)"
   ]
  },
  {
   "cell_type": "code",
   "execution_count": 124,
   "metadata": {},
   "outputs": [
    {
     "data": {
      "text/html": [
       "<div>\n",
       "<style scoped>\n",
       "    .dataframe tbody tr th:only-of-type {\n",
       "        vertical-align: middle;\n",
       "    }\n",
       "\n",
       "    .dataframe tbody tr th {\n",
       "        vertical-align: top;\n",
       "    }\n",
       "\n",
       "    .dataframe thead th {\n",
       "        text-align: right;\n",
       "    }\n",
       "</style>\n",
       "<table border=\"1\" class=\"dataframe\">\n",
       "  <thead>\n",
       "    <tr style=\"text-align: right;\">\n",
       "      <th></th>\n",
       "      <th>Scheme Name</th>\n",
       "      <th>Address</th>\n",
       "      <th>Tags</th>\n",
       "      <th>Description</th>\n",
       "      <th>1-Bedroom</th>\n",
       "      <th>2-Bedroom</th>\n",
       "      <th>3-Bedroom</th>\n",
       "      <th>Studio</th>\n",
       "      <th>Station Info</th>\n",
       "      <th>City</th>\n",
       "    </tr>\n",
       "  </thead>\n",
       "  <tbody>\n",
       "    <tr>\n",
       "      <th>0</th>\n",
       "      <td>Candleriggs Court</td>\n",
       "      <td>Candleriggs Court, Merchant City, Glasgow, Gla...</td>\n",
       "      <td>[Parking, Bike storage, Controlled access, Smo...</td>\n",
       "      <td>Candleriggs Court offers residents with family...</td>\n",
       "      <td>£750</td>\n",
       "      <td>£1,250</td>\n",
       "      <td>None</td>\n",
       "      <td>None</td>\n",
       "      <td>[Argyle Street | 0.2 mi, High Street | 0.2 mi,...</td>\n",
       "      <td>Glasgow</td>\n",
       "    </tr>\n",
       "    <tr>\n",
       "      <th>1</th>\n",
       "      <td>Mitchell Apartments</td>\n",
       "      <td>Kent Road, Glasgow, Glasgow, G3 7BY</td>\n",
       "      <td>[Parcel collection &amp; storage, Bike storage, Li...</td>\n",
       "      <td>Located in Glasgow, Mitchell Apartments is a b...</td>\n",
       "      <td>£895</td>\n",
       "      <td>£1,195</td>\n",
       "      <td>None</td>\n",
       "      <td>None</td>\n",
       "      <td>[Charing Cross | 0.1 mi, Anderston | 0.3 mi, S...</td>\n",
       "      <td>Glasgow</td>\n",
       "    </tr>\n",
       "    <tr>\n",
       "      <th>2</th>\n",
       "      <td>Westbank Quadrant</td>\n",
       "      <td>Westbank Quadrant, Glasgow, Glasgow, G12 8NT</td>\n",
       "      <td>[Parking, Controlled access, Common area, Comm...</td>\n",
       "      <td>Westbank Quadrant gives residents the feeling ...</td>\n",
       "      <td>None</td>\n",
       "      <td>£1,100</td>\n",
       "      <td>£1,795</td>\n",
       "      <td>None</td>\n",
       "      <td>[Kelvinbridge | 0.2 mi, Hillhead | 0.5 mi, Cha...</td>\n",
       "      <td>Glasgow</td>\n",
       "    </tr>\n",
       "    <tr>\n",
       "      <th>3</th>\n",
       "      <td>Devonshire Terrace</td>\n",
       "      <td>Hyndland, Glasgow, Glasgow, G12 0XE</td>\n",
       "      <td>[Furnished, Parking, Controlled access, Common...</td>\n",
       "      <td>Encompassing high-quality rental flats with am...</td>\n",
       "      <td>£850</td>\n",
       "      <td>£1,595</td>\n",
       "      <td>None</td>\n",
       "      <td>None</td>\n",
       "      <td>[Hillhead | 0.4 mi, Hyndland | 0.5 mi, Kelvinh...</td>\n",
       "      <td>Glasgow</td>\n",
       "    </tr>\n",
       "    <tr>\n",
       "      <th>4</th>\n",
       "      <td>Hyndland Road</td>\n",
       "      <td>Hyndland Road, Glasgow, Glasgow, G12 9UY</td>\n",
       "      <td>[Parking, Controlled access, Smoke alarms, Fri...</td>\n",
       "      <td>Encompassing high-quality rental flats with am...</td>\n",
       "      <td>£995</td>\n",
       "      <td>£950</td>\n",
       "      <td>£1,150</td>\n",
       "      <td>None</td>\n",
       "      <td>[Hyndland | 0.4 mi, Hillhead | 0.6 mi, Kelvinh...</td>\n",
       "      <td>Glasgow</td>\n",
       "    </tr>\n",
       "    <tr>\n",
       "      <th>5</th>\n",
       "      <td>Camphill Avenue</td>\n",
       "      <td>14 Camphill Avenue, Shawlands, Glasgow, Glasgo...</td>\n",
       "      <td>[Parking, Controlled access, Common area, Comm...</td>\n",
       "      <td>At the heart of Glasgow, Camphill Avenue offer...</td>\n",
       "      <td>None</td>\n",
       "      <td>£695</td>\n",
       "      <td>None</td>\n",
       "      <td>£575</td>\n",
       "      <td>[Mount Florida | 0.5 mi, Langside | 0.5 mi]</td>\n",
       "      <td>Glasgow</td>\n",
       "    </tr>\n",
       "  </tbody>\n",
       "</table>\n",
       "</div>"
      ],
      "text/plain": [
       "           Scheme Name                                            Address  \\\n",
       "0    Candleriggs Court  Candleriggs Court, Merchant City, Glasgow, Gla...   \n",
       "1  Mitchell Apartments                Kent Road, Glasgow, Glasgow, G3 7BY   \n",
       "2    Westbank Quadrant       Westbank Quadrant, Glasgow, Glasgow, G12 8NT   \n",
       "3   Devonshire Terrace                Hyndland, Glasgow, Glasgow, G12 0XE   \n",
       "4        Hyndland Road           Hyndland Road, Glasgow, Glasgow, G12 9UY   \n",
       "5      Camphill Avenue  14 Camphill Avenue, Shawlands, Glasgow, Glasgo...   \n",
       "\n",
       "                                                Tags  \\\n",
       "0  [Parking, Bike storage, Controlled access, Smo...   \n",
       "1  [Parcel collection & storage, Bike storage, Li...   \n",
       "2  [Parking, Controlled access, Common area, Comm...   \n",
       "3  [Furnished, Parking, Controlled access, Common...   \n",
       "4  [Parking, Controlled access, Smoke alarms, Fri...   \n",
       "5  [Parking, Controlled access, Common area, Comm...   \n",
       "\n",
       "                                         Description 1-Bedroom 2-Bedroom  \\\n",
       "0  Candleriggs Court offers residents with family...      £750    £1,250   \n",
       "1  Located in Glasgow, Mitchell Apartments is a b...      £895    £1,195   \n",
       "2  Westbank Quadrant gives residents the feeling ...      None    £1,100   \n",
       "3  Encompassing high-quality rental flats with am...      £850    £1,595   \n",
       "4  Encompassing high-quality rental flats with am...      £995      £950   \n",
       "5  At the heart of Glasgow, Camphill Avenue offer...      None      £695   \n",
       "\n",
       "  3-Bedroom Studio                                       Station Info     City  \n",
       "0      None   None  [Argyle Street | 0.2 mi, High Street | 0.2 mi,...  Glasgow  \n",
       "1      None   None  [Charing Cross | 0.1 mi, Anderston | 0.3 mi, S...  Glasgow  \n",
       "2    £1,795   None  [Kelvinbridge | 0.2 mi, Hillhead | 0.5 mi, Cha...  Glasgow  \n",
       "3      None   None  [Hillhead | 0.4 mi, Hyndland | 0.5 mi, Kelvinh...  Glasgow  \n",
       "4    £1,150   None  [Hyndland | 0.4 mi, Hillhead | 0.6 mi, Kelvinh...  Glasgow  \n",
       "5      None   £575        [Mount Florida | 0.5 mi, Langside | 0.5 mi]  Glasgow  "
      ]
     },
     "execution_count": 124,
     "metadata": {},
     "output_type": "execute_result"
    }
   ],
   "source": []
  },
  {
   "cell_type": "code",
   "execution_count": 97,
   "metadata": {},
   "outputs": [
    {
     "data": {
      "text/plain": [
       "array([['£1,250', nan, nan],\n",
       "       ['£1,195', nan, nan],\n",
       "       [nan, '£1,100', nan],\n",
       "       ['£1,595', nan, nan],\n",
       "       ['£950', nan, nan],\n",
       "       [nan, nan, '£695']], dtype=object)"
      ]
     },
     "execution_count": 97,
     "metadata": {},
     "output_type": "execute_result"
    }
   ],
   "source": [
    "pd.DataFrame(twobed_list).values"
   ]
  },
  {
   "cell_type": "code",
   "execution_count": 92,
   "metadata": {},
   "outputs": [
    {
     "data": {
      "text/plain": [
       "[15    £1,250\n",
       " Name: 0, dtype: object,\n",
       " 15    £1,195\n",
       " Name: 0, dtype: object,\n",
       " 13    £1,100\n",
       " Name: 0, dtype: object,\n",
       " 15    £1,595\n",
       " Name: 0, dtype: object,\n",
       " 15    £950\n",
       " Name: 0, dtype: object,\n",
       " 14    £695\n",
       " Name: 0, dtype: object]"
      ]
     },
     "execution_count": 92,
     "metadata": {},
     "output_type": "execute_result"
    }
   ],
   "source": [
    "twobed_list"
   ]
  },
  {
   "cell_type": "code",
   "execution_count": 57,
   "metadata": {},
   "outputs": [],
   "source": [
    "col_name = '3-Bedroom'\n",
    "index_a = info_list[0][info_list[0].str.contains(col_name)].index\n",
    "twobed_list.append(info_list[0].iloc[index_a+1])"
   ]
  },
  {
   "cell_type": "code",
   "execution_count": 67,
   "metadata": {},
   "outputs": [
    {
     "data": {
      "text/plain": [
       "Series([], Name: 0, dtype: int64)"
      ]
     },
     "execution_count": 67,
     "metadata": {},
     "output_type": "execute_result"
    }
   ],
   "source": [
    "pd.to_numeric(info_list[0].iloc[index_a+1])"
   ]
  },
  {
   "cell_type": "code",
   "execution_count": 141,
   "metadata": {},
   "outputs": [
    {
     "data": {
      "text/plain": [
       "12"
      ]
     },
     "execution_count": 141,
     "metadata": {},
     "output_type": "execute_result"
    }
   ],
   "source": []
  },
  {
   "cell_type": "code",
   "execution_count": 116,
   "metadata": {},
   "outputs": [
    {
     "data": {
      "text/plain": [
       "['261 City Road, Islington, London, EC1V 1LE',\n",
       " \"2A St Luke's Avenue, Lambeth, London, SW4 7LQ\",\n",
       " '79a Buckingham Palace Road, Westminster, London, SW1W 0QT',\n",
       " 'Phillimores Garden, Kensington and Chelsea, London, W8 7HS',\n",
       " 'Wandsworth Road, Lambeth, London, SW8 2BP',\n",
       " 'Capitol Way, Brent, London, NW9 0HX',\n",
       " '7 Morocco Street, Southwark, London, SE1 3HB',\n",
       " 'Thunderer Street, Newham, London, E13 9DP']"
      ]
     },
     "execution_count": 116,
     "metadata": {},
     "output_type": "execute_result"
    }
   ],
   "source": [
    "address_list"
   ]
  },
  {
   "cell_type": "code",
   "execution_count": 114,
   "metadata": {},
   "outputs": [
    {
     "data": {
      "text/plain": [
       "['The Lexicon offers contemporary apartments in East Central London that are within walking distance from different amenities and places.',\n",
       " 'Located in South West London, The Library Building is a Build to Rent that promises safety, support and additional benefits for tenants.',\n",
       " 'Located at 79a Buckingham Palace Road, South West London, The Nova Building is a splendid choice for those seeking a convenient lifestyle.',\n",
       " 'Located in West London, The Phillimores is a Build to Rent that caters to growth, connection and a fulfilling lifestyle.',\n",
       " 'This Space is a Build to Rent in South West London that offers apartments with easy access to transport links and an abundance of activities within walking distance.',\n",
       " 'Located in North West London, TNQ is a Build to Rent that has generous living areas, beneficial amenities and great access to public transport.',\n",
       " 'Tower Bridge Gardens offers contemporary apartments that are within walking distance from different amenities and places.',\n",
       " 'Located in East London, Upton Gardens is a Build to Rent that offers spacious living areas, good transportation and convenient amenities.']"
      ]
     },
     "execution_count": 114,
     "metadata": {},
     "output_type": "execute_result"
    }
   ],
   "source": [
    "description_list"
   ]
  },
  {
   "cell_type": "code",
   "execution_count": null,
   "metadata": {},
   "outputs": [],
   "source": []
  },
  {
   "cell_type": "code",
   "execution_count": 144,
   "metadata": {},
   "outputs": [],
   "source": [
    "# btr_name = browser.find_elements(By.TAG_NAME, 'h1') \n",
    "# btr_name_list = [i.text for i in btr_name]\n",
    "\n",
    "# address = browser.find_elements(By.TAG_NAME, 'h6') \n",
    "# address_list = [i.text for i in address]"
   ]
  },
  {
   "cell_type": "code",
   "execution_count": null,
   "metadata": {},
   "outputs": [],
   "source": []
  }
 ],
 "metadata": {
  "kernelspec": {
   "display_name": "Python 3 (ipykernel)",
   "language": "python",
   "name": "python3"
  },
  "language_info": {
   "codemirror_mode": {
    "name": "ipython",
    "version": 3
   },
   "file_extension": ".py",
   "mimetype": "text/x-python",
   "name": "python",
   "nbconvert_exporter": "python",
   "pygments_lexer": "ipython3",
   "version": "3.10.4"
  }
 },
 "nbformat": 4,
 "nbformat_minor": 4
}
