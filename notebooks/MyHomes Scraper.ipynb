{
 "cells": [
  {
   "cell_type": "code",
   "execution_count": 2,
   "metadata": {},
   "outputs": [],
   "source": [
    "# -*- coding: utf-8 -*-\n",
    "\"\"\"\n",
    "Created on Thu Aug 11 10:01:41 2022\n",
    "\n",
    "@author: Benedikt.Breitschopf\n",
    "\"\"\"\n",
    "\n",
    "#Import Packages\n",
    "import pandas as pd\n",
    "import numpy as np\n",
    "from urllib.request import urlopen\n",
    "import bs4\n",
    "import re\n",
    "import time\n",
    "import os\n",
    "\n",
    "data_dir = 'C:/Users/harry/Documents/data/'\n",
    "report_dir = 'C:/Users/harry/OneDrive - Cushman & Wakefield/realsight/report/'"
   ]
  },
  {
   "cell_type": "code",
   "execution_count": 5,
   "metadata": {},
   "outputs": [
    {
     "name": "stdout",
     "output_type": "stream",
     "text": [
      "[]\n",
      "[' VIEW DETAILS ']\n",
      "[' VIEW DETAILS ']\n",
      "[' VIEW DETAILS ']\n",
      "[' VIEW DETAILS ']\n",
      "[' VIEW DETAILS ']\n",
      "[' VIEW DETAILS ']\n",
      "['page ', '2']\n",
      "['page ', '3']\n",
      "['page ', '4']\n",
      "['page ', '5']\n",
      "['page ', '...']\n",
      "['page ', '826']\n",
      "['page']\n"
     ]
    }
   ],
   "source": [
    "url = \"https://www.myhome.ie/residential/ireland/property-for-sale?page=1\"\n",
    "text = urlopen(url).read()\n",
    "soup = bs4.BeautifulSoup(text, features=\"lxml\")\n",
    "data = soup.find_all(\"a\", {\"class\": \"ng-star-inserted\"})\n",
    "for a in data:\n",
    "    links = a.findAll('span')\n",
    "    lines = [span.get_text() for span in links]\n",
    "    print(lines)"
   ]
  },
  {
   "cell_type": "code",
   "execution_count": 2,
   "metadata": {},
   "outputs": [],
   "source": [
    "#Function to get the last page to scrape\n",
    "def get_last_page():\n",
    "    url = \"https://www.myhome.ie/residential/ireland/property-for-sale?page=1\"\n",
    "    text = urlopen(url).read()\n",
    "    soup = bs4.BeautifulSoup(text, features=\"lxml\")\n",
    "    data = soup.find_all(\"a\", {\"class\": \"ng-star-inserted\"})\n",
    "    for a in data:\n",
    "        links = a.findAll('span')\n",
    "        lines = [span.get_text() for span in links]\n",
    "        try:\n",
    "           pages = int(lines[1])\n",
    "        except:\n",
    "            None\n",
    "    print('Max Page: ', pages)\n",
    "    return pages\n",
    "\n",
    "#Get all property links\n",
    "def item_ids(max_page):\n",
    "    property_list = []\n",
    "    prior_length = 0\n",
    "    for page in range(1,max_page+1):\n",
    "        try:\n",
    "            url = f\"https://www.myhome.ie/residential/ireland/property-for-sale?page={page}\"\n",
    "            text = urlopen(url).read()\n",
    "            time.sleep(1)\n",
    "            soup = bs4.BeautifulSoup(text, features=\"lxml\")\n",
    "            #print(soup)\n",
    "            data = soup.find_all(\"div\", {\"class\": re.compile(\"^PropertyListingCard__Content\")})\n",
    "            #print(data)\n",
    "            for div in data:\n",
    "                links = div.findAll('a')\n",
    "                for a in links:\n",
    "                    property_list.append(a['href'])\n",
    "        except:\n",
    "            None\n",
    "        print('Page: ', page, ' - Properties found: ', len(property_list)-prior_length)\n",
    "        prior_length = len(property_list)\n",
    "    print('Number of Properties: ', len(property_list))\n",
    "    return property_list"
   ]
  },
  {
   "cell_type": "code",
   "execution_count": 3,
   "metadata": {},
   "outputs": [
    {
     "name": "stdout",
     "output_type": "stream",
     "text": [
      "Max Page:  817\n",
      "Page:  1  - Properties found:  20\n",
      "Page:  2  - Properties found:  20\n",
      "Page:  3  - Properties found:  20\n",
      "Page:  4  - Properties found:  20\n",
      "Page:  5  - Properties found:  20\n",
      "Page:  6  - Properties found:  20\n",
      "Page:  7  - Properties found:  21\n",
      "Page:  8  - Properties found:  21\n",
      "Page:  9  - Properties found:  20\n",
      "Page:  10  - Properties found:  20\n",
      "Page:  11  - Properties found:  20\n",
      "Page:  12  - Properties found:  20\n",
      "Page:  13  - Properties found:  20\n",
      "Page:  14  - Properties found:  20\n",
      "Page:  15  - Properties found:  20\n",
      "Page:  16  - Properties found:  20\n",
      "Page:  17  - Properties found:  20\n",
      "Page:  18  - Properties found:  20\n",
      "Page:  19  - Properties found:  20\n",
      "Page:  20  - Properties found:  20\n",
      "Page:  21  - Properties found:  20\n",
      "Page:  22  - Properties found:  20\n",
      "Page:  23  - Properties found:  20\n",
      "Page:  24  - Properties found:  20\n",
      "Page:  25  - Properties found:  20\n",
      "Page:  26  - Properties found:  20\n",
      "Page:  27  - Properties found:  20\n",
      "Page:  28  - Properties found:  20\n",
      "Page:  29  - Properties found:  20\n",
      "Page:  30  - Properties found:  21\n",
      "Page:  31  - Properties found:  20\n",
      "Page:  32  - Properties found:  20\n",
      "Page:  33  - Properties found:  20\n",
      "Page:  34  - Properties found:  20\n",
      "Page:  35  - Properties found:  20\n",
      "Page:  36  - Properties found:  20\n",
      "Page:  37  - Properties found:  20\n",
      "Page:  38  - Properties found:  20\n",
      "Page:  39  - Properties found:  20\n",
      "Page:  40  - Properties found:  20\n",
      "Page:  41  - Properties found:  20\n",
      "Page:  42  - Properties found:  20\n",
      "Page:  43  - Properties found:  20\n",
      "Page:  44  - Properties found:  20\n",
      "Page:  45  - Properties found:  20\n",
      "Page:  46  - Properties found:  20\n",
      "Page:  47  - Properties found:  20\n",
      "Page:  48  - Properties found:  20\n",
      "Page:  49  - Properties found:  20\n",
      "Page:  50  - Properties found:  20\n",
      "Page:  51  - Properties found:  20\n",
      "Page:  52  - Properties found:  20\n",
      "Page:  53  - Properties found:  20\n",
      "Page:  54  - Properties found:  20\n",
      "Page:  55  - Properties found:  20\n",
      "Page:  56  - Properties found:  20\n",
      "Page:  57  - Properties found:  21\n",
      "Page:  58  - Properties found:  20\n",
      "Page:  59  - Properties found:  21\n",
      "Page:  60  - Properties found:  20\n",
      "Page:  61  - Properties found:  20\n",
      "Page:  62  - Properties found:  20\n",
      "Page:  63  - Properties found:  20\n",
      "Page:  64  - Properties found:  20\n",
      "Page:  65  - Properties found:  20\n",
      "Page:  66  - Properties found:  20\n",
      "Page:  67  - Properties found:  20\n",
      "Page:  68  - Properties found:  20\n",
      "Page:  69  - Properties found:  20\n",
      "Page:  70  - Properties found:  20\n",
      "Page:  71  - Properties found:  20\n",
      "Page:  72  - Properties found:  20\n",
      "Page:  73  - Properties found:  20\n",
      "Page:  74  - Properties found:  20\n",
      "Page:  75  - Properties found:  20\n",
      "Page:  76  - Properties found:  20\n",
      "Page:  77  - Properties found:  20\n",
      "Page:  78  - Properties found:  20\n",
      "Page:  79  - Properties found:  20\n",
      "Page:  80  - Properties found:  20\n",
      "Page:  81  - Properties found:  20\n",
      "Page:  82  - Properties found:  20\n",
      "Page:  83  - Properties found:  20\n",
      "Page:  84  - Properties found:  20\n",
      "Page:  85  - Properties found:  20\n",
      "Page:  86  - Properties found:  20\n",
      "Page:  87  - Properties found:  20\n",
      "Page:  88  - Properties found:  20\n",
      "Page:  89  - Properties found:  20\n",
      "Page:  90  - Properties found:  20\n",
      "Page:  91  - Properties found:  20\n",
      "Page:  92  - Properties found:  20\n",
      "Page:  93  - Properties found:  20\n",
      "Page:  94  - Properties found:  20\n",
      "Page:  95  - Properties found:  20\n",
      "Page:  96  - Properties found:  20\n",
      "Page:  97  - Properties found:  20\n",
      "Page:  98  - Properties found:  20\n",
      "Page:  99  - Properties found:  20\n",
      "Page:  100  - Properties found:  20\n",
      "Page:  101  - Properties found:  20\n",
      "Page:  102  - Properties found:  20\n",
      "Page:  103  - Properties found:  20\n",
      "Page:  104  - Properties found:  20\n",
      "Page:  105  - Properties found:  20\n",
      "Page:  106  - Properties found:  20\n",
      "Page:  107  - Properties found:  20\n",
      "Page:  108  - Properties found:  20\n",
      "Page:  109  - Properties found:  20\n",
      "Page:  110  - Properties found:  20\n",
      "Page:  111  - Properties found:  20\n",
      "Page:  112  - Properties found:  20\n",
      "Page:  113  - Properties found:  20\n",
      "Page:  114  - Properties found:  20\n",
      "Page:  115  - Properties found:  20\n",
      "Page:  116  - Properties found:  20\n",
      "Page:  117  - Properties found:  21\n",
      "Page:  118  - Properties found:  20\n",
      "Page:  119  - Properties found:  20\n",
      "Page:  120  - Properties found:  20\n",
      "Page:  121  - Properties found:  20\n",
      "Page:  122  - Properties found:  20\n",
      "Page:  123  - Properties found:  20\n",
      "Page:  124  - Properties found:  20\n",
      "Page:  125  - Properties found:  20\n",
      "Page:  126  - Properties found:  20\n",
      "Page:  127  - Properties found:  20\n",
      "Page:  128  - Properties found:  20\n",
      "Page:  129  - Properties found:  20\n",
      "Page:  130  - Properties found:  20\n",
      "Page:  131  - Properties found:  20\n",
      "Page:  132  - Properties found:  20\n",
      "Page:  133  - Properties found:  21\n",
      "Page:  134  - Properties found:  20\n",
      "Page:  135  - Properties found:  20\n",
      "Page:  136  - Properties found:  20\n",
      "Page:  137  - Properties found:  20\n",
      "Page:  138  - Properties found:  20\n",
      "Page:  139  - Properties found:  20\n",
      "Page:  140  - Properties found:  20\n",
      "Page:  141  - Properties found:  20\n",
      "Page:  142  - Properties found:  20\n",
      "Page:  143  - Properties found:  20\n",
      "Page:  144  - Properties found:  20\n",
      "Page:  145  - Properties found:  20\n",
      "Page:  146  - Properties found:  20\n",
      "Page:  147  - Properties found:  20\n",
      "Page:  148  - Properties found:  20\n",
      "Page:  149  - Properties found:  20\n",
      "Page:  150  - Properties found:  20\n",
      "Page:  151  - Properties found:  20\n",
      "Page:  152  - Properties found:  20\n",
      "Page:  153  - Properties found:  20\n",
      "Page:  154  - Properties found:  20\n",
      "Page:  155  - Properties found:  20\n",
      "Page:  156  - Properties found:  20\n",
      "Page:  157  - Properties found:  20\n",
      "Page:  158  - Properties found:  20\n",
      "Page:  159  - Properties found:  20\n",
      "Page:  160  - Properties found:  20\n",
      "Page:  161  - Properties found:  20\n",
      "Page:  162  - Properties found:  20\n",
      "Page:  163  - Properties found:  20\n",
      "Page:  164  - Properties found:  20\n",
      "Page:  165  - Properties found:  20\n",
      "Page:  166  - Properties found:  20\n",
      "Page:  167  - Properties found:  20\n",
      "Page:  168  - Properties found:  20\n",
      "Page:  169  - Properties found:  20\n",
      "Page:  170  - Properties found:  20\n",
      "Page:  171  - Properties found:  20\n",
      "Page:  172  - Properties found:  20\n",
      "Page:  173  - Properties found:  20\n",
      "Page:  174  - Properties found:  20\n",
      "Page:  175  - Properties found:  20\n",
      "Page:  176  - Properties found:  20\n",
      "Page:  177  - Properties found:  20\n",
      "Page:  178  - Properties found:  20\n",
      "Page:  179  - Properties found:  20\n",
      "Page:  180  - Properties found:  20\n",
      "Page:  181  - Properties found:  20\n",
      "Page:  182  - Properties found:  20\n",
      "Page:  183  - Properties found:  20\n",
      "Page:  184  - Properties found:  20\n",
      "Page:  185  - Properties found:  20\n",
      "Page:  186  - Properties found:  20\n",
      "Page:  187  - Properties found:  20\n",
      "Page:  188  - Properties found:  20\n",
      "Page:  189  - Properties found:  20\n",
      "Page:  190  - Properties found:  20\n",
      "Page:  191  - Properties found:  20\n",
      "Page:  192  - Properties found:  20\n",
      "Page:  193  - Properties found:  20\n",
      "Page:  194  - Properties found:  20\n",
      "Page:  195  - Properties found:  20\n",
      "Page:  196  - Properties found:  20\n",
      "Page:  197  - Properties found:  20\n",
      "Page:  198  - Properties found:  20\n",
      "Page:  199  - Properties found:  20\n",
      "Page:  200  - Properties found:  20\n",
      "Page:  201  - Properties found:  20\n",
      "Page:  202  - Properties found:  20\n",
      "Page:  203  - Properties found:  20\n",
      "Page:  204  - Properties found:  20\n",
      "Page:  205  - Properties found:  20\n",
      "Page:  206  - Properties found:  20\n",
      "Page:  207  - Properties found:  20\n",
      "Page:  208  - Properties found:  20\n",
      "Page:  209  - Properties found:  20\n",
      "Page:  210  - Properties found:  20\n",
      "Page:  211  - Properties found:  20\n",
      "Page:  212  - Properties found:  20\n",
      "Page:  213  - Properties found:  20\n",
      "Page:  214  - Properties found:  20\n",
      "Page:  215  - Properties found:  20\n",
      "Page:  216  - Properties found:  20\n",
      "Page:  217  - Properties found:  20\n",
      "Page:  218  - Properties found:  20\n",
      "Page:  219  - Properties found:  20\n",
      "Page:  220  - Properties found:  20\n",
      "Page:  221  - Properties found:  20\n",
      "Page:  222  - Properties found:  20\n",
      "Page:  223  - Properties found:  20\n",
      "Page:  224  - Properties found:  20\n",
      "Page:  225  - Properties found:  20\n",
      "Page:  226  - Properties found:  20\n",
      "Page:  227  - Properties found:  20\n",
      "Page:  228  - Properties found:  20\n",
      "Page:  229  - Properties found:  20\n",
      "Page:  230  - Properties found:  20\n",
      "Page:  231  - Properties found:  20\n"
     ]
    },
    {
     "name": "stdout",
     "output_type": "stream",
     "text": [
      "Page:  232  - Properties found:  20\n",
      "Page:  233  - Properties found:  20\n",
      "Page:  234  - Properties found:  20\n",
      "Page:  235  - Properties found:  20\n",
      "Page:  236  - Properties found:  20\n",
      "Page:  237  - Properties found:  20\n",
      "Page:  238  - Properties found:  20\n",
      "Page:  239  - Properties found:  20\n",
      "Page:  240  - Properties found:  20\n",
      "Page:  241  - Properties found:  20\n",
      "Page:  242  - Properties found:  20\n",
      "Page:  243  - Properties found:  20\n",
      "Page:  244  - Properties found:  20\n",
      "Page:  245  - Properties found:  20\n",
      "Page:  246  - Properties found:  20\n",
      "Page:  247  - Properties found:  20\n",
      "Page:  248  - Properties found:  20\n",
      "Page:  249  - Properties found:  20\n",
      "Page:  250  - Properties found:  20\n",
      "Page:  251  - Properties found:  20\n",
      "Page:  252  - Properties found:  20\n",
      "Page:  253  - Properties found:  20\n",
      "Page:  254  - Properties found:  20\n",
      "Page:  255  - Properties found:  20\n",
      "Page:  256  - Properties found:  20\n",
      "Page:  257  - Properties found:  20\n",
      "Page:  258  - Properties found:  20\n",
      "Page:  259  - Properties found:  20\n",
      "Page:  260  - Properties found:  20\n",
      "Page:  261  - Properties found:  20\n",
      "Page:  262  - Properties found:  20\n",
      "Page:  263  - Properties found:  20\n",
      "Page:  264  - Properties found:  20\n",
      "Page:  265  - Properties found:  20\n",
      "Page:  266  - Properties found:  20\n",
      "Page:  267  - Properties found:  20\n",
      "Page:  268  - Properties found:  21\n",
      "Page:  269  - Properties found:  20\n",
      "Page:  270  - Properties found:  20\n",
      "Page:  271  - Properties found:  20\n",
      "Page:  272  - Properties found:  20\n",
      "Page:  273  - Properties found:  21\n",
      "Page:  274  - Properties found:  21\n",
      "Page:  275  - Properties found:  20\n",
      "Page:  276  - Properties found:  20\n",
      "Page:  277  - Properties found:  20\n",
      "Page:  278  - Properties found:  20\n",
      "Page:  279  - Properties found:  20\n",
      "Page:  280  - Properties found:  20\n",
      "Page:  281  - Properties found:  20\n",
      "Page:  282  - Properties found:  20\n",
      "Page:  283  - Properties found:  20\n",
      "Page:  284  - Properties found:  21\n",
      "Page:  285  - Properties found:  20\n",
      "Page:  286  - Properties found:  20\n",
      "Page:  287  - Properties found:  20\n",
      "Page:  288  - Properties found:  21\n",
      "Page:  289  - Properties found:  20\n",
      "Page:  290  - Properties found:  21\n",
      "Page:  291  - Properties found:  20\n",
      "Page:  292  - Properties found:  20\n",
      "Page:  293  - Properties found:  20\n",
      "Page:  294  - Properties found:  20\n",
      "Page:  295  - Properties found:  21\n",
      "Page:  296  - Properties found:  20\n",
      "Page:  297  - Properties found:  20\n",
      "Page:  298  - Properties found:  20\n",
      "Page:  299  - Properties found:  21\n",
      "Page:  300  - Properties found:  21\n",
      "Page:  301  - Properties found:  20\n",
      "Page:  302  - Properties found:  20\n",
      "Page:  303  - Properties found:  20\n",
      "Page:  304  - Properties found:  20\n",
      "Page:  305  - Properties found:  21\n",
      "Page:  306  - Properties found:  20\n",
      "Page:  307  - Properties found:  20\n",
      "Page:  308  - Properties found:  20\n",
      "Page:  309  - Properties found:  21\n",
      "Page:  310  - Properties found:  20\n",
      "Page:  311  - Properties found:  20\n",
      "Page:  312  - Properties found:  20\n",
      "Page:  313  - Properties found:  20\n",
      "Page:  314  - Properties found:  21\n",
      "Page:  315  - Properties found:  20\n",
      "Page:  316  - Properties found:  20\n",
      "Page:  317  - Properties found:  20\n",
      "Page:  318  - Properties found:  20\n",
      "Page:  319  - Properties found:  20\n",
      "Page:  320  - Properties found:  20\n",
      "Page:  321  - Properties found:  20\n",
      "Page:  322  - Properties found:  20\n",
      "Page:  323  - Properties found:  20\n",
      "Page:  324  - Properties found:  20\n",
      "Page:  325  - Properties found:  20\n",
      "Page:  326  - Properties found:  20\n",
      "Page:  327  - Properties found:  20\n",
      "Page:  328  - Properties found:  20\n",
      "Page:  329  - Properties found:  20\n",
      "Page:  330  - Properties found:  20\n",
      "Page:  331  - Properties found:  20\n",
      "Page:  332  - Properties found:  20\n",
      "Page:  333  - Properties found:  20\n",
      "Page:  334  - Properties found:  20\n",
      "Page:  335  - Properties found:  20\n",
      "Page:  336  - Properties found:  20\n",
      "Page:  337  - Properties found:  20\n",
      "Page:  338  - Properties found:  20\n",
      "Page:  339  - Properties found:  20\n",
      "Page:  340  - Properties found:  20\n",
      "Page:  341  - Properties found:  20\n",
      "Page:  342  - Properties found:  20\n",
      "Page:  343  - Properties found:  20\n",
      "Page:  344  - Properties found:  20\n",
      "Page:  345  - Properties found:  20\n",
      "Page:  346  - Properties found:  20\n",
      "Page:  347  - Properties found:  20\n",
      "Page:  348  - Properties found:  20\n",
      "Page:  349  - Properties found:  20\n",
      "Page:  350  - Properties found:  20\n",
      "Page:  351  - Properties found:  20\n",
      "Page:  352  - Properties found:  20\n",
      "Page:  353  - Properties found:  20\n",
      "Page:  354  - Properties found:  20\n",
      "Page:  355  - Properties found:  20\n",
      "Page:  356  - Properties found:  20\n",
      "Page:  357  - Properties found:  20\n",
      "Page:  358  - Properties found:  20\n",
      "Page:  359  - Properties found:  20\n",
      "Page:  360  - Properties found:  20\n",
      "Page:  361  - Properties found:  20\n",
      "Page:  362  - Properties found:  20\n",
      "Page:  363  - Properties found:  20\n",
      "Page:  364  - Properties found:  20\n",
      "Page:  365  - Properties found:  20\n",
      "Page:  366  - Properties found:  20\n",
      "Page:  367  - Properties found:  20\n",
      "Page:  368  - Properties found:  20\n",
      "Page:  369  - Properties found:  20\n",
      "Page:  370  - Properties found:  23\n",
      "Page:  371  - Properties found:  20\n",
      "Page:  372  - Properties found:  20\n",
      "Page:  373  - Properties found:  20\n",
      "Page:  374  - Properties found:  20\n",
      "Page:  375  - Properties found:  20\n",
      "Page:  376  - Properties found:  20\n",
      "Page:  377  - Properties found:  20\n",
      "Page:  378  - Properties found:  20\n",
      "Page:  379  - Properties found:  20\n",
      "Page:  380  - Properties found:  20\n",
      "Page:  381  - Properties found:  20\n",
      "Page:  382  - Properties found:  20\n",
      "Page:  383  - Properties found:  20\n",
      "Page:  384  - Properties found:  20\n",
      "Page:  385  - Properties found:  20\n",
      "Page:  386  - Properties found:  20\n",
      "Page:  387  - Properties found:  20\n",
      "Page:  388  - Properties found:  20\n",
      "Page:  389  - Properties found:  20\n",
      "Page:  390  - Properties found:  20\n",
      "Page:  391  - Properties found:  20\n",
      "Page:  392  - Properties found:  20\n",
      "Page:  393  - Properties found:  20\n",
      "Page:  394  - Properties found:  20\n",
      "Page:  395  - Properties found:  20\n",
      "Page:  396  - Properties found:  20\n",
      "Page:  397  - Properties found:  20\n",
      "Page:  398  - Properties found:  20\n",
      "Page:  399  - Properties found:  20\n",
      "Page:  400  - Properties found:  20\n",
      "Page:  401  - Properties found:  20\n",
      "Page:  402  - Properties found:  20\n",
      "Page:  403  - Properties found:  20\n",
      "Page:  404  - Properties found:  20\n",
      "Page:  405  - Properties found:  20\n",
      "Page:  406  - Properties found:  20\n",
      "Page:  407  - Properties found:  20\n",
      "Page:  408  - Properties found:  20\n",
      "Page:  409  - Properties found:  21\n",
      "Page:  410  - Properties found:  20\n",
      "Page:  411  - Properties found:  20\n",
      "Page:  412  - Properties found:  20\n",
      "Page:  413  - Properties found:  20\n",
      "Page:  414  - Properties found:  20\n",
      "Page:  415  - Properties found:  20\n",
      "Page:  416  - Properties found:  20\n",
      "Page:  417  - Properties found:  20\n",
      "Page:  418  - Properties found:  20\n",
      "Page:  419  - Properties found:  20\n",
      "Page:  420  - Properties found:  20\n",
      "Page:  421  - Properties found:  20\n",
      "Page:  422  - Properties found:  20\n",
      "Page:  423  - Properties found:  20\n",
      "Page:  424  - Properties found:  20\n",
      "Page:  425  - Properties found:  20\n",
      "Page:  426  - Properties found:  20\n",
      "Page:  427  - Properties found:  20\n",
      "Page:  428  - Properties found:  20\n",
      "Page:  429  - Properties found:  20\n",
      "Page:  430  - Properties found:  20\n",
      "Page:  431  - Properties found:  20\n",
      "Page:  432  - Properties found:  20\n",
      "Page:  433  - Properties found:  20\n",
      "Page:  434  - Properties found:  20\n",
      "Page:  435  - Properties found:  20\n",
      "Page:  436  - Properties found:  20\n",
      "Page:  437  - Properties found:  20\n",
      "Page:  438  - Properties found:  20\n",
      "Page:  439  - Properties found:  20\n",
      "Page:  440  - Properties found:  20\n",
      "Page:  441  - Properties found:  20\n",
      "Page:  442  - Properties found:  20\n",
      "Page:  443  - Properties found:  20\n",
      "Page:  444  - Properties found:  20\n",
      "Page:  445  - Properties found:  20\n",
      "Page:  446  - Properties found:  20\n",
      "Page:  447  - Properties found:  20\n",
      "Page:  448  - Properties found:  20\n",
      "Page:  449  - Properties found:  20\n",
      "Page:  450  - Properties found:  20\n",
      "Page:  451  - Properties found:  20\n",
      "Page:  452  - Properties found:  20\n",
      "Page:  453  - Properties found:  20\n",
      "Page:  454  - Properties found:  20\n",
      "Page:  455  - Properties found:  20\n",
      "Page:  456  - Properties found:  20\n",
      "Page:  457  - Properties found:  20\n",
      "Page:  458  - Properties found:  20\n",
      "Page:  459  - Properties found:  20\n"
     ]
    },
    {
     "name": "stdout",
     "output_type": "stream",
     "text": [
      "Page:  460  - Properties found:  20\n",
      "Page:  461  - Properties found:  20\n",
      "Page:  462  - Properties found:  20\n",
      "Page:  463  - Properties found:  20\n",
      "Page:  464  - Properties found:  20\n",
      "Page:  465  - Properties found:  20\n",
      "Page:  466  - Properties found:  20\n",
      "Page:  467  - Properties found:  20\n",
      "Page:  468  - Properties found:  20\n",
      "Page:  469  - Properties found:  20\n",
      "Page:  470  - Properties found:  20\n",
      "Page:  471  - Properties found:  20\n",
      "Page:  472  - Properties found:  20\n",
      "Page:  473  - Properties found:  20\n",
      "Page:  474  - Properties found:  20\n",
      "Page:  475  - Properties found:  20\n",
      "Page:  476  - Properties found:  20\n",
      "Page:  477  - Properties found:  20\n",
      "Page:  478  - Properties found:  20\n",
      "Page:  479  - Properties found:  20\n",
      "Page:  480  - Properties found:  20\n",
      "Page:  481  - Properties found:  20\n",
      "Page:  482  - Properties found:  20\n",
      "Page:  483  - Properties found:  20\n",
      "Page:  484  - Properties found:  20\n",
      "Page:  485  - Properties found:  20\n",
      "Page:  486  - Properties found:  20\n",
      "Page:  487  - Properties found:  20\n",
      "Page:  488  - Properties found:  20\n",
      "Page:  489  - Properties found:  20\n",
      "Page:  490  - Properties found:  20\n",
      "Page:  491  - Properties found:  20\n",
      "Page:  492  - Properties found:  20\n",
      "Page:  493  - Properties found:  20\n",
      "Page:  494  - Properties found:  20\n",
      "Page:  495  - Properties found:  20\n",
      "Page:  496  - Properties found:  20\n",
      "Page:  497  - Properties found:  21\n",
      "Page:  498  - Properties found:  20\n",
      "Page:  499  - Properties found:  20\n",
      "Page:  500  - Properties found:  20\n",
      "Page:  501  - Properties found:  0\n",
      "Page:  502  - Properties found:  0\n",
      "Page:  503  - Properties found:  0\n",
      "Page:  504  - Properties found:  0\n",
      "Page:  505  - Properties found:  0\n",
      "Page:  506  - Properties found:  0\n",
      "Page:  507  - Properties found:  0\n",
      "Page:  508  - Properties found:  0\n",
      "Page:  509  - Properties found:  0\n",
      "Page:  510  - Properties found:  0\n",
      "Page:  511  - Properties found:  0\n",
      "Page:  512  - Properties found:  0\n",
      "Page:  513  - Properties found:  0\n",
      "Page:  514  - Properties found:  0\n",
      "Page:  515  - Properties found:  0\n",
      "Page:  516  - Properties found:  0\n",
      "Page:  517  - Properties found:  0\n",
      "Page:  518  - Properties found:  0\n",
      "Page:  519  - Properties found:  0\n",
      "Page:  520  - Properties found:  0\n",
      "Page:  521  - Properties found:  0\n",
      "Page:  522  - Properties found:  0\n",
      "Page:  523  - Properties found:  0\n",
      "Page:  524  - Properties found:  0\n",
      "Page:  525  - Properties found:  0\n",
      "Page:  526  - Properties found:  0\n",
      "Page:  527  - Properties found:  0\n",
      "Page:  528  - Properties found:  0\n",
      "Page:  529  - Properties found:  0\n",
      "Page:  530  - Properties found:  0\n",
      "Page:  531  - Properties found:  0\n",
      "Page:  532  - Properties found:  0\n",
      "Page:  533  - Properties found:  0\n",
      "Page:  534  - Properties found:  0\n",
      "Page:  535  - Properties found:  0\n",
      "Page:  536  - Properties found:  0\n",
      "Page:  537  - Properties found:  0\n",
      "Page:  538  - Properties found:  0\n",
      "Page:  539  - Properties found:  0\n",
      "Page:  540  - Properties found:  0\n",
      "Page:  541  - Properties found:  0\n",
      "Page:  542  - Properties found:  0\n",
      "Page:  543  - Properties found:  0\n",
      "Page:  544  - Properties found:  0\n",
      "Page:  545  - Properties found:  0\n",
      "Page:  546  - Properties found:  0\n",
      "Page:  547  - Properties found:  0\n",
      "Page:  548  - Properties found:  0\n",
      "Page:  549  - Properties found:  0\n",
      "Page:  550  - Properties found:  0\n",
      "Page:  551  - Properties found:  0\n",
      "Page:  552  - Properties found:  0\n",
      "Page:  553  - Properties found:  0\n",
      "Page:  554  - Properties found:  0\n",
      "Page:  555  - Properties found:  0\n",
      "Page:  556  - Properties found:  0\n",
      "Page:  557  - Properties found:  0\n",
      "Page:  558  - Properties found:  0\n",
      "Page:  559  - Properties found:  0\n",
      "Page:  560  - Properties found:  0\n",
      "Page:  561  - Properties found:  0\n",
      "Page:  562  - Properties found:  0\n",
      "Page:  563  - Properties found:  0\n",
      "Page:  564  - Properties found:  0\n",
      "Page:  565  - Properties found:  0\n",
      "Page:  566  - Properties found:  0\n",
      "Page:  567  - Properties found:  0\n",
      "Page:  568  - Properties found:  0\n",
      "Page:  569  - Properties found:  0\n",
      "Page:  570  - Properties found:  0\n",
      "Page:  571  - Properties found:  0\n",
      "Page:  572  - Properties found:  0\n",
      "Page:  573  - Properties found:  0\n",
      "Page:  574  - Properties found:  0\n",
      "Page:  575  - Properties found:  0\n",
      "Page:  576  - Properties found:  0\n",
      "Page:  577  - Properties found:  0\n",
      "Page:  578  - Properties found:  0\n",
      "Page:  579  - Properties found:  0\n",
      "Page:  580  - Properties found:  0\n",
      "Page:  581  - Properties found:  0\n",
      "Page:  582  - Properties found:  0\n",
      "Page:  583  - Properties found:  0\n",
      "Page:  584  - Properties found:  0\n",
      "Page:  585  - Properties found:  0\n",
      "Page:  586  - Properties found:  0\n",
      "Page:  587  - Properties found:  0\n",
      "Page:  588  - Properties found:  0\n",
      "Page:  589  - Properties found:  0\n",
      "Page:  590  - Properties found:  0\n",
      "Page:  591  - Properties found:  0\n",
      "Page:  592  - Properties found:  0\n",
      "Page:  593  - Properties found:  0\n",
      "Page:  594  - Properties found:  0\n",
      "Page:  595  - Properties found:  0\n",
      "Page:  596  - Properties found:  0\n",
      "Page:  597  - Properties found:  0\n",
      "Page:  598  - Properties found:  0\n",
      "Page:  599  - Properties found:  0\n",
      "Page:  600  - Properties found:  0\n",
      "Page:  601  - Properties found:  0\n",
      "Page:  602  - Properties found:  0\n",
      "Page:  603  - Properties found:  0\n",
      "Page:  604  - Properties found:  0\n",
      "Page:  605  - Properties found:  0\n",
      "Page:  606  - Properties found:  0\n",
      "Page:  607  - Properties found:  0\n",
      "Page:  608  - Properties found:  0\n",
      "Page:  609  - Properties found:  0\n",
      "Page:  610  - Properties found:  0\n",
      "Page:  611  - Properties found:  0\n",
      "Page:  612  - Properties found:  0\n",
      "Page:  613  - Properties found:  0\n",
      "Page:  614  - Properties found:  0\n",
      "Page:  615  - Properties found:  0\n",
      "Page:  616  - Properties found:  0\n",
      "Page:  617  - Properties found:  0\n",
      "Page:  618  - Properties found:  0\n",
      "Page:  619  - Properties found:  0\n",
      "Page:  620  - Properties found:  0\n",
      "Page:  621  - Properties found:  0\n",
      "Page:  622  - Properties found:  0\n",
      "Page:  623  - Properties found:  0\n",
      "Page:  624  - Properties found:  0\n",
      "Page:  625  - Properties found:  0\n",
      "Page:  626  - Properties found:  0\n",
      "Page:  627  - Properties found:  0\n",
      "Page:  628  - Properties found:  0\n",
      "Page:  629  - Properties found:  0\n",
      "Page:  630  - Properties found:  0\n",
      "Page:  631  - Properties found:  0\n",
      "Page:  632  - Properties found:  0\n",
      "Page:  633  - Properties found:  0\n",
      "Page:  634  - Properties found:  0\n",
      "Page:  635  - Properties found:  0\n",
      "Page:  636  - Properties found:  0\n",
      "Page:  637  - Properties found:  0\n",
      "Page:  638  - Properties found:  0\n",
      "Page:  639  - Properties found:  0\n",
      "Page:  640  - Properties found:  0\n",
      "Page:  641  - Properties found:  0\n",
      "Page:  642  - Properties found:  0\n",
      "Page:  643  - Properties found:  0\n",
      "Page:  644  - Properties found:  0\n",
      "Page:  645  - Properties found:  0\n",
      "Page:  646  - Properties found:  0\n",
      "Page:  647  - Properties found:  0\n",
      "Page:  648  - Properties found:  0\n",
      "Page:  649  - Properties found:  0\n",
      "Page:  650  - Properties found:  0\n",
      "Page:  651  - Properties found:  0\n",
      "Page:  652  - Properties found:  0\n",
      "Page:  653  - Properties found:  0\n",
      "Page:  654  - Properties found:  0\n",
      "Page:  655  - Properties found:  0\n",
      "Page:  656  - Properties found:  0\n",
      "Page:  657  - Properties found:  0\n",
      "Page:  658  - Properties found:  0\n",
      "Page:  659  - Properties found:  0\n",
      "Page:  660  - Properties found:  0\n",
      "Page:  661  - Properties found:  0\n",
      "Page:  662  - Properties found:  0\n",
      "Page:  663  - Properties found:  0\n",
      "Page:  664  - Properties found:  0\n",
      "Page:  665  - Properties found:  0\n",
      "Page:  666  - Properties found:  0\n",
      "Page:  667  - Properties found:  0\n",
      "Page:  668  - Properties found:  0\n",
      "Page:  669  - Properties found:  0\n",
      "Page:  670  - Properties found:  0\n",
      "Page:  671  - Properties found:  0\n",
      "Page:  672  - Properties found:  0\n",
      "Page:  673  - Properties found:  0\n",
      "Page:  674  - Properties found:  0\n",
      "Page:  675  - Properties found:  0\n",
      "Page:  676  - Properties found:  0\n",
      "Page:  677  - Properties found:  0\n",
      "Page:  678  - Properties found:  0\n",
      "Page:  679  - Properties found:  0\n",
      "Page:  680  - Properties found:  0\n",
      "Page:  681  - Properties found:  0\n",
      "Page:  682  - Properties found:  0\n",
      "Page:  683  - Properties found:  0\n",
      "Page:  684  - Properties found:  0\n",
      "Page:  685  - Properties found:  0\n",
      "Page:  686  - Properties found:  0\n",
      "Page:  687  - Properties found:  0\n",
      "Page:  688  - Properties found:  0\n",
      "Page:  689  - Properties found:  0\n",
      "Page:  690  - Properties found:  0\n",
      "Page:  691  - Properties found:  0\n",
      "Page:  692  - Properties found:  0\n"
     ]
    },
    {
     "name": "stdout",
     "output_type": "stream",
     "text": [
      "Page:  693  - Properties found:  0\n",
      "Page:  694  - Properties found:  0\n",
      "Page:  695  - Properties found:  0\n",
      "Page:  696  - Properties found:  0\n",
      "Page:  697  - Properties found:  0\n",
      "Page:  698  - Properties found:  0\n",
      "Page:  699  - Properties found:  0\n",
      "Page:  700  - Properties found:  0\n",
      "Page:  701  - Properties found:  0\n",
      "Page:  702  - Properties found:  0\n",
      "Page:  703  - Properties found:  0\n",
      "Page:  704  - Properties found:  0\n",
      "Page:  705  - Properties found:  0\n",
      "Page:  706  - Properties found:  0\n",
      "Page:  707  - Properties found:  0\n",
      "Page:  708  - Properties found:  0\n",
      "Page:  709  - Properties found:  0\n",
      "Page:  710  - Properties found:  0\n",
      "Page:  711  - Properties found:  0\n",
      "Page:  712  - Properties found:  0\n",
      "Page:  713  - Properties found:  0\n",
      "Page:  714  - Properties found:  0\n",
      "Page:  715  - Properties found:  0\n",
      "Page:  716  - Properties found:  0\n",
      "Page:  717  - Properties found:  0\n",
      "Page:  718  - Properties found:  0\n",
      "Page:  719  - Properties found:  0\n",
      "Page:  720  - Properties found:  0\n",
      "Page:  721  - Properties found:  0\n",
      "Page:  722  - Properties found:  0\n",
      "Page:  723  - Properties found:  0\n",
      "Page:  724  - Properties found:  0\n",
      "Page:  725  - Properties found:  0\n",
      "Page:  726  - Properties found:  0\n",
      "Page:  727  - Properties found:  0\n",
      "Page:  728  - Properties found:  0\n",
      "Page:  729  - Properties found:  0\n",
      "Page:  730  - Properties found:  0\n",
      "Page:  731  - Properties found:  0\n",
      "Page:  732  - Properties found:  0\n",
      "Page:  733  - Properties found:  0\n",
      "Page:  734  - Properties found:  0\n",
      "Page:  735  - Properties found:  0\n",
      "Page:  736  - Properties found:  0\n",
      "Page:  737  - Properties found:  0\n",
      "Page:  738  - Properties found:  0\n",
      "Page:  739  - Properties found:  0\n",
      "Page:  740  - Properties found:  0\n",
      "Page:  741  - Properties found:  0\n",
      "Page:  742  - Properties found:  0\n",
      "Page:  743  - Properties found:  0\n",
      "Page:  744  - Properties found:  0\n",
      "Page:  745  - Properties found:  0\n",
      "Page:  746  - Properties found:  0\n",
      "Page:  747  - Properties found:  0\n",
      "Page:  748  - Properties found:  0\n",
      "Page:  749  - Properties found:  0\n",
      "Page:  750  - Properties found:  0\n",
      "Page:  751  - Properties found:  0\n",
      "Page:  752  - Properties found:  0\n",
      "Page:  753  - Properties found:  0\n",
      "Page:  754  - Properties found:  0\n",
      "Page:  755  - Properties found:  0\n",
      "Page:  756  - Properties found:  0\n",
      "Page:  757  - Properties found:  0\n",
      "Page:  758  - Properties found:  0\n",
      "Page:  759  - Properties found:  0\n",
      "Page:  760  - Properties found:  0\n",
      "Page:  761  - Properties found:  0\n",
      "Page:  762  - Properties found:  0\n",
      "Page:  763  - Properties found:  0\n",
      "Page:  764  - Properties found:  0\n",
      "Page:  765  - Properties found:  0\n",
      "Page:  766  - Properties found:  0\n",
      "Page:  767  - Properties found:  0\n",
      "Page:  768  - Properties found:  0\n",
      "Page:  769  - Properties found:  0\n",
      "Page:  770  - Properties found:  0\n",
      "Page:  771  - Properties found:  0\n",
      "Page:  772  - Properties found:  0\n",
      "Page:  773  - Properties found:  0\n",
      "Page:  774  - Properties found:  0\n",
      "Page:  775  - Properties found:  0\n",
      "Page:  776  - Properties found:  0\n",
      "Page:  777  - Properties found:  0\n",
      "Page:  778  - Properties found:  0\n",
      "Page:  779  - Properties found:  0\n",
      "Page:  780  - Properties found:  0\n",
      "Page:  781  - Properties found:  0\n",
      "Page:  782  - Properties found:  0\n",
      "Page:  783  - Properties found:  0\n",
      "Page:  784  - Properties found:  0\n",
      "Page:  785  - Properties found:  0\n",
      "Page:  786  - Properties found:  0\n",
      "Page:  787  - Properties found:  0\n",
      "Page:  788  - Properties found:  0\n",
      "Page:  789  - Properties found:  0\n",
      "Page:  790  - Properties found:  0\n",
      "Page:  791  - Properties found:  0\n",
      "Page:  792  - Properties found:  0\n",
      "Page:  793  - Properties found:  0\n",
      "Page:  794  - Properties found:  0\n",
      "Page:  795  - Properties found:  0\n",
      "Page:  796  - Properties found:  0\n",
      "Page:  797  - Properties found:  0\n",
      "Page:  798  - Properties found:  0\n",
      "Page:  799  - Properties found:  0\n",
      "Page:  800  - Properties found:  0\n",
      "Page:  801  - Properties found:  0\n",
      "Page:  802  - Properties found:  0\n",
      "Page:  803  - Properties found:  0\n",
      "Page:  804  - Properties found:  0\n",
      "Page:  805  - Properties found:  0\n",
      "Page:  806  - Properties found:  0\n",
      "Page:  807  - Properties found:  0\n",
      "Page:  808  - Properties found:  0\n",
      "Page:  809  - Properties found:  0\n",
      "Page:  810  - Properties found:  0\n",
      "Page:  811  - Properties found:  0\n",
      "Page:  812  - Properties found:  0\n",
      "Page:  813  - Properties found:  0\n",
      "Page:  814  - Properties found:  0\n",
      "Page:  815  - Properties found:  0\n",
      "Page:  816  - Properties found:  0\n",
      "Page:  817  - Properties found:  0\n",
      "Number of Properties:  10024\n"
     ]
    }
   ],
   "source": [
    "#Retrieve actual data from properties\n",
    "df = pd.DataFrame(columns=['Address', 'Price', 'Eircode', 'Dwelling Type', 'Bedrooms', 'Bathrooms', 'Floor Area in sqm', 'Last Refreshed', 'Facilities', 'Description', 'Ber Details', 'Directions', 'Accommodation', 'Features'])\n",
    "last_page = get_last_page()\n",
    "property_list = item_ids(last_page)"
   ]
  },
  {
   "cell_type": "code",
   "execution_count": null,
   "metadata": {},
   "outputs": [],
   "source": [
    "property_list"
   ]
  },
  {
   "cell_type": "code",
   "execution_count": null,
   "metadata": {},
   "outputs": [
    {
     "name": "stdout",
     "output_type": "stream",
     "text": [
      "Number of unique Properties:  9993\n"
     ]
    },
    {
     "name": "stderr",
     "output_type": "stream",
     "text": [
      "C:\\Users\\Harry\\AppData\\Local\\Temp\\ipykernel_35052\\75057381.py:97: FutureWarning: The frame.append method is deprecated and will be removed from pandas in a future version. Use pandas.concat instead.\n",
      "  df = df.append({'Address':address, 'Price':price, 'Eircode': eircode, 'Dwelling Type':dwelling_type, 'Bedrooms':bedrooms, 'Bathrooms':bathrooms, 'Last Refreshed':refreshed, 'Floor Area in sqm':floor_area, 'Facilities':facilities, 'Description':description, 'Directions':directions, 'Ber Details':ber_details, 'Accommodation':accommodation, 'Features':features}, ignore_index = True)\n"
     ]
    },
    {
     "name": "stdout",
     "output_type": "stream",
     "text": [
      "DataFrame length:  762\n"
     ]
    },
    {
     "name": "stderr",
     "output_type": "stream",
     "text": [
      "C:\\Users\\Harry\\AppData\\Local\\Temp\\ipykernel_35052\\75057381.py:97: FutureWarning: The frame.append method is deprecated and will be removed from pandas in a future version. Use pandas.concat instead.\n",
      "  df = df.append({'Address':address, 'Price':price, 'Eircode': eircode, 'Dwelling Type':dwelling_type, 'Bedrooms':bedrooms, 'Bathrooms':bathrooms, 'Last Refreshed':refreshed, 'Floor Area in sqm':floor_area, 'Facilities':facilities, 'Description':description, 'Directions':directions, 'Ber Details':ber_details, 'Accommodation':accommodation, 'Features':features}, ignore_index = True)\n"
     ]
    },
    {
     "name": "stdout",
     "output_type": "stream",
     "text": [
      "DataFrame length:  763\n"
     ]
    },
    {
     "name": "stderr",
     "output_type": "stream",
     "text": [
      "C:\\Users\\Harry\\AppData\\Local\\Temp\\ipykernel_35052\\75057381.py:97: FutureWarning: The frame.append method is deprecated and will be removed from pandas in a future version. Use pandas.concat instead.\n",
      "  df = df.append({'Address':address, 'Price':price, 'Eircode': eircode, 'Dwelling Type':dwelling_type, 'Bedrooms':bedrooms, 'Bathrooms':bathrooms, 'Last Refreshed':refreshed, 'Floor Area in sqm':floor_area, 'Facilities':facilities, 'Description':description, 'Directions':directions, 'Ber Details':ber_details, 'Accommodation':accommodation, 'Features':features}, ignore_index = True)\n"
     ]
    },
    {
     "name": "stdout",
     "output_type": "stream",
     "text": [
      "DataFrame length:  764\n"
     ]
    },
    {
     "name": "stderr",
     "output_type": "stream",
     "text": [
      "C:\\Users\\Harry\\AppData\\Local\\Temp\\ipykernel_35052\\75057381.py:97: FutureWarning: The frame.append method is deprecated and will be removed from pandas in a future version. Use pandas.concat instead.\n",
      "  df = df.append({'Address':address, 'Price':price, 'Eircode': eircode, 'Dwelling Type':dwelling_type, 'Bedrooms':bedrooms, 'Bathrooms':bathrooms, 'Last Refreshed':refreshed, 'Floor Area in sqm':floor_area, 'Facilities':facilities, 'Description':description, 'Directions':directions, 'Ber Details':ber_details, 'Accommodation':accommodation, 'Features':features}, ignore_index = True)\n"
     ]
    },
    {
     "name": "stdout",
     "output_type": "stream",
     "text": [
      "DataFrame length:  765\n"
     ]
    },
    {
     "name": "stderr",
     "output_type": "stream",
     "text": [
      "C:\\Users\\Harry\\AppData\\Local\\Temp\\ipykernel_35052\\75057381.py:97: FutureWarning: The frame.append method is deprecated and will be removed from pandas in a future version. Use pandas.concat instead.\n",
      "  df = df.append({'Address':address, 'Price':price, 'Eircode': eircode, 'Dwelling Type':dwelling_type, 'Bedrooms':bedrooms, 'Bathrooms':bathrooms, 'Last Refreshed':refreshed, 'Floor Area in sqm':floor_area, 'Facilities':facilities, 'Description':description, 'Directions':directions, 'Ber Details':ber_details, 'Accommodation':accommodation, 'Features':features}, ignore_index = True)\n"
     ]
    },
    {
     "name": "stdout",
     "output_type": "stream",
     "text": [
      "DataFrame length:  766\n"
     ]
    },
    {
     "name": "stderr",
     "output_type": "stream",
     "text": [
      "C:\\Users\\Harry\\AppData\\Local\\Temp\\ipykernel_35052\\75057381.py:97: FutureWarning: The frame.append method is deprecated and will be removed from pandas in a future version. Use pandas.concat instead.\n",
      "  df = df.append({'Address':address, 'Price':price, 'Eircode': eircode, 'Dwelling Type':dwelling_type, 'Bedrooms':bedrooms, 'Bathrooms':bathrooms, 'Last Refreshed':refreshed, 'Floor Area in sqm':floor_area, 'Facilities':facilities, 'Description':description, 'Directions':directions, 'Ber Details':ber_details, 'Accommodation':accommodation, 'Features':features}, ignore_index = True)\n"
     ]
    },
    {
     "name": "stdout",
     "output_type": "stream",
     "text": [
      "DataFrame length:  767\n"
     ]
    },
    {
     "name": "stderr",
     "output_type": "stream",
     "text": [
      "C:\\Users\\Harry\\AppData\\Local\\Temp\\ipykernel_35052\\75057381.py:97: FutureWarning: The frame.append method is deprecated and will be removed from pandas in a future version. Use pandas.concat instead.\n",
      "  df = df.append({'Address':address, 'Price':price, 'Eircode': eircode, 'Dwelling Type':dwelling_type, 'Bedrooms':bedrooms, 'Bathrooms':bathrooms, 'Last Refreshed':refreshed, 'Floor Area in sqm':floor_area, 'Facilities':facilities, 'Description':description, 'Directions':directions, 'Ber Details':ber_details, 'Accommodation':accommodation, 'Features':features}, ignore_index = True)\n"
     ]
    },
    {
     "name": "stdout",
     "output_type": "stream",
     "text": [
      "DataFrame length:  768\n"
     ]
    },
    {
     "name": "stderr",
     "output_type": "stream",
     "text": [
      "C:\\Users\\Harry\\AppData\\Local\\Temp\\ipykernel_35052\\75057381.py:97: FutureWarning: The frame.append method is deprecated and will be removed from pandas in a future version. Use pandas.concat instead.\n",
      "  df = df.append({'Address':address, 'Price':price, 'Eircode': eircode, 'Dwelling Type':dwelling_type, 'Bedrooms':bedrooms, 'Bathrooms':bathrooms, 'Last Refreshed':refreshed, 'Floor Area in sqm':floor_area, 'Facilities':facilities, 'Description':description, 'Directions':directions, 'Ber Details':ber_details, 'Accommodation':accommodation, 'Features':features}, ignore_index = True)\n"
     ]
    },
    {
     "name": "stdout",
     "output_type": "stream",
     "text": [
      "DataFrame length:  769\n"
     ]
    },
    {
     "name": "stderr",
     "output_type": "stream",
     "text": [
      "C:\\Users\\Harry\\AppData\\Local\\Temp\\ipykernel_35052\\75057381.py:97: FutureWarning: The frame.append method is deprecated and will be removed from pandas in a future version. Use pandas.concat instead.\n",
      "  df = df.append({'Address':address, 'Price':price, 'Eircode': eircode, 'Dwelling Type':dwelling_type, 'Bedrooms':bedrooms, 'Bathrooms':bathrooms, 'Last Refreshed':refreshed, 'Floor Area in sqm':floor_area, 'Facilities':facilities, 'Description':description, 'Directions':directions, 'Ber Details':ber_details, 'Accommodation':accommodation, 'Features':features}, ignore_index = True)\n"
     ]
    },
    {
     "name": "stdout",
     "output_type": "stream",
     "text": [
      "DataFrame length:  770\n"
     ]
    },
    {
     "name": "stderr",
     "output_type": "stream",
     "text": [
      "C:\\Users\\Harry\\AppData\\Local\\Temp\\ipykernel_35052\\75057381.py:97: FutureWarning: The frame.append method is deprecated and will be removed from pandas in a future version. Use pandas.concat instead.\n",
      "  df = df.append({'Address':address, 'Price':price, 'Eircode': eircode, 'Dwelling Type':dwelling_type, 'Bedrooms':bedrooms, 'Bathrooms':bathrooms, 'Last Refreshed':refreshed, 'Floor Area in sqm':floor_area, 'Facilities':facilities, 'Description':description, 'Directions':directions, 'Ber Details':ber_details, 'Accommodation':accommodation, 'Features':features}, ignore_index = True)\n"
     ]
    },
    {
     "name": "stdout",
     "output_type": "stream",
     "text": [
      "DataFrame length:  771\n"
     ]
    },
    {
     "name": "stderr",
     "output_type": "stream",
     "text": [
      "C:\\Users\\Harry\\AppData\\Local\\Temp\\ipykernel_35052\\75057381.py:97: FutureWarning: The frame.append method is deprecated and will be removed from pandas in a future version. Use pandas.concat instead.\n",
      "  df = df.append({'Address':address, 'Price':price, 'Eircode': eircode, 'Dwelling Type':dwelling_type, 'Bedrooms':bedrooms, 'Bathrooms':bathrooms, 'Last Refreshed':refreshed, 'Floor Area in sqm':floor_area, 'Facilities':facilities, 'Description':description, 'Directions':directions, 'Ber Details':ber_details, 'Accommodation':accommodation, 'Features':features}, ignore_index = True)\n"
     ]
    },
    {
     "name": "stdout",
     "output_type": "stream",
     "text": [
      "DataFrame length:  772\n"
     ]
    },
    {
     "name": "stderr",
     "output_type": "stream",
     "text": [
      "C:\\Users\\Harry\\AppData\\Local\\Temp\\ipykernel_35052\\75057381.py:97: FutureWarning: The frame.append method is deprecated and will be removed from pandas in a future version. Use pandas.concat instead.\n",
      "  df = df.append({'Address':address, 'Price':price, 'Eircode': eircode, 'Dwelling Type':dwelling_type, 'Bedrooms':bedrooms, 'Bathrooms':bathrooms, 'Last Refreshed':refreshed, 'Floor Area in sqm':floor_area, 'Facilities':facilities, 'Description':description, 'Directions':directions, 'Ber Details':ber_details, 'Accommodation':accommodation, 'Features':features}, ignore_index = True)\n"
     ]
    },
    {
     "name": "stdout",
     "output_type": "stream",
     "text": [
      "DataFrame length:  773\n"
     ]
    },
    {
     "name": "stderr",
     "output_type": "stream",
     "text": [
      "C:\\Users\\Harry\\AppData\\Local\\Temp\\ipykernel_35052\\75057381.py:97: FutureWarning: The frame.append method is deprecated and will be removed from pandas in a future version. Use pandas.concat instead.\n",
      "  df = df.append({'Address':address, 'Price':price, 'Eircode': eircode, 'Dwelling Type':dwelling_type, 'Bedrooms':bedrooms, 'Bathrooms':bathrooms, 'Last Refreshed':refreshed, 'Floor Area in sqm':floor_area, 'Facilities':facilities, 'Description':description, 'Directions':directions, 'Ber Details':ber_details, 'Accommodation':accommodation, 'Features':features}, ignore_index = True)\n"
     ]
    },
    {
     "name": "stdout",
     "output_type": "stream",
     "text": [
      "DataFrame length:  774\n"
     ]
    },
    {
     "name": "stderr",
     "output_type": "stream",
     "text": [
      "C:\\Users\\Harry\\AppData\\Local\\Temp\\ipykernel_35052\\75057381.py:97: FutureWarning: The frame.append method is deprecated and will be removed from pandas in a future version. Use pandas.concat instead.\n",
      "  df = df.append({'Address':address, 'Price':price, 'Eircode': eircode, 'Dwelling Type':dwelling_type, 'Bedrooms':bedrooms, 'Bathrooms':bathrooms, 'Last Refreshed':refreshed, 'Floor Area in sqm':floor_area, 'Facilities':facilities, 'Description':description, 'Directions':directions, 'Ber Details':ber_details, 'Accommodation':accommodation, 'Features':features}, ignore_index = True)\n"
     ]
    },
    {
     "name": "stdout",
     "output_type": "stream",
     "text": [
      "DataFrame length:  775\n"
     ]
    },
    {
     "name": "stderr",
     "output_type": "stream",
     "text": [
      "C:\\Users\\Harry\\AppData\\Local\\Temp\\ipykernel_35052\\75057381.py:97: FutureWarning: The frame.append method is deprecated and will be removed from pandas in a future version. Use pandas.concat instead.\n",
      "  df = df.append({'Address':address, 'Price':price, 'Eircode': eircode, 'Dwelling Type':dwelling_type, 'Bedrooms':bedrooms, 'Bathrooms':bathrooms, 'Last Refreshed':refreshed, 'Floor Area in sqm':floor_area, 'Facilities':facilities, 'Description':description, 'Directions':directions, 'Ber Details':ber_details, 'Accommodation':accommodation, 'Features':features}, ignore_index = True)\n"
     ]
    },
    {
     "name": "stdout",
     "output_type": "stream",
     "text": [
      "DataFrame length:  776\n"
     ]
    },
    {
     "name": "stderr",
     "output_type": "stream",
     "text": [
      "C:\\Users\\Harry\\AppData\\Local\\Temp\\ipykernel_35052\\75057381.py:97: FutureWarning: The frame.append method is deprecated and will be removed from pandas in a future version. Use pandas.concat instead.\n",
      "  df = df.append({'Address':address, 'Price':price, 'Eircode': eircode, 'Dwelling Type':dwelling_type, 'Bedrooms':bedrooms, 'Bathrooms':bathrooms, 'Last Refreshed':refreshed, 'Floor Area in sqm':floor_area, 'Facilities':facilities, 'Description':description, 'Directions':directions, 'Ber Details':ber_details, 'Accommodation':accommodation, 'Features':features}, ignore_index = True)\n"
     ]
    },
    {
     "name": "stdout",
     "output_type": "stream",
     "text": [
      "DataFrame length:  777\n"
     ]
    },
    {
     "name": "stderr",
     "output_type": "stream",
     "text": [
      "C:\\Users\\Harry\\AppData\\Local\\Temp\\ipykernel_35052\\75057381.py:97: FutureWarning: The frame.append method is deprecated and will be removed from pandas in a future version. Use pandas.concat instead.\n",
      "  df = df.append({'Address':address, 'Price':price, 'Eircode': eircode, 'Dwelling Type':dwelling_type, 'Bedrooms':bedrooms, 'Bathrooms':bathrooms, 'Last Refreshed':refreshed, 'Floor Area in sqm':floor_area, 'Facilities':facilities, 'Description':description, 'Directions':directions, 'Ber Details':ber_details, 'Accommodation':accommodation, 'Features':features}, ignore_index = True)\n"
     ]
    },
    {
     "name": "stdout",
     "output_type": "stream",
     "text": [
      "DataFrame length:  778\n"
     ]
    },
    {
     "name": "stderr",
     "output_type": "stream",
     "text": [
      "C:\\Users\\Harry\\AppData\\Local\\Temp\\ipykernel_35052\\75057381.py:97: FutureWarning: The frame.append method is deprecated and will be removed from pandas in a future version. Use pandas.concat instead.\n",
      "  df = df.append({'Address':address, 'Price':price, 'Eircode': eircode, 'Dwelling Type':dwelling_type, 'Bedrooms':bedrooms, 'Bathrooms':bathrooms, 'Last Refreshed':refreshed, 'Floor Area in sqm':floor_area, 'Facilities':facilities, 'Description':description, 'Directions':directions, 'Ber Details':ber_details, 'Accommodation':accommodation, 'Features':features}, ignore_index = True)\n"
     ]
    },
    {
     "name": "stdout",
     "output_type": "stream",
     "text": [
      "DataFrame length:  779\n"
     ]
    },
    {
     "name": "stderr",
     "output_type": "stream",
     "text": [
      "C:\\Users\\Harry\\AppData\\Local\\Temp\\ipykernel_35052\\75057381.py:97: FutureWarning: The frame.append method is deprecated and will be removed from pandas in a future version. Use pandas.concat instead.\n",
      "  df = df.append({'Address':address, 'Price':price, 'Eircode': eircode, 'Dwelling Type':dwelling_type, 'Bedrooms':bedrooms, 'Bathrooms':bathrooms, 'Last Refreshed':refreshed, 'Floor Area in sqm':floor_area, 'Facilities':facilities, 'Description':description, 'Directions':directions, 'Ber Details':ber_details, 'Accommodation':accommodation, 'Features':features}, ignore_index = True)\n"
     ]
    },
    {
     "name": "stdout",
     "output_type": "stream",
     "text": [
      "DataFrame length:  780\n"
     ]
    },
    {
     "name": "stderr",
     "output_type": "stream",
     "text": [
      "C:\\Users\\Harry\\AppData\\Local\\Temp\\ipykernel_35052\\75057381.py:97: FutureWarning: The frame.append method is deprecated and will be removed from pandas in a future version. Use pandas.concat instead.\n",
      "  df = df.append({'Address':address, 'Price':price, 'Eircode': eircode, 'Dwelling Type':dwelling_type, 'Bedrooms':bedrooms, 'Bathrooms':bathrooms, 'Last Refreshed':refreshed, 'Floor Area in sqm':floor_area, 'Facilities':facilities, 'Description':description, 'Directions':directions, 'Ber Details':ber_details, 'Accommodation':accommodation, 'Features':features}, ignore_index = True)\n"
     ]
    },
    {
     "name": "stdout",
     "output_type": "stream",
     "text": [
      "DataFrame length:  781\n"
     ]
    },
    {
     "name": "stderr",
     "output_type": "stream",
     "text": [
      "C:\\Users\\Harry\\AppData\\Local\\Temp\\ipykernel_35052\\75057381.py:97: FutureWarning: The frame.append method is deprecated and will be removed from pandas in a future version. Use pandas.concat instead.\n",
      "  df = df.append({'Address':address, 'Price':price, 'Eircode': eircode, 'Dwelling Type':dwelling_type, 'Bedrooms':bedrooms, 'Bathrooms':bathrooms, 'Last Refreshed':refreshed, 'Floor Area in sqm':floor_area, 'Facilities':facilities, 'Description':description, 'Directions':directions, 'Ber Details':ber_details, 'Accommodation':accommodation, 'Features':features}, ignore_index = True)\n"
     ]
    },
    {
     "name": "stdout",
     "output_type": "stream",
     "text": [
      "DataFrame length:  782\n"
     ]
    },
    {
     "name": "stderr",
     "output_type": "stream",
     "text": [
      "C:\\Users\\Harry\\AppData\\Local\\Temp\\ipykernel_35052\\75057381.py:97: FutureWarning: The frame.append method is deprecated and will be removed from pandas in a future version. Use pandas.concat instead.\n",
      "  df = df.append({'Address':address, 'Price':price, 'Eircode': eircode, 'Dwelling Type':dwelling_type, 'Bedrooms':bedrooms, 'Bathrooms':bathrooms, 'Last Refreshed':refreshed, 'Floor Area in sqm':floor_area, 'Facilities':facilities, 'Description':description, 'Directions':directions, 'Ber Details':ber_details, 'Accommodation':accommodation, 'Features':features}, ignore_index = True)\n"
     ]
    },
    {
     "name": "stdout",
     "output_type": "stream",
     "text": [
      "DataFrame length:  783\n"
     ]
    },
    {
     "name": "stderr",
     "output_type": "stream",
     "text": [
      "C:\\Users\\Harry\\AppData\\Local\\Temp\\ipykernel_35052\\75057381.py:97: FutureWarning: The frame.append method is deprecated and will be removed from pandas in a future version. Use pandas.concat instead.\n",
      "  df = df.append({'Address':address, 'Price':price, 'Eircode': eircode, 'Dwelling Type':dwelling_type, 'Bedrooms':bedrooms, 'Bathrooms':bathrooms, 'Last Refreshed':refreshed, 'Floor Area in sqm':floor_area, 'Facilities':facilities, 'Description':description, 'Directions':directions, 'Ber Details':ber_details, 'Accommodation':accommodation, 'Features':features}, ignore_index = True)\n"
     ]
    },
    {
     "name": "stdout",
     "output_type": "stream",
     "text": [
      "DataFrame length:  784\n"
     ]
    },
    {
     "name": "stderr",
     "output_type": "stream",
     "text": [
      "C:\\Users\\Harry\\AppData\\Local\\Temp\\ipykernel_35052\\75057381.py:97: FutureWarning: The frame.append method is deprecated and will be removed from pandas in a future version. Use pandas.concat instead.\n",
      "  df = df.append({'Address':address, 'Price':price, 'Eircode': eircode, 'Dwelling Type':dwelling_type, 'Bedrooms':bedrooms, 'Bathrooms':bathrooms, 'Last Refreshed':refreshed, 'Floor Area in sqm':floor_area, 'Facilities':facilities, 'Description':description, 'Directions':directions, 'Ber Details':ber_details, 'Accommodation':accommodation, 'Features':features}, ignore_index = True)\n"
     ]
    },
    {
     "name": "stdout",
     "output_type": "stream",
     "text": [
      "DataFrame length:  785\n"
     ]
    },
    {
     "name": "stderr",
     "output_type": "stream",
     "text": [
      "C:\\Users\\Harry\\AppData\\Local\\Temp\\ipykernel_35052\\75057381.py:97: FutureWarning: The frame.append method is deprecated and will be removed from pandas in a future version. Use pandas.concat instead.\n",
      "  df = df.append({'Address':address, 'Price':price, 'Eircode': eircode, 'Dwelling Type':dwelling_type, 'Bedrooms':bedrooms, 'Bathrooms':bathrooms, 'Last Refreshed':refreshed, 'Floor Area in sqm':floor_area, 'Facilities':facilities, 'Description':description, 'Directions':directions, 'Ber Details':ber_details, 'Accommodation':accommodation, 'Features':features}, ignore_index = True)\n"
     ]
    },
    {
     "name": "stdout",
     "output_type": "stream",
     "text": [
      "DataFrame length:  786\n"
     ]
    },
    {
     "name": "stderr",
     "output_type": "stream",
     "text": [
      "C:\\Users\\Harry\\AppData\\Local\\Temp\\ipykernel_35052\\75057381.py:97: FutureWarning: The frame.append method is deprecated and will be removed from pandas in a future version. Use pandas.concat instead.\n",
      "  df = df.append({'Address':address, 'Price':price, 'Eircode': eircode, 'Dwelling Type':dwelling_type, 'Bedrooms':bedrooms, 'Bathrooms':bathrooms, 'Last Refreshed':refreshed, 'Floor Area in sqm':floor_area, 'Facilities':facilities, 'Description':description, 'Directions':directions, 'Ber Details':ber_details, 'Accommodation':accommodation, 'Features':features}, ignore_index = True)\n"
     ]
    },
    {
     "name": "stdout",
     "output_type": "stream",
     "text": [
      "DataFrame length:  787\n"
     ]
    },
    {
     "name": "stderr",
     "output_type": "stream",
     "text": [
      "C:\\Users\\Harry\\AppData\\Local\\Temp\\ipykernel_35052\\75057381.py:97: FutureWarning: The frame.append method is deprecated and will be removed from pandas in a future version. Use pandas.concat instead.\n",
      "  df = df.append({'Address':address, 'Price':price, 'Eircode': eircode, 'Dwelling Type':dwelling_type, 'Bedrooms':bedrooms, 'Bathrooms':bathrooms, 'Last Refreshed':refreshed, 'Floor Area in sqm':floor_area, 'Facilities':facilities, 'Description':description, 'Directions':directions, 'Ber Details':ber_details, 'Accommodation':accommodation, 'Features':features}, ignore_index = True)\n"
     ]
    },
    {
     "name": "stdout",
     "output_type": "stream",
     "text": [
      "DataFrame length:  788\n"
     ]
    },
    {
     "name": "stderr",
     "output_type": "stream",
     "text": [
      "C:\\Users\\Harry\\AppData\\Local\\Temp\\ipykernel_35052\\75057381.py:97: FutureWarning: The frame.append method is deprecated and will be removed from pandas in a future version. Use pandas.concat instead.\n",
      "  df = df.append({'Address':address, 'Price':price, 'Eircode': eircode, 'Dwelling Type':dwelling_type, 'Bedrooms':bedrooms, 'Bathrooms':bathrooms, 'Last Refreshed':refreshed, 'Floor Area in sqm':floor_area, 'Facilities':facilities, 'Description':description, 'Directions':directions, 'Ber Details':ber_details, 'Accommodation':accommodation, 'Features':features}, ignore_index = True)\n"
     ]
    },
    {
     "name": "stdout",
     "output_type": "stream",
     "text": [
      "DataFrame length:  789\n"
     ]
    },
    {
     "name": "stderr",
     "output_type": "stream",
     "text": [
      "C:\\Users\\Harry\\AppData\\Local\\Temp\\ipykernel_35052\\75057381.py:97: FutureWarning: The frame.append method is deprecated and will be removed from pandas in a future version. Use pandas.concat instead.\n",
      "  df = df.append({'Address':address, 'Price':price, 'Eircode': eircode, 'Dwelling Type':dwelling_type, 'Bedrooms':bedrooms, 'Bathrooms':bathrooms, 'Last Refreshed':refreshed, 'Floor Area in sqm':floor_area, 'Facilities':facilities, 'Description':description, 'Directions':directions, 'Ber Details':ber_details, 'Accommodation':accommodation, 'Features':features}, ignore_index = True)\n"
     ]
    },
    {
     "name": "stdout",
     "output_type": "stream",
     "text": [
      "DataFrame length:  790\n"
     ]
    },
    {
     "name": "stderr",
     "output_type": "stream",
     "text": [
      "C:\\Users\\Harry\\AppData\\Local\\Temp\\ipykernel_35052\\75057381.py:97: FutureWarning: The frame.append method is deprecated and will be removed from pandas in a future version. Use pandas.concat instead.\n",
      "  df = df.append({'Address':address, 'Price':price, 'Eircode': eircode, 'Dwelling Type':dwelling_type, 'Bedrooms':bedrooms, 'Bathrooms':bathrooms, 'Last Refreshed':refreshed, 'Floor Area in sqm':floor_area, 'Facilities':facilities, 'Description':description, 'Directions':directions, 'Ber Details':ber_details, 'Accommodation':accommodation, 'Features':features}, ignore_index = True)\n"
     ]
    },
    {
     "name": "stdout",
     "output_type": "stream",
     "text": [
      "DataFrame length:  791\n"
     ]
    },
    {
     "name": "stderr",
     "output_type": "stream",
     "text": [
      "C:\\Users\\Harry\\AppData\\Local\\Temp\\ipykernel_35052\\75057381.py:97: FutureWarning: The frame.append method is deprecated and will be removed from pandas in a future version. Use pandas.concat instead.\n",
      "  df = df.append({'Address':address, 'Price':price, 'Eircode': eircode, 'Dwelling Type':dwelling_type, 'Bedrooms':bedrooms, 'Bathrooms':bathrooms, 'Last Refreshed':refreshed, 'Floor Area in sqm':floor_area, 'Facilities':facilities, 'Description':description, 'Directions':directions, 'Ber Details':ber_details, 'Accommodation':accommodation, 'Features':features}, ignore_index = True)\n"
     ]
    },
    {
     "name": "stdout",
     "output_type": "stream",
     "text": [
      "DataFrame length:  792\n"
     ]
    },
    {
     "name": "stderr",
     "output_type": "stream",
     "text": [
      "C:\\Users\\Harry\\AppData\\Local\\Temp\\ipykernel_35052\\75057381.py:97: FutureWarning: The frame.append method is deprecated and will be removed from pandas in a future version. Use pandas.concat instead.\n",
      "  df = df.append({'Address':address, 'Price':price, 'Eircode': eircode, 'Dwelling Type':dwelling_type, 'Bedrooms':bedrooms, 'Bathrooms':bathrooms, 'Last Refreshed':refreshed, 'Floor Area in sqm':floor_area, 'Facilities':facilities, 'Description':description, 'Directions':directions, 'Ber Details':ber_details, 'Accommodation':accommodation, 'Features':features}, ignore_index = True)\n"
     ]
    },
    {
     "name": "stdout",
     "output_type": "stream",
     "text": [
      "DataFrame length:  793\n"
     ]
    },
    {
     "name": "stderr",
     "output_type": "stream",
     "text": [
      "C:\\Users\\Harry\\AppData\\Local\\Temp\\ipykernel_35052\\75057381.py:97: FutureWarning: The frame.append method is deprecated and will be removed from pandas in a future version. Use pandas.concat instead.\n",
      "  df = df.append({'Address':address, 'Price':price, 'Eircode': eircode, 'Dwelling Type':dwelling_type, 'Bedrooms':bedrooms, 'Bathrooms':bathrooms, 'Last Refreshed':refreshed, 'Floor Area in sqm':floor_area, 'Facilities':facilities, 'Description':description, 'Directions':directions, 'Ber Details':ber_details, 'Accommodation':accommodation, 'Features':features}, ignore_index = True)\n"
     ]
    },
    {
     "name": "stdout",
     "output_type": "stream",
     "text": [
      "DataFrame length:  794\n"
     ]
    },
    {
     "name": "stderr",
     "output_type": "stream",
     "text": [
      "C:\\Users\\Harry\\AppData\\Local\\Temp\\ipykernel_35052\\75057381.py:97: FutureWarning: The frame.append method is deprecated and will be removed from pandas in a future version. Use pandas.concat instead.\n",
      "  df = df.append({'Address':address, 'Price':price, 'Eircode': eircode, 'Dwelling Type':dwelling_type, 'Bedrooms':bedrooms, 'Bathrooms':bathrooms, 'Last Refreshed':refreshed, 'Floor Area in sqm':floor_area, 'Facilities':facilities, 'Description':description, 'Directions':directions, 'Ber Details':ber_details, 'Accommodation':accommodation, 'Features':features}, ignore_index = True)\n"
     ]
    },
    {
     "name": "stdout",
     "output_type": "stream",
     "text": [
      "DataFrame length:  795\n"
     ]
    },
    {
     "name": "stderr",
     "output_type": "stream",
     "text": [
      "C:\\Users\\Harry\\AppData\\Local\\Temp\\ipykernel_35052\\75057381.py:97: FutureWarning: The frame.append method is deprecated and will be removed from pandas in a future version. Use pandas.concat instead.\n",
      "  df = df.append({'Address':address, 'Price':price, 'Eircode': eircode, 'Dwelling Type':dwelling_type, 'Bedrooms':bedrooms, 'Bathrooms':bathrooms, 'Last Refreshed':refreshed, 'Floor Area in sqm':floor_area, 'Facilities':facilities, 'Description':description, 'Directions':directions, 'Ber Details':ber_details, 'Accommodation':accommodation, 'Features':features}, ignore_index = True)\n"
     ]
    },
    {
     "name": "stdout",
     "output_type": "stream",
     "text": [
      "DataFrame length:  796\n"
     ]
    },
    {
     "name": "stderr",
     "output_type": "stream",
     "text": [
      "C:\\Users\\Harry\\AppData\\Local\\Temp\\ipykernel_35052\\75057381.py:97: FutureWarning: The frame.append method is deprecated and will be removed from pandas in a future version. Use pandas.concat instead.\n",
      "  df = df.append({'Address':address, 'Price':price, 'Eircode': eircode, 'Dwelling Type':dwelling_type, 'Bedrooms':bedrooms, 'Bathrooms':bathrooms, 'Last Refreshed':refreshed, 'Floor Area in sqm':floor_area, 'Facilities':facilities, 'Description':description, 'Directions':directions, 'Ber Details':ber_details, 'Accommodation':accommodation, 'Features':features}, ignore_index = True)\n"
     ]
    },
    {
     "name": "stdout",
     "output_type": "stream",
     "text": [
      "DataFrame length:  797\n"
     ]
    },
    {
     "name": "stderr",
     "output_type": "stream",
     "text": [
      "C:\\Users\\Harry\\AppData\\Local\\Temp\\ipykernel_35052\\75057381.py:97: FutureWarning: The frame.append method is deprecated and will be removed from pandas in a future version. Use pandas.concat instead.\n",
      "  df = df.append({'Address':address, 'Price':price, 'Eircode': eircode, 'Dwelling Type':dwelling_type, 'Bedrooms':bedrooms, 'Bathrooms':bathrooms, 'Last Refreshed':refreshed, 'Floor Area in sqm':floor_area, 'Facilities':facilities, 'Description':description, 'Directions':directions, 'Ber Details':ber_details, 'Accommodation':accommodation, 'Features':features}, ignore_index = True)\n"
     ]
    },
    {
     "name": "stdout",
     "output_type": "stream",
     "text": [
      "DataFrame length:  798\n"
     ]
    },
    {
     "name": "stderr",
     "output_type": "stream",
     "text": [
      "C:\\Users\\Harry\\AppData\\Local\\Temp\\ipykernel_35052\\75057381.py:97: FutureWarning: The frame.append method is deprecated and will be removed from pandas in a future version. Use pandas.concat instead.\n",
      "  df = df.append({'Address':address, 'Price':price, 'Eircode': eircode, 'Dwelling Type':dwelling_type, 'Bedrooms':bedrooms, 'Bathrooms':bathrooms, 'Last Refreshed':refreshed, 'Floor Area in sqm':floor_area, 'Facilities':facilities, 'Description':description, 'Directions':directions, 'Ber Details':ber_details, 'Accommodation':accommodation, 'Features':features}, ignore_index = True)\n"
     ]
    },
    {
     "name": "stdout",
     "output_type": "stream",
     "text": [
      "DataFrame length:  799\n"
     ]
    },
    {
     "name": "stderr",
     "output_type": "stream",
     "text": [
      "C:\\Users\\Harry\\AppData\\Local\\Temp\\ipykernel_35052\\75057381.py:97: FutureWarning: The frame.append method is deprecated and will be removed from pandas in a future version. Use pandas.concat instead.\n",
      "  df = df.append({'Address':address, 'Price':price, 'Eircode': eircode, 'Dwelling Type':dwelling_type, 'Bedrooms':bedrooms, 'Bathrooms':bathrooms, 'Last Refreshed':refreshed, 'Floor Area in sqm':floor_area, 'Facilities':facilities, 'Description':description, 'Directions':directions, 'Ber Details':ber_details, 'Accommodation':accommodation, 'Features':features}, ignore_index = True)\n"
     ]
    },
    {
     "name": "stdout",
     "output_type": "stream",
     "text": [
      "DataFrame length:  800\n"
     ]
    },
    {
     "name": "stderr",
     "output_type": "stream",
     "text": [
      "C:\\Users\\Harry\\AppData\\Local\\Temp\\ipykernel_35052\\75057381.py:97: FutureWarning: The frame.append method is deprecated and will be removed from pandas in a future version. Use pandas.concat instead.\n",
      "  df = df.append({'Address':address, 'Price':price, 'Eircode': eircode, 'Dwelling Type':dwelling_type, 'Bedrooms':bedrooms, 'Bathrooms':bathrooms, 'Last Refreshed':refreshed, 'Floor Area in sqm':floor_area, 'Facilities':facilities, 'Description':description, 'Directions':directions, 'Ber Details':ber_details, 'Accommodation':accommodation, 'Features':features}, ignore_index = True)\n"
     ]
    },
    {
     "name": "stdout",
     "output_type": "stream",
     "text": [
      "DataFrame length:  801\n"
     ]
    },
    {
     "name": "stderr",
     "output_type": "stream",
     "text": [
      "C:\\Users\\Harry\\AppData\\Local\\Temp\\ipykernel_35052\\75057381.py:97: FutureWarning: The frame.append method is deprecated and will be removed from pandas in a future version. Use pandas.concat instead.\n",
      "  df = df.append({'Address':address, 'Price':price, 'Eircode': eircode, 'Dwelling Type':dwelling_type, 'Bedrooms':bedrooms, 'Bathrooms':bathrooms, 'Last Refreshed':refreshed, 'Floor Area in sqm':floor_area, 'Facilities':facilities, 'Description':description, 'Directions':directions, 'Ber Details':ber_details, 'Accommodation':accommodation, 'Features':features}, ignore_index = True)\n"
     ]
    },
    {
     "name": "stdout",
     "output_type": "stream",
     "text": [
      "DataFrame length:  802\n"
     ]
    },
    {
     "name": "stderr",
     "output_type": "stream",
     "text": [
      "C:\\Users\\Harry\\AppData\\Local\\Temp\\ipykernel_35052\\75057381.py:97: FutureWarning: The frame.append method is deprecated and will be removed from pandas in a future version. Use pandas.concat instead.\n",
      "  df = df.append({'Address':address, 'Price':price, 'Eircode': eircode, 'Dwelling Type':dwelling_type, 'Bedrooms':bedrooms, 'Bathrooms':bathrooms, 'Last Refreshed':refreshed, 'Floor Area in sqm':floor_area, 'Facilities':facilities, 'Description':description, 'Directions':directions, 'Ber Details':ber_details, 'Accommodation':accommodation, 'Features':features}, ignore_index = True)\n"
     ]
    },
    {
     "name": "stdout",
     "output_type": "stream",
     "text": [
      "DataFrame length:  803\n"
     ]
    },
    {
     "name": "stderr",
     "output_type": "stream",
     "text": [
      "C:\\Users\\Harry\\AppData\\Local\\Temp\\ipykernel_35052\\75057381.py:97: FutureWarning: The frame.append method is deprecated and will be removed from pandas in a future version. Use pandas.concat instead.\n",
      "  df = df.append({'Address':address, 'Price':price, 'Eircode': eircode, 'Dwelling Type':dwelling_type, 'Bedrooms':bedrooms, 'Bathrooms':bathrooms, 'Last Refreshed':refreshed, 'Floor Area in sqm':floor_area, 'Facilities':facilities, 'Description':description, 'Directions':directions, 'Ber Details':ber_details, 'Accommodation':accommodation, 'Features':features}, ignore_index = True)\n"
     ]
    },
    {
     "name": "stdout",
     "output_type": "stream",
     "text": [
      "DataFrame length:  804\n"
     ]
    },
    {
     "name": "stderr",
     "output_type": "stream",
     "text": [
      "C:\\Users\\Harry\\AppData\\Local\\Temp\\ipykernel_35052\\75057381.py:97: FutureWarning: The frame.append method is deprecated and will be removed from pandas in a future version. Use pandas.concat instead.\n",
      "  df = df.append({'Address':address, 'Price':price, 'Eircode': eircode, 'Dwelling Type':dwelling_type, 'Bedrooms':bedrooms, 'Bathrooms':bathrooms, 'Last Refreshed':refreshed, 'Floor Area in sqm':floor_area, 'Facilities':facilities, 'Description':description, 'Directions':directions, 'Ber Details':ber_details, 'Accommodation':accommodation, 'Features':features}, ignore_index = True)\n"
     ]
    },
    {
     "name": "stdout",
     "output_type": "stream",
     "text": [
      "DataFrame length:  805\n"
     ]
    },
    {
     "name": "stderr",
     "output_type": "stream",
     "text": [
      "C:\\Users\\Harry\\AppData\\Local\\Temp\\ipykernel_35052\\75057381.py:97: FutureWarning: The frame.append method is deprecated and will be removed from pandas in a future version. Use pandas.concat instead.\n",
      "  df = df.append({'Address':address, 'Price':price, 'Eircode': eircode, 'Dwelling Type':dwelling_type, 'Bedrooms':bedrooms, 'Bathrooms':bathrooms, 'Last Refreshed':refreshed, 'Floor Area in sqm':floor_area, 'Facilities':facilities, 'Description':description, 'Directions':directions, 'Ber Details':ber_details, 'Accommodation':accommodation, 'Features':features}, ignore_index = True)\n"
     ]
    },
    {
     "name": "stdout",
     "output_type": "stream",
     "text": [
      "DataFrame length:  806\n"
     ]
    },
    {
     "name": "stderr",
     "output_type": "stream",
     "text": [
      "C:\\Users\\Harry\\AppData\\Local\\Temp\\ipykernel_35052\\75057381.py:97: FutureWarning: The frame.append method is deprecated and will be removed from pandas in a future version. Use pandas.concat instead.\n",
      "  df = df.append({'Address':address, 'Price':price, 'Eircode': eircode, 'Dwelling Type':dwelling_type, 'Bedrooms':bedrooms, 'Bathrooms':bathrooms, 'Last Refreshed':refreshed, 'Floor Area in sqm':floor_area, 'Facilities':facilities, 'Description':description, 'Directions':directions, 'Ber Details':ber_details, 'Accommodation':accommodation, 'Features':features}, ignore_index = True)\n"
     ]
    },
    {
     "name": "stdout",
     "output_type": "stream",
     "text": [
      "DataFrame length:  807\n"
     ]
    },
    {
     "name": "stderr",
     "output_type": "stream",
     "text": [
      "C:\\Users\\Harry\\AppData\\Local\\Temp\\ipykernel_35052\\75057381.py:97: FutureWarning: The frame.append method is deprecated and will be removed from pandas in a future version. Use pandas.concat instead.\n",
      "  df = df.append({'Address':address, 'Price':price, 'Eircode': eircode, 'Dwelling Type':dwelling_type, 'Bedrooms':bedrooms, 'Bathrooms':bathrooms, 'Last Refreshed':refreshed, 'Floor Area in sqm':floor_area, 'Facilities':facilities, 'Description':description, 'Directions':directions, 'Ber Details':ber_details, 'Accommodation':accommodation, 'Features':features}, ignore_index = True)\n"
     ]
    },
    {
     "name": "stdout",
     "output_type": "stream",
     "text": [
      "DataFrame length:  808\n"
     ]
    },
    {
     "name": "stderr",
     "output_type": "stream",
     "text": [
      "C:\\Users\\Harry\\AppData\\Local\\Temp\\ipykernel_35052\\75057381.py:97: FutureWarning: The frame.append method is deprecated and will be removed from pandas in a future version. Use pandas.concat instead.\n",
      "  df = df.append({'Address':address, 'Price':price, 'Eircode': eircode, 'Dwelling Type':dwelling_type, 'Bedrooms':bedrooms, 'Bathrooms':bathrooms, 'Last Refreshed':refreshed, 'Floor Area in sqm':floor_area, 'Facilities':facilities, 'Description':description, 'Directions':directions, 'Ber Details':ber_details, 'Accommodation':accommodation, 'Features':features}, ignore_index = True)\n"
     ]
    },
    {
     "name": "stdout",
     "output_type": "stream",
     "text": [
      "DataFrame length:  809\n"
     ]
    },
    {
     "name": "stderr",
     "output_type": "stream",
     "text": [
      "C:\\Users\\Harry\\AppData\\Local\\Temp\\ipykernel_35052\\75057381.py:97: FutureWarning: The frame.append method is deprecated and will be removed from pandas in a future version. Use pandas.concat instead.\n",
      "  df = df.append({'Address':address, 'Price':price, 'Eircode': eircode, 'Dwelling Type':dwelling_type, 'Bedrooms':bedrooms, 'Bathrooms':bathrooms, 'Last Refreshed':refreshed, 'Floor Area in sqm':floor_area, 'Facilities':facilities, 'Description':description, 'Directions':directions, 'Ber Details':ber_details, 'Accommodation':accommodation, 'Features':features}, ignore_index = True)\n"
     ]
    },
    {
     "name": "stdout",
     "output_type": "stream",
     "text": [
      "DataFrame length:  810\n"
     ]
    },
    {
     "name": "stderr",
     "output_type": "stream",
     "text": [
      "C:\\Users\\Harry\\AppData\\Local\\Temp\\ipykernel_35052\\75057381.py:97: FutureWarning: The frame.append method is deprecated and will be removed from pandas in a future version. Use pandas.concat instead.\n",
      "  df = df.append({'Address':address, 'Price':price, 'Eircode': eircode, 'Dwelling Type':dwelling_type, 'Bedrooms':bedrooms, 'Bathrooms':bathrooms, 'Last Refreshed':refreshed, 'Floor Area in sqm':floor_area, 'Facilities':facilities, 'Description':description, 'Directions':directions, 'Ber Details':ber_details, 'Accommodation':accommodation, 'Features':features}, ignore_index = True)\n"
     ]
    },
    {
     "name": "stdout",
     "output_type": "stream",
     "text": [
      "DataFrame length:  811\n"
     ]
    },
    {
     "name": "stderr",
     "output_type": "stream",
     "text": [
      "C:\\Users\\Harry\\AppData\\Local\\Temp\\ipykernel_35052\\75057381.py:97: FutureWarning: The frame.append method is deprecated and will be removed from pandas in a future version. Use pandas.concat instead.\n",
      "  df = df.append({'Address':address, 'Price':price, 'Eircode': eircode, 'Dwelling Type':dwelling_type, 'Bedrooms':bedrooms, 'Bathrooms':bathrooms, 'Last Refreshed':refreshed, 'Floor Area in sqm':floor_area, 'Facilities':facilities, 'Description':description, 'Directions':directions, 'Ber Details':ber_details, 'Accommodation':accommodation, 'Features':features}, ignore_index = True)\n"
     ]
    },
    {
     "name": "stdout",
     "output_type": "stream",
     "text": [
      "DataFrame length:  812\n"
     ]
    },
    {
     "name": "stderr",
     "output_type": "stream",
     "text": [
      "C:\\Users\\Harry\\AppData\\Local\\Temp\\ipykernel_35052\\75057381.py:97: FutureWarning: The frame.append method is deprecated and will be removed from pandas in a future version. Use pandas.concat instead.\n",
      "  df = df.append({'Address':address, 'Price':price, 'Eircode': eircode, 'Dwelling Type':dwelling_type, 'Bedrooms':bedrooms, 'Bathrooms':bathrooms, 'Last Refreshed':refreshed, 'Floor Area in sqm':floor_area, 'Facilities':facilities, 'Description':description, 'Directions':directions, 'Ber Details':ber_details, 'Accommodation':accommodation, 'Features':features}, ignore_index = True)\n"
     ]
    },
    {
     "name": "stdout",
     "output_type": "stream",
     "text": [
      "DataFrame length:  813\n"
     ]
    },
    {
     "name": "stderr",
     "output_type": "stream",
     "text": [
      "C:\\Users\\Harry\\AppData\\Local\\Temp\\ipykernel_35052\\75057381.py:97: FutureWarning: The frame.append method is deprecated and will be removed from pandas in a future version. Use pandas.concat instead.\n",
      "  df = df.append({'Address':address, 'Price':price, 'Eircode': eircode, 'Dwelling Type':dwelling_type, 'Bedrooms':bedrooms, 'Bathrooms':bathrooms, 'Last Refreshed':refreshed, 'Floor Area in sqm':floor_area, 'Facilities':facilities, 'Description':description, 'Directions':directions, 'Ber Details':ber_details, 'Accommodation':accommodation, 'Features':features}, ignore_index = True)\n"
     ]
    },
    {
     "name": "stdout",
     "output_type": "stream",
     "text": [
      "DataFrame length:  814\n"
     ]
    },
    {
     "name": "stderr",
     "output_type": "stream",
     "text": [
      "C:\\Users\\Harry\\AppData\\Local\\Temp\\ipykernel_35052\\75057381.py:97: FutureWarning: The frame.append method is deprecated and will be removed from pandas in a future version. Use pandas.concat instead.\n",
      "  df = df.append({'Address':address, 'Price':price, 'Eircode': eircode, 'Dwelling Type':dwelling_type, 'Bedrooms':bedrooms, 'Bathrooms':bathrooms, 'Last Refreshed':refreshed, 'Floor Area in sqm':floor_area, 'Facilities':facilities, 'Description':description, 'Directions':directions, 'Ber Details':ber_details, 'Accommodation':accommodation, 'Features':features}, ignore_index = True)\n"
     ]
    },
    {
     "name": "stdout",
     "output_type": "stream",
     "text": [
      "DataFrame length:  815\n"
     ]
    },
    {
     "name": "stderr",
     "output_type": "stream",
     "text": [
      "C:\\Users\\Harry\\AppData\\Local\\Temp\\ipykernel_35052\\75057381.py:97: FutureWarning: The frame.append method is deprecated and will be removed from pandas in a future version. Use pandas.concat instead.\n",
      "  df = df.append({'Address':address, 'Price':price, 'Eircode': eircode, 'Dwelling Type':dwelling_type, 'Bedrooms':bedrooms, 'Bathrooms':bathrooms, 'Last Refreshed':refreshed, 'Floor Area in sqm':floor_area, 'Facilities':facilities, 'Description':description, 'Directions':directions, 'Ber Details':ber_details, 'Accommodation':accommodation, 'Features':features}, ignore_index = True)\n"
     ]
    },
    {
     "name": "stdout",
     "output_type": "stream",
     "text": [
      "DataFrame length:  816\n"
     ]
    },
    {
     "name": "stderr",
     "output_type": "stream",
     "text": [
      "C:\\Users\\Harry\\AppData\\Local\\Temp\\ipykernel_35052\\75057381.py:97: FutureWarning: The frame.append method is deprecated and will be removed from pandas in a future version. Use pandas.concat instead.\n",
      "  df = df.append({'Address':address, 'Price':price, 'Eircode': eircode, 'Dwelling Type':dwelling_type, 'Bedrooms':bedrooms, 'Bathrooms':bathrooms, 'Last Refreshed':refreshed, 'Floor Area in sqm':floor_area, 'Facilities':facilities, 'Description':description, 'Directions':directions, 'Ber Details':ber_details, 'Accommodation':accommodation, 'Features':features}, ignore_index = True)\n"
     ]
    },
    {
     "name": "stdout",
     "output_type": "stream",
     "text": [
      "DataFrame length:  817\n"
     ]
    },
    {
     "name": "stderr",
     "output_type": "stream",
     "text": [
      "C:\\Users\\Harry\\AppData\\Local\\Temp\\ipykernel_35052\\75057381.py:97: FutureWarning: The frame.append method is deprecated and will be removed from pandas in a future version. Use pandas.concat instead.\n",
      "  df = df.append({'Address':address, 'Price':price, 'Eircode': eircode, 'Dwelling Type':dwelling_type, 'Bedrooms':bedrooms, 'Bathrooms':bathrooms, 'Last Refreshed':refreshed, 'Floor Area in sqm':floor_area, 'Facilities':facilities, 'Description':description, 'Directions':directions, 'Ber Details':ber_details, 'Accommodation':accommodation, 'Features':features}, ignore_index = True)\n"
     ]
    },
    {
     "name": "stdout",
     "output_type": "stream",
     "text": [
      "DataFrame length:  818\n"
     ]
    },
    {
     "name": "stderr",
     "output_type": "stream",
     "text": [
      "C:\\Users\\Harry\\AppData\\Local\\Temp\\ipykernel_35052\\75057381.py:97: FutureWarning: The frame.append method is deprecated and will be removed from pandas in a future version. Use pandas.concat instead.\n",
      "  df = df.append({'Address':address, 'Price':price, 'Eircode': eircode, 'Dwelling Type':dwelling_type, 'Bedrooms':bedrooms, 'Bathrooms':bathrooms, 'Last Refreshed':refreshed, 'Floor Area in sqm':floor_area, 'Facilities':facilities, 'Description':description, 'Directions':directions, 'Ber Details':ber_details, 'Accommodation':accommodation, 'Features':features}, ignore_index = True)\n"
     ]
    },
    {
     "name": "stdout",
     "output_type": "stream",
     "text": [
      "DataFrame length:  819\n"
     ]
    },
    {
     "name": "stderr",
     "output_type": "stream",
     "text": [
      "C:\\Users\\Harry\\AppData\\Local\\Temp\\ipykernel_35052\\75057381.py:97: FutureWarning: The frame.append method is deprecated and will be removed from pandas in a future version. Use pandas.concat instead.\n",
      "  df = df.append({'Address':address, 'Price':price, 'Eircode': eircode, 'Dwelling Type':dwelling_type, 'Bedrooms':bedrooms, 'Bathrooms':bathrooms, 'Last Refreshed':refreshed, 'Floor Area in sqm':floor_area, 'Facilities':facilities, 'Description':description, 'Directions':directions, 'Ber Details':ber_details, 'Accommodation':accommodation, 'Features':features}, ignore_index = True)\n"
     ]
    },
    {
     "name": "stdout",
     "output_type": "stream",
     "text": [
      "DataFrame length:  820\n"
     ]
    },
    {
     "name": "stderr",
     "output_type": "stream",
     "text": [
      "C:\\Users\\Harry\\AppData\\Local\\Temp\\ipykernel_35052\\75057381.py:97: FutureWarning: The frame.append method is deprecated and will be removed from pandas in a future version. Use pandas.concat instead.\n",
      "  df = df.append({'Address':address, 'Price':price, 'Eircode': eircode, 'Dwelling Type':dwelling_type, 'Bedrooms':bedrooms, 'Bathrooms':bathrooms, 'Last Refreshed':refreshed, 'Floor Area in sqm':floor_area, 'Facilities':facilities, 'Description':description, 'Directions':directions, 'Ber Details':ber_details, 'Accommodation':accommodation, 'Features':features}, ignore_index = True)\n"
     ]
    },
    {
     "name": "stdout",
     "output_type": "stream",
     "text": [
      "DataFrame length:  821\n"
     ]
    },
    {
     "name": "stderr",
     "output_type": "stream",
     "text": [
      "C:\\Users\\Harry\\AppData\\Local\\Temp\\ipykernel_35052\\75057381.py:97: FutureWarning: The frame.append method is deprecated and will be removed from pandas in a future version. Use pandas.concat instead.\n",
      "  df = df.append({'Address':address, 'Price':price, 'Eircode': eircode, 'Dwelling Type':dwelling_type, 'Bedrooms':bedrooms, 'Bathrooms':bathrooms, 'Last Refreshed':refreshed, 'Floor Area in sqm':floor_area, 'Facilities':facilities, 'Description':description, 'Directions':directions, 'Ber Details':ber_details, 'Accommodation':accommodation, 'Features':features}, ignore_index = True)\n"
     ]
    },
    {
     "name": "stdout",
     "output_type": "stream",
     "text": [
      "DataFrame length:  822\n"
     ]
    },
    {
     "name": "stderr",
     "output_type": "stream",
     "text": [
      "C:\\Users\\Harry\\AppData\\Local\\Temp\\ipykernel_35052\\75057381.py:97: FutureWarning: The frame.append method is deprecated and will be removed from pandas in a future version. Use pandas.concat instead.\n",
      "  df = df.append({'Address':address, 'Price':price, 'Eircode': eircode, 'Dwelling Type':dwelling_type, 'Bedrooms':bedrooms, 'Bathrooms':bathrooms, 'Last Refreshed':refreshed, 'Floor Area in sqm':floor_area, 'Facilities':facilities, 'Description':description, 'Directions':directions, 'Ber Details':ber_details, 'Accommodation':accommodation, 'Features':features}, ignore_index = True)\n"
     ]
    },
    {
     "name": "stdout",
     "output_type": "stream",
     "text": [
      "DataFrame length:  823\n"
     ]
    },
    {
     "name": "stderr",
     "output_type": "stream",
     "text": [
      "C:\\Users\\Harry\\AppData\\Local\\Temp\\ipykernel_35052\\75057381.py:97: FutureWarning: The frame.append method is deprecated and will be removed from pandas in a future version. Use pandas.concat instead.\n",
      "  df = df.append({'Address':address, 'Price':price, 'Eircode': eircode, 'Dwelling Type':dwelling_type, 'Bedrooms':bedrooms, 'Bathrooms':bathrooms, 'Last Refreshed':refreshed, 'Floor Area in sqm':floor_area, 'Facilities':facilities, 'Description':description, 'Directions':directions, 'Ber Details':ber_details, 'Accommodation':accommodation, 'Features':features}, ignore_index = True)\n"
     ]
    },
    {
     "name": "stdout",
     "output_type": "stream",
     "text": [
      "DataFrame length:  824\n"
     ]
    },
    {
     "name": "stderr",
     "output_type": "stream",
     "text": [
      "C:\\Users\\Harry\\AppData\\Local\\Temp\\ipykernel_35052\\75057381.py:97: FutureWarning: The frame.append method is deprecated and will be removed from pandas in a future version. Use pandas.concat instead.\n",
      "  df = df.append({'Address':address, 'Price':price, 'Eircode': eircode, 'Dwelling Type':dwelling_type, 'Bedrooms':bedrooms, 'Bathrooms':bathrooms, 'Last Refreshed':refreshed, 'Floor Area in sqm':floor_area, 'Facilities':facilities, 'Description':description, 'Directions':directions, 'Ber Details':ber_details, 'Accommodation':accommodation, 'Features':features}, ignore_index = True)\n"
     ]
    },
    {
     "name": "stdout",
     "output_type": "stream",
     "text": [
      "DataFrame length:  825\n"
     ]
    },
    {
     "name": "stderr",
     "output_type": "stream",
     "text": [
      "C:\\Users\\Harry\\AppData\\Local\\Temp\\ipykernel_35052\\75057381.py:97: FutureWarning: The frame.append method is deprecated and will be removed from pandas in a future version. Use pandas.concat instead.\n",
      "  df = df.append({'Address':address, 'Price':price, 'Eircode': eircode, 'Dwelling Type':dwelling_type, 'Bedrooms':bedrooms, 'Bathrooms':bathrooms, 'Last Refreshed':refreshed, 'Floor Area in sqm':floor_area, 'Facilities':facilities, 'Description':description, 'Directions':directions, 'Ber Details':ber_details, 'Accommodation':accommodation, 'Features':features}, ignore_index = True)\n"
     ]
    },
    {
     "name": "stdout",
     "output_type": "stream",
     "text": [
      "DataFrame length:  826\n"
     ]
    },
    {
     "name": "stderr",
     "output_type": "stream",
     "text": [
      "C:\\Users\\Harry\\AppData\\Local\\Temp\\ipykernel_35052\\75057381.py:97: FutureWarning: The frame.append method is deprecated and will be removed from pandas in a future version. Use pandas.concat instead.\n",
      "  df = df.append({'Address':address, 'Price':price, 'Eircode': eircode, 'Dwelling Type':dwelling_type, 'Bedrooms':bedrooms, 'Bathrooms':bathrooms, 'Last Refreshed':refreshed, 'Floor Area in sqm':floor_area, 'Facilities':facilities, 'Description':description, 'Directions':directions, 'Ber Details':ber_details, 'Accommodation':accommodation, 'Features':features}, ignore_index = True)\n"
     ]
    },
    {
     "name": "stdout",
     "output_type": "stream",
     "text": [
      "DataFrame length:  827\n"
     ]
    },
    {
     "name": "stderr",
     "output_type": "stream",
     "text": [
      "C:\\Users\\Harry\\AppData\\Local\\Temp\\ipykernel_35052\\75057381.py:97: FutureWarning: The frame.append method is deprecated and will be removed from pandas in a future version. Use pandas.concat instead.\n",
      "  df = df.append({'Address':address, 'Price':price, 'Eircode': eircode, 'Dwelling Type':dwelling_type, 'Bedrooms':bedrooms, 'Bathrooms':bathrooms, 'Last Refreshed':refreshed, 'Floor Area in sqm':floor_area, 'Facilities':facilities, 'Description':description, 'Directions':directions, 'Ber Details':ber_details, 'Accommodation':accommodation, 'Features':features}, ignore_index = True)\n"
     ]
    },
    {
     "name": "stdout",
     "output_type": "stream",
     "text": [
      "DataFrame length:  828\n"
     ]
    },
    {
     "name": "stderr",
     "output_type": "stream",
     "text": [
      "C:\\Users\\Harry\\AppData\\Local\\Temp\\ipykernel_35052\\75057381.py:97: FutureWarning: The frame.append method is deprecated and will be removed from pandas in a future version. Use pandas.concat instead.\n",
      "  df = df.append({'Address':address, 'Price':price, 'Eircode': eircode, 'Dwelling Type':dwelling_type, 'Bedrooms':bedrooms, 'Bathrooms':bathrooms, 'Last Refreshed':refreshed, 'Floor Area in sqm':floor_area, 'Facilities':facilities, 'Description':description, 'Directions':directions, 'Ber Details':ber_details, 'Accommodation':accommodation, 'Features':features}, ignore_index = True)\n"
     ]
    },
    {
     "name": "stdout",
     "output_type": "stream",
     "text": [
      "DataFrame length:  829\n"
     ]
    },
    {
     "name": "stderr",
     "output_type": "stream",
     "text": [
      "C:\\Users\\Harry\\AppData\\Local\\Temp\\ipykernel_35052\\75057381.py:97: FutureWarning: The frame.append method is deprecated and will be removed from pandas in a future version. Use pandas.concat instead.\n",
      "  df = df.append({'Address':address, 'Price':price, 'Eircode': eircode, 'Dwelling Type':dwelling_type, 'Bedrooms':bedrooms, 'Bathrooms':bathrooms, 'Last Refreshed':refreshed, 'Floor Area in sqm':floor_area, 'Facilities':facilities, 'Description':description, 'Directions':directions, 'Ber Details':ber_details, 'Accommodation':accommodation, 'Features':features}, ignore_index = True)\n"
     ]
    },
    {
     "name": "stdout",
     "output_type": "stream",
     "text": [
      "DataFrame length:  830\n"
     ]
    },
    {
     "name": "stderr",
     "output_type": "stream",
     "text": [
      "C:\\Users\\Harry\\AppData\\Local\\Temp\\ipykernel_35052\\75057381.py:97: FutureWarning: The frame.append method is deprecated and will be removed from pandas in a future version. Use pandas.concat instead.\n",
      "  df = df.append({'Address':address, 'Price':price, 'Eircode': eircode, 'Dwelling Type':dwelling_type, 'Bedrooms':bedrooms, 'Bathrooms':bathrooms, 'Last Refreshed':refreshed, 'Floor Area in sqm':floor_area, 'Facilities':facilities, 'Description':description, 'Directions':directions, 'Ber Details':ber_details, 'Accommodation':accommodation, 'Features':features}, ignore_index = True)\n"
     ]
    },
    {
     "name": "stdout",
     "output_type": "stream",
     "text": [
      "DataFrame length:  831\n"
     ]
    },
    {
     "name": "stderr",
     "output_type": "stream",
     "text": [
      "C:\\Users\\Harry\\AppData\\Local\\Temp\\ipykernel_35052\\75057381.py:97: FutureWarning: The frame.append method is deprecated and will be removed from pandas in a future version. Use pandas.concat instead.\n",
      "  df = df.append({'Address':address, 'Price':price, 'Eircode': eircode, 'Dwelling Type':dwelling_type, 'Bedrooms':bedrooms, 'Bathrooms':bathrooms, 'Last Refreshed':refreshed, 'Floor Area in sqm':floor_area, 'Facilities':facilities, 'Description':description, 'Directions':directions, 'Ber Details':ber_details, 'Accommodation':accommodation, 'Features':features}, ignore_index = True)\n"
     ]
    },
    {
     "name": "stdout",
     "output_type": "stream",
     "text": [
      "DataFrame length:  832\n"
     ]
    },
    {
     "name": "stderr",
     "output_type": "stream",
     "text": [
      "C:\\Users\\Harry\\AppData\\Local\\Temp\\ipykernel_35052\\75057381.py:97: FutureWarning: The frame.append method is deprecated and will be removed from pandas in a future version. Use pandas.concat instead.\n",
      "  df = df.append({'Address':address, 'Price':price, 'Eircode': eircode, 'Dwelling Type':dwelling_type, 'Bedrooms':bedrooms, 'Bathrooms':bathrooms, 'Last Refreshed':refreshed, 'Floor Area in sqm':floor_area, 'Facilities':facilities, 'Description':description, 'Directions':directions, 'Ber Details':ber_details, 'Accommodation':accommodation, 'Features':features}, ignore_index = True)\n"
     ]
    },
    {
     "name": "stdout",
     "output_type": "stream",
     "text": [
      "DataFrame length:  833\n"
     ]
    },
    {
     "name": "stderr",
     "output_type": "stream",
     "text": [
      "C:\\Users\\Harry\\AppData\\Local\\Temp\\ipykernel_35052\\75057381.py:97: FutureWarning: The frame.append method is deprecated and will be removed from pandas in a future version. Use pandas.concat instead.\n",
      "  df = df.append({'Address':address, 'Price':price, 'Eircode': eircode, 'Dwelling Type':dwelling_type, 'Bedrooms':bedrooms, 'Bathrooms':bathrooms, 'Last Refreshed':refreshed, 'Floor Area in sqm':floor_area, 'Facilities':facilities, 'Description':description, 'Directions':directions, 'Ber Details':ber_details, 'Accommodation':accommodation, 'Features':features}, ignore_index = True)\n"
     ]
    },
    {
     "name": "stdout",
     "output_type": "stream",
     "text": [
      "DataFrame length:  834\n"
     ]
    },
    {
     "name": "stderr",
     "output_type": "stream",
     "text": [
      "C:\\Users\\Harry\\AppData\\Local\\Temp\\ipykernel_35052\\75057381.py:97: FutureWarning: The frame.append method is deprecated and will be removed from pandas in a future version. Use pandas.concat instead.\n",
      "  df = df.append({'Address':address, 'Price':price, 'Eircode': eircode, 'Dwelling Type':dwelling_type, 'Bedrooms':bedrooms, 'Bathrooms':bathrooms, 'Last Refreshed':refreshed, 'Floor Area in sqm':floor_area, 'Facilities':facilities, 'Description':description, 'Directions':directions, 'Ber Details':ber_details, 'Accommodation':accommodation, 'Features':features}, ignore_index = True)\n"
     ]
    },
    {
     "name": "stdout",
     "output_type": "stream",
     "text": [
      "DataFrame length:  835\n"
     ]
    },
    {
     "name": "stderr",
     "output_type": "stream",
     "text": [
      "C:\\Users\\Harry\\AppData\\Local\\Temp\\ipykernel_35052\\75057381.py:97: FutureWarning: The frame.append method is deprecated and will be removed from pandas in a future version. Use pandas.concat instead.\n",
      "  df = df.append({'Address':address, 'Price':price, 'Eircode': eircode, 'Dwelling Type':dwelling_type, 'Bedrooms':bedrooms, 'Bathrooms':bathrooms, 'Last Refreshed':refreshed, 'Floor Area in sqm':floor_area, 'Facilities':facilities, 'Description':description, 'Directions':directions, 'Ber Details':ber_details, 'Accommodation':accommodation, 'Features':features}, ignore_index = True)\n"
     ]
    },
    {
     "name": "stdout",
     "output_type": "stream",
     "text": [
      "DataFrame length:  836\n"
     ]
    },
    {
     "name": "stderr",
     "output_type": "stream",
     "text": [
      "C:\\Users\\Harry\\AppData\\Local\\Temp\\ipykernel_35052\\75057381.py:97: FutureWarning: The frame.append method is deprecated and will be removed from pandas in a future version. Use pandas.concat instead.\n",
      "  df = df.append({'Address':address, 'Price':price, 'Eircode': eircode, 'Dwelling Type':dwelling_type, 'Bedrooms':bedrooms, 'Bathrooms':bathrooms, 'Last Refreshed':refreshed, 'Floor Area in sqm':floor_area, 'Facilities':facilities, 'Description':description, 'Directions':directions, 'Ber Details':ber_details, 'Accommodation':accommodation, 'Features':features}, ignore_index = True)\n"
     ]
    },
    {
     "name": "stdout",
     "output_type": "stream",
     "text": [
      "DataFrame length:  837\n"
     ]
    },
    {
     "name": "stderr",
     "output_type": "stream",
     "text": [
      "C:\\Users\\Harry\\AppData\\Local\\Temp\\ipykernel_35052\\75057381.py:97: FutureWarning: The frame.append method is deprecated and will be removed from pandas in a future version. Use pandas.concat instead.\n",
      "  df = df.append({'Address':address, 'Price':price, 'Eircode': eircode, 'Dwelling Type':dwelling_type, 'Bedrooms':bedrooms, 'Bathrooms':bathrooms, 'Last Refreshed':refreshed, 'Floor Area in sqm':floor_area, 'Facilities':facilities, 'Description':description, 'Directions':directions, 'Ber Details':ber_details, 'Accommodation':accommodation, 'Features':features}, ignore_index = True)\n"
     ]
    },
    {
     "name": "stdout",
     "output_type": "stream",
     "text": [
      "DataFrame length:  838\n"
     ]
    },
    {
     "name": "stderr",
     "output_type": "stream",
     "text": [
      "C:\\Users\\Harry\\AppData\\Local\\Temp\\ipykernel_35052\\75057381.py:97: FutureWarning: The frame.append method is deprecated and will be removed from pandas in a future version. Use pandas.concat instead.\n",
      "  df = df.append({'Address':address, 'Price':price, 'Eircode': eircode, 'Dwelling Type':dwelling_type, 'Bedrooms':bedrooms, 'Bathrooms':bathrooms, 'Last Refreshed':refreshed, 'Floor Area in sqm':floor_area, 'Facilities':facilities, 'Description':description, 'Directions':directions, 'Ber Details':ber_details, 'Accommodation':accommodation, 'Features':features}, ignore_index = True)\n"
     ]
    },
    {
     "name": "stdout",
     "output_type": "stream",
     "text": [
      "DataFrame length:  839\n"
     ]
    },
    {
     "name": "stderr",
     "output_type": "stream",
     "text": [
      "C:\\Users\\Harry\\AppData\\Local\\Temp\\ipykernel_35052\\75057381.py:97: FutureWarning: The frame.append method is deprecated and will be removed from pandas in a future version. Use pandas.concat instead.\n",
      "  df = df.append({'Address':address, 'Price':price, 'Eircode': eircode, 'Dwelling Type':dwelling_type, 'Bedrooms':bedrooms, 'Bathrooms':bathrooms, 'Last Refreshed':refreshed, 'Floor Area in sqm':floor_area, 'Facilities':facilities, 'Description':description, 'Directions':directions, 'Ber Details':ber_details, 'Accommodation':accommodation, 'Features':features}, ignore_index = True)\n"
     ]
    },
    {
     "name": "stdout",
     "output_type": "stream",
     "text": [
      "DataFrame length:  840\n"
     ]
    },
    {
     "name": "stderr",
     "output_type": "stream",
     "text": [
      "C:\\Users\\Harry\\AppData\\Local\\Temp\\ipykernel_35052\\75057381.py:97: FutureWarning: The frame.append method is deprecated and will be removed from pandas in a future version. Use pandas.concat instead.\n",
      "  df = df.append({'Address':address, 'Price':price, 'Eircode': eircode, 'Dwelling Type':dwelling_type, 'Bedrooms':bedrooms, 'Bathrooms':bathrooms, 'Last Refreshed':refreshed, 'Floor Area in sqm':floor_area, 'Facilities':facilities, 'Description':description, 'Directions':directions, 'Ber Details':ber_details, 'Accommodation':accommodation, 'Features':features}, ignore_index = True)\n"
     ]
    },
    {
     "name": "stdout",
     "output_type": "stream",
     "text": [
      "DataFrame length:  841\n"
     ]
    },
    {
     "name": "stderr",
     "output_type": "stream",
     "text": [
      "C:\\Users\\Harry\\AppData\\Local\\Temp\\ipykernel_35052\\75057381.py:97: FutureWarning: The frame.append method is deprecated and will be removed from pandas in a future version. Use pandas.concat instead.\n",
      "  df = df.append({'Address':address, 'Price':price, 'Eircode': eircode, 'Dwelling Type':dwelling_type, 'Bedrooms':bedrooms, 'Bathrooms':bathrooms, 'Last Refreshed':refreshed, 'Floor Area in sqm':floor_area, 'Facilities':facilities, 'Description':description, 'Directions':directions, 'Ber Details':ber_details, 'Accommodation':accommodation, 'Features':features}, ignore_index = True)\n"
     ]
    },
    {
     "name": "stdout",
     "output_type": "stream",
     "text": [
      "DataFrame length:  842\n"
     ]
    },
    {
     "name": "stderr",
     "output_type": "stream",
     "text": [
      "C:\\Users\\Harry\\AppData\\Local\\Temp\\ipykernel_35052\\75057381.py:97: FutureWarning: The frame.append method is deprecated and will be removed from pandas in a future version. Use pandas.concat instead.\n",
      "  df = df.append({'Address':address, 'Price':price, 'Eircode': eircode, 'Dwelling Type':dwelling_type, 'Bedrooms':bedrooms, 'Bathrooms':bathrooms, 'Last Refreshed':refreshed, 'Floor Area in sqm':floor_area, 'Facilities':facilities, 'Description':description, 'Directions':directions, 'Ber Details':ber_details, 'Accommodation':accommodation, 'Features':features}, ignore_index = True)\n"
     ]
    },
    {
     "name": "stdout",
     "output_type": "stream",
     "text": [
      "DataFrame length:  843\n"
     ]
    },
    {
     "name": "stderr",
     "output_type": "stream",
     "text": [
      "C:\\Users\\Harry\\AppData\\Local\\Temp\\ipykernel_35052\\75057381.py:97: FutureWarning: The frame.append method is deprecated and will be removed from pandas in a future version. Use pandas.concat instead.\n",
      "  df = df.append({'Address':address, 'Price':price, 'Eircode': eircode, 'Dwelling Type':dwelling_type, 'Bedrooms':bedrooms, 'Bathrooms':bathrooms, 'Last Refreshed':refreshed, 'Floor Area in sqm':floor_area, 'Facilities':facilities, 'Description':description, 'Directions':directions, 'Ber Details':ber_details, 'Accommodation':accommodation, 'Features':features}, ignore_index = True)\n"
     ]
    },
    {
     "name": "stdout",
     "output_type": "stream",
     "text": [
      "DataFrame length:  844\n"
     ]
    },
    {
     "name": "stderr",
     "output_type": "stream",
     "text": [
      "C:\\Users\\Harry\\AppData\\Local\\Temp\\ipykernel_35052\\75057381.py:97: FutureWarning: The frame.append method is deprecated and will be removed from pandas in a future version. Use pandas.concat instead.\n",
      "  df = df.append({'Address':address, 'Price':price, 'Eircode': eircode, 'Dwelling Type':dwelling_type, 'Bedrooms':bedrooms, 'Bathrooms':bathrooms, 'Last Refreshed':refreshed, 'Floor Area in sqm':floor_area, 'Facilities':facilities, 'Description':description, 'Directions':directions, 'Ber Details':ber_details, 'Accommodation':accommodation, 'Features':features}, ignore_index = True)\n"
     ]
    },
    {
     "name": "stdout",
     "output_type": "stream",
     "text": [
      "DataFrame length:  845\n"
     ]
    },
    {
     "name": "stderr",
     "output_type": "stream",
     "text": [
      "C:\\Users\\Harry\\AppData\\Local\\Temp\\ipykernel_35052\\75057381.py:97: FutureWarning: The frame.append method is deprecated and will be removed from pandas in a future version. Use pandas.concat instead.\n",
      "  df = df.append({'Address':address, 'Price':price, 'Eircode': eircode, 'Dwelling Type':dwelling_type, 'Bedrooms':bedrooms, 'Bathrooms':bathrooms, 'Last Refreshed':refreshed, 'Floor Area in sqm':floor_area, 'Facilities':facilities, 'Description':description, 'Directions':directions, 'Ber Details':ber_details, 'Accommodation':accommodation, 'Features':features}, ignore_index = True)\n"
     ]
    },
    {
     "name": "stdout",
     "output_type": "stream",
     "text": [
      "DataFrame length:  846\n"
     ]
    },
    {
     "name": "stderr",
     "output_type": "stream",
     "text": [
      "C:\\Users\\Harry\\AppData\\Local\\Temp\\ipykernel_35052\\75057381.py:97: FutureWarning: The frame.append method is deprecated and will be removed from pandas in a future version. Use pandas.concat instead.\n",
      "  df = df.append({'Address':address, 'Price':price, 'Eircode': eircode, 'Dwelling Type':dwelling_type, 'Bedrooms':bedrooms, 'Bathrooms':bathrooms, 'Last Refreshed':refreshed, 'Floor Area in sqm':floor_area, 'Facilities':facilities, 'Description':description, 'Directions':directions, 'Ber Details':ber_details, 'Accommodation':accommodation, 'Features':features}, ignore_index = True)\n"
     ]
    },
    {
     "name": "stdout",
     "output_type": "stream",
     "text": [
      "DataFrame length:  847\n"
     ]
    },
    {
     "name": "stderr",
     "output_type": "stream",
     "text": [
      "C:\\Users\\Harry\\AppData\\Local\\Temp\\ipykernel_35052\\75057381.py:97: FutureWarning: The frame.append method is deprecated and will be removed from pandas in a future version. Use pandas.concat instead.\n",
      "  df = df.append({'Address':address, 'Price':price, 'Eircode': eircode, 'Dwelling Type':dwelling_type, 'Bedrooms':bedrooms, 'Bathrooms':bathrooms, 'Last Refreshed':refreshed, 'Floor Area in sqm':floor_area, 'Facilities':facilities, 'Description':description, 'Directions':directions, 'Ber Details':ber_details, 'Accommodation':accommodation, 'Features':features}, ignore_index = True)\n"
     ]
    },
    {
     "name": "stdout",
     "output_type": "stream",
     "text": [
      "DataFrame length:  848\n"
     ]
    },
    {
     "name": "stderr",
     "output_type": "stream",
     "text": [
      "C:\\Users\\Harry\\AppData\\Local\\Temp\\ipykernel_35052\\75057381.py:97: FutureWarning: The frame.append method is deprecated and will be removed from pandas in a future version. Use pandas.concat instead.\n",
      "  df = df.append({'Address':address, 'Price':price, 'Eircode': eircode, 'Dwelling Type':dwelling_type, 'Bedrooms':bedrooms, 'Bathrooms':bathrooms, 'Last Refreshed':refreshed, 'Floor Area in sqm':floor_area, 'Facilities':facilities, 'Description':description, 'Directions':directions, 'Ber Details':ber_details, 'Accommodation':accommodation, 'Features':features}, ignore_index = True)\n"
     ]
    },
    {
     "name": "stdout",
     "output_type": "stream",
     "text": [
      "DataFrame length:  849\n"
     ]
    },
    {
     "name": "stderr",
     "output_type": "stream",
     "text": [
      "C:\\Users\\Harry\\AppData\\Local\\Temp\\ipykernel_35052\\75057381.py:97: FutureWarning: The frame.append method is deprecated and will be removed from pandas in a future version. Use pandas.concat instead.\n",
      "  df = df.append({'Address':address, 'Price':price, 'Eircode': eircode, 'Dwelling Type':dwelling_type, 'Bedrooms':bedrooms, 'Bathrooms':bathrooms, 'Last Refreshed':refreshed, 'Floor Area in sqm':floor_area, 'Facilities':facilities, 'Description':description, 'Directions':directions, 'Ber Details':ber_details, 'Accommodation':accommodation, 'Features':features}, ignore_index = True)\n"
     ]
    },
    {
     "name": "stdout",
     "output_type": "stream",
     "text": [
      "DataFrame length:  850\n"
     ]
    },
    {
     "name": "stderr",
     "output_type": "stream",
     "text": [
      "C:\\Users\\Harry\\AppData\\Local\\Temp\\ipykernel_35052\\75057381.py:97: FutureWarning: The frame.append method is deprecated and will be removed from pandas in a future version. Use pandas.concat instead.\n",
      "  df = df.append({'Address':address, 'Price':price, 'Eircode': eircode, 'Dwelling Type':dwelling_type, 'Bedrooms':bedrooms, 'Bathrooms':bathrooms, 'Last Refreshed':refreshed, 'Floor Area in sqm':floor_area, 'Facilities':facilities, 'Description':description, 'Directions':directions, 'Ber Details':ber_details, 'Accommodation':accommodation, 'Features':features}, ignore_index = True)\n"
     ]
    },
    {
     "name": "stdout",
     "output_type": "stream",
     "text": [
      "DataFrame length:  851\n"
     ]
    },
    {
     "name": "stderr",
     "output_type": "stream",
     "text": [
      "C:\\Users\\Harry\\AppData\\Local\\Temp\\ipykernel_35052\\75057381.py:97: FutureWarning: The frame.append method is deprecated and will be removed from pandas in a future version. Use pandas.concat instead.\n",
      "  df = df.append({'Address':address, 'Price':price, 'Eircode': eircode, 'Dwelling Type':dwelling_type, 'Bedrooms':bedrooms, 'Bathrooms':bathrooms, 'Last Refreshed':refreshed, 'Floor Area in sqm':floor_area, 'Facilities':facilities, 'Description':description, 'Directions':directions, 'Ber Details':ber_details, 'Accommodation':accommodation, 'Features':features}, ignore_index = True)\n"
     ]
    },
    {
     "name": "stdout",
     "output_type": "stream",
     "text": [
      "DataFrame length:  852\n"
     ]
    },
    {
     "name": "stderr",
     "output_type": "stream",
     "text": [
      "C:\\Users\\Harry\\AppData\\Local\\Temp\\ipykernel_35052\\75057381.py:97: FutureWarning: The frame.append method is deprecated and will be removed from pandas in a future version. Use pandas.concat instead.\n",
      "  df = df.append({'Address':address, 'Price':price, 'Eircode': eircode, 'Dwelling Type':dwelling_type, 'Bedrooms':bedrooms, 'Bathrooms':bathrooms, 'Last Refreshed':refreshed, 'Floor Area in sqm':floor_area, 'Facilities':facilities, 'Description':description, 'Directions':directions, 'Ber Details':ber_details, 'Accommodation':accommodation, 'Features':features}, ignore_index = True)\n"
     ]
    },
    {
     "name": "stdout",
     "output_type": "stream",
     "text": [
      "DataFrame length:  853\n"
     ]
    },
    {
     "name": "stderr",
     "output_type": "stream",
     "text": [
      "C:\\Users\\Harry\\AppData\\Local\\Temp\\ipykernel_35052\\75057381.py:97: FutureWarning: The frame.append method is deprecated and will be removed from pandas in a future version. Use pandas.concat instead.\n",
      "  df = df.append({'Address':address, 'Price':price, 'Eircode': eircode, 'Dwelling Type':dwelling_type, 'Bedrooms':bedrooms, 'Bathrooms':bathrooms, 'Last Refreshed':refreshed, 'Floor Area in sqm':floor_area, 'Facilities':facilities, 'Description':description, 'Directions':directions, 'Ber Details':ber_details, 'Accommodation':accommodation, 'Features':features}, ignore_index = True)\n"
     ]
    },
    {
     "name": "stdout",
     "output_type": "stream",
     "text": [
      "DataFrame length:  854\n"
     ]
    },
    {
     "name": "stderr",
     "output_type": "stream",
     "text": [
      "C:\\Users\\Harry\\AppData\\Local\\Temp\\ipykernel_35052\\75057381.py:97: FutureWarning: The frame.append method is deprecated and will be removed from pandas in a future version. Use pandas.concat instead.\n",
      "  df = df.append({'Address':address, 'Price':price, 'Eircode': eircode, 'Dwelling Type':dwelling_type, 'Bedrooms':bedrooms, 'Bathrooms':bathrooms, 'Last Refreshed':refreshed, 'Floor Area in sqm':floor_area, 'Facilities':facilities, 'Description':description, 'Directions':directions, 'Ber Details':ber_details, 'Accommodation':accommodation, 'Features':features}, ignore_index = True)\n"
     ]
    },
    {
     "name": "stdout",
     "output_type": "stream",
     "text": [
      "DataFrame length:  855\n"
     ]
    },
    {
     "name": "stderr",
     "output_type": "stream",
     "text": [
      "C:\\Users\\Harry\\AppData\\Local\\Temp\\ipykernel_35052\\75057381.py:97: FutureWarning: The frame.append method is deprecated and will be removed from pandas in a future version. Use pandas.concat instead.\n",
      "  df = df.append({'Address':address, 'Price':price, 'Eircode': eircode, 'Dwelling Type':dwelling_type, 'Bedrooms':bedrooms, 'Bathrooms':bathrooms, 'Last Refreshed':refreshed, 'Floor Area in sqm':floor_area, 'Facilities':facilities, 'Description':description, 'Directions':directions, 'Ber Details':ber_details, 'Accommodation':accommodation, 'Features':features}, ignore_index = True)\n"
     ]
    },
    {
     "name": "stdout",
     "output_type": "stream",
     "text": [
      "DataFrame length:  856\n"
     ]
    },
    {
     "name": "stderr",
     "output_type": "stream",
     "text": [
      "C:\\Users\\Harry\\AppData\\Local\\Temp\\ipykernel_35052\\75057381.py:97: FutureWarning: The frame.append method is deprecated and will be removed from pandas in a future version. Use pandas.concat instead.\n",
      "  df = df.append({'Address':address, 'Price':price, 'Eircode': eircode, 'Dwelling Type':dwelling_type, 'Bedrooms':bedrooms, 'Bathrooms':bathrooms, 'Last Refreshed':refreshed, 'Floor Area in sqm':floor_area, 'Facilities':facilities, 'Description':description, 'Directions':directions, 'Ber Details':ber_details, 'Accommodation':accommodation, 'Features':features}, ignore_index = True)\n"
     ]
    },
    {
     "name": "stdout",
     "output_type": "stream",
     "text": [
      "DataFrame length:  857\n"
     ]
    },
    {
     "name": "stderr",
     "output_type": "stream",
     "text": [
      "C:\\Users\\Harry\\AppData\\Local\\Temp\\ipykernel_35052\\75057381.py:97: FutureWarning: The frame.append method is deprecated and will be removed from pandas in a future version. Use pandas.concat instead.\n",
      "  df = df.append({'Address':address, 'Price':price, 'Eircode': eircode, 'Dwelling Type':dwelling_type, 'Bedrooms':bedrooms, 'Bathrooms':bathrooms, 'Last Refreshed':refreshed, 'Floor Area in sqm':floor_area, 'Facilities':facilities, 'Description':description, 'Directions':directions, 'Ber Details':ber_details, 'Accommodation':accommodation, 'Features':features}, ignore_index = True)\n"
     ]
    },
    {
     "name": "stdout",
     "output_type": "stream",
     "text": [
      "DataFrame length:  858\n"
     ]
    },
    {
     "name": "stderr",
     "output_type": "stream",
     "text": [
      "C:\\Users\\Harry\\AppData\\Local\\Temp\\ipykernel_35052\\75057381.py:97: FutureWarning: The frame.append method is deprecated and will be removed from pandas in a future version. Use pandas.concat instead.\n",
      "  df = df.append({'Address':address, 'Price':price, 'Eircode': eircode, 'Dwelling Type':dwelling_type, 'Bedrooms':bedrooms, 'Bathrooms':bathrooms, 'Last Refreshed':refreshed, 'Floor Area in sqm':floor_area, 'Facilities':facilities, 'Description':description, 'Directions':directions, 'Ber Details':ber_details, 'Accommodation':accommodation, 'Features':features}, ignore_index = True)\n"
     ]
    },
    {
     "name": "stdout",
     "output_type": "stream",
     "text": [
      "DataFrame length:  859\n"
     ]
    },
    {
     "name": "stderr",
     "output_type": "stream",
     "text": [
      "C:\\Users\\Harry\\AppData\\Local\\Temp\\ipykernel_35052\\75057381.py:97: FutureWarning: The frame.append method is deprecated and will be removed from pandas in a future version. Use pandas.concat instead.\n",
      "  df = df.append({'Address':address, 'Price':price, 'Eircode': eircode, 'Dwelling Type':dwelling_type, 'Bedrooms':bedrooms, 'Bathrooms':bathrooms, 'Last Refreshed':refreshed, 'Floor Area in sqm':floor_area, 'Facilities':facilities, 'Description':description, 'Directions':directions, 'Ber Details':ber_details, 'Accommodation':accommodation, 'Features':features}, ignore_index = True)\n"
     ]
    },
    {
     "name": "stdout",
     "output_type": "stream",
     "text": [
      "DataFrame length:  860\n"
     ]
    },
    {
     "name": "stderr",
     "output_type": "stream",
     "text": [
      "C:\\Users\\Harry\\AppData\\Local\\Temp\\ipykernel_35052\\75057381.py:97: FutureWarning: The frame.append method is deprecated and will be removed from pandas in a future version. Use pandas.concat instead.\n",
      "  df = df.append({'Address':address, 'Price':price, 'Eircode': eircode, 'Dwelling Type':dwelling_type, 'Bedrooms':bedrooms, 'Bathrooms':bathrooms, 'Last Refreshed':refreshed, 'Floor Area in sqm':floor_area, 'Facilities':facilities, 'Description':description, 'Directions':directions, 'Ber Details':ber_details, 'Accommodation':accommodation, 'Features':features}, ignore_index = True)\n"
     ]
    },
    {
     "name": "stdout",
     "output_type": "stream",
     "text": [
      "DataFrame length:  861\n"
     ]
    },
    {
     "name": "stderr",
     "output_type": "stream",
     "text": [
      "C:\\Users\\Harry\\AppData\\Local\\Temp\\ipykernel_35052\\75057381.py:97: FutureWarning: The frame.append method is deprecated and will be removed from pandas in a future version. Use pandas.concat instead.\n",
      "  df = df.append({'Address':address, 'Price':price, 'Eircode': eircode, 'Dwelling Type':dwelling_type, 'Bedrooms':bedrooms, 'Bathrooms':bathrooms, 'Last Refreshed':refreshed, 'Floor Area in sqm':floor_area, 'Facilities':facilities, 'Description':description, 'Directions':directions, 'Ber Details':ber_details, 'Accommodation':accommodation, 'Features':features}, ignore_index = True)\n"
     ]
    },
    {
     "name": "stdout",
     "output_type": "stream",
     "text": [
      "DataFrame length:  862\n"
     ]
    },
    {
     "name": "stderr",
     "output_type": "stream",
     "text": [
      "C:\\Users\\Harry\\AppData\\Local\\Temp\\ipykernel_35052\\75057381.py:97: FutureWarning: The frame.append method is deprecated and will be removed from pandas in a future version. Use pandas.concat instead.\n",
      "  df = df.append({'Address':address, 'Price':price, 'Eircode': eircode, 'Dwelling Type':dwelling_type, 'Bedrooms':bedrooms, 'Bathrooms':bathrooms, 'Last Refreshed':refreshed, 'Floor Area in sqm':floor_area, 'Facilities':facilities, 'Description':description, 'Directions':directions, 'Ber Details':ber_details, 'Accommodation':accommodation, 'Features':features}, ignore_index = True)\n"
     ]
    },
    {
     "name": "stdout",
     "output_type": "stream",
     "text": [
      "DataFrame length:  863\n"
     ]
    },
    {
     "name": "stderr",
     "output_type": "stream",
     "text": [
      "C:\\Users\\Harry\\AppData\\Local\\Temp\\ipykernel_35052\\75057381.py:97: FutureWarning: The frame.append method is deprecated and will be removed from pandas in a future version. Use pandas.concat instead.\n",
      "  df = df.append({'Address':address, 'Price':price, 'Eircode': eircode, 'Dwelling Type':dwelling_type, 'Bedrooms':bedrooms, 'Bathrooms':bathrooms, 'Last Refreshed':refreshed, 'Floor Area in sqm':floor_area, 'Facilities':facilities, 'Description':description, 'Directions':directions, 'Ber Details':ber_details, 'Accommodation':accommodation, 'Features':features}, ignore_index = True)\n"
     ]
    },
    {
     "name": "stdout",
     "output_type": "stream",
     "text": [
      "DataFrame length:  864\n"
     ]
    },
    {
     "name": "stderr",
     "output_type": "stream",
     "text": [
      "C:\\Users\\Harry\\AppData\\Local\\Temp\\ipykernel_35052\\75057381.py:97: FutureWarning: The frame.append method is deprecated and will be removed from pandas in a future version. Use pandas.concat instead.\n",
      "  df = df.append({'Address':address, 'Price':price, 'Eircode': eircode, 'Dwelling Type':dwelling_type, 'Bedrooms':bedrooms, 'Bathrooms':bathrooms, 'Last Refreshed':refreshed, 'Floor Area in sqm':floor_area, 'Facilities':facilities, 'Description':description, 'Directions':directions, 'Ber Details':ber_details, 'Accommodation':accommodation, 'Features':features}, ignore_index = True)\n"
     ]
    },
    {
     "name": "stdout",
     "output_type": "stream",
     "text": [
      "DataFrame length:  865\n"
     ]
    },
    {
     "name": "stderr",
     "output_type": "stream",
     "text": [
      "C:\\Users\\Harry\\AppData\\Local\\Temp\\ipykernel_35052\\75057381.py:97: FutureWarning: The frame.append method is deprecated and will be removed from pandas in a future version. Use pandas.concat instead.\n",
      "  df = df.append({'Address':address, 'Price':price, 'Eircode': eircode, 'Dwelling Type':dwelling_type, 'Bedrooms':bedrooms, 'Bathrooms':bathrooms, 'Last Refreshed':refreshed, 'Floor Area in sqm':floor_area, 'Facilities':facilities, 'Description':description, 'Directions':directions, 'Ber Details':ber_details, 'Accommodation':accommodation, 'Features':features}, ignore_index = True)\n"
     ]
    },
    {
     "name": "stdout",
     "output_type": "stream",
     "text": [
      "DataFrame length:  866\n"
     ]
    },
    {
     "name": "stderr",
     "output_type": "stream",
     "text": [
      "C:\\Users\\Harry\\AppData\\Local\\Temp\\ipykernel_35052\\75057381.py:97: FutureWarning: The frame.append method is deprecated and will be removed from pandas in a future version. Use pandas.concat instead.\n",
      "  df = df.append({'Address':address, 'Price':price, 'Eircode': eircode, 'Dwelling Type':dwelling_type, 'Bedrooms':bedrooms, 'Bathrooms':bathrooms, 'Last Refreshed':refreshed, 'Floor Area in sqm':floor_area, 'Facilities':facilities, 'Description':description, 'Directions':directions, 'Ber Details':ber_details, 'Accommodation':accommodation, 'Features':features}, ignore_index = True)\n"
     ]
    },
    {
     "name": "stdout",
     "output_type": "stream",
     "text": [
      "DataFrame length:  867\n"
     ]
    },
    {
     "name": "stderr",
     "output_type": "stream",
     "text": [
      "C:\\Users\\Harry\\AppData\\Local\\Temp\\ipykernel_35052\\75057381.py:97: FutureWarning: The frame.append method is deprecated and will be removed from pandas in a future version. Use pandas.concat instead.\n",
      "  df = df.append({'Address':address, 'Price':price, 'Eircode': eircode, 'Dwelling Type':dwelling_type, 'Bedrooms':bedrooms, 'Bathrooms':bathrooms, 'Last Refreshed':refreshed, 'Floor Area in sqm':floor_area, 'Facilities':facilities, 'Description':description, 'Directions':directions, 'Ber Details':ber_details, 'Accommodation':accommodation, 'Features':features}, ignore_index = True)\n"
     ]
    },
    {
     "name": "stdout",
     "output_type": "stream",
     "text": [
      "DataFrame length:  868\n"
     ]
    },
    {
     "name": "stderr",
     "output_type": "stream",
     "text": [
      "C:\\Users\\Harry\\AppData\\Local\\Temp\\ipykernel_35052\\75057381.py:97: FutureWarning: The frame.append method is deprecated and will be removed from pandas in a future version. Use pandas.concat instead.\n",
      "  df = df.append({'Address':address, 'Price':price, 'Eircode': eircode, 'Dwelling Type':dwelling_type, 'Bedrooms':bedrooms, 'Bathrooms':bathrooms, 'Last Refreshed':refreshed, 'Floor Area in sqm':floor_area, 'Facilities':facilities, 'Description':description, 'Directions':directions, 'Ber Details':ber_details, 'Accommodation':accommodation, 'Features':features}, ignore_index = True)\n"
     ]
    },
    {
     "name": "stdout",
     "output_type": "stream",
     "text": [
      "DataFrame length:  869\n"
     ]
    },
    {
     "name": "stderr",
     "output_type": "stream",
     "text": [
      "C:\\Users\\Harry\\AppData\\Local\\Temp\\ipykernel_35052\\75057381.py:97: FutureWarning: The frame.append method is deprecated and will be removed from pandas in a future version. Use pandas.concat instead.\n",
      "  df = df.append({'Address':address, 'Price':price, 'Eircode': eircode, 'Dwelling Type':dwelling_type, 'Bedrooms':bedrooms, 'Bathrooms':bathrooms, 'Last Refreshed':refreshed, 'Floor Area in sqm':floor_area, 'Facilities':facilities, 'Description':description, 'Directions':directions, 'Ber Details':ber_details, 'Accommodation':accommodation, 'Features':features}, ignore_index = True)\n"
     ]
    },
    {
     "name": "stdout",
     "output_type": "stream",
     "text": [
      "DataFrame length:  870\n"
     ]
    },
    {
     "name": "stderr",
     "output_type": "stream",
     "text": [
      "C:\\Users\\Harry\\AppData\\Local\\Temp\\ipykernel_35052\\75057381.py:97: FutureWarning: The frame.append method is deprecated and will be removed from pandas in a future version. Use pandas.concat instead.\n",
      "  df = df.append({'Address':address, 'Price':price, 'Eircode': eircode, 'Dwelling Type':dwelling_type, 'Bedrooms':bedrooms, 'Bathrooms':bathrooms, 'Last Refreshed':refreshed, 'Floor Area in sqm':floor_area, 'Facilities':facilities, 'Description':description, 'Directions':directions, 'Ber Details':ber_details, 'Accommodation':accommodation, 'Features':features}, ignore_index = True)\n"
     ]
    },
    {
     "name": "stdout",
     "output_type": "stream",
     "text": [
      "DataFrame length:  871\n"
     ]
    },
    {
     "name": "stderr",
     "output_type": "stream",
     "text": [
      "C:\\Users\\Harry\\AppData\\Local\\Temp\\ipykernel_35052\\75057381.py:97: FutureWarning: The frame.append method is deprecated and will be removed from pandas in a future version. Use pandas.concat instead.\n",
      "  df = df.append({'Address':address, 'Price':price, 'Eircode': eircode, 'Dwelling Type':dwelling_type, 'Bedrooms':bedrooms, 'Bathrooms':bathrooms, 'Last Refreshed':refreshed, 'Floor Area in sqm':floor_area, 'Facilities':facilities, 'Description':description, 'Directions':directions, 'Ber Details':ber_details, 'Accommodation':accommodation, 'Features':features}, ignore_index = True)\n"
     ]
    },
    {
     "name": "stdout",
     "output_type": "stream",
     "text": [
      "DataFrame length:  872\n"
     ]
    },
    {
     "name": "stderr",
     "output_type": "stream",
     "text": [
      "C:\\Users\\Harry\\AppData\\Local\\Temp\\ipykernel_35052\\75057381.py:97: FutureWarning: The frame.append method is deprecated and will be removed from pandas in a future version. Use pandas.concat instead.\n",
      "  df = df.append({'Address':address, 'Price':price, 'Eircode': eircode, 'Dwelling Type':dwelling_type, 'Bedrooms':bedrooms, 'Bathrooms':bathrooms, 'Last Refreshed':refreshed, 'Floor Area in sqm':floor_area, 'Facilities':facilities, 'Description':description, 'Directions':directions, 'Ber Details':ber_details, 'Accommodation':accommodation, 'Features':features}, ignore_index = True)\n"
     ]
    },
    {
     "name": "stdout",
     "output_type": "stream",
     "text": [
      "DataFrame length:  873\n"
     ]
    },
    {
     "name": "stderr",
     "output_type": "stream",
     "text": [
      "C:\\Users\\Harry\\AppData\\Local\\Temp\\ipykernel_35052\\75057381.py:97: FutureWarning: The frame.append method is deprecated and will be removed from pandas in a future version. Use pandas.concat instead.\n",
      "  df = df.append({'Address':address, 'Price':price, 'Eircode': eircode, 'Dwelling Type':dwelling_type, 'Bedrooms':bedrooms, 'Bathrooms':bathrooms, 'Last Refreshed':refreshed, 'Floor Area in sqm':floor_area, 'Facilities':facilities, 'Description':description, 'Directions':directions, 'Ber Details':ber_details, 'Accommodation':accommodation, 'Features':features}, ignore_index = True)\n"
     ]
    },
    {
     "name": "stdout",
     "output_type": "stream",
     "text": [
      "DataFrame length:  874\n"
     ]
    },
    {
     "name": "stderr",
     "output_type": "stream",
     "text": [
      "C:\\Users\\Harry\\AppData\\Local\\Temp\\ipykernel_35052\\75057381.py:97: FutureWarning: The frame.append method is deprecated and will be removed from pandas in a future version. Use pandas.concat instead.\n",
      "  df = df.append({'Address':address, 'Price':price, 'Eircode': eircode, 'Dwelling Type':dwelling_type, 'Bedrooms':bedrooms, 'Bathrooms':bathrooms, 'Last Refreshed':refreshed, 'Floor Area in sqm':floor_area, 'Facilities':facilities, 'Description':description, 'Directions':directions, 'Ber Details':ber_details, 'Accommodation':accommodation, 'Features':features}, ignore_index = True)\n"
     ]
    },
    {
     "name": "stdout",
     "output_type": "stream",
     "text": [
      "DataFrame length:  875\n"
     ]
    },
    {
     "name": "stderr",
     "output_type": "stream",
     "text": [
      "C:\\Users\\Harry\\AppData\\Local\\Temp\\ipykernel_35052\\75057381.py:97: FutureWarning: The frame.append method is deprecated and will be removed from pandas in a future version. Use pandas.concat instead.\n",
      "  df = df.append({'Address':address, 'Price':price, 'Eircode': eircode, 'Dwelling Type':dwelling_type, 'Bedrooms':bedrooms, 'Bathrooms':bathrooms, 'Last Refreshed':refreshed, 'Floor Area in sqm':floor_area, 'Facilities':facilities, 'Description':description, 'Directions':directions, 'Ber Details':ber_details, 'Accommodation':accommodation, 'Features':features}, ignore_index = True)\n"
     ]
    },
    {
     "name": "stdout",
     "output_type": "stream",
     "text": [
      "DataFrame length:  876\n"
     ]
    },
    {
     "name": "stderr",
     "output_type": "stream",
     "text": [
      "C:\\Users\\Harry\\AppData\\Local\\Temp\\ipykernel_35052\\75057381.py:97: FutureWarning: The frame.append method is deprecated and will be removed from pandas in a future version. Use pandas.concat instead.\n",
      "  df = df.append({'Address':address, 'Price':price, 'Eircode': eircode, 'Dwelling Type':dwelling_type, 'Bedrooms':bedrooms, 'Bathrooms':bathrooms, 'Last Refreshed':refreshed, 'Floor Area in sqm':floor_area, 'Facilities':facilities, 'Description':description, 'Directions':directions, 'Ber Details':ber_details, 'Accommodation':accommodation, 'Features':features}, ignore_index = True)\n"
     ]
    },
    {
     "name": "stdout",
     "output_type": "stream",
     "text": [
      "DataFrame length:  877\n"
     ]
    },
    {
     "name": "stderr",
     "output_type": "stream",
     "text": [
      "C:\\Users\\Harry\\AppData\\Local\\Temp\\ipykernel_35052\\75057381.py:97: FutureWarning: The frame.append method is deprecated and will be removed from pandas in a future version. Use pandas.concat instead.\n",
      "  df = df.append({'Address':address, 'Price':price, 'Eircode': eircode, 'Dwelling Type':dwelling_type, 'Bedrooms':bedrooms, 'Bathrooms':bathrooms, 'Last Refreshed':refreshed, 'Floor Area in sqm':floor_area, 'Facilities':facilities, 'Description':description, 'Directions':directions, 'Ber Details':ber_details, 'Accommodation':accommodation, 'Features':features}, ignore_index = True)\n"
     ]
    },
    {
     "name": "stdout",
     "output_type": "stream",
     "text": [
      "DataFrame length:  878\n"
     ]
    },
    {
     "name": "stderr",
     "output_type": "stream",
     "text": [
      "C:\\Users\\Harry\\AppData\\Local\\Temp\\ipykernel_35052\\75057381.py:97: FutureWarning: The frame.append method is deprecated and will be removed from pandas in a future version. Use pandas.concat instead.\n",
      "  df = df.append({'Address':address, 'Price':price, 'Eircode': eircode, 'Dwelling Type':dwelling_type, 'Bedrooms':bedrooms, 'Bathrooms':bathrooms, 'Last Refreshed':refreshed, 'Floor Area in sqm':floor_area, 'Facilities':facilities, 'Description':description, 'Directions':directions, 'Ber Details':ber_details, 'Accommodation':accommodation, 'Features':features}, ignore_index = True)\n"
     ]
    },
    {
     "name": "stdout",
     "output_type": "stream",
     "text": [
      "DataFrame length:  879\n"
     ]
    },
    {
     "name": "stderr",
     "output_type": "stream",
     "text": [
      "C:\\Users\\Harry\\AppData\\Local\\Temp\\ipykernel_35052\\75057381.py:97: FutureWarning: The frame.append method is deprecated and will be removed from pandas in a future version. Use pandas.concat instead.\n",
      "  df = df.append({'Address':address, 'Price':price, 'Eircode': eircode, 'Dwelling Type':dwelling_type, 'Bedrooms':bedrooms, 'Bathrooms':bathrooms, 'Last Refreshed':refreshed, 'Floor Area in sqm':floor_area, 'Facilities':facilities, 'Description':description, 'Directions':directions, 'Ber Details':ber_details, 'Accommodation':accommodation, 'Features':features}, ignore_index = True)\n"
     ]
    },
    {
     "name": "stdout",
     "output_type": "stream",
     "text": [
      "DataFrame length:  880\n"
     ]
    },
    {
     "name": "stderr",
     "output_type": "stream",
     "text": [
      "C:\\Users\\Harry\\AppData\\Local\\Temp\\ipykernel_35052\\75057381.py:97: FutureWarning: The frame.append method is deprecated and will be removed from pandas in a future version. Use pandas.concat instead.\n",
      "  df = df.append({'Address':address, 'Price':price, 'Eircode': eircode, 'Dwelling Type':dwelling_type, 'Bedrooms':bedrooms, 'Bathrooms':bathrooms, 'Last Refreshed':refreshed, 'Floor Area in sqm':floor_area, 'Facilities':facilities, 'Description':description, 'Directions':directions, 'Ber Details':ber_details, 'Accommodation':accommodation, 'Features':features}, ignore_index = True)\n"
     ]
    },
    {
     "name": "stdout",
     "output_type": "stream",
     "text": [
      "DataFrame length:  881\n"
     ]
    },
    {
     "name": "stderr",
     "output_type": "stream",
     "text": [
      "C:\\Users\\Harry\\AppData\\Local\\Temp\\ipykernel_35052\\75057381.py:97: FutureWarning: The frame.append method is deprecated and will be removed from pandas in a future version. Use pandas.concat instead.\n",
      "  df = df.append({'Address':address, 'Price':price, 'Eircode': eircode, 'Dwelling Type':dwelling_type, 'Bedrooms':bedrooms, 'Bathrooms':bathrooms, 'Last Refreshed':refreshed, 'Floor Area in sqm':floor_area, 'Facilities':facilities, 'Description':description, 'Directions':directions, 'Ber Details':ber_details, 'Accommodation':accommodation, 'Features':features}, ignore_index = True)\n"
     ]
    },
    {
     "name": "stdout",
     "output_type": "stream",
     "text": [
      "DataFrame length:  882\n"
     ]
    },
    {
     "name": "stderr",
     "output_type": "stream",
     "text": [
      "C:\\Users\\Harry\\AppData\\Local\\Temp\\ipykernel_35052\\75057381.py:97: FutureWarning: The frame.append method is deprecated and will be removed from pandas in a future version. Use pandas.concat instead.\n",
      "  df = df.append({'Address':address, 'Price':price, 'Eircode': eircode, 'Dwelling Type':dwelling_type, 'Bedrooms':bedrooms, 'Bathrooms':bathrooms, 'Last Refreshed':refreshed, 'Floor Area in sqm':floor_area, 'Facilities':facilities, 'Description':description, 'Directions':directions, 'Ber Details':ber_details, 'Accommodation':accommodation, 'Features':features}, ignore_index = True)\n"
     ]
    },
    {
     "name": "stdout",
     "output_type": "stream",
     "text": [
      "DataFrame length:  883\n"
     ]
    },
    {
     "name": "stderr",
     "output_type": "stream",
     "text": [
      "C:\\Users\\Harry\\AppData\\Local\\Temp\\ipykernel_35052\\75057381.py:97: FutureWarning: The frame.append method is deprecated and will be removed from pandas in a future version. Use pandas.concat instead.\n",
      "  df = df.append({'Address':address, 'Price':price, 'Eircode': eircode, 'Dwelling Type':dwelling_type, 'Bedrooms':bedrooms, 'Bathrooms':bathrooms, 'Last Refreshed':refreshed, 'Floor Area in sqm':floor_area, 'Facilities':facilities, 'Description':description, 'Directions':directions, 'Ber Details':ber_details, 'Accommodation':accommodation, 'Features':features}, ignore_index = True)\n"
     ]
    },
    {
     "name": "stdout",
     "output_type": "stream",
     "text": [
      "DataFrame length:  884\n"
     ]
    },
    {
     "name": "stderr",
     "output_type": "stream",
     "text": [
      "C:\\Users\\Harry\\AppData\\Local\\Temp\\ipykernel_35052\\75057381.py:97: FutureWarning: The frame.append method is deprecated and will be removed from pandas in a future version. Use pandas.concat instead.\n",
      "  df = df.append({'Address':address, 'Price':price, 'Eircode': eircode, 'Dwelling Type':dwelling_type, 'Bedrooms':bedrooms, 'Bathrooms':bathrooms, 'Last Refreshed':refreshed, 'Floor Area in sqm':floor_area, 'Facilities':facilities, 'Description':description, 'Directions':directions, 'Ber Details':ber_details, 'Accommodation':accommodation, 'Features':features}, ignore_index = True)\n"
     ]
    },
    {
     "name": "stdout",
     "output_type": "stream",
     "text": [
      "DataFrame length:  885\n"
     ]
    },
    {
     "name": "stderr",
     "output_type": "stream",
     "text": [
      "C:\\Users\\Harry\\AppData\\Local\\Temp\\ipykernel_35052\\75057381.py:97: FutureWarning: The frame.append method is deprecated and will be removed from pandas in a future version. Use pandas.concat instead.\n",
      "  df = df.append({'Address':address, 'Price':price, 'Eircode': eircode, 'Dwelling Type':dwelling_type, 'Bedrooms':bedrooms, 'Bathrooms':bathrooms, 'Last Refreshed':refreshed, 'Floor Area in sqm':floor_area, 'Facilities':facilities, 'Description':description, 'Directions':directions, 'Ber Details':ber_details, 'Accommodation':accommodation, 'Features':features}, ignore_index = True)\n"
     ]
    },
    {
     "name": "stdout",
     "output_type": "stream",
     "text": [
      "DataFrame length:  886\n"
     ]
    },
    {
     "name": "stderr",
     "output_type": "stream",
     "text": [
      "C:\\Users\\Harry\\AppData\\Local\\Temp\\ipykernel_35052\\75057381.py:97: FutureWarning: The frame.append method is deprecated and will be removed from pandas in a future version. Use pandas.concat instead.\n",
      "  df = df.append({'Address':address, 'Price':price, 'Eircode': eircode, 'Dwelling Type':dwelling_type, 'Bedrooms':bedrooms, 'Bathrooms':bathrooms, 'Last Refreshed':refreshed, 'Floor Area in sqm':floor_area, 'Facilities':facilities, 'Description':description, 'Directions':directions, 'Ber Details':ber_details, 'Accommodation':accommodation, 'Features':features}, ignore_index = True)\n"
     ]
    },
    {
     "name": "stdout",
     "output_type": "stream",
     "text": [
      "DataFrame length:  887\n"
     ]
    },
    {
     "name": "stderr",
     "output_type": "stream",
     "text": [
      "C:\\Users\\Harry\\AppData\\Local\\Temp\\ipykernel_35052\\75057381.py:97: FutureWarning: The frame.append method is deprecated and will be removed from pandas in a future version. Use pandas.concat instead.\n",
      "  df = df.append({'Address':address, 'Price':price, 'Eircode': eircode, 'Dwelling Type':dwelling_type, 'Bedrooms':bedrooms, 'Bathrooms':bathrooms, 'Last Refreshed':refreshed, 'Floor Area in sqm':floor_area, 'Facilities':facilities, 'Description':description, 'Directions':directions, 'Ber Details':ber_details, 'Accommodation':accommodation, 'Features':features}, ignore_index = True)\n"
     ]
    },
    {
     "name": "stdout",
     "output_type": "stream",
     "text": [
      "DataFrame length:  888\n"
     ]
    },
    {
     "name": "stderr",
     "output_type": "stream",
     "text": [
      "C:\\Users\\Harry\\AppData\\Local\\Temp\\ipykernel_35052\\75057381.py:97: FutureWarning: The frame.append method is deprecated and will be removed from pandas in a future version. Use pandas.concat instead.\n",
      "  df = df.append({'Address':address, 'Price':price, 'Eircode': eircode, 'Dwelling Type':dwelling_type, 'Bedrooms':bedrooms, 'Bathrooms':bathrooms, 'Last Refreshed':refreshed, 'Floor Area in sqm':floor_area, 'Facilities':facilities, 'Description':description, 'Directions':directions, 'Ber Details':ber_details, 'Accommodation':accommodation, 'Features':features}, ignore_index = True)\n"
     ]
    },
    {
     "name": "stdout",
     "output_type": "stream",
     "text": [
      "DataFrame length:  889\n"
     ]
    },
    {
     "name": "stderr",
     "output_type": "stream",
     "text": [
      "C:\\Users\\Harry\\AppData\\Local\\Temp\\ipykernel_35052\\75057381.py:97: FutureWarning: The frame.append method is deprecated and will be removed from pandas in a future version. Use pandas.concat instead.\n",
      "  df = df.append({'Address':address, 'Price':price, 'Eircode': eircode, 'Dwelling Type':dwelling_type, 'Bedrooms':bedrooms, 'Bathrooms':bathrooms, 'Last Refreshed':refreshed, 'Floor Area in sqm':floor_area, 'Facilities':facilities, 'Description':description, 'Directions':directions, 'Ber Details':ber_details, 'Accommodation':accommodation, 'Features':features}, ignore_index = True)\n"
     ]
    },
    {
     "name": "stdout",
     "output_type": "stream",
     "text": [
      "DataFrame length:  890\n"
     ]
    },
    {
     "name": "stderr",
     "output_type": "stream",
     "text": [
      "C:\\Users\\Harry\\AppData\\Local\\Temp\\ipykernel_35052\\75057381.py:97: FutureWarning: The frame.append method is deprecated and will be removed from pandas in a future version. Use pandas.concat instead.\n",
      "  df = df.append({'Address':address, 'Price':price, 'Eircode': eircode, 'Dwelling Type':dwelling_type, 'Bedrooms':bedrooms, 'Bathrooms':bathrooms, 'Last Refreshed':refreshed, 'Floor Area in sqm':floor_area, 'Facilities':facilities, 'Description':description, 'Directions':directions, 'Ber Details':ber_details, 'Accommodation':accommodation, 'Features':features}, ignore_index = True)\n"
     ]
    },
    {
     "name": "stdout",
     "output_type": "stream",
     "text": [
      "DataFrame length:  891\n"
     ]
    },
    {
     "name": "stderr",
     "output_type": "stream",
     "text": [
      "C:\\Users\\Harry\\AppData\\Local\\Temp\\ipykernel_35052\\75057381.py:97: FutureWarning: The frame.append method is deprecated and will be removed from pandas in a future version. Use pandas.concat instead.\n",
      "  df = df.append({'Address':address, 'Price':price, 'Eircode': eircode, 'Dwelling Type':dwelling_type, 'Bedrooms':bedrooms, 'Bathrooms':bathrooms, 'Last Refreshed':refreshed, 'Floor Area in sqm':floor_area, 'Facilities':facilities, 'Description':description, 'Directions':directions, 'Ber Details':ber_details, 'Accommodation':accommodation, 'Features':features}, ignore_index = True)\n"
     ]
    },
    {
     "name": "stdout",
     "output_type": "stream",
     "text": [
      "DataFrame length:  892\n"
     ]
    },
    {
     "name": "stderr",
     "output_type": "stream",
     "text": [
      "C:\\Users\\Harry\\AppData\\Local\\Temp\\ipykernel_35052\\75057381.py:97: FutureWarning: The frame.append method is deprecated and will be removed from pandas in a future version. Use pandas.concat instead.\n",
      "  df = df.append({'Address':address, 'Price':price, 'Eircode': eircode, 'Dwelling Type':dwelling_type, 'Bedrooms':bedrooms, 'Bathrooms':bathrooms, 'Last Refreshed':refreshed, 'Floor Area in sqm':floor_area, 'Facilities':facilities, 'Description':description, 'Directions':directions, 'Ber Details':ber_details, 'Accommodation':accommodation, 'Features':features}, ignore_index = True)\n"
     ]
    },
    {
     "name": "stdout",
     "output_type": "stream",
     "text": [
      "DataFrame length:  893\n"
     ]
    },
    {
     "name": "stderr",
     "output_type": "stream",
     "text": [
      "C:\\Users\\Harry\\AppData\\Local\\Temp\\ipykernel_35052\\75057381.py:97: FutureWarning: The frame.append method is deprecated and will be removed from pandas in a future version. Use pandas.concat instead.\n",
      "  df = df.append({'Address':address, 'Price':price, 'Eircode': eircode, 'Dwelling Type':dwelling_type, 'Bedrooms':bedrooms, 'Bathrooms':bathrooms, 'Last Refreshed':refreshed, 'Floor Area in sqm':floor_area, 'Facilities':facilities, 'Description':description, 'Directions':directions, 'Ber Details':ber_details, 'Accommodation':accommodation, 'Features':features}, ignore_index = True)\n"
     ]
    },
    {
     "name": "stdout",
     "output_type": "stream",
     "text": [
      "DataFrame length:  894\n"
     ]
    },
    {
     "name": "stderr",
     "output_type": "stream",
     "text": [
      "C:\\Users\\Harry\\AppData\\Local\\Temp\\ipykernel_35052\\75057381.py:97: FutureWarning: The frame.append method is deprecated and will be removed from pandas in a future version. Use pandas.concat instead.\n",
      "  df = df.append({'Address':address, 'Price':price, 'Eircode': eircode, 'Dwelling Type':dwelling_type, 'Bedrooms':bedrooms, 'Bathrooms':bathrooms, 'Last Refreshed':refreshed, 'Floor Area in sqm':floor_area, 'Facilities':facilities, 'Description':description, 'Directions':directions, 'Ber Details':ber_details, 'Accommodation':accommodation, 'Features':features}, ignore_index = True)\n"
     ]
    },
    {
     "name": "stdout",
     "output_type": "stream",
     "text": [
      "DataFrame length:  895\n"
     ]
    },
    {
     "name": "stderr",
     "output_type": "stream",
     "text": [
      "C:\\Users\\Harry\\AppData\\Local\\Temp\\ipykernel_35052\\75057381.py:97: FutureWarning: The frame.append method is deprecated and will be removed from pandas in a future version. Use pandas.concat instead.\n",
      "  df = df.append({'Address':address, 'Price':price, 'Eircode': eircode, 'Dwelling Type':dwelling_type, 'Bedrooms':bedrooms, 'Bathrooms':bathrooms, 'Last Refreshed':refreshed, 'Floor Area in sqm':floor_area, 'Facilities':facilities, 'Description':description, 'Directions':directions, 'Ber Details':ber_details, 'Accommodation':accommodation, 'Features':features}, ignore_index = True)\n"
     ]
    },
    {
     "name": "stdout",
     "output_type": "stream",
     "text": [
      "DataFrame length:  896\n"
     ]
    },
    {
     "name": "stderr",
     "output_type": "stream",
     "text": [
      "C:\\Users\\Harry\\AppData\\Local\\Temp\\ipykernel_35052\\75057381.py:97: FutureWarning: The frame.append method is deprecated and will be removed from pandas in a future version. Use pandas.concat instead.\n",
      "  df = df.append({'Address':address, 'Price':price, 'Eircode': eircode, 'Dwelling Type':dwelling_type, 'Bedrooms':bedrooms, 'Bathrooms':bathrooms, 'Last Refreshed':refreshed, 'Floor Area in sqm':floor_area, 'Facilities':facilities, 'Description':description, 'Directions':directions, 'Ber Details':ber_details, 'Accommodation':accommodation, 'Features':features}, ignore_index = True)\n"
     ]
    },
    {
     "name": "stdout",
     "output_type": "stream",
     "text": [
      "DataFrame length:  897\n"
     ]
    },
    {
     "name": "stderr",
     "output_type": "stream",
     "text": [
      "C:\\Users\\Harry\\AppData\\Local\\Temp\\ipykernel_35052\\75057381.py:97: FutureWarning: The frame.append method is deprecated and will be removed from pandas in a future version. Use pandas.concat instead.\n",
      "  df = df.append({'Address':address, 'Price':price, 'Eircode': eircode, 'Dwelling Type':dwelling_type, 'Bedrooms':bedrooms, 'Bathrooms':bathrooms, 'Last Refreshed':refreshed, 'Floor Area in sqm':floor_area, 'Facilities':facilities, 'Description':description, 'Directions':directions, 'Ber Details':ber_details, 'Accommodation':accommodation, 'Features':features}, ignore_index = True)\n"
     ]
    },
    {
     "name": "stdout",
     "output_type": "stream",
     "text": [
      "DataFrame length:  898\n"
     ]
    },
    {
     "name": "stderr",
     "output_type": "stream",
     "text": [
      "C:\\Users\\Harry\\AppData\\Local\\Temp\\ipykernel_35052\\75057381.py:97: FutureWarning: The frame.append method is deprecated and will be removed from pandas in a future version. Use pandas.concat instead.\n",
      "  df = df.append({'Address':address, 'Price':price, 'Eircode': eircode, 'Dwelling Type':dwelling_type, 'Bedrooms':bedrooms, 'Bathrooms':bathrooms, 'Last Refreshed':refreshed, 'Floor Area in sqm':floor_area, 'Facilities':facilities, 'Description':description, 'Directions':directions, 'Ber Details':ber_details, 'Accommodation':accommodation, 'Features':features}, ignore_index = True)\n"
     ]
    },
    {
     "name": "stdout",
     "output_type": "stream",
     "text": [
      "DataFrame length:  899\n"
     ]
    },
    {
     "name": "stderr",
     "output_type": "stream",
     "text": [
      "C:\\Users\\Harry\\AppData\\Local\\Temp\\ipykernel_35052\\75057381.py:97: FutureWarning: The frame.append method is deprecated and will be removed from pandas in a future version. Use pandas.concat instead.\n",
      "  df = df.append({'Address':address, 'Price':price, 'Eircode': eircode, 'Dwelling Type':dwelling_type, 'Bedrooms':bedrooms, 'Bathrooms':bathrooms, 'Last Refreshed':refreshed, 'Floor Area in sqm':floor_area, 'Facilities':facilities, 'Description':description, 'Directions':directions, 'Ber Details':ber_details, 'Accommodation':accommodation, 'Features':features}, ignore_index = True)\n"
     ]
    },
    {
     "name": "stdout",
     "output_type": "stream",
     "text": [
      "DataFrame length:  900\n"
     ]
    },
    {
     "name": "stderr",
     "output_type": "stream",
     "text": [
      "C:\\Users\\Harry\\AppData\\Local\\Temp\\ipykernel_35052\\75057381.py:97: FutureWarning: The frame.append method is deprecated and will be removed from pandas in a future version. Use pandas.concat instead.\n",
      "  df = df.append({'Address':address, 'Price':price, 'Eircode': eircode, 'Dwelling Type':dwelling_type, 'Bedrooms':bedrooms, 'Bathrooms':bathrooms, 'Last Refreshed':refreshed, 'Floor Area in sqm':floor_area, 'Facilities':facilities, 'Description':description, 'Directions':directions, 'Ber Details':ber_details, 'Accommodation':accommodation, 'Features':features}, ignore_index = True)\n"
     ]
    },
    {
     "name": "stdout",
     "output_type": "stream",
     "text": [
      "DataFrame length:  901\n"
     ]
    },
    {
     "name": "stderr",
     "output_type": "stream",
     "text": [
      "C:\\Users\\Harry\\AppData\\Local\\Temp\\ipykernel_35052\\75057381.py:97: FutureWarning: The frame.append method is deprecated and will be removed from pandas in a future version. Use pandas.concat instead.\n",
      "  df = df.append({'Address':address, 'Price':price, 'Eircode': eircode, 'Dwelling Type':dwelling_type, 'Bedrooms':bedrooms, 'Bathrooms':bathrooms, 'Last Refreshed':refreshed, 'Floor Area in sqm':floor_area, 'Facilities':facilities, 'Description':description, 'Directions':directions, 'Ber Details':ber_details, 'Accommodation':accommodation, 'Features':features}, ignore_index = True)\n"
     ]
    },
    {
     "name": "stdout",
     "output_type": "stream",
     "text": [
      "DataFrame length:  902\n"
     ]
    },
    {
     "name": "stderr",
     "output_type": "stream",
     "text": [
      "C:\\Users\\Harry\\AppData\\Local\\Temp\\ipykernel_35052\\75057381.py:97: FutureWarning: The frame.append method is deprecated and will be removed from pandas in a future version. Use pandas.concat instead.\n",
      "  df = df.append({'Address':address, 'Price':price, 'Eircode': eircode, 'Dwelling Type':dwelling_type, 'Bedrooms':bedrooms, 'Bathrooms':bathrooms, 'Last Refreshed':refreshed, 'Floor Area in sqm':floor_area, 'Facilities':facilities, 'Description':description, 'Directions':directions, 'Ber Details':ber_details, 'Accommodation':accommodation, 'Features':features}, ignore_index = True)\n"
     ]
    },
    {
     "name": "stdout",
     "output_type": "stream",
     "text": [
      "DataFrame length:  903\n"
     ]
    },
    {
     "name": "stderr",
     "output_type": "stream",
     "text": [
      "C:\\Users\\Harry\\AppData\\Local\\Temp\\ipykernel_35052\\75057381.py:97: FutureWarning: The frame.append method is deprecated and will be removed from pandas in a future version. Use pandas.concat instead.\n",
      "  df = df.append({'Address':address, 'Price':price, 'Eircode': eircode, 'Dwelling Type':dwelling_type, 'Bedrooms':bedrooms, 'Bathrooms':bathrooms, 'Last Refreshed':refreshed, 'Floor Area in sqm':floor_area, 'Facilities':facilities, 'Description':description, 'Directions':directions, 'Ber Details':ber_details, 'Accommodation':accommodation, 'Features':features}, ignore_index = True)\n"
     ]
    },
    {
     "name": "stdout",
     "output_type": "stream",
     "text": [
      "DataFrame length:  904\n"
     ]
    },
    {
     "name": "stderr",
     "output_type": "stream",
     "text": [
      "C:\\Users\\Harry\\AppData\\Local\\Temp\\ipykernel_35052\\75057381.py:97: FutureWarning: The frame.append method is deprecated and will be removed from pandas in a future version. Use pandas.concat instead.\n",
      "  df = df.append({'Address':address, 'Price':price, 'Eircode': eircode, 'Dwelling Type':dwelling_type, 'Bedrooms':bedrooms, 'Bathrooms':bathrooms, 'Last Refreshed':refreshed, 'Floor Area in sqm':floor_area, 'Facilities':facilities, 'Description':description, 'Directions':directions, 'Ber Details':ber_details, 'Accommodation':accommodation, 'Features':features}, ignore_index = True)\n"
     ]
    },
    {
     "name": "stdout",
     "output_type": "stream",
     "text": [
      "DataFrame length:  905\n"
     ]
    },
    {
     "name": "stderr",
     "output_type": "stream",
     "text": [
      "C:\\Users\\Harry\\AppData\\Local\\Temp\\ipykernel_35052\\75057381.py:97: FutureWarning: The frame.append method is deprecated and will be removed from pandas in a future version. Use pandas.concat instead.\n",
      "  df = df.append({'Address':address, 'Price':price, 'Eircode': eircode, 'Dwelling Type':dwelling_type, 'Bedrooms':bedrooms, 'Bathrooms':bathrooms, 'Last Refreshed':refreshed, 'Floor Area in sqm':floor_area, 'Facilities':facilities, 'Description':description, 'Directions':directions, 'Ber Details':ber_details, 'Accommodation':accommodation, 'Features':features}, ignore_index = True)\n"
     ]
    },
    {
     "name": "stdout",
     "output_type": "stream",
     "text": [
      "DataFrame length:  906\n"
     ]
    },
    {
     "name": "stderr",
     "output_type": "stream",
     "text": [
      "C:\\Users\\Harry\\AppData\\Local\\Temp\\ipykernel_35052\\75057381.py:97: FutureWarning: The frame.append method is deprecated and will be removed from pandas in a future version. Use pandas.concat instead.\n",
      "  df = df.append({'Address':address, 'Price':price, 'Eircode': eircode, 'Dwelling Type':dwelling_type, 'Bedrooms':bedrooms, 'Bathrooms':bathrooms, 'Last Refreshed':refreshed, 'Floor Area in sqm':floor_area, 'Facilities':facilities, 'Description':description, 'Directions':directions, 'Ber Details':ber_details, 'Accommodation':accommodation, 'Features':features}, ignore_index = True)\n"
     ]
    },
    {
     "name": "stdout",
     "output_type": "stream",
     "text": [
      "DataFrame length:  907\n"
     ]
    },
    {
     "name": "stderr",
     "output_type": "stream",
     "text": [
      "C:\\Users\\Harry\\AppData\\Local\\Temp\\ipykernel_35052\\75057381.py:97: FutureWarning: The frame.append method is deprecated and will be removed from pandas in a future version. Use pandas.concat instead.\n",
      "  df = df.append({'Address':address, 'Price':price, 'Eircode': eircode, 'Dwelling Type':dwelling_type, 'Bedrooms':bedrooms, 'Bathrooms':bathrooms, 'Last Refreshed':refreshed, 'Floor Area in sqm':floor_area, 'Facilities':facilities, 'Description':description, 'Directions':directions, 'Ber Details':ber_details, 'Accommodation':accommodation, 'Features':features}, ignore_index = True)\n"
     ]
    },
    {
     "name": "stdout",
     "output_type": "stream",
     "text": [
      "DataFrame length:  908\n"
     ]
    },
    {
     "name": "stderr",
     "output_type": "stream",
     "text": [
      "C:\\Users\\Harry\\AppData\\Local\\Temp\\ipykernel_35052\\75057381.py:97: FutureWarning: The frame.append method is deprecated and will be removed from pandas in a future version. Use pandas.concat instead.\n",
      "  df = df.append({'Address':address, 'Price':price, 'Eircode': eircode, 'Dwelling Type':dwelling_type, 'Bedrooms':bedrooms, 'Bathrooms':bathrooms, 'Last Refreshed':refreshed, 'Floor Area in sqm':floor_area, 'Facilities':facilities, 'Description':description, 'Directions':directions, 'Ber Details':ber_details, 'Accommodation':accommodation, 'Features':features}, ignore_index = True)\n"
     ]
    },
    {
     "name": "stdout",
     "output_type": "stream",
     "text": [
      "DataFrame length:  909\n"
     ]
    },
    {
     "name": "stderr",
     "output_type": "stream",
     "text": [
      "C:\\Users\\Harry\\AppData\\Local\\Temp\\ipykernel_35052\\75057381.py:97: FutureWarning: The frame.append method is deprecated and will be removed from pandas in a future version. Use pandas.concat instead.\n",
      "  df = df.append({'Address':address, 'Price':price, 'Eircode': eircode, 'Dwelling Type':dwelling_type, 'Bedrooms':bedrooms, 'Bathrooms':bathrooms, 'Last Refreshed':refreshed, 'Floor Area in sqm':floor_area, 'Facilities':facilities, 'Description':description, 'Directions':directions, 'Ber Details':ber_details, 'Accommodation':accommodation, 'Features':features}, ignore_index = True)\n"
     ]
    },
    {
     "name": "stdout",
     "output_type": "stream",
     "text": [
      "DataFrame length:  910\n"
     ]
    },
    {
     "name": "stderr",
     "output_type": "stream",
     "text": [
      "C:\\Users\\Harry\\AppData\\Local\\Temp\\ipykernel_35052\\75057381.py:97: FutureWarning: The frame.append method is deprecated and will be removed from pandas in a future version. Use pandas.concat instead.\n",
      "  df = df.append({'Address':address, 'Price':price, 'Eircode': eircode, 'Dwelling Type':dwelling_type, 'Bedrooms':bedrooms, 'Bathrooms':bathrooms, 'Last Refreshed':refreshed, 'Floor Area in sqm':floor_area, 'Facilities':facilities, 'Description':description, 'Directions':directions, 'Ber Details':ber_details, 'Accommodation':accommodation, 'Features':features}, ignore_index = True)\n"
     ]
    },
    {
     "name": "stdout",
     "output_type": "stream",
     "text": [
      "DataFrame length:  911\n"
     ]
    },
    {
     "name": "stderr",
     "output_type": "stream",
     "text": [
      "C:\\Users\\Harry\\AppData\\Local\\Temp\\ipykernel_35052\\75057381.py:97: FutureWarning: The frame.append method is deprecated and will be removed from pandas in a future version. Use pandas.concat instead.\n",
      "  df = df.append({'Address':address, 'Price':price, 'Eircode': eircode, 'Dwelling Type':dwelling_type, 'Bedrooms':bedrooms, 'Bathrooms':bathrooms, 'Last Refreshed':refreshed, 'Floor Area in sqm':floor_area, 'Facilities':facilities, 'Description':description, 'Directions':directions, 'Ber Details':ber_details, 'Accommodation':accommodation, 'Features':features}, ignore_index = True)\n"
     ]
    },
    {
     "name": "stdout",
     "output_type": "stream",
     "text": [
      "DataFrame length:  912\n"
     ]
    },
    {
     "name": "stderr",
     "output_type": "stream",
     "text": [
      "C:\\Users\\Harry\\AppData\\Local\\Temp\\ipykernel_35052\\75057381.py:97: FutureWarning: The frame.append method is deprecated and will be removed from pandas in a future version. Use pandas.concat instead.\n",
      "  df = df.append({'Address':address, 'Price':price, 'Eircode': eircode, 'Dwelling Type':dwelling_type, 'Bedrooms':bedrooms, 'Bathrooms':bathrooms, 'Last Refreshed':refreshed, 'Floor Area in sqm':floor_area, 'Facilities':facilities, 'Description':description, 'Directions':directions, 'Ber Details':ber_details, 'Accommodation':accommodation, 'Features':features}, ignore_index = True)\n"
     ]
    },
    {
     "name": "stdout",
     "output_type": "stream",
     "text": [
      "DataFrame length:  913\n"
     ]
    },
    {
     "name": "stderr",
     "output_type": "stream",
     "text": [
      "C:\\Users\\Harry\\AppData\\Local\\Temp\\ipykernel_35052\\75057381.py:97: FutureWarning: The frame.append method is deprecated and will be removed from pandas in a future version. Use pandas.concat instead.\n",
      "  df = df.append({'Address':address, 'Price':price, 'Eircode': eircode, 'Dwelling Type':dwelling_type, 'Bedrooms':bedrooms, 'Bathrooms':bathrooms, 'Last Refreshed':refreshed, 'Floor Area in sqm':floor_area, 'Facilities':facilities, 'Description':description, 'Directions':directions, 'Ber Details':ber_details, 'Accommodation':accommodation, 'Features':features}, ignore_index = True)\n"
     ]
    },
    {
     "name": "stdout",
     "output_type": "stream",
     "text": [
      "DataFrame length:  914\n"
     ]
    },
    {
     "name": "stderr",
     "output_type": "stream",
     "text": [
      "C:\\Users\\Harry\\AppData\\Local\\Temp\\ipykernel_35052\\75057381.py:97: FutureWarning: The frame.append method is deprecated and will be removed from pandas in a future version. Use pandas.concat instead.\n",
      "  df = df.append({'Address':address, 'Price':price, 'Eircode': eircode, 'Dwelling Type':dwelling_type, 'Bedrooms':bedrooms, 'Bathrooms':bathrooms, 'Last Refreshed':refreshed, 'Floor Area in sqm':floor_area, 'Facilities':facilities, 'Description':description, 'Directions':directions, 'Ber Details':ber_details, 'Accommodation':accommodation, 'Features':features}, ignore_index = True)\n"
     ]
    },
    {
     "name": "stdout",
     "output_type": "stream",
     "text": [
      "DataFrame length:  915\n"
     ]
    },
    {
     "name": "stderr",
     "output_type": "stream",
     "text": [
      "C:\\Users\\Harry\\AppData\\Local\\Temp\\ipykernel_35052\\75057381.py:97: FutureWarning: The frame.append method is deprecated and will be removed from pandas in a future version. Use pandas.concat instead.\n",
      "  df = df.append({'Address':address, 'Price':price, 'Eircode': eircode, 'Dwelling Type':dwelling_type, 'Bedrooms':bedrooms, 'Bathrooms':bathrooms, 'Last Refreshed':refreshed, 'Floor Area in sqm':floor_area, 'Facilities':facilities, 'Description':description, 'Directions':directions, 'Ber Details':ber_details, 'Accommodation':accommodation, 'Features':features}, ignore_index = True)\n"
     ]
    },
    {
     "name": "stdout",
     "output_type": "stream",
     "text": [
      "DataFrame length:  916\n"
     ]
    },
    {
     "name": "stderr",
     "output_type": "stream",
     "text": [
      "C:\\Users\\Harry\\AppData\\Local\\Temp\\ipykernel_35052\\75057381.py:97: FutureWarning: The frame.append method is deprecated and will be removed from pandas in a future version. Use pandas.concat instead.\n",
      "  df = df.append({'Address':address, 'Price':price, 'Eircode': eircode, 'Dwelling Type':dwelling_type, 'Bedrooms':bedrooms, 'Bathrooms':bathrooms, 'Last Refreshed':refreshed, 'Floor Area in sqm':floor_area, 'Facilities':facilities, 'Description':description, 'Directions':directions, 'Ber Details':ber_details, 'Accommodation':accommodation, 'Features':features}, ignore_index = True)\n"
     ]
    },
    {
     "name": "stdout",
     "output_type": "stream",
     "text": [
      "DataFrame length:  917\n"
     ]
    },
    {
     "name": "stderr",
     "output_type": "stream",
     "text": [
      "C:\\Users\\Harry\\AppData\\Local\\Temp\\ipykernel_35052\\75057381.py:97: FutureWarning: The frame.append method is deprecated and will be removed from pandas in a future version. Use pandas.concat instead.\n",
      "  df = df.append({'Address':address, 'Price':price, 'Eircode': eircode, 'Dwelling Type':dwelling_type, 'Bedrooms':bedrooms, 'Bathrooms':bathrooms, 'Last Refreshed':refreshed, 'Floor Area in sqm':floor_area, 'Facilities':facilities, 'Description':description, 'Directions':directions, 'Ber Details':ber_details, 'Accommodation':accommodation, 'Features':features}, ignore_index = True)\n"
     ]
    },
    {
     "name": "stdout",
     "output_type": "stream",
     "text": [
      "DataFrame length:  918\n"
     ]
    },
    {
     "name": "stderr",
     "output_type": "stream",
     "text": [
      "C:\\Users\\Harry\\AppData\\Local\\Temp\\ipykernel_35052\\75057381.py:97: FutureWarning: The frame.append method is deprecated and will be removed from pandas in a future version. Use pandas.concat instead.\n",
      "  df = df.append({'Address':address, 'Price':price, 'Eircode': eircode, 'Dwelling Type':dwelling_type, 'Bedrooms':bedrooms, 'Bathrooms':bathrooms, 'Last Refreshed':refreshed, 'Floor Area in sqm':floor_area, 'Facilities':facilities, 'Description':description, 'Directions':directions, 'Ber Details':ber_details, 'Accommodation':accommodation, 'Features':features}, ignore_index = True)\n"
     ]
    },
    {
     "name": "stdout",
     "output_type": "stream",
     "text": [
      "DataFrame length:  919\n"
     ]
    },
    {
     "name": "stderr",
     "output_type": "stream",
     "text": [
      "C:\\Users\\Harry\\AppData\\Local\\Temp\\ipykernel_35052\\75057381.py:97: FutureWarning: The frame.append method is deprecated and will be removed from pandas in a future version. Use pandas.concat instead.\n",
      "  df = df.append({'Address':address, 'Price':price, 'Eircode': eircode, 'Dwelling Type':dwelling_type, 'Bedrooms':bedrooms, 'Bathrooms':bathrooms, 'Last Refreshed':refreshed, 'Floor Area in sqm':floor_area, 'Facilities':facilities, 'Description':description, 'Directions':directions, 'Ber Details':ber_details, 'Accommodation':accommodation, 'Features':features}, ignore_index = True)\n"
     ]
    },
    {
     "name": "stdout",
     "output_type": "stream",
     "text": [
      "DataFrame length:  920\n"
     ]
    },
    {
     "name": "stderr",
     "output_type": "stream",
     "text": [
      "C:\\Users\\Harry\\AppData\\Local\\Temp\\ipykernel_35052\\75057381.py:97: FutureWarning: The frame.append method is deprecated and will be removed from pandas in a future version. Use pandas.concat instead.\n",
      "  df = df.append({'Address':address, 'Price':price, 'Eircode': eircode, 'Dwelling Type':dwelling_type, 'Bedrooms':bedrooms, 'Bathrooms':bathrooms, 'Last Refreshed':refreshed, 'Floor Area in sqm':floor_area, 'Facilities':facilities, 'Description':description, 'Directions':directions, 'Ber Details':ber_details, 'Accommodation':accommodation, 'Features':features}, ignore_index = True)\n"
     ]
    },
    {
     "name": "stdout",
     "output_type": "stream",
     "text": [
      "DataFrame length:  921\n"
     ]
    },
    {
     "name": "stderr",
     "output_type": "stream",
     "text": [
      "C:\\Users\\Harry\\AppData\\Local\\Temp\\ipykernel_35052\\75057381.py:97: FutureWarning: The frame.append method is deprecated and will be removed from pandas in a future version. Use pandas.concat instead.\n",
      "  df = df.append({'Address':address, 'Price':price, 'Eircode': eircode, 'Dwelling Type':dwelling_type, 'Bedrooms':bedrooms, 'Bathrooms':bathrooms, 'Last Refreshed':refreshed, 'Floor Area in sqm':floor_area, 'Facilities':facilities, 'Description':description, 'Directions':directions, 'Ber Details':ber_details, 'Accommodation':accommodation, 'Features':features}, ignore_index = True)\n"
     ]
    },
    {
     "name": "stdout",
     "output_type": "stream",
     "text": [
      "DataFrame length:  922\n"
     ]
    },
    {
     "name": "stderr",
     "output_type": "stream",
     "text": [
      "C:\\Users\\Harry\\AppData\\Local\\Temp\\ipykernel_35052\\75057381.py:97: FutureWarning: The frame.append method is deprecated and will be removed from pandas in a future version. Use pandas.concat instead.\n",
      "  df = df.append({'Address':address, 'Price':price, 'Eircode': eircode, 'Dwelling Type':dwelling_type, 'Bedrooms':bedrooms, 'Bathrooms':bathrooms, 'Last Refreshed':refreshed, 'Floor Area in sqm':floor_area, 'Facilities':facilities, 'Description':description, 'Directions':directions, 'Ber Details':ber_details, 'Accommodation':accommodation, 'Features':features}, ignore_index = True)\n"
     ]
    },
    {
     "name": "stdout",
     "output_type": "stream",
     "text": [
      "DataFrame length:  923\n"
     ]
    },
    {
     "name": "stderr",
     "output_type": "stream",
     "text": [
      "C:\\Users\\Harry\\AppData\\Local\\Temp\\ipykernel_35052\\75057381.py:97: FutureWarning: The frame.append method is deprecated and will be removed from pandas in a future version. Use pandas.concat instead.\n",
      "  df = df.append({'Address':address, 'Price':price, 'Eircode': eircode, 'Dwelling Type':dwelling_type, 'Bedrooms':bedrooms, 'Bathrooms':bathrooms, 'Last Refreshed':refreshed, 'Floor Area in sqm':floor_area, 'Facilities':facilities, 'Description':description, 'Directions':directions, 'Ber Details':ber_details, 'Accommodation':accommodation, 'Features':features}, ignore_index = True)\n"
     ]
    },
    {
     "name": "stdout",
     "output_type": "stream",
     "text": [
      "DataFrame length:  924\n"
     ]
    },
    {
     "name": "stderr",
     "output_type": "stream",
     "text": [
      "C:\\Users\\Harry\\AppData\\Local\\Temp\\ipykernel_35052\\75057381.py:97: FutureWarning: The frame.append method is deprecated and will be removed from pandas in a future version. Use pandas.concat instead.\n",
      "  df = df.append({'Address':address, 'Price':price, 'Eircode': eircode, 'Dwelling Type':dwelling_type, 'Bedrooms':bedrooms, 'Bathrooms':bathrooms, 'Last Refreshed':refreshed, 'Floor Area in sqm':floor_area, 'Facilities':facilities, 'Description':description, 'Directions':directions, 'Ber Details':ber_details, 'Accommodation':accommodation, 'Features':features}, ignore_index = True)\n"
     ]
    },
    {
     "name": "stdout",
     "output_type": "stream",
     "text": [
      "DataFrame length:  925\n"
     ]
    },
    {
     "name": "stderr",
     "output_type": "stream",
     "text": [
      "C:\\Users\\Harry\\AppData\\Local\\Temp\\ipykernel_35052\\75057381.py:97: FutureWarning: The frame.append method is deprecated and will be removed from pandas in a future version. Use pandas.concat instead.\n",
      "  df = df.append({'Address':address, 'Price':price, 'Eircode': eircode, 'Dwelling Type':dwelling_type, 'Bedrooms':bedrooms, 'Bathrooms':bathrooms, 'Last Refreshed':refreshed, 'Floor Area in sqm':floor_area, 'Facilities':facilities, 'Description':description, 'Directions':directions, 'Ber Details':ber_details, 'Accommodation':accommodation, 'Features':features}, ignore_index = True)\n"
     ]
    },
    {
     "name": "stdout",
     "output_type": "stream",
     "text": [
      "DataFrame length:  926\n"
     ]
    },
    {
     "name": "stderr",
     "output_type": "stream",
     "text": [
      "C:\\Users\\Harry\\AppData\\Local\\Temp\\ipykernel_35052\\75057381.py:97: FutureWarning: The frame.append method is deprecated and will be removed from pandas in a future version. Use pandas.concat instead.\n",
      "  df = df.append({'Address':address, 'Price':price, 'Eircode': eircode, 'Dwelling Type':dwelling_type, 'Bedrooms':bedrooms, 'Bathrooms':bathrooms, 'Last Refreshed':refreshed, 'Floor Area in sqm':floor_area, 'Facilities':facilities, 'Description':description, 'Directions':directions, 'Ber Details':ber_details, 'Accommodation':accommodation, 'Features':features}, ignore_index = True)\n"
     ]
    },
    {
     "name": "stdout",
     "output_type": "stream",
     "text": [
      "DataFrame length:  927\n"
     ]
    },
    {
     "name": "stderr",
     "output_type": "stream",
     "text": [
      "C:\\Users\\Harry\\AppData\\Local\\Temp\\ipykernel_35052\\75057381.py:97: FutureWarning: The frame.append method is deprecated and will be removed from pandas in a future version. Use pandas.concat instead.\n",
      "  df = df.append({'Address':address, 'Price':price, 'Eircode': eircode, 'Dwelling Type':dwelling_type, 'Bedrooms':bedrooms, 'Bathrooms':bathrooms, 'Last Refreshed':refreshed, 'Floor Area in sqm':floor_area, 'Facilities':facilities, 'Description':description, 'Directions':directions, 'Ber Details':ber_details, 'Accommodation':accommodation, 'Features':features}, ignore_index = True)\n"
     ]
    },
    {
     "name": "stdout",
     "output_type": "stream",
     "text": [
      "DataFrame length:  928\n"
     ]
    },
    {
     "name": "stderr",
     "output_type": "stream",
     "text": [
      "C:\\Users\\Harry\\AppData\\Local\\Temp\\ipykernel_35052\\75057381.py:97: FutureWarning: The frame.append method is deprecated and will be removed from pandas in a future version. Use pandas.concat instead.\n",
      "  df = df.append({'Address':address, 'Price':price, 'Eircode': eircode, 'Dwelling Type':dwelling_type, 'Bedrooms':bedrooms, 'Bathrooms':bathrooms, 'Last Refreshed':refreshed, 'Floor Area in sqm':floor_area, 'Facilities':facilities, 'Description':description, 'Directions':directions, 'Ber Details':ber_details, 'Accommodation':accommodation, 'Features':features}, ignore_index = True)\n"
     ]
    },
    {
     "name": "stdout",
     "output_type": "stream",
     "text": [
      "DataFrame length:  929\n"
     ]
    },
    {
     "name": "stderr",
     "output_type": "stream",
     "text": [
      "C:\\Users\\Harry\\AppData\\Local\\Temp\\ipykernel_35052\\75057381.py:97: FutureWarning: The frame.append method is deprecated and will be removed from pandas in a future version. Use pandas.concat instead.\n",
      "  df = df.append({'Address':address, 'Price':price, 'Eircode': eircode, 'Dwelling Type':dwelling_type, 'Bedrooms':bedrooms, 'Bathrooms':bathrooms, 'Last Refreshed':refreshed, 'Floor Area in sqm':floor_area, 'Facilities':facilities, 'Description':description, 'Directions':directions, 'Ber Details':ber_details, 'Accommodation':accommodation, 'Features':features}, ignore_index = True)\n"
     ]
    },
    {
     "name": "stdout",
     "output_type": "stream",
     "text": [
      "DataFrame length:  930\n"
     ]
    },
    {
     "name": "stderr",
     "output_type": "stream",
     "text": [
      "C:\\Users\\Harry\\AppData\\Local\\Temp\\ipykernel_35052\\75057381.py:97: FutureWarning: The frame.append method is deprecated and will be removed from pandas in a future version. Use pandas.concat instead.\n",
      "  df = df.append({'Address':address, 'Price':price, 'Eircode': eircode, 'Dwelling Type':dwelling_type, 'Bedrooms':bedrooms, 'Bathrooms':bathrooms, 'Last Refreshed':refreshed, 'Floor Area in sqm':floor_area, 'Facilities':facilities, 'Description':description, 'Directions':directions, 'Ber Details':ber_details, 'Accommodation':accommodation, 'Features':features}, ignore_index = True)\n"
     ]
    },
    {
     "name": "stdout",
     "output_type": "stream",
     "text": [
      "DataFrame length:  931\n"
     ]
    },
    {
     "name": "stderr",
     "output_type": "stream",
     "text": [
      "C:\\Users\\Harry\\AppData\\Local\\Temp\\ipykernel_35052\\75057381.py:97: FutureWarning: The frame.append method is deprecated and will be removed from pandas in a future version. Use pandas.concat instead.\n",
      "  df = df.append({'Address':address, 'Price':price, 'Eircode': eircode, 'Dwelling Type':dwelling_type, 'Bedrooms':bedrooms, 'Bathrooms':bathrooms, 'Last Refreshed':refreshed, 'Floor Area in sqm':floor_area, 'Facilities':facilities, 'Description':description, 'Directions':directions, 'Ber Details':ber_details, 'Accommodation':accommodation, 'Features':features}, ignore_index = True)\n"
     ]
    },
    {
     "name": "stdout",
     "output_type": "stream",
     "text": [
      "DataFrame length:  932\n"
     ]
    },
    {
     "name": "stderr",
     "output_type": "stream",
     "text": [
      "C:\\Users\\Harry\\AppData\\Local\\Temp\\ipykernel_35052\\75057381.py:97: FutureWarning: The frame.append method is deprecated and will be removed from pandas in a future version. Use pandas.concat instead.\n",
      "  df = df.append({'Address':address, 'Price':price, 'Eircode': eircode, 'Dwelling Type':dwelling_type, 'Bedrooms':bedrooms, 'Bathrooms':bathrooms, 'Last Refreshed':refreshed, 'Floor Area in sqm':floor_area, 'Facilities':facilities, 'Description':description, 'Directions':directions, 'Ber Details':ber_details, 'Accommodation':accommodation, 'Features':features}, ignore_index = True)\n"
     ]
    },
    {
     "name": "stdout",
     "output_type": "stream",
     "text": [
      "DataFrame length:  933\n"
     ]
    },
    {
     "name": "stderr",
     "output_type": "stream",
     "text": [
      "C:\\Users\\Harry\\AppData\\Local\\Temp\\ipykernel_35052\\75057381.py:97: FutureWarning: The frame.append method is deprecated and will be removed from pandas in a future version. Use pandas.concat instead.\n",
      "  df = df.append({'Address':address, 'Price':price, 'Eircode': eircode, 'Dwelling Type':dwelling_type, 'Bedrooms':bedrooms, 'Bathrooms':bathrooms, 'Last Refreshed':refreshed, 'Floor Area in sqm':floor_area, 'Facilities':facilities, 'Description':description, 'Directions':directions, 'Ber Details':ber_details, 'Accommodation':accommodation, 'Features':features}, ignore_index = True)\n"
     ]
    },
    {
     "name": "stdout",
     "output_type": "stream",
     "text": [
      "DataFrame length:  934\n"
     ]
    },
    {
     "name": "stderr",
     "output_type": "stream",
     "text": [
      "C:\\Users\\Harry\\AppData\\Local\\Temp\\ipykernel_35052\\75057381.py:97: FutureWarning: The frame.append method is deprecated and will be removed from pandas in a future version. Use pandas.concat instead.\n",
      "  df = df.append({'Address':address, 'Price':price, 'Eircode': eircode, 'Dwelling Type':dwelling_type, 'Bedrooms':bedrooms, 'Bathrooms':bathrooms, 'Last Refreshed':refreshed, 'Floor Area in sqm':floor_area, 'Facilities':facilities, 'Description':description, 'Directions':directions, 'Ber Details':ber_details, 'Accommodation':accommodation, 'Features':features}, ignore_index = True)\n"
     ]
    },
    {
     "name": "stdout",
     "output_type": "stream",
     "text": [
      "DataFrame length:  935\n"
     ]
    },
    {
     "name": "stderr",
     "output_type": "stream",
     "text": [
      "C:\\Users\\Harry\\AppData\\Local\\Temp\\ipykernel_35052\\75057381.py:97: FutureWarning: The frame.append method is deprecated and will be removed from pandas in a future version. Use pandas.concat instead.\n",
      "  df = df.append({'Address':address, 'Price':price, 'Eircode': eircode, 'Dwelling Type':dwelling_type, 'Bedrooms':bedrooms, 'Bathrooms':bathrooms, 'Last Refreshed':refreshed, 'Floor Area in sqm':floor_area, 'Facilities':facilities, 'Description':description, 'Directions':directions, 'Ber Details':ber_details, 'Accommodation':accommodation, 'Features':features}, ignore_index = True)\n"
     ]
    },
    {
     "name": "stdout",
     "output_type": "stream",
     "text": [
      "DataFrame length:  936\n"
     ]
    },
    {
     "name": "stderr",
     "output_type": "stream",
     "text": [
      "C:\\Users\\Harry\\AppData\\Local\\Temp\\ipykernel_35052\\75057381.py:97: FutureWarning: The frame.append method is deprecated and will be removed from pandas in a future version. Use pandas.concat instead.\n",
      "  df = df.append({'Address':address, 'Price':price, 'Eircode': eircode, 'Dwelling Type':dwelling_type, 'Bedrooms':bedrooms, 'Bathrooms':bathrooms, 'Last Refreshed':refreshed, 'Floor Area in sqm':floor_area, 'Facilities':facilities, 'Description':description, 'Directions':directions, 'Ber Details':ber_details, 'Accommodation':accommodation, 'Features':features}, ignore_index = True)\n"
     ]
    },
    {
     "name": "stdout",
     "output_type": "stream",
     "text": [
      "DataFrame length:  937\n"
     ]
    },
    {
     "name": "stderr",
     "output_type": "stream",
     "text": [
      "C:\\Users\\Harry\\AppData\\Local\\Temp\\ipykernel_35052\\75057381.py:97: FutureWarning: The frame.append method is deprecated and will be removed from pandas in a future version. Use pandas.concat instead.\n",
      "  df = df.append({'Address':address, 'Price':price, 'Eircode': eircode, 'Dwelling Type':dwelling_type, 'Bedrooms':bedrooms, 'Bathrooms':bathrooms, 'Last Refreshed':refreshed, 'Floor Area in sqm':floor_area, 'Facilities':facilities, 'Description':description, 'Directions':directions, 'Ber Details':ber_details, 'Accommodation':accommodation, 'Features':features}, ignore_index = True)\n"
     ]
    },
    {
     "name": "stdout",
     "output_type": "stream",
     "text": [
      "DataFrame length:  938\n"
     ]
    },
    {
     "name": "stderr",
     "output_type": "stream",
     "text": [
      "C:\\Users\\Harry\\AppData\\Local\\Temp\\ipykernel_35052\\75057381.py:97: FutureWarning: The frame.append method is deprecated and will be removed from pandas in a future version. Use pandas.concat instead.\n",
      "  df = df.append({'Address':address, 'Price':price, 'Eircode': eircode, 'Dwelling Type':dwelling_type, 'Bedrooms':bedrooms, 'Bathrooms':bathrooms, 'Last Refreshed':refreshed, 'Floor Area in sqm':floor_area, 'Facilities':facilities, 'Description':description, 'Directions':directions, 'Ber Details':ber_details, 'Accommodation':accommodation, 'Features':features}, ignore_index = True)\n"
     ]
    },
    {
     "name": "stdout",
     "output_type": "stream",
     "text": [
      "DataFrame length:  939\n"
     ]
    },
    {
     "name": "stderr",
     "output_type": "stream",
     "text": [
      "C:\\Users\\Harry\\AppData\\Local\\Temp\\ipykernel_35052\\75057381.py:97: FutureWarning: The frame.append method is deprecated and will be removed from pandas in a future version. Use pandas.concat instead.\n",
      "  df = df.append({'Address':address, 'Price':price, 'Eircode': eircode, 'Dwelling Type':dwelling_type, 'Bedrooms':bedrooms, 'Bathrooms':bathrooms, 'Last Refreshed':refreshed, 'Floor Area in sqm':floor_area, 'Facilities':facilities, 'Description':description, 'Directions':directions, 'Ber Details':ber_details, 'Accommodation':accommodation, 'Features':features}, ignore_index = True)\n"
     ]
    },
    {
     "name": "stdout",
     "output_type": "stream",
     "text": [
      "DataFrame length:  940\n"
     ]
    },
    {
     "name": "stderr",
     "output_type": "stream",
     "text": [
      "C:\\Users\\Harry\\AppData\\Local\\Temp\\ipykernel_35052\\75057381.py:97: FutureWarning: The frame.append method is deprecated and will be removed from pandas in a future version. Use pandas.concat instead.\n",
      "  df = df.append({'Address':address, 'Price':price, 'Eircode': eircode, 'Dwelling Type':dwelling_type, 'Bedrooms':bedrooms, 'Bathrooms':bathrooms, 'Last Refreshed':refreshed, 'Floor Area in sqm':floor_area, 'Facilities':facilities, 'Description':description, 'Directions':directions, 'Ber Details':ber_details, 'Accommodation':accommodation, 'Features':features}, ignore_index = True)\n"
     ]
    },
    {
     "name": "stdout",
     "output_type": "stream",
     "text": [
      "DataFrame length:  941\n"
     ]
    },
    {
     "name": "stderr",
     "output_type": "stream",
     "text": [
      "C:\\Users\\Harry\\AppData\\Local\\Temp\\ipykernel_35052\\75057381.py:97: FutureWarning: The frame.append method is deprecated and will be removed from pandas in a future version. Use pandas.concat instead.\n",
      "  df = df.append({'Address':address, 'Price':price, 'Eircode': eircode, 'Dwelling Type':dwelling_type, 'Bedrooms':bedrooms, 'Bathrooms':bathrooms, 'Last Refreshed':refreshed, 'Floor Area in sqm':floor_area, 'Facilities':facilities, 'Description':description, 'Directions':directions, 'Ber Details':ber_details, 'Accommodation':accommodation, 'Features':features}, ignore_index = True)\n"
     ]
    },
    {
     "name": "stdout",
     "output_type": "stream",
     "text": [
      "DataFrame length:  942\n"
     ]
    },
    {
     "name": "stderr",
     "output_type": "stream",
     "text": [
      "C:\\Users\\Harry\\AppData\\Local\\Temp\\ipykernel_35052\\75057381.py:97: FutureWarning: The frame.append method is deprecated and will be removed from pandas in a future version. Use pandas.concat instead.\n",
      "  df = df.append({'Address':address, 'Price':price, 'Eircode': eircode, 'Dwelling Type':dwelling_type, 'Bedrooms':bedrooms, 'Bathrooms':bathrooms, 'Last Refreshed':refreshed, 'Floor Area in sqm':floor_area, 'Facilities':facilities, 'Description':description, 'Directions':directions, 'Ber Details':ber_details, 'Accommodation':accommodation, 'Features':features}, ignore_index = True)\n"
     ]
    },
    {
     "name": "stdout",
     "output_type": "stream",
     "text": [
      "DataFrame length:  943\n"
     ]
    },
    {
     "name": "stderr",
     "output_type": "stream",
     "text": [
      "C:\\Users\\Harry\\AppData\\Local\\Temp\\ipykernel_35052\\75057381.py:97: FutureWarning: The frame.append method is deprecated and will be removed from pandas in a future version. Use pandas.concat instead.\n",
      "  df = df.append({'Address':address, 'Price':price, 'Eircode': eircode, 'Dwelling Type':dwelling_type, 'Bedrooms':bedrooms, 'Bathrooms':bathrooms, 'Last Refreshed':refreshed, 'Floor Area in sqm':floor_area, 'Facilities':facilities, 'Description':description, 'Directions':directions, 'Ber Details':ber_details, 'Accommodation':accommodation, 'Features':features}, ignore_index = True)\n"
     ]
    },
    {
     "name": "stdout",
     "output_type": "stream",
     "text": [
      "DataFrame length:  944\n"
     ]
    },
    {
     "name": "stderr",
     "output_type": "stream",
     "text": [
      "C:\\Users\\Harry\\AppData\\Local\\Temp\\ipykernel_35052\\75057381.py:97: FutureWarning: The frame.append method is deprecated and will be removed from pandas in a future version. Use pandas.concat instead.\n",
      "  df = df.append({'Address':address, 'Price':price, 'Eircode': eircode, 'Dwelling Type':dwelling_type, 'Bedrooms':bedrooms, 'Bathrooms':bathrooms, 'Last Refreshed':refreshed, 'Floor Area in sqm':floor_area, 'Facilities':facilities, 'Description':description, 'Directions':directions, 'Ber Details':ber_details, 'Accommodation':accommodation, 'Features':features}, ignore_index = True)\n"
     ]
    },
    {
     "name": "stdout",
     "output_type": "stream",
     "text": [
      "DataFrame length:  945\n"
     ]
    },
    {
     "name": "stderr",
     "output_type": "stream",
     "text": [
      "C:\\Users\\Harry\\AppData\\Local\\Temp\\ipykernel_35052\\75057381.py:97: FutureWarning: The frame.append method is deprecated and will be removed from pandas in a future version. Use pandas.concat instead.\n",
      "  df = df.append({'Address':address, 'Price':price, 'Eircode': eircode, 'Dwelling Type':dwelling_type, 'Bedrooms':bedrooms, 'Bathrooms':bathrooms, 'Last Refreshed':refreshed, 'Floor Area in sqm':floor_area, 'Facilities':facilities, 'Description':description, 'Directions':directions, 'Ber Details':ber_details, 'Accommodation':accommodation, 'Features':features}, ignore_index = True)\n"
     ]
    },
    {
     "name": "stdout",
     "output_type": "stream",
     "text": [
      "DataFrame length:  946\n"
     ]
    },
    {
     "name": "stderr",
     "output_type": "stream",
     "text": [
      "C:\\Users\\Harry\\AppData\\Local\\Temp\\ipykernel_35052\\75057381.py:97: FutureWarning: The frame.append method is deprecated and will be removed from pandas in a future version. Use pandas.concat instead.\n",
      "  df = df.append({'Address':address, 'Price':price, 'Eircode': eircode, 'Dwelling Type':dwelling_type, 'Bedrooms':bedrooms, 'Bathrooms':bathrooms, 'Last Refreshed':refreshed, 'Floor Area in sqm':floor_area, 'Facilities':facilities, 'Description':description, 'Directions':directions, 'Ber Details':ber_details, 'Accommodation':accommodation, 'Features':features}, ignore_index = True)\n"
     ]
    },
    {
     "name": "stdout",
     "output_type": "stream",
     "text": [
      "DataFrame length:  947\n"
     ]
    },
    {
     "name": "stderr",
     "output_type": "stream",
     "text": [
      "C:\\Users\\Harry\\AppData\\Local\\Temp\\ipykernel_35052\\75057381.py:97: FutureWarning: The frame.append method is deprecated and will be removed from pandas in a future version. Use pandas.concat instead.\n",
      "  df = df.append({'Address':address, 'Price':price, 'Eircode': eircode, 'Dwelling Type':dwelling_type, 'Bedrooms':bedrooms, 'Bathrooms':bathrooms, 'Last Refreshed':refreshed, 'Floor Area in sqm':floor_area, 'Facilities':facilities, 'Description':description, 'Directions':directions, 'Ber Details':ber_details, 'Accommodation':accommodation, 'Features':features}, ignore_index = True)\n"
     ]
    },
    {
     "name": "stdout",
     "output_type": "stream",
     "text": [
      "DataFrame length:  948\n"
     ]
    },
    {
     "name": "stderr",
     "output_type": "stream",
     "text": [
      "C:\\Users\\Harry\\AppData\\Local\\Temp\\ipykernel_35052\\75057381.py:97: FutureWarning: The frame.append method is deprecated and will be removed from pandas in a future version. Use pandas.concat instead.\n",
      "  df = df.append({'Address':address, 'Price':price, 'Eircode': eircode, 'Dwelling Type':dwelling_type, 'Bedrooms':bedrooms, 'Bathrooms':bathrooms, 'Last Refreshed':refreshed, 'Floor Area in sqm':floor_area, 'Facilities':facilities, 'Description':description, 'Directions':directions, 'Ber Details':ber_details, 'Accommodation':accommodation, 'Features':features}, ignore_index = True)\n"
     ]
    },
    {
     "name": "stdout",
     "output_type": "stream",
     "text": [
      "DataFrame length:  949\n"
     ]
    },
    {
     "name": "stderr",
     "output_type": "stream",
     "text": [
      "C:\\Users\\Harry\\AppData\\Local\\Temp\\ipykernel_35052\\75057381.py:97: FutureWarning: The frame.append method is deprecated and will be removed from pandas in a future version. Use pandas.concat instead.\n",
      "  df = df.append({'Address':address, 'Price':price, 'Eircode': eircode, 'Dwelling Type':dwelling_type, 'Bedrooms':bedrooms, 'Bathrooms':bathrooms, 'Last Refreshed':refreshed, 'Floor Area in sqm':floor_area, 'Facilities':facilities, 'Description':description, 'Directions':directions, 'Ber Details':ber_details, 'Accommodation':accommodation, 'Features':features}, ignore_index = True)\n"
     ]
    },
    {
     "name": "stdout",
     "output_type": "stream",
     "text": [
      "DataFrame length:  950\n"
     ]
    },
    {
     "name": "stderr",
     "output_type": "stream",
     "text": [
      "C:\\Users\\Harry\\AppData\\Local\\Temp\\ipykernel_35052\\75057381.py:97: FutureWarning: The frame.append method is deprecated and will be removed from pandas in a future version. Use pandas.concat instead.\n",
      "  df = df.append({'Address':address, 'Price':price, 'Eircode': eircode, 'Dwelling Type':dwelling_type, 'Bedrooms':bedrooms, 'Bathrooms':bathrooms, 'Last Refreshed':refreshed, 'Floor Area in sqm':floor_area, 'Facilities':facilities, 'Description':description, 'Directions':directions, 'Ber Details':ber_details, 'Accommodation':accommodation, 'Features':features}, ignore_index = True)\n"
     ]
    },
    {
     "name": "stdout",
     "output_type": "stream",
     "text": [
      "DataFrame length:  951\n"
     ]
    },
    {
     "name": "stderr",
     "output_type": "stream",
     "text": [
      "C:\\Users\\Harry\\AppData\\Local\\Temp\\ipykernel_35052\\75057381.py:97: FutureWarning: The frame.append method is deprecated and will be removed from pandas in a future version. Use pandas.concat instead.\n",
      "  df = df.append({'Address':address, 'Price':price, 'Eircode': eircode, 'Dwelling Type':dwelling_type, 'Bedrooms':bedrooms, 'Bathrooms':bathrooms, 'Last Refreshed':refreshed, 'Floor Area in sqm':floor_area, 'Facilities':facilities, 'Description':description, 'Directions':directions, 'Ber Details':ber_details, 'Accommodation':accommodation, 'Features':features}, ignore_index = True)\n"
     ]
    },
    {
     "name": "stdout",
     "output_type": "stream",
     "text": [
      "DataFrame length:  952\n"
     ]
    },
    {
     "name": "stderr",
     "output_type": "stream",
     "text": [
      "C:\\Users\\Harry\\AppData\\Local\\Temp\\ipykernel_35052\\75057381.py:97: FutureWarning: The frame.append method is deprecated and will be removed from pandas in a future version. Use pandas.concat instead.\n",
      "  df = df.append({'Address':address, 'Price':price, 'Eircode': eircode, 'Dwelling Type':dwelling_type, 'Bedrooms':bedrooms, 'Bathrooms':bathrooms, 'Last Refreshed':refreshed, 'Floor Area in sqm':floor_area, 'Facilities':facilities, 'Description':description, 'Directions':directions, 'Ber Details':ber_details, 'Accommodation':accommodation, 'Features':features}, ignore_index = True)\n"
     ]
    },
    {
     "name": "stdout",
     "output_type": "stream",
     "text": [
      "DataFrame length:  953\n"
     ]
    },
    {
     "name": "stderr",
     "output_type": "stream",
     "text": [
      "C:\\Users\\Harry\\AppData\\Local\\Temp\\ipykernel_35052\\75057381.py:97: FutureWarning: The frame.append method is deprecated and will be removed from pandas in a future version. Use pandas.concat instead.\n",
      "  df = df.append({'Address':address, 'Price':price, 'Eircode': eircode, 'Dwelling Type':dwelling_type, 'Bedrooms':bedrooms, 'Bathrooms':bathrooms, 'Last Refreshed':refreshed, 'Floor Area in sqm':floor_area, 'Facilities':facilities, 'Description':description, 'Directions':directions, 'Ber Details':ber_details, 'Accommodation':accommodation, 'Features':features}, ignore_index = True)\n"
     ]
    },
    {
     "name": "stdout",
     "output_type": "stream",
     "text": [
      "DataFrame length:  954\n"
     ]
    },
    {
     "name": "stderr",
     "output_type": "stream",
     "text": [
      "C:\\Users\\Harry\\AppData\\Local\\Temp\\ipykernel_35052\\75057381.py:97: FutureWarning: The frame.append method is deprecated and will be removed from pandas in a future version. Use pandas.concat instead.\n",
      "  df = df.append({'Address':address, 'Price':price, 'Eircode': eircode, 'Dwelling Type':dwelling_type, 'Bedrooms':bedrooms, 'Bathrooms':bathrooms, 'Last Refreshed':refreshed, 'Floor Area in sqm':floor_area, 'Facilities':facilities, 'Description':description, 'Directions':directions, 'Ber Details':ber_details, 'Accommodation':accommodation, 'Features':features}, ignore_index = True)\n"
     ]
    },
    {
     "name": "stdout",
     "output_type": "stream",
     "text": [
      "DataFrame length:  955\n"
     ]
    },
    {
     "name": "stderr",
     "output_type": "stream",
     "text": [
      "C:\\Users\\Harry\\AppData\\Local\\Temp\\ipykernel_35052\\75057381.py:97: FutureWarning: The frame.append method is deprecated and will be removed from pandas in a future version. Use pandas.concat instead.\n",
      "  df = df.append({'Address':address, 'Price':price, 'Eircode': eircode, 'Dwelling Type':dwelling_type, 'Bedrooms':bedrooms, 'Bathrooms':bathrooms, 'Last Refreshed':refreshed, 'Floor Area in sqm':floor_area, 'Facilities':facilities, 'Description':description, 'Directions':directions, 'Ber Details':ber_details, 'Accommodation':accommodation, 'Features':features}, ignore_index = True)\n"
     ]
    },
    {
     "name": "stdout",
     "output_type": "stream",
     "text": [
      "DataFrame length:  956\n"
     ]
    },
    {
     "name": "stderr",
     "output_type": "stream",
     "text": [
      "C:\\Users\\Harry\\AppData\\Local\\Temp\\ipykernel_35052\\75057381.py:97: FutureWarning: The frame.append method is deprecated and will be removed from pandas in a future version. Use pandas.concat instead.\n",
      "  df = df.append({'Address':address, 'Price':price, 'Eircode': eircode, 'Dwelling Type':dwelling_type, 'Bedrooms':bedrooms, 'Bathrooms':bathrooms, 'Last Refreshed':refreshed, 'Floor Area in sqm':floor_area, 'Facilities':facilities, 'Description':description, 'Directions':directions, 'Ber Details':ber_details, 'Accommodation':accommodation, 'Features':features}, ignore_index = True)\n"
     ]
    },
    {
     "name": "stdout",
     "output_type": "stream",
     "text": [
      "DataFrame length:  957\n"
     ]
    },
    {
     "name": "stderr",
     "output_type": "stream",
     "text": [
      "C:\\Users\\Harry\\AppData\\Local\\Temp\\ipykernel_35052\\75057381.py:97: FutureWarning: The frame.append method is deprecated and will be removed from pandas in a future version. Use pandas.concat instead.\n",
      "  df = df.append({'Address':address, 'Price':price, 'Eircode': eircode, 'Dwelling Type':dwelling_type, 'Bedrooms':bedrooms, 'Bathrooms':bathrooms, 'Last Refreshed':refreshed, 'Floor Area in sqm':floor_area, 'Facilities':facilities, 'Description':description, 'Directions':directions, 'Ber Details':ber_details, 'Accommodation':accommodation, 'Features':features}, ignore_index = True)\n"
     ]
    },
    {
     "name": "stdout",
     "output_type": "stream",
     "text": [
      "DataFrame length:  958\n"
     ]
    },
    {
     "name": "stderr",
     "output_type": "stream",
     "text": [
      "C:\\Users\\Harry\\AppData\\Local\\Temp\\ipykernel_35052\\75057381.py:97: FutureWarning: The frame.append method is deprecated and will be removed from pandas in a future version. Use pandas.concat instead.\n",
      "  df = df.append({'Address':address, 'Price':price, 'Eircode': eircode, 'Dwelling Type':dwelling_type, 'Bedrooms':bedrooms, 'Bathrooms':bathrooms, 'Last Refreshed':refreshed, 'Floor Area in sqm':floor_area, 'Facilities':facilities, 'Description':description, 'Directions':directions, 'Ber Details':ber_details, 'Accommodation':accommodation, 'Features':features}, ignore_index = True)\n"
     ]
    },
    {
     "name": "stdout",
     "output_type": "stream",
     "text": [
      "DataFrame length:  959\n"
     ]
    },
    {
     "name": "stderr",
     "output_type": "stream",
     "text": [
      "C:\\Users\\Harry\\AppData\\Local\\Temp\\ipykernel_35052\\75057381.py:97: FutureWarning: The frame.append method is deprecated and will be removed from pandas in a future version. Use pandas.concat instead.\n",
      "  df = df.append({'Address':address, 'Price':price, 'Eircode': eircode, 'Dwelling Type':dwelling_type, 'Bedrooms':bedrooms, 'Bathrooms':bathrooms, 'Last Refreshed':refreshed, 'Floor Area in sqm':floor_area, 'Facilities':facilities, 'Description':description, 'Directions':directions, 'Ber Details':ber_details, 'Accommodation':accommodation, 'Features':features}, ignore_index = True)\n"
     ]
    },
    {
     "name": "stdout",
     "output_type": "stream",
     "text": [
      "DataFrame length:  960\n"
     ]
    },
    {
     "name": "stderr",
     "output_type": "stream",
     "text": [
      "C:\\Users\\Harry\\AppData\\Local\\Temp\\ipykernel_35052\\75057381.py:97: FutureWarning: The frame.append method is deprecated and will be removed from pandas in a future version. Use pandas.concat instead.\n",
      "  df = df.append({'Address':address, 'Price':price, 'Eircode': eircode, 'Dwelling Type':dwelling_type, 'Bedrooms':bedrooms, 'Bathrooms':bathrooms, 'Last Refreshed':refreshed, 'Floor Area in sqm':floor_area, 'Facilities':facilities, 'Description':description, 'Directions':directions, 'Ber Details':ber_details, 'Accommodation':accommodation, 'Features':features}, ignore_index = True)\n"
     ]
    },
    {
     "name": "stdout",
     "output_type": "stream",
     "text": [
      "DataFrame length:  961\n"
     ]
    },
    {
     "name": "stderr",
     "output_type": "stream",
     "text": [
      "C:\\Users\\Harry\\AppData\\Local\\Temp\\ipykernel_35052\\75057381.py:97: FutureWarning: The frame.append method is deprecated and will be removed from pandas in a future version. Use pandas.concat instead.\n",
      "  df = df.append({'Address':address, 'Price':price, 'Eircode': eircode, 'Dwelling Type':dwelling_type, 'Bedrooms':bedrooms, 'Bathrooms':bathrooms, 'Last Refreshed':refreshed, 'Floor Area in sqm':floor_area, 'Facilities':facilities, 'Description':description, 'Directions':directions, 'Ber Details':ber_details, 'Accommodation':accommodation, 'Features':features}, ignore_index = True)\n"
     ]
    },
    {
     "name": "stdout",
     "output_type": "stream",
     "text": [
      "DataFrame length:  962\n"
     ]
    },
    {
     "name": "stderr",
     "output_type": "stream",
     "text": [
      "C:\\Users\\Harry\\AppData\\Local\\Temp\\ipykernel_35052\\75057381.py:97: FutureWarning: The frame.append method is deprecated and will be removed from pandas in a future version. Use pandas.concat instead.\n",
      "  df = df.append({'Address':address, 'Price':price, 'Eircode': eircode, 'Dwelling Type':dwelling_type, 'Bedrooms':bedrooms, 'Bathrooms':bathrooms, 'Last Refreshed':refreshed, 'Floor Area in sqm':floor_area, 'Facilities':facilities, 'Description':description, 'Directions':directions, 'Ber Details':ber_details, 'Accommodation':accommodation, 'Features':features}, ignore_index = True)\n"
     ]
    },
    {
     "name": "stdout",
     "output_type": "stream",
     "text": [
      "DataFrame length:  963\n"
     ]
    },
    {
     "name": "stderr",
     "output_type": "stream",
     "text": [
      "C:\\Users\\Harry\\AppData\\Local\\Temp\\ipykernel_35052\\75057381.py:97: FutureWarning: The frame.append method is deprecated and will be removed from pandas in a future version. Use pandas.concat instead.\n",
      "  df = df.append({'Address':address, 'Price':price, 'Eircode': eircode, 'Dwelling Type':dwelling_type, 'Bedrooms':bedrooms, 'Bathrooms':bathrooms, 'Last Refreshed':refreshed, 'Floor Area in sqm':floor_area, 'Facilities':facilities, 'Description':description, 'Directions':directions, 'Ber Details':ber_details, 'Accommodation':accommodation, 'Features':features}, ignore_index = True)\n"
     ]
    },
    {
     "name": "stdout",
     "output_type": "stream",
     "text": [
      "DataFrame length:  964\n"
     ]
    },
    {
     "name": "stderr",
     "output_type": "stream",
     "text": [
      "C:\\Users\\Harry\\AppData\\Local\\Temp\\ipykernel_35052\\75057381.py:97: FutureWarning: The frame.append method is deprecated and will be removed from pandas in a future version. Use pandas.concat instead.\n",
      "  df = df.append({'Address':address, 'Price':price, 'Eircode': eircode, 'Dwelling Type':dwelling_type, 'Bedrooms':bedrooms, 'Bathrooms':bathrooms, 'Last Refreshed':refreshed, 'Floor Area in sqm':floor_area, 'Facilities':facilities, 'Description':description, 'Directions':directions, 'Ber Details':ber_details, 'Accommodation':accommodation, 'Features':features}, ignore_index = True)\n"
     ]
    },
    {
     "name": "stdout",
     "output_type": "stream",
     "text": [
      "DataFrame length:  965\n"
     ]
    },
    {
     "name": "stderr",
     "output_type": "stream",
     "text": [
      "C:\\Users\\Harry\\AppData\\Local\\Temp\\ipykernel_35052\\75057381.py:97: FutureWarning: The frame.append method is deprecated and will be removed from pandas in a future version. Use pandas.concat instead.\n",
      "  df = df.append({'Address':address, 'Price':price, 'Eircode': eircode, 'Dwelling Type':dwelling_type, 'Bedrooms':bedrooms, 'Bathrooms':bathrooms, 'Last Refreshed':refreshed, 'Floor Area in sqm':floor_area, 'Facilities':facilities, 'Description':description, 'Directions':directions, 'Ber Details':ber_details, 'Accommodation':accommodation, 'Features':features}, ignore_index = True)\n"
     ]
    },
    {
     "name": "stdout",
     "output_type": "stream",
     "text": [
      "DataFrame length:  966\n"
     ]
    },
    {
     "name": "stderr",
     "output_type": "stream",
     "text": [
      "C:\\Users\\Harry\\AppData\\Local\\Temp\\ipykernel_35052\\75057381.py:97: FutureWarning: The frame.append method is deprecated and will be removed from pandas in a future version. Use pandas.concat instead.\n",
      "  df = df.append({'Address':address, 'Price':price, 'Eircode': eircode, 'Dwelling Type':dwelling_type, 'Bedrooms':bedrooms, 'Bathrooms':bathrooms, 'Last Refreshed':refreshed, 'Floor Area in sqm':floor_area, 'Facilities':facilities, 'Description':description, 'Directions':directions, 'Ber Details':ber_details, 'Accommodation':accommodation, 'Features':features}, ignore_index = True)\n"
     ]
    },
    {
     "name": "stdout",
     "output_type": "stream",
     "text": [
      "DataFrame length:  967\n"
     ]
    },
    {
     "name": "stderr",
     "output_type": "stream",
     "text": [
      "C:\\Users\\Harry\\AppData\\Local\\Temp\\ipykernel_35052\\75057381.py:97: FutureWarning: The frame.append method is deprecated and will be removed from pandas in a future version. Use pandas.concat instead.\n",
      "  df = df.append({'Address':address, 'Price':price, 'Eircode': eircode, 'Dwelling Type':dwelling_type, 'Bedrooms':bedrooms, 'Bathrooms':bathrooms, 'Last Refreshed':refreshed, 'Floor Area in sqm':floor_area, 'Facilities':facilities, 'Description':description, 'Directions':directions, 'Ber Details':ber_details, 'Accommodation':accommodation, 'Features':features}, ignore_index = True)\n"
     ]
    },
    {
     "name": "stdout",
     "output_type": "stream",
     "text": [
      "DataFrame length:  968\n"
     ]
    },
    {
     "name": "stderr",
     "output_type": "stream",
     "text": [
      "C:\\Users\\Harry\\AppData\\Local\\Temp\\ipykernel_35052\\75057381.py:97: FutureWarning: The frame.append method is deprecated and will be removed from pandas in a future version. Use pandas.concat instead.\n",
      "  df = df.append({'Address':address, 'Price':price, 'Eircode': eircode, 'Dwelling Type':dwelling_type, 'Bedrooms':bedrooms, 'Bathrooms':bathrooms, 'Last Refreshed':refreshed, 'Floor Area in sqm':floor_area, 'Facilities':facilities, 'Description':description, 'Directions':directions, 'Ber Details':ber_details, 'Accommodation':accommodation, 'Features':features}, ignore_index = True)\n"
     ]
    },
    {
     "name": "stdout",
     "output_type": "stream",
     "text": [
      "DataFrame length:  969\n"
     ]
    },
    {
     "name": "stderr",
     "output_type": "stream",
     "text": [
      "C:\\Users\\Harry\\AppData\\Local\\Temp\\ipykernel_35052\\75057381.py:97: FutureWarning: The frame.append method is deprecated and will be removed from pandas in a future version. Use pandas.concat instead.\n",
      "  df = df.append({'Address':address, 'Price':price, 'Eircode': eircode, 'Dwelling Type':dwelling_type, 'Bedrooms':bedrooms, 'Bathrooms':bathrooms, 'Last Refreshed':refreshed, 'Floor Area in sqm':floor_area, 'Facilities':facilities, 'Description':description, 'Directions':directions, 'Ber Details':ber_details, 'Accommodation':accommodation, 'Features':features}, ignore_index = True)\n"
     ]
    },
    {
     "name": "stdout",
     "output_type": "stream",
     "text": [
      "DataFrame length:  970\n"
     ]
    },
    {
     "name": "stderr",
     "output_type": "stream",
     "text": [
      "C:\\Users\\Harry\\AppData\\Local\\Temp\\ipykernel_35052\\75057381.py:97: FutureWarning: The frame.append method is deprecated and will be removed from pandas in a future version. Use pandas.concat instead.\n",
      "  df = df.append({'Address':address, 'Price':price, 'Eircode': eircode, 'Dwelling Type':dwelling_type, 'Bedrooms':bedrooms, 'Bathrooms':bathrooms, 'Last Refreshed':refreshed, 'Floor Area in sqm':floor_area, 'Facilities':facilities, 'Description':description, 'Directions':directions, 'Ber Details':ber_details, 'Accommodation':accommodation, 'Features':features}, ignore_index = True)\n"
     ]
    },
    {
     "name": "stdout",
     "output_type": "stream",
     "text": [
      "DataFrame length:  971\n"
     ]
    },
    {
     "name": "stderr",
     "output_type": "stream",
     "text": [
      "C:\\Users\\Harry\\AppData\\Local\\Temp\\ipykernel_35052\\75057381.py:97: FutureWarning: The frame.append method is deprecated and will be removed from pandas in a future version. Use pandas.concat instead.\n",
      "  df = df.append({'Address':address, 'Price':price, 'Eircode': eircode, 'Dwelling Type':dwelling_type, 'Bedrooms':bedrooms, 'Bathrooms':bathrooms, 'Last Refreshed':refreshed, 'Floor Area in sqm':floor_area, 'Facilities':facilities, 'Description':description, 'Directions':directions, 'Ber Details':ber_details, 'Accommodation':accommodation, 'Features':features}, ignore_index = True)\n"
     ]
    },
    {
     "name": "stdout",
     "output_type": "stream",
     "text": [
      "DataFrame length:  972\n"
     ]
    },
    {
     "name": "stderr",
     "output_type": "stream",
     "text": [
      "C:\\Users\\Harry\\AppData\\Local\\Temp\\ipykernel_35052\\75057381.py:97: FutureWarning: The frame.append method is deprecated and will be removed from pandas in a future version. Use pandas.concat instead.\n",
      "  df = df.append({'Address':address, 'Price':price, 'Eircode': eircode, 'Dwelling Type':dwelling_type, 'Bedrooms':bedrooms, 'Bathrooms':bathrooms, 'Last Refreshed':refreshed, 'Floor Area in sqm':floor_area, 'Facilities':facilities, 'Description':description, 'Directions':directions, 'Ber Details':ber_details, 'Accommodation':accommodation, 'Features':features}, ignore_index = True)\n"
     ]
    },
    {
     "name": "stdout",
     "output_type": "stream",
     "text": [
      "DataFrame length:  973\n"
     ]
    },
    {
     "name": "stderr",
     "output_type": "stream",
     "text": [
      "C:\\Users\\Harry\\AppData\\Local\\Temp\\ipykernel_35052\\75057381.py:97: FutureWarning: The frame.append method is deprecated and will be removed from pandas in a future version. Use pandas.concat instead.\n",
      "  df = df.append({'Address':address, 'Price':price, 'Eircode': eircode, 'Dwelling Type':dwelling_type, 'Bedrooms':bedrooms, 'Bathrooms':bathrooms, 'Last Refreshed':refreshed, 'Floor Area in sqm':floor_area, 'Facilities':facilities, 'Description':description, 'Directions':directions, 'Ber Details':ber_details, 'Accommodation':accommodation, 'Features':features}, ignore_index = True)\n"
     ]
    },
    {
     "name": "stdout",
     "output_type": "stream",
     "text": [
      "DataFrame length:  974\n"
     ]
    },
    {
     "name": "stderr",
     "output_type": "stream",
     "text": [
      "C:\\Users\\Harry\\AppData\\Local\\Temp\\ipykernel_35052\\75057381.py:97: FutureWarning: The frame.append method is deprecated and will be removed from pandas in a future version. Use pandas.concat instead.\n",
      "  df = df.append({'Address':address, 'Price':price, 'Eircode': eircode, 'Dwelling Type':dwelling_type, 'Bedrooms':bedrooms, 'Bathrooms':bathrooms, 'Last Refreshed':refreshed, 'Floor Area in sqm':floor_area, 'Facilities':facilities, 'Description':description, 'Directions':directions, 'Ber Details':ber_details, 'Accommodation':accommodation, 'Features':features}, ignore_index = True)\n"
     ]
    },
    {
     "name": "stdout",
     "output_type": "stream",
     "text": [
      "DataFrame length:  975\n"
     ]
    },
    {
     "name": "stderr",
     "output_type": "stream",
     "text": [
      "C:\\Users\\Harry\\AppData\\Local\\Temp\\ipykernel_35052\\75057381.py:97: FutureWarning: The frame.append method is deprecated and will be removed from pandas in a future version. Use pandas.concat instead.\n",
      "  df = df.append({'Address':address, 'Price':price, 'Eircode': eircode, 'Dwelling Type':dwelling_type, 'Bedrooms':bedrooms, 'Bathrooms':bathrooms, 'Last Refreshed':refreshed, 'Floor Area in sqm':floor_area, 'Facilities':facilities, 'Description':description, 'Directions':directions, 'Ber Details':ber_details, 'Accommodation':accommodation, 'Features':features}, ignore_index = True)\n"
     ]
    },
    {
     "name": "stdout",
     "output_type": "stream",
     "text": [
      "DataFrame length:  976\n"
     ]
    },
    {
     "name": "stderr",
     "output_type": "stream",
     "text": [
      "C:\\Users\\Harry\\AppData\\Local\\Temp\\ipykernel_35052\\75057381.py:97: FutureWarning: The frame.append method is deprecated and will be removed from pandas in a future version. Use pandas.concat instead.\n",
      "  df = df.append({'Address':address, 'Price':price, 'Eircode': eircode, 'Dwelling Type':dwelling_type, 'Bedrooms':bedrooms, 'Bathrooms':bathrooms, 'Last Refreshed':refreshed, 'Floor Area in sqm':floor_area, 'Facilities':facilities, 'Description':description, 'Directions':directions, 'Ber Details':ber_details, 'Accommodation':accommodation, 'Features':features}, ignore_index = True)\n"
     ]
    },
    {
     "name": "stdout",
     "output_type": "stream",
     "text": [
      "DataFrame length:  977\n"
     ]
    },
    {
     "name": "stderr",
     "output_type": "stream",
     "text": [
      "C:\\Users\\Harry\\AppData\\Local\\Temp\\ipykernel_35052\\75057381.py:97: FutureWarning: The frame.append method is deprecated and will be removed from pandas in a future version. Use pandas.concat instead.\n",
      "  df = df.append({'Address':address, 'Price':price, 'Eircode': eircode, 'Dwelling Type':dwelling_type, 'Bedrooms':bedrooms, 'Bathrooms':bathrooms, 'Last Refreshed':refreshed, 'Floor Area in sqm':floor_area, 'Facilities':facilities, 'Description':description, 'Directions':directions, 'Ber Details':ber_details, 'Accommodation':accommodation, 'Features':features}, ignore_index = True)\n"
     ]
    },
    {
     "name": "stdout",
     "output_type": "stream",
     "text": [
      "DataFrame length:  978\n"
     ]
    },
    {
     "name": "stderr",
     "output_type": "stream",
     "text": [
      "C:\\Users\\Harry\\AppData\\Local\\Temp\\ipykernel_35052\\75057381.py:97: FutureWarning: The frame.append method is deprecated and will be removed from pandas in a future version. Use pandas.concat instead.\n",
      "  df = df.append({'Address':address, 'Price':price, 'Eircode': eircode, 'Dwelling Type':dwelling_type, 'Bedrooms':bedrooms, 'Bathrooms':bathrooms, 'Last Refreshed':refreshed, 'Floor Area in sqm':floor_area, 'Facilities':facilities, 'Description':description, 'Directions':directions, 'Ber Details':ber_details, 'Accommodation':accommodation, 'Features':features}, ignore_index = True)\n"
     ]
    },
    {
     "name": "stdout",
     "output_type": "stream",
     "text": [
      "DataFrame length:  979\n"
     ]
    },
    {
     "name": "stderr",
     "output_type": "stream",
     "text": [
      "C:\\Users\\Harry\\AppData\\Local\\Temp\\ipykernel_35052\\75057381.py:97: FutureWarning: The frame.append method is deprecated and will be removed from pandas in a future version. Use pandas.concat instead.\n",
      "  df = df.append({'Address':address, 'Price':price, 'Eircode': eircode, 'Dwelling Type':dwelling_type, 'Bedrooms':bedrooms, 'Bathrooms':bathrooms, 'Last Refreshed':refreshed, 'Floor Area in sqm':floor_area, 'Facilities':facilities, 'Description':description, 'Directions':directions, 'Ber Details':ber_details, 'Accommodation':accommodation, 'Features':features}, ignore_index = True)\n"
     ]
    },
    {
     "name": "stdout",
     "output_type": "stream",
     "text": [
      "DataFrame length:  980\n"
     ]
    },
    {
     "name": "stderr",
     "output_type": "stream",
     "text": [
      "C:\\Users\\Harry\\AppData\\Local\\Temp\\ipykernel_35052\\75057381.py:97: FutureWarning: The frame.append method is deprecated and will be removed from pandas in a future version. Use pandas.concat instead.\n",
      "  df = df.append({'Address':address, 'Price':price, 'Eircode': eircode, 'Dwelling Type':dwelling_type, 'Bedrooms':bedrooms, 'Bathrooms':bathrooms, 'Last Refreshed':refreshed, 'Floor Area in sqm':floor_area, 'Facilities':facilities, 'Description':description, 'Directions':directions, 'Ber Details':ber_details, 'Accommodation':accommodation, 'Features':features}, ignore_index = True)\n"
     ]
    },
    {
     "name": "stdout",
     "output_type": "stream",
     "text": [
      "DataFrame length:  981\n"
     ]
    },
    {
     "name": "stderr",
     "output_type": "stream",
     "text": [
      "C:\\Users\\Harry\\AppData\\Local\\Temp\\ipykernel_35052\\75057381.py:97: FutureWarning: The frame.append method is deprecated and will be removed from pandas in a future version. Use pandas.concat instead.\n",
      "  df = df.append({'Address':address, 'Price':price, 'Eircode': eircode, 'Dwelling Type':dwelling_type, 'Bedrooms':bedrooms, 'Bathrooms':bathrooms, 'Last Refreshed':refreshed, 'Floor Area in sqm':floor_area, 'Facilities':facilities, 'Description':description, 'Directions':directions, 'Ber Details':ber_details, 'Accommodation':accommodation, 'Features':features}, ignore_index = True)\n"
     ]
    },
    {
     "name": "stdout",
     "output_type": "stream",
     "text": [
      "DataFrame length:  982\n"
     ]
    },
    {
     "name": "stderr",
     "output_type": "stream",
     "text": [
      "C:\\Users\\Harry\\AppData\\Local\\Temp\\ipykernel_35052\\75057381.py:97: FutureWarning: The frame.append method is deprecated and will be removed from pandas in a future version. Use pandas.concat instead.\n",
      "  df = df.append({'Address':address, 'Price':price, 'Eircode': eircode, 'Dwelling Type':dwelling_type, 'Bedrooms':bedrooms, 'Bathrooms':bathrooms, 'Last Refreshed':refreshed, 'Floor Area in sqm':floor_area, 'Facilities':facilities, 'Description':description, 'Directions':directions, 'Ber Details':ber_details, 'Accommodation':accommodation, 'Features':features}, ignore_index = True)\n"
     ]
    },
    {
     "name": "stdout",
     "output_type": "stream",
     "text": [
      "DataFrame length:  983\n"
     ]
    },
    {
     "name": "stderr",
     "output_type": "stream",
     "text": [
      "C:\\Users\\Harry\\AppData\\Local\\Temp\\ipykernel_35052\\75057381.py:97: FutureWarning: The frame.append method is deprecated and will be removed from pandas in a future version. Use pandas.concat instead.\n",
      "  df = df.append({'Address':address, 'Price':price, 'Eircode': eircode, 'Dwelling Type':dwelling_type, 'Bedrooms':bedrooms, 'Bathrooms':bathrooms, 'Last Refreshed':refreshed, 'Floor Area in sqm':floor_area, 'Facilities':facilities, 'Description':description, 'Directions':directions, 'Ber Details':ber_details, 'Accommodation':accommodation, 'Features':features}, ignore_index = True)\n"
     ]
    },
    {
     "name": "stdout",
     "output_type": "stream",
     "text": [
      "DataFrame length:  984\n"
     ]
    },
    {
     "name": "stderr",
     "output_type": "stream",
     "text": [
      "C:\\Users\\Harry\\AppData\\Local\\Temp\\ipykernel_35052\\75057381.py:97: FutureWarning: The frame.append method is deprecated and will be removed from pandas in a future version. Use pandas.concat instead.\n",
      "  df = df.append({'Address':address, 'Price':price, 'Eircode': eircode, 'Dwelling Type':dwelling_type, 'Bedrooms':bedrooms, 'Bathrooms':bathrooms, 'Last Refreshed':refreshed, 'Floor Area in sqm':floor_area, 'Facilities':facilities, 'Description':description, 'Directions':directions, 'Ber Details':ber_details, 'Accommodation':accommodation, 'Features':features}, ignore_index = True)\n"
     ]
    },
    {
     "name": "stdout",
     "output_type": "stream",
     "text": [
      "DataFrame length:  985\n"
     ]
    },
    {
     "name": "stderr",
     "output_type": "stream",
     "text": [
      "C:\\Users\\Harry\\AppData\\Local\\Temp\\ipykernel_35052\\75057381.py:97: FutureWarning: The frame.append method is deprecated and will be removed from pandas in a future version. Use pandas.concat instead.\n",
      "  df = df.append({'Address':address, 'Price':price, 'Eircode': eircode, 'Dwelling Type':dwelling_type, 'Bedrooms':bedrooms, 'Bathrooms':bathrooms, 'Last Refreshed':refreshed, 'Floor Area in sqm':floor_area, 'Facilities':facilities, 'Description':description, 'Directions':directions, 'Ber Details':ber_details, 'Accommodation':accommodation, 'Features':features}, ignore_index = True)\n"
     ]
    },
    {
     "name": "stdout",
     "output_type": "stream",
     "text": [
      "DataFrame length:  986\n"
     ]
    },
    {
     "name": "stderr",
     "output_type": "stream",
     "text": [
      "C:\\Users\\Harry\\AppData\\Local\\Temp\\ipykernel_35052\\75057381.py:97: FutureWarning: The frame.append method is deprecated and will be removed from pandas in a future version. Use pandas.concat instead.\n",
      "  df = df.append({'Address':address, 'Price':price, 'Eircode': eircode, 'Dwelling Type':dwelling_type, 'Bedrooms':bedrooms, 'Bathrooms':bathrooms, 'Last Refreshed':refreshed, 'Floor Area in sqm':floor_area, 'Facilities':facilities, 'Description':description, 'Directions':directions, 'Ber Details':ber_details, 'Accommodation':accommodation, 'Features':features}, ignore_index = True)\n"
     ]
    },
    {
     "name": "stdout",
     "output_type": "stream",
     "text": [
      "DataFrame length:  987\n"
     ]
    },
    {
     "name": "stderr",
     "output_type": "stream",
     "text": [
      "C:\\Users\\Harry\\AppData\\Local\\Temp\\ipykernel_35052\\75057381.py:97: FutureWarning: The frame.append method is deprecated and will be removed from pandas in a future version. Use pandas.concat instead.\n",
      "  df = df.append({'Address':address, 'Price':price, 'Eircode': eircode, 'Dwelling Type':dwelling_type, 'Bedrooms':bedrooms, 'Bathrooms':bathrooms, 'Last Refreshed':refreshed, 'Floor Area in sqm':floor_area, 'Facilities':facilities, 'Description':description, 'Directions':directions, 'Ber Details':ber_details, 'Accommodation':accommodation, 'Features':features}, ignore_index = True)\n"
     ]
    },
    {
     "name": "stdout",
     "output_type": "stream",
     "text": [
      "DataFrame length:  988\n"
     ]
    },
    {
     "name": "stderr",
     "output_type": "stream",
     "text": [
      "C:\\Users\\Harry\\AppData\\Local\\Temp\\ipykernel_35052\\75057381.py:97: FutureWarning: The frame.append method is deprecated and will be removed from pandas in a future version. Use pandas.concat instead.\n",
      "  df = df.append({'Address':address, 'Price':price, 'Eircode': eircode, 'Dwelling Type':dwelling_type, 'Bedrooms':bedrooms, 'Bathrooms':bathrooms, 'Last Refreshed':refreshed, 'Floor Area in sqm':floor_area, 'Facilities':facilities, 'Description':description, 'Directions':directions, 'Ber Details':ber_details, 'Accommodation':accommodation, 'Features':features}, ignore_index = True)\n"
     ]
    },
    {
     "name": "stdout",
     "output_type": "stream",
     "text": [
      "DataFrame length:  989\n"
     ]
    },
    {
     "name": "stderr",
     "output_type": "stream",
     "text": [
      "C:\\Users\\Harry\\AppData\\Local\\Temp\\ipykernel_35052\\75057381.py:97: FutureWarning: The frame.append method is deprecated and will be removed from pandas in a future version. Use pandas.concat instead.\n",
      "  df = df.append({'Address':address, 'Price':price, 'Eircode': eircode, 'Dwelling Type':dwelling_type, 'Bedrooms':bedrooms, 'Bathrooms':bathrooms, 'Last Refreshed':refreshed, 'Floor Area in sqm':floor_area, 'Facilities':facilities, 'Description':description, 'Directions':directions, 'Ber Details':ber_details, 'Accommodation':accommodation, 'Features':features}, ignore_index = True)\n"
     ]
    },
    {
     "name": "stdout",
     "output_type": "stream",
     "text": [
      "DataFrame length:  990\n"
     ]
    },
    {
     "name": "stderr",
     "output_type": "stream",
     "text": [
      "C:\\Users\\Harry\\AppData\\Local\\Temp\\ipykernel_35052\\75057381.py:97: FutureWarning: The frame.append method is deprecated and will be removed from pandas in a future version. Use pandas.concat instead.\n",
      "  df = df.append({'Address':address, 'Price':price, 'Eircode': eircode, 'Dwelling Type':dwelling_type, 'Bedrooms':bedrooms, 'Bathrooms':bathrooms, 'Last Refreshed':refreshed, 'Floor Area in sqm':floor_area, 'Facilities':facilities, 'Description':description, 'Directions':directions, 'Ber Details':ber_details, 'Accommodation':accommodation, 'Features':features}, ignore_index = True)\n"
     ]
    },
    {
     "name": "stdout",
     "output_type": "stream",
     "text": [
      "DataFrame length:  991\n"
     ]
    },
    {
     "name": "stderr",
     "output_type": "stream",
     "text": [
      "C:\\Users\\Harry\\AppData\\Local\\Temp\\ipykernel_35052\\75057381.py:97: FutureWarning: The frame.append method is deprecated and will be removed from pandas in a future version. Use pandas.concat instead.\n",
      "  df = df.append({'Address':address, 'Price':price, 'Eircode': eircode, 'Dwelling Type':dwelling_type, 'Bedrooms':bedrooms, 'Bathrooms':bathrooms, 'Last Refreshed':refreshed, 'Floor Area in sqm':floor_area, 'Facilities':facilities, 'Description':description, 'Directions':directions, 'Ber Details':ber_details, 'Accommodation':accommodation, 'Features':features}, ignore_index = True)\n"
     ]
    },
    {
     "name": "stdout",
     "output_type": "stream",
     "text": [
      "DataFrame length:  992\n"
     ]
    },
    {
     "name": "stderr",
     "output_type": "stream",
     "text": [
      "C:\\Users\\Harry\\AppData\\Local\\Temp\\ipykernel_35052\\75057381.py:97: FutureWarning: The frame.append method is deprecated and will be removed from pandas in a future version. Use pandas.concat instead.\n",
      "  df = df.append({'Address':address, 'Price':price, 'Eircode': eircode, 'Dwelling Type':dwelling_type, 'Bedrooms':bedrooms, 'Bathrooms':bathrooms, 'Last Refreshed':refreshed, 'Floor Area in sqm':floor_area, 'Facilities':facilities, 'Description':description, 'Directions':directions, 'Ber Details':ber_details, 'Accommodation':accommodation, 'Features':features}, ignore_index = True)\n"
     ]
    },
    {
     "name": "stdout",
     "output_type": "stream",
     "text": [
      "DataFrame length:  993\n"
     ]
    },
    {
     "name": "stderr",
     "output_type": "stream",
     "text": [
      "C:\\Users\\Harry\\AppData\\Local\\Temp\\ipykernel_35052\\75057381.py:97: FutureWarning: The frame.append method is deprecated and will be removed from pandas in a future version. Use pandas.concat instead.\n",
      "  df = df.append({'Address':address, 'Price':price, 'Eircode': eircode, 'Dwelling Type':dwelling_type, 'Bedrooms':bedrooms, 'Bathrooms':bathrooms, 'Last Refreshed':refreshed, 'Floor Area in sqm':floor_area, 'Facilities':facilities, 'Description':description, 'Directions':directions, 'Ber Details':ber_details, 'Accommodation':accommodation, 'Features':features}, ignore_index = True)\n"
     ]
    },
    {
     "name": "stdout",
     "output_type": "stream",
     "text": [
      "DataFrame length:  994\n"
     ]
    },
    {
     "name": "stderr",
     "output_type": "stream",
     "text": [
      "C:\\Users\\Harry\\AppData\\Local\\Temp\\ipykernel_35052\\75057381.py:97: FutureWarning: The frame.append method is deprecated and will be removed from pandas in a future version. Use pandas.concat instead.\n",
      "  df = df.append({'Address':address, 'Price':price, 'Eircode': eircode, 'Dwelling Type':dwelling_type, 'Bedrooms':bedrooms, 'Bathrooms':bathrooms, 'Last Refreshed':refreshed, 'Floor Area in sqm':floor_area, 'Facilities':facilities, 'Description':description, 'Directions':directions, 'Ber Details':ber_details, 'Accommodation':accommodation, 'Features':features}, ignore_index = True)\n"
     ]
    },
    {
     "name": "stdout",
     "output_type": "stream",
     "text": [
      "DataFrame length:  995\n"
     ]
    },
    {
     "name": "stderr",
     "output_type": "stream",
     "text": [
      "C:\\Users\\Harry\\AppData\\Local\\Temp\\ipykernel_35052\\75057381.py:97: FutureWarning: The frame.append method is deprecated and will be removed from pandas in a future version. Use pandas.concat instead.\n",
      "  df = df.append({'Address':address, 'Price':price, 'Eircode': eircode, 'Dwelling Type':dwelling_type, 'Bedrooms':bedrooms, 'Bathrooms':bathrooms, 'Last Refreshed':refreshed, 'Floor Area in sqm':floor_area, 'Facilities':facilities, 'Description':description, 'Directions':directions, 'Ber Details':ber_details, 'Accommodation':accommodation, 'Features':features}, ignore_index = True)\n"
     ]
    },
    {
     "name": "stdout",
     "output_type": "stream",
     "text": [
      "DataFrame length:  996\n"
     ]
    },
    {
     "name": "stderr",
     "output_type": "stream",
     "text": [
      "C:\\Users\\Harry\\AppData\\Local\\Temp\\ipykernel_35052\\75057381.py:97: FutureWarning: The frame.append method is deprecated and will be removed from pandas in a future version. Use pandas.concat instead.\n",
      "  df = df.append({'Address':address, 'Price':price, 'Eircode': eircode, 'Dwelling Type':dwelling_type, 'Bedrooms':bedrooms, 'Bathrooms':bathrooms, 'Last Refreshed':refreshed, 'Floor Area in sqm':floor_area, 'Facilities':facilities, 'Description':description, 'Directions':directions, 'Ber Details':ber_details, 'Accommodation':accommodation, 'Features':features}, ignore_index = True)\n"
     ]
    },
    {
     "name": "stdout",
     "output_type": "stream",
     "text": [
      "DataFrame length:  997\n"
     ]
    },
    {
     "name": "stderr",
     "output_type": "stream",
     "text": [
      "C:\\Users\\Harry\\AppData\\Local\\Temp\\ipykernel_35052\\75057381.py:97: FutureWarning: The frame.append method is deprecated and will be removed from pandas in a future version. Use pandas.concat instead.\n",
      "  df = df.append({'Address':address, 'Price':price, 'Eircode': eircode, 'Dwelling Type':dwelling_type, 'Bedrooms':bedrooms, 'Bathrooms':bathrooms, 'Last Refreshed':refreshed, 'Floor Area in sqm':floor_area, 'Facilities':facilities, 'Description':description, 'Directions':directions, 'Ber Details':ber_details, 'Accommodation':accommodation, 'Features':features}, ignore_index = True)\n"
     ]
    },
    {
     "name": "stdout",
     "output_type": "stream",
     "text": [
      "DataFrame length:  998\n"
     ]
    },
    {
     "name": "stderr",
     "output_type": "stream",
     "text": [
      "C:\\Users\\Harry\\AppData\\Local\\Temp\\ipykernel_35052\\75057381.py:97: FutureWarning: The frame.append method is deprecated and will be removed from pandas in a future version. Use pandas.concat instead.\n",
      "  df = df.append({'Address':address, 'Price':price, 'Eircode': eircode, 'Dwelling Type':dwelling_type, 'Bedrooms':bedrooms, 'Bathrooms':bathrooms, 'Last Refreshed':refreshed, 'Floor Area in sqm':floor_area, 'Facilities':facilities, 'Description':description, 'Directions':directions, 'Ber Details':ber_details, 'Accommodation':accommodation, 'Features':features}, ignore_index = True)\n"
     ]
    },
    {
     "name": "stdout",
     "output_type": "stream",
     "text": [
      "DataFrame length:  999\n"
     ]
    },
    {
     "name": "stderr",
     "output_type": "stream",
     "text": [
      "C:\\Users\\Harry\\AppData\\Local\\Temp\\ipykernel_35052\\75057381.py:97: FutureWarning: The frame.append method is deprecated and will be removed from pandas in a future version. Use pandas.concat instead.\n",
      "  df = df.append({'Address':address, 'Price':price, 'Eircode': eircode, 'Dwelling Type':dwelling_type, 'Bedrooms':bedrooms, 'Bathrooms':bathrooms, 'Last Refreshed':refreshed, 'Floor Area in sqm':floor_area, 'Facilities':facilities, 'Description':description, 'Directions':directions, 'Ber Details':ber_details, 'Accommodation':accommodation, 'Features':features}, ignore_index = True)\n"
     ]
    },
    {
     "name": "stdout",
     "output_type": "stream",
     "text": [
      "DataFrame length:  1000\n"
     ]
    },
    {
     "name": "stderr",
     "output_type": "stream",
     "text": [
      "C:\\Users\\Harry\\AppData\\Local\\Temp\\ipykernel_35052\\75057381.py:97: FutureWarning: The frame.append method is deprecated and will be removed from pandas in a future version. Use pandas.concat instead.\n",
      "  df = df.append({'Address':address, 'Price':price, 'Eircode': eircode, 'Dwelling Type':dwelling_type, 'Bedrooms':bedrooms, 'Bathrooms':bathrooms, 'Last Refreshed':refreshed, 'Floor Area in sqm':floor_area, 'Facilities':facilities, 'Description':description, 'Directions':directions, 'Ber Details':ber_details, 'Accommodation':accommodation, 'Features':features}, ignore_index = True)\n"
     ]
    },
    {
     "name": "stdout",
     "output_type": "stream",
     "text": [
      "DataFrame length:  1001\n"
     ]
    },
    {
     "name": "stderr",
     "output_type": "stream",
     "text": [
      "C:\\Users\\Harry\\AppData\\Local\\Temp\\ipykernel_35052\\75057381.py:97: FutureWarning: The frame.append method is deprecated and will be removed from pandas in a future version. Use pandas.concat instead.\n",
      "  df = df.append({'Address':address, 'Price':price, 'Eircode': eircode, 'Dwelling Type':dwelling_type, 'Bedrooms':bedrooms, 'Bathrooms':bathrooms, 'Last Refreshed':refreshed, 'Floor Area in sqm':floor_area, 'Facilities':facilities, 'Description':description, 'Directions':directions, 'Ber Details':ber_details, 'Accommodation':accommodation, 'Features':features}, ignore_index = True)\n"
     ]
    },
    {
     "name": "stdout",
     "output_type": "stream",
     "text": [
      "DataFrame length:  1002\n"
     ]
    },
    {
     "name": "stderr",
     "output_type": "stream",
     "text": [
      "C:\\Users\\Harry\\AppData\\Local\\Temp\\ipykernel_35052\\75057381.py:97: FutureWarning: The frame.append method is deprecated and will be removed from pandas in a future version. Use pandas.concat instead.\n",
      "  df = df.append({'Address':address, 'Price':price, 'Eircode': eircode, 'Dwelling Type':dwelling_type, 'Bedrooms':bedrooms, 'Bathrooms':bathrooms, 'Last Refreshed':refreshed, 'Floor Area in sqm':floor_area, 'Facilities':facilities, 'Description':description, 'Directions':directions, 'Ber Details':ber_details, 'Accommodation':accommodation, 'Features':features}, ignore_index = True)\n"
     ]
    },
    {
     "name": "stdout",
     "output_type": "stream",
     "text": [
      "DataFrame length:  1003\n"
     ]
    },
    {
     "name": "stderr",
     "output_type": "stream",
     "text": [
      "C:\\Users\\Harry\\AppData\\Local\\Temp\\ipykernel_35052\\75057381.py:97: FutureWarning: The frame.append method is deprecated and will be removed from pandas in a future version. Use pandas.concat instead.\n",
      "  df = df.append({'Address':address, 'Price':price, 'Eircode': eircode, 'Dwelling Type':dwelling_type, 'Bedrooms':bedrooms, 'Bathrooms':bathrooms, 'Last Refreshed':refreshed, 'Floor Area in sqm':floor_area, 'Facilities':facilities, 'Description':description, 'Directions':directions, 'Ber Details':ber_details, 'Accommodation':accommodation, 'Features':features}, ignore_index = True)\n"
     ]
    },
    {
     "name": "stdout",
     "output_type": "stream",
     "text": [
      "DataFrame length:  1004\n"
     ]
    },
    {
     "name": "stderr",
     "output_type": "stream",
     "text": [
      "C:\\Users\\Harry\\AppData\\Local\\Temp\\ipykernel_35052\\75057381.py:97: FutureWarning: The frame.append method is deprecated and will be removed from pandas in a future version. Use pandas.concat instead.\n",
      "  df = df.append({'Address':address, 'Price':price, 'Eircode': eircode, 'Dwelling Type':dwelling_type, 'Bedrooms':bedrooms, 'Bathrooms':bathrooms, 'Last Refreshed':refreshed, 'Floor Area in sqm':floor_area, 'Facilities':facilities, 'Description':description, 'Directions':directions, 'Ber Details':ber_details, 'Accommodation':accommodation, 'Features':features}, ignore_index = True)\n"
     ]
    },
    {
     "name": "stdout",
     "output_type": "stream",
     "text": [
      "DataFrame length:  1005\n"
     ]
    },
    {
     "name": "stderr",
     "output_type": "stream",
     "text": [
      "C:\\Users\\Harry\\AppData\\Local\\Temp\\ipykernel_35052\\75057381.py:97: FutureWarning: The frame.append method is deprecated and will be removed from pandas in a future version. Use pandas.concat instead.\n",
      "  df = df.append({'Address':address, 'Price':price, 'Eircode': eircode, 'Dwelling Type':dwelling_type, 'Bedrooms':bedrooms, 'Bathrooms':bathrooms, 'Last Refreshed':refreshed, 'Floor Area in sqm':floor_area, 'Facilities':facilities, 'Description':description, 'Directions':directions, 'Ber Details':ber_details, 'Accommodation':accommodation, 'Features':features}, ignore_index = True)\n"
     ]
    },
    {
     "name": "stdout",
     "output_type": "stream",
     "text": [
      "DataFrame length:  1006\n"
     ]
    },
    {
     "name": "stderr",
     "output_type": "stream",
     "text": [
      "C:\\Users\\Harry\\AppData\\Local\\Temp\\ipykernel_35052\\75057381.py:97: FutureWarning: The frame.append method is deprecated and will be removed from pandas in a future version. Use pandas.concat instead.\n",
      "  df = df.append({'Address':address, 'Price':price, 'Eircode': eircode, 'Dwelling Type':dwelling_type, 'Bedrooms':bedrooms, 'Bathrooms':bathrooms, 'Last Refreshed':refreshed, 'Floor Area in sqm':floor_area, 'Facilities':facilities, 'Description':description, 'Directions':directions, 'Ber Details':ber_details, 'Accommodation':accommodation, 'Features':features}, ignore_index = True)\n"
     ]
    },
    {
     "name": "stdout",
     "output_type": "stream",
     "text": [
      "DataFrame length:  1007\n"
     ]
    },
    {
     "name": "stderr",
     "output_type": "stream",
     "text": [
      "C:\\Users\\Harry\\AppData\\Local\\Temp\\ipykernel_35052\\75057381.py:97: FutureWarning: The frame.append method is deprecated and will be removed from pandas in a future version. Use pandas.concat instead.\n",
      "  df = df.append({'Address':address, 'Price':price, 'Eircode': eircode, 'Dwelling Type':dwelling_type, 'Bedrooms':bedrooms, 'Bathrooms':bathrooms, 'Last Refreshed':refreshed, 'Floor Area in sqm':floor_area, 'Facilities':facilities, 'Description':description, 'Directions':directions, 'Ber Details':ber_details, 'Accommodation':accommodation, 'Features':features}, ignore_index = True)\n"
     ]
    },
    {
     "name": "stdout",
     "output_type": "stream",
     "text": [
      "DataFrame length:  1008\n"
     ]
    },
    {
     "name": "stderr",
     "output_type": "stream",
     "text": [
      "C:\\Users\\Harry\\AppData\\Local\\Temp\\ipykernel_35052\\75057381.py:97: FutureWarning: The frame.append method is deprecated and will be removed from pandas in a future version. Use pandas.concat instead.\n",
      "  df = df.append({'Address':address, 'Price':price, 'Eircode': eircode, 'Dwelling Type':dwelling_type, 'Bedrooms':bedrooms, 'Bathrooms':bathrooms, 'Last Refreshed':refreshed, 'Floor Area in sqm':floor_area, 'Facilities':facilities, 'Description':description, 'Directions':directions, 'Ber Details':ber_details, 'Accommodation':accommodation, 'Features':features}, ignore_index = True)\n"
     ]
    },
    {
     "name": "stdout",
     "output_type": "stream",
     "text": [
      "DataFrame length:  1009\n"
     ]
    },
    {
     "name": "stderr",
     "output_type": "stream",
     "text": [
      "C:\\Users\\Harry\\AppData\\Local\\Temp\\ipykernel_35052\\75057381.py:97: FutureWarning: The frame.append method is deprecated and will be removed from pandas in a future version. Use pandas.concat instead.\n",
      "  df = df.append({'Address':address, 'Price':price, 'Eircode': eircode, 'Dwelling Type':dwelling_type, 'Bedrooms':bedrooms, 'Bathrooms':bathrooms, 'Last Refreshed':refreshed, 'Floor Area in sqm':floor_area, 'Facilities':facilities, 'Description':description, 'Directions':directions, 'Ber Details':ber_details, 'Accommodation':accommodation, 'Features':features}, ignore_index = True)\n"
     ]
    },
    {
     "name": "stdout",
     "output_type": "stream",
     "text": [
      "DataFrame length:  1010\n"
     ]
    },
    {
     "name": "stderr",
     "output_type": "stream",
     "text": [
      "C:\\Users\\Harry\\AppData\\Local\\Temp\\ipykernel_35052\\75057381.py:97: FutureWarning: The frame.append method is deprecated and will be removed from pandas in a future version. Use pandas.concat instead.\n",
      "  df = df.append({'Address':address, 'Price':price, 'Eircode': eircode, 'Dwelling Type':dwelling_type, 'Bedrooms':bedrooms, 'Bathrooms':bathrooms, 'Last Refreshed':refreshed, 'Floor Area in sqm':floor_area, 'Facilities':facilities, 'Description':description, 'Directions':directions, 'Ber Details':ber_details, 'Accommodation':accommodation, 'Features':features}, ignore_index = True)\n"
     ]
    },
    {
     "name": "stdout",
     "output_type": "stream",
     "text": [
      "DataFrame length:  1011\n"
     ]
    },
    {
     "name": "stderr",
     "output_type": "stream",
     "text": [
      "C:\\Users\\Harry\\AppData\\Local\\Temp\\ipykernel_35052\\75057381.py:97: FutureWarning: The frame.append method is deprecated and will be removed from pandas in a future version. Use pandas.concat instead.\n",
      "  df = df.append({'Address':address, 'Price':price, 'Eircode': eircode, 'Dwelling Type':dwelling_type, 'Bedrooms':bedrooms, 'Bathrooms':bathrooms, 'Last Refreshed':refreshed, 'Floor Area in sqm':floor_area, 'Facilities':facilities, 'Description':description, 'Directions':directions, 'Ber Details':ber_details, 'Accommodation':accommodation, 'Features':features}, ignore_index = True)\n"
     ]
    },
    {
     "name": "stdout",
     "output_type": "stream",
     "text": [
      "DataFrame length:  1012\n"
     ]
    },
    {
     "name": "stderr",
     "output_type": "stream",
     "text": [
      "C:\\Users\\Harry\\AppData\\Local\\Temp\\ipykernel_35052\\75057381.py:97: FutureWarning: The frame.append method is deprecated and will be removed from pandas in a future version. Use pandas.concat instead.\n",
      "  df = df.append({'Address':address, 'Price':price, 'Eircode': eircode, 'Dwelling Type':dwelling_type, 'Bedrooms':bedrooms, 'Bathrooms':bathrooms, 'Last Refreshed':refreshed, 'Floor Area in sqm':floor_area, 'Facilities':facilities, 'Description':description, 'Directions':directions, 'Ber Details':ber_details, 'Accommodation':accommodation, 'Features':features}, ignore_index = True)\n"
     ]
    },
    {
     "name": "stdout",
     "output_type": "stream",
     "text": [
      "DataFrame length:  1013\n"
     ]
    },
    {
     "name": "stderr",
     "output_type": "stream",
     "text": [
      "C:\\Users\\Harry\\AppData\\Local\\Temp\\ipykernel_35052\\75057381.py:97: FutureWarning: The frame.append method is deprecated and will be removed from pandas in a future version. Use pandas.concat instead.\n",
      "  df = df.append({'Address':address, 'Price':price, 'Eircode': eircode, 'Dwelling Type':dwelling_type, 'Bedrooms':bedrooms, 'Bathrooms':bathrooms, 'Last Refreshed':refreshed, 'Floor Area in sqm':floor_area, 'Facilities':facilities, 'Description':description, 'Directions':directions, 'Ber Details':ber_details, 'Accommodation':accommodation, 'Features':features}, ignore_index = True)\n"
     ]
    },
    {
     "name": "stdout",
     "output_type": "stream",
     "text": [
      "DataFrame length:  1014\n"
     ]
    },
    {
     "name": "stderr",
     "output_type": "stream",
     "text": [
      "C:\\Users\\Harry\\AppData\\Local\\Temp\\ipykernel_35052\\75057381.py:97: FutureWarning: The frame.append method is deprecated and will be removed from pandas in a future version. Use pandas.concat instead.\n",
      "  df = df.append({'Address':address, 'Price':price, 'Eircode': eircode, 'Dwelling Type':dwelling_type, 'Bedrooms':bedrooms, 'Bathrooms':bathrooms, 'Last Refreshed':refreshed, 'Floor Area in sqm':floor_area, 'Facilities':facilities, 'Description':description, 'Directions':directions, 'Ber Details':ber_details, 'Accommodation':accommodation, 'Features':features}, ignore_index = True)\n"
     ]
    },
    {
     "name": "stdout",
     "output_type": "stream",
     "text": [
      "DataFrame length:  1015\n"
     ]
    },
    {
     "name": "stderr",
     "output_type": "stream",
     "text": [
      "C:\\Users\\Harry\\AppData\\Local\\Temp\\ipykernel_35052\\75057381.py:97: FutureWarning: The frame.append method is deprecated and will be removed from pandas in a future version. Use pandas.concat instead.\n",
      "  df = df.append({'Address':address, 'Price':price, 'Eircode': eircode, 'Dwelling Type':dwelling_type, 'Bedrooms':bedrooms, 'Bathrooms':bathrooms, 'Last Refreshed':refreshed, 'Floor Area in sqm':floor_area, 'Facilities':facilities, 'Description':description, 'Directions':directions, 'Ber Details':ber_details, 'Accommodation':accommodation, 'Features':features}, ignore_index = True)\n"
     ]
    },
    {
     "name": "stdout",
     "output_type": "stream",
     "text": [
      "DataFrame length:  1016\n"
     ]
    },
    {
     "name": "stderr",
     "output_type": "stream",
     "text": [
      "C:\\Users\\Harry\\AppData\\Local\\Temp\\ipykernel_35052\\75057381.py:97: FutureWarning: The frame.append method is deprecated and will be removed from pandas in a future version. Use pandas.concat instead.\n",
      "  df = df.append({'Address':address, 'Price':price, 'Eircode': eircode, 'Dwelling Type':dwelling_type, 'Bedrooms':bedrooms, 'Bathrooms':bathrooms, 'Last Refreshed':refreshed, 'Floor Area in sqm':floor_area, 'Facilities':facilities, 'Description':description, 'Directions':directions, 'Ber Details':ber_details, 'Accommodation':accommodation, 'Features':features}, ignore_index = True)\n"
     ]
    },
    {
     "name": "stdout",
     "output_type": "stream",
     "text": [
      "DataFrame length:  1017\n"
     ]
    },
    {
     "name": "stderr",
     "output_type": "stream",
     "text": [
      "C:\\Users\\Harry\\AppData\\Local\\Temp\\ipykernel_35052\\75057381.py:97: FutureWarning: The frame.append method is deprecated and will be removed from pandas in a future version. Use pandas.concat instead.\n",
      "  df = df.append({'Address':address, 'Price':price, 'Eircode': eircode, 'Dwelling Type':dwelling_type, 'Bedrooms':bedrooms, 'Bathrooms':bathrooms, 'Last Refreshed':refreshed, 'Floor Area in sqm':floor_area, 'Facilities':facilities, 'Description':description, 'Directions':directions, 'Ber Details':ber_details, 'Accommodation':accommodation, 'Features':features}, ignore_index = True)\n"
     ]
    },
    {
     "name": "stdout",
     "output_type": "stream",
     "text": [
      "DataFrame length:  1018\n"
     ]
    },
    {
     "name": "stderr",
     "output_type": "stream",
     "text": [
      "C:\\Users\\Harry\\AppData\\Local\\Temp\\ipykernel_35052\\75057381.py:97: FutureWarning: The frame.append method is deprecated and will be removed from pandas in a future version. Use pandas.concat instead.\n",
      "  df = df.append({'Address':address, 'Price':price, 'Eircode': eircode, 'Dwelling Type':dwelling_type, 'Bedrooms':bedrooms, 'Bathrooms':bathrooms, 'Last Refreshed':refreshed, 'Floor Area in sqm':floor_area, 'Facilities':facilities, 'Description':description, 'Directions':directions, 'Ber Details':ber_details, 'Accommodation':accommodation, 'Features':features}, ignore_index = True)\n"
     ]
    },
    {
     "name": "stdout",
     "output_type": "stream",
     "text": [
      "DataFrame length:  1019\n"
     ]
    },
    {
     "name": "stderr",
     "output_type": "stream",
     "text": [
      "C:\\Users\\Harry\\AppData\\Local\\Temp\\ipykernel_35052\\75057381.py:97: FutureWarning: The frame.append method is deprecated and will be removed from pandas in a future version. Use pandas.concat instead.\n",
      "  df = df.append({'Address':address, 'Price':price, 'Eircode': eircode, 'Dwelling Type':dwelling_type, 'Bedrooms':bedrooms, 'Bathrooms':bathrooms, 'Last Refreshed':refreshed, 'Floor Area in sqm':floor_area, 'Facilities':facilities, 'Description':description, 'Directions':directions, 'Ber Details':ber_details, 'Accommodation':accommodation, 'Features':features}, ignore_index = True)\n"
     ]
    },
    {
     "name": "stdout",
     "output_type": "stream",
     "text": [
      "DataFrame length:  1020\n"
     ]
    },
    {
     "name": "stderr",
     "output_type": "stream",
     "text": [
      "C:\\Users\\Harry\\AppData\\Local\\Temp\\ipykernel_35052\\75057381.py:97: FutureWarning: The frame.append method is deprecated and will be removed from pandas in a future version. Use pandas.concat instead.\n",
      "  df = df.append({'Address':address, 'Price':price, 'Eircode': eircode, 'Dwelling Type':dwelling_type, 'Bedrooms':bedrooms, 'Bathrooms':bathrooms, 'Last Refreshed':refreshed, 'Floor Area in sqm':floor_area, 'Facilities':facilities, 'Description':description, 'Directions':directions, 'Ber Details':ber_details, 'Accommodation':accommodation, 'Features':features}, ignore_index = True)\n"
     ]
    },
    {
     "name": "stdout",
     "output_type": "stream",
     "text": [
      "DataFrame length:  1021\n"
     ]
    },
    {
     "name": "stderr",
     "output_type": "stream",
     "text": [
      "C:\\Users\\Harry\\AppData\\Local\\Temp\\ipykernel_35052\\75057381.py:97: FutureWarning: The frame.append method is deprecated and will be removed from pandas in a future version. Use pandas.concat instead.\n",
      "  df = df.append({'Address':address, 'Price':price, 'Eircode': eircode, 'Dwelling Type':dwelling_type, 'Bedrooms':bedrooms, 'Bathrooms':bathrooms, 'Last Refreshed':refreshed, 'Floor Area in sqm':floor_area, 'Facilities':facilities, 'Description':description, 'Directions':directions, 'Ber Details':ber_details, 'Accommodation':accommodation, 'Features':features}, ignore_index = True)\n"
     ]
    },
    {
     "name": "stdout",
     "output_type": "stream",
     "text": [
      "DataFrame length:  1022\n"
     ]
    },
    {
     "name": "stderr",
     "output_type": "stream",
     "text": [
      "C:\\Users\\Harry\\AppData\\Local\\Temp\\ipykernel_35052\\75057381.py:97: FutureWarning: The frame.append method is deprecated and will be removed from pandas in a future version. Use pandas.concat instead.\n",
      "  df = df.append({'Address':address, 'Price':price, 'Eircode': eircode, 'Dwelling Type':dwelling_type, 'Bedrooms':bedrooms, 'Bathrooms':bathrooms, 'Last Refreshed':refreshed, 'Floor Area in sqm':floor_area, 'Facilities':facilities, 'Description':description, 'Directions':directions, 'Ber Details':ber_details, 'Accommodation':accommodation, 'Features':features}, ignore_index = True)\n"
     ]
    },
    {
     "name": "stdout",
     "output_type": "stream",
     "text": [
      "DataFrame length:  1023\n"
     ]
    },
    {
     "name": "stderr",
     "output_type": "stream",
     "text": [
      "C:\\Users\\Harry\\AppData\\Local\\Temp\\ipykernel_35052\\75057381.py:97: FutureWarning: The frame.append method is deprecated and will be removed from pandas in a future version. Use pandas.concat instead.\n",
      "  df = df.append({'Address':address, 'Price':price, 'Eircode': eircode, 'Dwelling Type':dwelling_type, 'Bedrooms':bedrooms, 'Bathrooms':bathrooms, 'Last Refreshed':refreshed, 'Floor Area in sqm':floor_area, 'Facilities':facilities, 'Description':description, 'Directions':directions, 'Ber Details':ber_details, 'Accommodation':accommodation, 'Features':features}, ignore_index = True)\n"
     ]
    },
    {
     "name": "stdout",
     "output_type": "stream",
     "text": [
      "DataFrame length:  1024\n"
     ]
    },
    {
     "name": "stderr",
     "output_type": "stream",
     "text": [
      "C:\\Users\\Harry\\AppData\\Local\\Temp\\ipykernel_35052\\75057381.py:97: FutureWarning: The frame.append method is deprecated and will be removed from pandas in a future version. Use pandas.concat instead.\n",
      "  df = df.append({'Address':address, 'Price':price, 'Eircode': eircode, 'Dwelling Type':dwelling_type, 'Bedrooms':bedrooms, 'Bathrooms':bathrooms, 'Last Refreshed':refreshed, 'Floor Area in sqm':floor_area, 'Facilities':facilities, 'Description':description, 'Directions':directions, 'Ber Details':ber_details, 'Accommodation':accommodation, 'Features':features}, ignore_index = True)\n"
     ]
    },
    {
     "name": "stdout",
     "output_type": "stream",
     "text": [
      "DataFrame length:  1025\n"
     ]
    },
    {
     "name": "stderr",
     "output_type": "stream",
     "text": [
      "C:\\Users\\Harry\\AppData\\Local\\Temp\\ipykernel_35052\\75057381.py:97: FutureWarning: The frame.append method is deprecated and will be removed from pandas in a future version. Use pandas.concat instead.\n",
      "  df = df.append({'Address':address, 'Price':price, 'Eircode': eircode, 'Dwelling Type':dwelling_type, 'Bedrooms':bedrooms, 'Bathrooms':bathrooms, 'Last Refreshed':refreshed, 'Floor Area in sqm':floor_area, 'Facilities':facilities, 'Description':description, 'Directions':directions, 'Ber Details':ber_details, 'Accommodation':accommodation, 'Features':features}, ignore_index = True)\n"
     ]
    },
    {
     "name": "stdout",
     "output_type": "stream",
     "text": [
      "DataFrame length:  1026\n"
     ]
    },
    {
     "name": "stderr",
     "output_type": "stream",
     "text": [
      "C:\\Users\\Harry\\AppData\\Local\\Temp\\ipykernel_35052\\75057381.py:97: FutureWarning: The frame.append method is deprecated and will be removed from pandas in a future version. Use pandas.concat instead.\n",
      "  df = df.append({'Address':address, 'Price':price, 'Eircode': eircode, 'Dwelling Type':dwelling_type, 'Bedrooms':bedrooms, 'Bathrooms':bathrooms, 'Last Refreshed':refreshed, 'Floor Area in sqm':floor_area, 'Facilities':facilities, 'Description':description, 'Directions':directions, 'Ber Details':ber_details, 'Accommodation':accommodation, 'Features':features}, ignore_index = True)\n"
     ]
    },
    {
     "name": "stdout",
     "output_type": "stream",
     "text": [
      "DataFrame length:  1027\n"
     ]
    },
    {
     "name": "stderr",
     "output_type": "stream",
     "text": [
      "C:\\Users\\Harry\\AppData\\Local\\Temp\\ipykernel_35052\\75057381.py:97: FutureWarning: The frame.append method is deprecated and will be removed from pandas in a future version. Use pandas.concat instead.\n",
      "  df = df.append({'Address':address, 'Price':price, 'Eircode': eircode, 'Dwelling Type':dwelling_type, 'Bedrooms':bedrooms, 'Bathrooms':bathrooms, 'Last Refreshed':refreshed, 'Floor Area in sqm':floor_area, 'Facilities':facilities, 'Description':description, 'Directions':directions, 'Ber Details':ber_details, 'Accommodation':accommodation, 'Features':features}, ignore_index = True)\n"
     ]
    },
    {
     "name": "stdout",
     "output_type": "stream",
     "text": [
      "DataFrame length:  1028\n"
     ]
    },
    {
     "name": "stderr",
     "output_type": "stream",
     "text": [
      "C:\\Users\\Harry\\AppData\\Local\\Temp\\ipykernel_35052\\75057381.py:97: FutureWarning: The frame.append method is deprecated and will be removed from pandas in a future version. Use pandas.concat instead.\n",
      "  df = df.append({'Address':address, 'Price':price, 'Eircode': eircode, 'Dwelling Type':dwelling_type, 'Bedrooms':bedrooms, 'Bathrooms':bathrooms, 'Last Refreshed':refreshed, 'Floor Area in sqm':floor_area, 'Facilities':facilities, 'Description':description, 'Directions':directions, 'Ber Details':ber_details, 'Accommodation':accommodation, 'Features':features}, ignore_index = True)\n"
     ]
    },
    {
     "name": "stdout",
     "output_type": "stream",
     "text": [
      "DataFrame length:  1029\n"
     ]
    },
    {
     "name": "stderr",
     "output_type": "stream",
     "text": [
      "C:\\Users\\Harry\\AppData\\Local\\Temp\\ipykernel_35052\\75057381.py:97: FutureWarning: The frame.append method is deprecated and will be removed from pandas in a future version. Use pandas.concat instead.\n",
      "  df = df.append({'Address':address, 'Price':price, 'Eircode': eircode, 'Dwelling Type':dwelling_type, 'Bedrooms':bedrooms, 'Bathrooms':bathrooms, 'Last Refreshed':refreshed, 'Floor Area in sqm':floor_area, 'Facilities':facilities, 'Description':description, 'Directions':directions, 'Ber Details':ber_details, 'Accommodation':accommodation, 'Features':features}, ignore_index = True)\n"
     ]
    },
    {
     "name": "stdout",
     "output_type": "stream",
     "text": [
      "DataFrame length:  1030\n"
     ]
    },
    {
     "name": "stderr",
     "output_type": "stream",
     "text": [
      "C:\\Users\\Harry\\AppData\\Local\\Temp\\ipykernel_35052\\75057381.py:97: FutureWarning: The frame.append method is deprecated and will be removed from pandas in a future version. Use pandas.concat instead.\n",
      "  df = df.append({'Address':address, 'Price':price, 'Eircode': eircode, 'Dwelling Type':dwelling_type, 'Bedrooms':bedrooms, 'Bathrooms':bathrooms, 'Last Refreshed':refreshed, 'Floor Area in sqm':floor_area, 'Facilities':facilities, 'Description':description, 'Directions':directions, 'Ber Details':ber_details, 'Accommodation':accommodation, 'Features':features}, ignore_index = True)\n"
     ]
    },
    {
     "name": "stdout",
     "output_type": "stream",
     "text": [
      "DataFrame length:  1031\n"
     ]
    },
    {
     "name": "stderr",
     "output_type": "stream",
     "text": [
      "C:\\Users\\Harry\\AppData\\Local\\Temp\\ipykernel_35052\\75057381.py:97: FutureWarning: The frame.append method is deprecated and will be removed from pandas in a future version. Use pandas.concat instead.\n",
      "  df = df.append({'Address':address, 'Price':price, 'Eircode': eircode, 'Dwelling Type':dwelling_type, 'Bedrooms':bedrooms, 'Bathrooms':bathrooms, 'Last Refreshed':refreshed, 'Floor Area in sqm':floor_area, 'Facilities':facilities, 'Description':description, 'Directions':directions, 'Ber Details':ber_details, 'Accommodation':accommodation, 'Features':features}, ignore_index = True)\n"
     ]
    },
    {
     "name": "stdout",
     "output_type": "stream",
     "text": [
      "DataFrame length:  1032\n"
     ]
    },
    {
     "name": "stderr",
     "output_type": "stream",
     "text": [
      "C:\\Users\\Harry\\AppData\\Local\\Temp\\ipykernel_35052\\75057381.py:97: FutureWarning: The frame.append method is deprecated and will be removed from pandas in a future version. Use pandas.concat instead.\n",
      "  df = df.append({'Address':address, 'Price':price, 'Eircode': eircode, 'Dwelling Type':dwelling_type, 'Bedrooms':bedrooms, 'Bathrooms':bathrooms, 'Last Refreshed':refreshed, 'Floor Area in sqm':floor_area, 'Facilities':facilities, 'Description':description, 'Directions':directions, 'Ber Details':ber_details, 'Accommodation':accommodation, 'Features':features}, ignore_index = True)\n"
     ]
    },
    {
     "name": "stdout",
     "output_type": "stream",
     "text": [
      "DataFrame length:  1033\n"
     ]
    },
    {
     "name": "stderr",
     "output_type": "stream",
     "text": [
      "C:\\Users\\Harry\\AppData\\Local\\Temp\\ipykernel_35052\\75057381.py:97: FutureWarning: The frame.append method is deprecated and will be removed from pandas in a future version. Use pandas.concat instead.\n",
      "  df = df.append({'Address':address, 'Price':price, 'Eircode': eircode, 'Dwelling Type':dwelling_type, 'Bedrooms':bedrooms, 'Bathrooms':bathrooms, 'Last Refreshed':refreshed, 'Floor Area in sqm':floor_area, 'Facilities':facilities, 'Description':description, 'Directions':directions, 'Ber Details':ber_details, 'Accommodation':accommodation, 'Features':features}, ignore_index = True)\n"
     ]
    },
    {
     "name": "stdout",
     "output_type": "stream",
     "text": [
      "DataFrame length:  1034\n"
     ]
    },
    {
     "name": "stderr",
     "output_type": "stream",
     "text": [
      "C:\\Users\\Harry\\AppData\\Local\\Temp\\ipykernel_35052\\75057381.py:97: FutureWarning: The frame.append method is deprecated and will be removed from pandas in a future version. Use pandas.concat instead.\n",
      "  df = df.append({'Address':address, 'Price':price, 'Eircode': eircode, 'Dwelling Type':dwelling_type, 'Bedrooms':bedrooms, 'Bathrooms':bathrooms, 'Last Refreshed':refreshed, 'Floor Area in sqm':floor_area, 'Facilities':facilities, 'Description':description, 'Directions':directions, 'Ber Details':ber_details, 'Accommodation':accommodation, 'Features':features}, ignore_index = True)\n"
     ]
    },
    {
     "name": "stdout",
     "output_type": "stream",
     "text": [
      "DataFrame length:  1035\n"
     ]
    },
    {
     "name": "stderr",
     "output_type": "stream",
     "text": [
      "C:\\Users\\Harry\\AppData\\Local\\Temp\\ipykernel_35052\\75057381.py:97: FutureWarning: The frame.append method is deprecated and will be removed from pandas in a future version. Use pandas.concat instead.\n",
      "  df = df.append({'Address':address, 'Price':price, 'Eircode': eircode, 'Dwelling Type':dwelling_type, 'Bedrooms':bedrooms, 'Bathrooms':bathrooms, 'Last Refreshed':refreshed, 'Floor Area in sqm':floor_area, 'Facilities':facilities, 'Description':description, 'Directions':directions, 'Ber Details':ber_details, 'Accommodation':accommodation, 'Features':features}, ignore_index = True)\n"
     ]
    },
    {
     "name": "stdout",
     "output_type": "stream",
     "text": [
      "DataFrame length:  1036\n"
     ]
    },
    {
     "name": "stderr",
     "output_type": "stream",
     "text": [
      "C:\\Users\\Harry\\AppData\\Local\\Temp\\ipykernel_35052\\75057381.py:97: FutureWarning: The frame.append method is deprecated and will be removed from pandas in a future version. Use pandas.concat instead.\n",
      "  df = df.append({'Address':address, 'Price':price, 'Eircode': eircode, 'Dwelling Type':dwelling_type, 'Bedrooms':bedrooms, 'Bathrooms':bathrooms, 'Last Refreshed':refreshed, 'Floor Area in sqm':floor_area, 'Facilities':facilities, 'Description':description, 'Directions':directions, 'Ber Details':ber_details, 'Accommodation':accommodation, 'Features':features}, ignore_index = True)\n"
     ]
    },
    {
     "name": "stdout",
     "output_type": "stream",
     "text": [
      "DataFrame length:  1037\n"
     ]
    },
    {
     "name": "stderr",
     "output_type": "stream",
     "text": [
      "C:\\Users\\Harry\\AppData\\Local\\Temp\\ipykernel_35052\\75057381.py:97: FutureWarning: The frame.append method is deprecated and will be removed from pandas in a future version. Use pandas.concat instead.\n",
      "  df = df.append({'Address':address, 'Price':price, 'Eircode': eircode, 'Dwelling Type':dwelling_type, 'Bedrooms':bedrooms, 'Bathrooms':bathrooms, 'Last Refreshed':refreshed, 'Floor Area in sqm':floor_area, 'Facilities':facilities, 'Description':description, 'Directions':directions, 'Ber Details':ber_details, 'Accommodation':accommodation, 'Features':features}, ignore_index = True)\n"
     ]
    },
    {
     "name": "stdout",
     "output_type": "stream",
     "text": [
      "DataFrame length:  1038\n"
     ]
    },
    {
     "name": "stderr",
     "output_type": "stream",
     "text": [
      "C:\\Users\\Harry\\AppData\\Local\\Temp\\ipykernel_35052\\75057381.py:97: FutureWarning: The frame.append method is deprecated and will be removed from pandas in a future version. Use pandas.concat instead.\n",
      "  df = df.append({'Address':address, 'Price':price, 'Eircode': eircode, 'Dwelling Type':dwelling_type, 'Bedrooms':bedrooms, 'Bathrooms':bathrooms, 'Last Refreshed':refreshed, 'Floor Area in sqm':floor_area, 'Facilities':facilities, 'Description':description, 'Directions':directions, 'Ber Details':ber_details, 'Accommodation':accommodation, 'Features':features}, ignore_index = True)\n"
     ]
    },
    {
     "name": "stdout",
     "output_type": "stream",
     "text": [
      "DataFrame length:  1039\n"
     ]
    },
    {
     "name": "stderr",
     "output_type": "stream",
     "text": [
      "C:\\Users\\Harry\\AppData\\Local\\Temp\\ipykernel_35052\\75057381.py:97: FutureWarning: The frame.append method is deprecated and will be removed from pandas in a future version. Use pandas.concat instead.\n",
      "  df = df.append({'Address':address, 'Price':price, 'Eircode': eircode, 'Dwelling Type':dwelling_type, 'Bedrooms':bedrooms, 'Bathrooms':bathrooms, 'Last Refreshed':refreshed, 'Floor Area in sqm':floor_area, 'Facilities':facilities, 'Description':description, 'Directions':directions, 'Ber Details':ber_details, 'Accommodation':accommodation, 'Features':features}, ignore_index = True)\n"
     ]
    },
    {
     "name": "stdout",
     "output_type": "stream",
     "text": [
      "DataFrame length:  1040\n"
     ]
    },
    {
     "name": "stderr",
     "output_type": "stream",
     "text": [
      "C:\\Users\\Harry\\AppData\\Local\\Temp\\ipykernel_35052\\75057381.py:97: FutureWarning: The frame.append method is deprecated and will be removed from pandas in a future version. Use pandas.concat instead.\n",
      "  df = df.append({'Address':address, 'Price':price, 'Eircode': eircode, 'Dwelling Type':dwelling_type, 'Bedrooms':bedrooms, 'Bathrooms':bathrooms, 'Last Refreshed':refreshed, 'Floor Area in sqm':floor_area, 'Facilities':facilities, 'Description':description, 'Directions':directions, 'Ber Details':ber_details, 'Accommodation':accommodation, 'Features':features}, ignore_index = True)\n"
     ]
    },
    {
     "name": "stdout",
     "output_type": "stream",
     "text": [
      "DataFrame length:  1041\n"
     ]
    },
    {
     "name": "stderr",
     "output_type": "stream",
     "text": [
      "C:\\Users\\Harry\\AppData\\Local\\Temp\\ipykernel_35052\\75057381.py:97: FutureWarning: The frame.append method is deprecated and will be removed from pandas in a future version. Use pandas.concat instead.\n",
      "  df = df.append({'Address':address, 'Price':price, 'Eircode': eircode, 'Dwelling Type':dwelling_type, 'Bedrooms':bedrooms, 'Bathrooms':bathrooms, 'Last Refreshed':refreshed, 'Floor Area in sqm':floor_area, 'Facilities':facilities, 'Description':description, 'Directions':directions, 'Ber Details':ber_details, 'Accommodation':accommodation, 'Features':features}, ignore_index = True)\n"
     ]
    },
    {
     "name": "stdout",
     "output_type": "stream",
     "text": [
      "DataFrame length:  1042\n"
     ]
    },
    {
     "name": "stderr",
     "output_type": "stream",
     "text": [
      "C:\\Users\\Harry\\AppData\\Local\\Temp\\ipykernel_35052\\75057381.py:97: FutureWarning: The frame.append method is deprecated and will be removed from pandas in a future version. Use pandas.concat instead.\n",
      "  df = df.append({'Address':address, 'Price':price, 'Eircode': eircode, 'Dwelling Type':dwelling_type, 'Bedrooms':bedrooms, 'Bathrooms':bathrooms, 'Last Refreshed':refreshed, 'Floor Area in sqm':floor_area, 'Facilities':facilities, 'Description':description, 'Directions':directions, 'Ber Details':ber_details, 'Accommodation':accommodation, 'Features':features}, ignore_index = True)\n"
     ]
    },
    {
     "name": "stdout",
     "output_type": "stream",
     "text": [
      "DataFrame length:  1043\n"
     ]
    },
    {
     "name": "stderr",
     "output_type": "stream",
     "text": [
      "C:\\Users\\Harry\\AppData\\Local\\Temp\\ipykernel_35052\\75057381.py:97: FutureWarning: The frame.append method is deprecated and will be removed from pandas in a future version. Use pandas.concat instead.\n",
      "  df = df.append({'Address':address, 'Price':price, 'Eircode': eircode, 'Dwelling Type':dwelling_type, 'Bedrooms':bedrooms, 'Bathrooms':bathrooms, 'Last Refreshed':refreshed, 'Floor Area in sqm':floor_area, 'Facilities':facilities, 'Description':description, 'Directions':directions, 'Ber Details':ber_details, 'Accommodation':accommodation, 'Features':features}, ignore_index = True)\n"
     ]
    },
    {
     "name": "stdout",
     "output_type": "stream",
     "text": [
      "DataFrame length:  1044\n"
     ]
    },
    {
     "name": "stderr",
     "output_type": "stream",
     "text": [
      "C:\\Users\\Harry\\AppData\\Local\\Temp\\ipykernel_35052\\75057381.py:97: FutureWarning: The frame.append method is deprecated and will be removed from pandas in a future version. Use pandas.concat instead.\n",
      "  df = df.append({'Address':address, 'Price':price, 'Eircode': eircode, 'Dwelling Type':dwelling_type, 'Bedrooms':bedrooms, 'Bathrooms':bathrooms, 'Last Refreshed':refreshed, 'Floor Area in sqm':floor_area, 'Facilities':facilities, 'Description':description, 'Directions':directions, 'Ber Details':ber_details, 'Accommodation':accommodation, 'Features':features}, ignore_index = True)\n"
     ]
    },
    {
     "name": "stdout",
     "output_type": "stream",
     "text": [
      "DataFrame length:  1045\n"
     ]
    },
    {
     "name": "stderr",
     "output_type": "stream",
     "text": [
      "C:\\Users\\Harry\\AppData\\Local\\Temp\\ipykernel_35052\\75057381.py:97: FutureWarning: The frame.append method is deprecated and will be removed from pandas in a future version. Use pandas.concat instead.\n",
      "  df = df.append({'Address':address, 'Price':price, 'Eircode': eircode, 'Dwelling Type':dwelling_type, 'Bedrooms':bedrooms, 'Bathrooms':bathrooms, 'Last Refreshed':refreshed, 'Floor Area in sqm':floor_area, 'Facilities':facilities, 'Description':description, 'Directions':directions, 'Ber Details':ber_details, 'Accommodation':accommodation, 'Features':features}, ignore_index = True)\n"
     ]
    },
    {
     "name": "stdout",
     "output_type": "stream",
     "text": [
      "DataFrame length:  1046\n"
     ]
    },
    {
     "name": "stderr",
     "output_type": "stream",
     "text": [
      "C:\\Users\\Harry\\AppData\\Local\\Temp\\ipykernel_35052\\75057381.py:97: FutureWarning: The frame.append method is deprecated and will be removed from pandas in a future version. Use pandas.concat instead.\n",
      "  df = df.append({'Address':address, 'Price':price, 'Eircode': eircode, 'Dwelling Type':dwelling_type, 'Bedrooms':bedrooms, 'Bathrooms':bathrooms, 'Last Refreshed':refreshed, 'Floor Area in sqm':floor_area, 'Facilities':facilities, 'Description':description, 'Directions':directions, 'Ber Details':ber_details, 'Accommodation':accommodation, 'Features':features}, ignore_index = True)\n"
     ]
    },
    {
     "name": "stdout",
     "output_type": "stream",
     "text": [
      "DataFrame length:  1047\n"
     ]
    },
    {
     "name": "stderr",
     "output_type": "stream",
     "text": [
      "C:\\Users\\Harry\\AppData\\Local\\Temp\\ipykernel_35052\\75057381.py:97: FutureWarning: The frame.append method is deprecated and will be removed from pandas in a future version. Use pandas.concat instead.\n",
      "  df = df.append({'Address':address, 'Price':price, 'Eircode': eircode, 'Dwelling Type':dwelling_type, 'Bedrooms':bedrooms, 'Bathrooms':bathrooms, 'Last Refreshed':refreshed, 'Floor Area in sqm':floor_area, 'Facilities':facilities, 'Description':description, 'Directions':directions, 'Ber Details':ber_details, 'Accommodation':accommodation, 'Features':features}, ignore_index = True)\n"
     ]
    },
    {
     "name": "stdout",
     "output_type": "stream",
     "text": [
      "DataFrame length:  1048\n"
     ]
    },
    {
     "name": "stderr",
     "output_type": "stream",
     "text": [
      "C:\\Users\\Harry\\AppData\\Local\\Temp\\ipykernel_35052\\75057381.py:97: FutureWarning: The frame.append method is deprecated and will be removed from pandas in a future version. Use pandas.concat instead.\n",
      "  df = df.append({'Address':address, 'Price':price, 'Eircode': eircode, 'Dwelling Type':dwelling_type, 'Bedrooms':bedrooms, 'Bathrooms':bathrooms, 'Last Refreshed':refreshed, 'Floor Area in sqm':floor_area, 'Facilities':facilities, 'Description':description, 'Directions':directions, 'Ber Details':ber_details, 'Accommodation':accommodation, 'Features':features}, ignore_index = True)\n"
     ]
    },
    {
     "name": "stdout",
     "output_type": "stream",
     "text": [
      "DataFrame length:  1049\n"
     ]
    },
    {
     "name": "stderr",
     "output_type": "stream",
     "text": [
      "C:\\Users\\Harry\\AppData\\Local\\Temp\\ipykernel_35052\\75057381.py:97: FutureWarning: The frame.append method is deprecated and will be removed from pandas in a future version. Use pandas.concat instead.\n",
      "  df = df.append({'Address':address, 'Price':price, 'Eircode': eircode, 'Dwelling Type':dwelling_type, 'Bedrooms':bedrooms, 'Bathrooms':bathrooms, 'Last Refreshed':refreshed, 'Floor Area in sqm':floor_area, 'Facilities':facilities, 'Description':description, 'Directions':directions, 'Ber Details':ber_details, 'Accommodation':accommodation, 'Features':features}, ignore_index = True)\n"
     ]
    },
    {
     "name": "stdout",
     "output_type": "stream",
     "text": [
      "DataFrame length:  1050\n"
     ]
    },
    {
     "name": "stderr",
     "output_type": "stream",
     "text": [
      "C:\\Users\\Harry\\AppData\\Local\\Temp\\ipykernel_35052\\75057381.py:97: FutureWarning: The frame.append method is deprecated and will be removed from pandas in a future version. Use pandas.concat instead.\n",
      "  df = df.append({'Address':address, 'Price':price, 'Eircode': eircode, 'Dwelling Type':dwelling_type, 'Bedrooms':bedrooms, 'Bathrooms':bathrooms, 'Last Refreshed':refreshed, 'Floor Area in sqm':floor_area, 'Facilities':facilities, 'Description':description, 'Directions':directions, 'Ber Details':ber_details, 'Accommodation':accommodation, 'Features':features}, ignore_index = True)\n"
     ]
    },
    {
     "name": "stdout",
     "output_type": "stream",
     "text": [
      "DataFrame length:  1051\n"
     ]
    },
    {
     "name": "stderr",
     "output_type": "stream",
     "text": [
      "C:\\Users\\Harry\\AppData\\Local\\Temp\\ipykernel_35052\\75057381.py:97: FutureWarning: The frame.append method is deprecated and will be removed from pandas in a future version. Use pandas.concat instead.\n",
      "  df = df.append({'Address':address, 'Price':price, 'Eircode': eircode, 'Dwelling Type':dwelling_type, 'Bedrooms':bedrooms, 'Bathrooms':bathrooms, 'Last Refreshed':refreshed, 'Floor Area in sqm':floor_area, 'Facilities':facilities, 'Description':description, 'Directions':directions, 'Ber Details':ber_details, 'Accommodation':accommodation, 'Features':features}, ignore_index = True)\n"
     ]
    },
    {
     "name": "stdout",
     "output_type": "stream",
     "text": [
      "DataFrame length:  1052\n"
     ]
    },
    {
     "name": "stderr",
     "output_type": "stream",
     "text": [
      "C:\\Users\\Harry\\AppData\\Local\\Temp\\ipykernel_35052\\75057381.py:97: FutureWarning: The frame.append method is deprecated and will be removed from pandas in a future version. Use pandas.concat instead.\n",
      "  df = df.append({'Address':address, 'Price':price, 'Eircode': eircode, 'Dwelling Type':dwelling_type, 'Bedrooms':bedrooms, 'Bathrooms':bathrooms, 'Last Refreshed':refreshed, 'Floor Area in sqm':floor_area, 'Facilities':facilities, 'Description':description, 'Directions':directions, 'Ber Details':ber_details, 'Accommodation':accommodation, 'Features':features}, ignore_index = True)\n"
     ]
    },
    {
     "name": "stdout",
     "output_type": "stream",
     "text": [
      "DataFrame length:  1053\n"
     ]
    },
    {
     "name": "stderr",
     "output_type": "stream",
     "text": [
      "C:\\Users\\Harry\\AppData\\Local\\Temp\\ipykernel_35052\\75057381.py:97: FutureWarning: The frame.append method is deprecated and will be removed from pandas in a future version. Use pandas.concat instead.\n",
      "  df = df.append({'Address':address, 'Price':price, 'Eircode': eircode, 'Dwelling Type':dwelling_type, 'Bedrooms':bedrooms, 'Bathrooms':bathrooms, 'Last Refreshed':refreshed, 'Floor Area in sqm':floor_area, 'Facilities':facilities, 'Description':description, 'Directions':directions, 'Ber Details':ber_details, 'Accommodation':accommodation, 'Features':features}, ignore_index = True)\n"
     ]
    },
    {
     "name": "stdout",
     "output_type": "stream",
     "text": [
      "DataFrame length:  1054\n"
     ]
    },
    {
     "name": "stderr",
     "output_type": "stream",
     "text": [
      "C:\\Users\\Harry\\AppData\\Local\\Temp\\ipykernel_35052\\75057381.py:97: FutureWarning: The frame.append method is deprecated and will be removed from pandas in a future version. Use pandas.concat instead.\n",
      "  df = df.append({'Address':address, 'Price':price, 'Eircode': eircode, 'Dwelling Type':dwelling_type, 'Bedrooms':bedrooms, 'Bathrooms':bathrooms, 'Last Refreshed':refreshed, 'Floor Area in sqm':floor_area, 'Facilities':facilities, 'Description':description, 'Directions':directions, 'Ber Details':ber_details, 'Accommodation':accommodation, 'Features':features}, ignore_index = True)\n"
     ]
    },
    {
     "name": "stdout",
     "output_type": "stream",
     "text": [
      "DataFrame length:  1055\n"
     ]
    },
    {
     "name": "stderr",
     "output_type": "stream",
     "text": [
      "C:\\Users\\Harry\\AppData\\Local\\Temp\\ipykernel_35052\\75057381.py:97: FutureWarning: The frame.append method is deprecated and will be removed from pandas in a future version. Use pandas.concat instead.\n",
      "  df = df.append({'Address':address, 'Price':price, 'Eircode': eircode, 'Dwelling Type':dwelling_type, 'Bedrooms':bedrooms, 'Bathrooms':bathrooms, 'Last Refreshed':refreshed, 'Floor Area in sqm':floor_area, 'Facilities':facilities, 'Description':description, 'Directions':directions, 'Ber Details':ber_details, 'Accommodation':accommodation, 'Features':features}, ignore_index = True)\n"
     ]
    },
    {
     "name": "stdout",
     "output_type": "stream",
     "text": [
      "DataFrame length:  1056\n"
     ]
    },
    {
     "name": "stderr",
     "output_type": "stream",
     "text": [
      "C:\\Users\\Harry\\AppData\\Local\\Temp\\ipykernel_35052\\75057381.py:97: FutureWarning: The frame.append method is deprecated and will be removed from pandas in a future version. Use pandas.concat instead.\n",
      "  df = df.append({'Address':address, 'Price':price, 'Eircode': eircode, 'Dwelling Type':dwelling_type, 'Bedrooms':bedrooms, 'Bathrooms':bathrooms, 'Last Refreshed':refreshed, 'Floor Area in sqm':floor_area, 'Facilities':facilities, 'Description':description, 'Directions':directions, 'Ber Details':ber_details, 'Accommodation':accommodation, 'Features':features}, ignore_index = True)\n"
     ]
    },
    {
     "name": "stdout",
     "output_type": "stream",
     "text": [
      "DataFrame length:  1057\n"
     ]
    },
    {
     "name": "stderr",
     "output_type": "stream",
     "text": [
      "C:\\Users\\Harry\\AppData\\Local\\Temp\\ipykernel_35052\\75057381.py:97: FutureWarning: The frame.append method is deprecated and will be removed from pandas in a future version. Use pandas.concat instead.\n",
      "  df = df.append({'Address':address, 'Price':price, 'Eircode': eircode, 'Dwelling Type':dwelling_type, 'Bedrooms':bedrooms, 'Bathrooms':bathrooms, 'Last Refreshed':refreshed, 'Floor Area in sqm':floor_area, 'Facilities':facilities, 'Description':description, 'Directions':directions, 'Ber Details':ber_details, 'Accommodation':accommodation, 'Features':features}, ignore_index = True)\n"
     ]
    },
    {
     "name": "stdout",
     "output_type": "stream",
     "text": [
      "DataFrame length:  1058\n"
     ]
    },
    {
     "name": "stderr",
     "output_type": "stream",
     "text": [
      "C:\\Users\\Harry\\AppData\\Local\\Temp\\ipykernel_35052\\75057381.py:97: FutureWarning: The frame.append method is deprecated and will be removed from pandas in a future version. Use pandas.concat instead.\n",
      "  df = df.append({'Address':address, 'Price':price, 'Eircode': eircode, 'Dwelling Type':dwelling_type, 'Bedrooms':bedrooms, 'Bathrooms':bathrooms, 'Last Refreshed':refreshed, 'Floor Area in sqm':floor_area, 'Facilities':facilities, 'Description':description, 'Directions':directions, 'Ber Details':ber_details, 'Accommodation':accommodation, 'Features':features}, ignore_index = True)\n"
     ]
    },
    {
     "name": "stdout",
     "output_type": "stream",
     "text": [
      "DataFrame length:  1059\n"
     ]
    },
    {
     "name": "stderr",
     "output_type": "stream",
     "text": [
      "C:\\Users\\Harry\\AppData\\Local\\Temp\\ipykernel_35052\\75057381.py:97: FutureWarning: The frame.append method is deprecated and will be removed from pandas in a future version. Use pandas.concat instead.\n",
      "  df = df.append({'Address':address, 'Price':price, 'Eircode': eircode, 'Dwelling Type':dwelling_type, 'Bedrooms':bedrooms, 'Bathrooms':bathrooms, 'Last Refreshed':refreshed, 'Floor Area in sqm':floor_area, 'Facilities':facilities, 'Description':description, 'Directions':directions, 'Ber Details':ber_details, 'Accommodation':accommodation, 'Features':features}, ignore_index = True)\n"
     ]
    },
    {
     "name": "stdout",
     "output_type": "stream",
     "text": [
      "DataFrame length:  1060\n"
     ]
    },
    {
     "name": "stderr",
     "output_type": "stream",
     "text": [
      "C:\\Users\\Harry\\AppData\\Local\\Temp\\ipykernel_35052\\75057381.py:97: FutureWarning: The frame.append method is deprecated and will be removed from pandas in a future version. Use pandas.concat instead.\n",
      "  df = df.append({'Address':address, 'Price':price, 'Eircode': eircode, 'Dwelling Type':dwelling_type, 'Bedrooms':bedrooms, 'Bathrooms':bathrooms, 'Last Refreshed':refreshed, 'Floor Area in sqm':floor_area, 'Facilities':facilities, 'Description':description, 'Directions':directions, 'Ber Details':ber_details, 'Accommodation':accommodation, 'Features':features}, ignore_index = True)\n"
     ]
    },
    {
     "name": "stdout",
     "output_type": "stream",
     "text": [
      "DataFrame length:  1061\n"
     ]
    },
    {
     "name": "stderr",
     "output_type": "stream",
     "text": [
      "C:\\Users\\Harry\\AppData\\Local\\Temp\\ipykernel_35052\\75057381.py:97: FutureWarning: The frame.append method is deprecated and will be removed from pandas in a future version. Use pandas.concat instead.\n",
      "  df = df.append({'Address':address, 'Price':price, 'Eircode': eircode, 'Dwelling Type':dwelling_type, 'Bedrooms':bedrooms, 'Bathrooms':bathrooms, 'Last Refreshed':refreshed, 'Floor Area in sqm':floor_area, 'Facilities':facilities, 'Description':description, 'Directions':directions, 'Ber Details':ber_details, 'Accommodation':accommodation, 'Features':features}, ignore_index = True)\n"
     ]
    },
    {
     "name": "stdout",
     "output_type": "stream",
     "text": [
      "DataFrame length:  1062\n"
     ]
    },
    {
     "name": "stderr",
     "output_type": "stream",
     "text": [
      "C:\\Users\\Harry\\AppData\\Local\\Temp\\ipykernel_35052\\75057381.py:97: FutureWarning: The frame.append method is deprecated and will be removed from pandas in a future version. Use pandas.concat instead.\n",
      "  df = df.append({'Address':address, 'Price':price, 'Eircode': eircode, 'Dwelling Type':dwelling_type, 'Bedrooms':bedrooms, 'Bathrooms':bathrooms, 'Last Refreshed':refreshed, 'Floor Area in sqm':floor_area, 'Facilities':facilities, 'Description':description, 'Directions':directions, 'Ber Details':ber_details, 'Accommodation':accommodation, 'Features':features}, ignore_index = True)\n"
     ]
    },
    {
     "name": "stdout",
     "output_type": "stream",
     "text": [
      "DataFrame length:  1063\n"
     ]
    },
    {
     "name": "stderr",
     "output_type": "stream",
     "text": [
      "C:\\Users\\Harry\\AppData\\Local\\Temp\\ipykernel_35052\\75057381.py:97: FutureWarning: The frame.append method is deprecated and will be removed from pandas in a future version. Use pandas.concat instead.\n",
      "  df = df.append({'Address':address, 'Price':price, 'Eircode': eircode, 'Dwelling Type':dwelling_type, 'Bedrooms':bedrooms, 'Bathrooms':bathrooms, 'Last Refreshed':refreshed, 'Floor Area in sqm':floor_area, 'Facilities':facilities, 'Description':description, 'Directions':directions, 'Ber Details':ber_details, 'Accommodation':accommodation, 'Features':features}, ignore_index = True)\n"
     ]
    },
    {
     "name": "stdout",
     "output_type": "stream",
     "text": [
      "DataFrame length:  1064\n"
     ]
    },
    {
     "name": "stderr",
     "output_type": "stream",
     "text": [
      "C:\\Users\\Harry\\AppData\\Local\\Temp\\ipykernel_35052\\75057381.py:97: FutureWarning: The frame.append method is deprecated and will be removed from pandas in a future version. Use pandas.concat instead.\n",
      "  df = df.append({'Address':address, 'Price':price, 'Eircode': eircode, 'Dwelling Type':dwelling_type, 'Bedrooms':bedrooms, 'Bathrooms':bathrooms, 'Last Refreshed':refreshed, 'Floor Area in sqm':floor_area, 'Facilities':facilities, 'Description':description, 'Directions':directions, 'Ber Details':ber_details, 'Accommodation':accommodation, 'Features':features}, ignore_index = True)\n"
     ]
    },
    {
     "name": "stdout",
     "output_type": "stream",
     "text": [
      "DataFrame length:  1065\n"
     ]
    },
    {
     "name": "stderr",
     "output_type": "stream",
     "text": [
      "C:\\Users\\Harry\\AppData\\Local\\Temp\\ipykernel_35052\\75057381.py:97: FutureWarning: The frame.append method is deprecated and will be removed from pandas in a future version. Use pandas.concat instead.\n",
      "  df = df.append({'Address':address, 'Price':price, 'Eircode': eircode, 'Dwelling Type':dwelling_type, 'Bedrooms':bedrooms, 'Bathrooms':bathrooms, 'Last Refreshed':refreshed, 'Floor Area in sqm':floor_area, 'Facilities':facilities, 'Description':description, 'Directions':directions, 'Ber Details':ber_details, 'Accommodation':accommodation, 'Features':features}, ignore_index = True)\n"
     ]
    },
    {
     "name": "stdout",
     "output_type": "stream",
     "text": [
      "DataFrame length:  1066\n"
     ]
    },
    {
     "name": "stderr",
     "output_type": "stream",
     "text": [
      "C:\\Users\\Harry\\AppData\\Local\\Temp\\ipykernel_35052\\75057381.py:97: FutureWarning: The frame.append method is deprecated and will be removed from pandas in a future version. Use pandas.concat instead.\n",
      "  df = df.append({'Address':address, 'Price':price, 'Eircode': eircode, 'Dwelling Type':dwelling_type, 'Bedrooms':bedrooms, 'Bathrooms':bathrooms, 'Last Refreshed':refreshed, 'Floor Area in sqm':floor_area, 'Facilities':facilities, 'Description':description, 'Directions':directions, 'Ber Details':ber_details, 'Accommodation':accommodation, 'Features':features}, ignore_index = True)\n"
     ]
    },
    {
     "name": "stdout",
     "output_type": "stream",
     "text": [
      "DataFrame length:  1067\n"
     ]
    },
    {
     "name": "stderr",
     "output_type": "stream",
     "text": [
      "C:\\Users\\Harry\\AppData\\Local\\Temp\\ipykernel_35052\\75057381.py:97: FutureWarning: The frame.append method is deprecated and will be removed from pandas in a future version. Use pandas.concat instead.\n",
      "  df = df.append({'Address':address, 'Price':price, 'Eircode': eircode, 'Dwelling Type':dwelling_type, 'Bedrooms':bedrooms, 'Bathrooms':bathrooms, 'Last Refreshed':refreshed, 'Floor Area in sqm':floor_area, 'Facilities':facilities, 'Description':description, 'Directions':directions, 'Ber Details':ber_details, 'Accommodation':accommodation, 'Features':features}, ignore_index = True)\n"
     ]
    },
    {
     "name": "stdout",
     "output_type": "stream",
     "text": [
      "DataFrame length:  1068\n"
     ]
    },
    {
     "name": "stderr",
     "output_type": "stream",
     "text": [
      "C:\\Users\\Harry\\AppData\\Local\\Temp\\ipykernel_35052\\75057381.py:97: FutureWarning: The frame.append method is deprecated and will be removed from pandas in a future version. Use pandas.concat instead.\n",
      "  df = df.append({'Address':address, 'Price':price, 'Eircode': eircode, 'Dwelling Type':dwelling_type, 'Bedrooms':bedrooms, 'Bathrooms':bathrooms, 'Last Refreshed':refreshed, 'Floor Area in sqm':floor_area, 'Facilities':facilities, 'Description':description, 'Directions':directions, 'Ber Details':ber_details, 'Accommodation':accommodation, 'Features':features}, ignore_index = True)\n"
     ]
    },
    {
     "name": "stdout",
     "output_type": "stream",
     "text": [
      "DataFrame length:  1069\n"
     ]
    },
    {
     "name": "stderr",
     "output_type": "stream",
     "text": [
      "C:\\Users\\Harry\\AppData\\Local\\Temp\\ipykernel_35052\\75057381.py:97: FutureWarning: The frame.append method is deprecated and will be removed from pandas in a future version. Use pandas.concat instead.\n",
      "  df = df.append({'Address':address, 'Price':price, 'Eircode': eircode, 'Dwelling Type':dwelling_type, 'Bedrooms':bedrooms, 'Bathrooms':bathrooms, 'Last Refreshed':refreshed, 'Floor Area in sqm':floor_area, 'Facilities':facilities, 'Description':description, 'Directions':directions, 'Ber Details':ber_details, 'Accommodation':accommodation, 'Features':features}, ignore_index = True)\n"
     ]
    },
    {
     "name": "stdout",
     "output_type": "stream",
     "text": [
      "DataFrame length:  1070\n"
     ]
    },
    {
     "name": "stderr",
     "output_type": "stream",
     "text": [
      "C:\\Users\\Harry\\AppData\\Local\\Temp\\ipykernel_35052\\75057381.py:97: FutureWarning: The frame.append method is deprecated and will be removed from pandas in a future version. Use pandas.concat instead.\n",
      "  df = df.append({'Address':address, 'Price':price, 'Eircode': eircode, 'Dwelling Type':dwelling_type, 'Bedrooms':bedrooms, 'Bathrooms':bathrooms, 'Last Refreshed':refreshed, 'Floor Area in sqm':floor_area, 'Facilities':facilities, 'Description':description, 'Directions':directions, 'Ber Details':ber_details, 'Accommodation':accommodation, 'Features':features}, ignore_index = True)\n"
     ]
    },
    {
     "name": "stdout",
     "output_type": "stream",
     "text": [
      "DataFrame length:  1071\n"
     ]
    },
    {
     "name": "stderr",
     "output_type": "stream",
     "text": [
      "C:\\Users\\Harry\\AppData\\Local\\Temp\\ipykernel_35052\\75057381.py:97: FutureWarning: The frame.append method is deprecated and will be removed from pandas in a future version. Use pandas.concat instead.\n",
      "  df = df.append({'Address':address, 'Price':price, 'Eircode': eircode, 'Dwelling Type':dwelling_type, 'Bedrooms':bedrooms, 'Bathrooms':bathrooms, 'Last Refreshed':refreshed, 'Floor Area in sqm':floor_area, 'Facilities':facilities, 'Description':description, 'Directions':directions, 'Ber Details':ber_details, 'Accommodation':accommodation, 'Features':features}, ignore_index = True)\n"
     ]
    },
    {
     "name": "stdout",
     "output_type": "stream",
     "text": [
      "DataFrame length:  1072\n"
     ]
    },
    {
     "name": "stderr",
     "output_type": "stream",
     "text": [
      "C:\\Users\\Harry\\AppData\\Local\\Temp\\ipykernel_35052\\75057381.py:97: FutureWarning: The frame.append method is deprecated and will be removed from pandas in a future version. Use pandas.concat instead.\n",
      "  df = df.append({'Address':address, 'Price':price, 'Eircode': eircode, 'Dwelling Type':dwelling_type, 'Bedrooms':bedrooms, 'Bathrooms':bathrooms, 'Last Refreshed':refreshed, 'Floor Area in sqm':floor_area, 'Facilities':facilities, 'Description':description, 'Directions':directions, 'Ber Details':ber_details, 'Accommodation':accommodation, 'Features':features}, ignore_index = True)\n"
     ]
    },
    {
     "name": "stdout",
     "output_type": "stream",
     "text": [
      "DataFrame length:  1073\n"
     ]
    },
    {
     "name": "stderr",
     "output_type": "stream",
     "text": [
      "C:\\Users\\Harry\\AppData\\Local\\Temp\\ipykernel_35052\\75057381.py:97: FutureWarning: The frame.append method is deprecated and will be removed from pandas in a future version. Use pandas.concat instead.\n",
      "  df = df.append({'Address':address, 'Price':price, 'Eircode': eircode, 'Dwelling Type':dwelling_type, 'Bedrooms':bedrooms, 'Bathrooms':bathrooms, 'Last Refreshed':refreshed, 'Floor Area in sqm':floor_area, 'Facilities':facilities, 'Description':description, 'Directions':directions, 'Ber Details':ber_details, 'Accommodation':accommodation, 'Features':features}, ignore_index = True)\n"
     ]
    },
    {
     "name": "stdout",
     "output_type": "stream",
     "text": [
      "DataFrame length:  1074\n"
     ]
    },
    {
     "name": "stderr",
     "output_type": "stream",
     "text": [
      "C:\\Users\\Harry\\AppData\\Local\\Temp\\ipykernel_35052\\75057381.py:97: FutureWarning: The frame.append method is deprecated and will be removed from pandas in a future version. Use pandas.concat instead.\n",
      "  df = df.append({'Address':address, 'Price':price, 'Eircode': eircode, 'Dwelling Type':dwelling_type, 'Bedrooms':bedrooms, 'Bathrooms':bathrooms, 'Last Refreshed':refreshed, 'Floor Area in sqm':floor_area, 'Facilities':facilities, 'Description':description, 'Directions':directions, 'Ber Details':ber_details, 'Accommodation':accommodation, 'Features':features}, ignore_index = True)\n"
     ]
    },
    {
     "name": "stdout",
     "output_type": "stream",
     "text": [
      "DataFrame length:  1075\n"
     ]
    },
    {
     "name": "stderr",
     "output_type": "stream",
     "text": [
      "C:\\Users\\Harry\\AppData\\Local\\Temp\\ipykernel_35052\\75057381.py:97: FutureWarning: The frame.append method is deprecated and will be removed from pandas in a future version. Use pandas.concat instead.\n",
      "  df = df.append({'Address':address, 'Price':price, 'Eircode': eircode, 'Dwelling Type':dwelling_type, 'Bedrooms':bedrooms, 'Bathrooms':bathrooms, 'Last Refreshed':refreshed, 'Floor Area in sqm':floor_area, 'Facilities':facilities, 'Description':description, 'Directions':directions, 'Ber Details':ber_details, 'Accommodation':accommodation, 'Features':features}, ignore_index = True)\n"
     ]
    },
    {
     "name": "stdout",
     "output_type": "stream",
     "text": [
      "DataFrame length:  1076\n"
     ]
    },
    {
     "name": "stderr",
     "output_type": "stream",
     "text": [
      "C:\\Users\\Harry\\AppData\\Local\\Temp\\ipykernel_35052\\75057381.py:97: FutureWarning: The frame.append method is deprecated and will be removed from pandas in a future version. Use pandas.concat instead.\n",
      "  df = df.append({'Address':address, 'Price':price, 'Eircode': eircode, 'Dwelling Type':dwelling_type, 'Bedrooms':bedrooms, 'Bathrooms':bathrooms, 'Last Refreshed':refreshed, 'Floor Area in sqm':floor_area, 'Facilities':facilities, 'Description':description, 'Directions':directions, 'Ber Details':ber_details, 'Accommodation':accommodation, 'Features':features}, ignore_index = True)\n"
     ]
    },
    {
     "name": "stdout",
     "output_type": "stream",
     "text": [
      "DataFrame length:  1077\n"
     ]
    },
    {
     "name": "stderr",
     "output_type": "stream",
     "text": [
      "C:\\Users\\Harry\\AppData\\Local\\Temp\\ipykernel_35052\\75057381.py:97: FutureWarning: The frame.append method is deprecated and will be removed from pandas in a future version. Use pandas.concat instead.\n",
      "  df = df.append({'Address':address, 'Price':price, 'Eircode': eircode, 'Dwelling Type':dwelling_type, 'Bedrooms':bedrooms, 'Bathrooms':bathrooms, 'Last Refreshed':refreshed, 'Floor Area in sqm':floor_area, 'Facilities':facilities, 'Description':description, 'Directions':directions, 'Ber Details':ber_details, 'Accommodation':accommodation, 'Features':features}, ignore_index = True)\n"
     ]
    },
    {
     "name": "stdout",
     "output_type": "stream",
     "text": [
      "DataFrame length:  1078\n"
     ]
    },
    {
     "name": "stderr",
     "output_type": "stream",
     "text": [
      "C:\\Users\\Harry\\AppData\\Local\\Temp\\ipykernel_35052\\75057381.py:97: FutureWarning: The frame.append method is deprecated and will be removed from pandas in a future version. Use pandas.concat instead.\n",
      "  df = df.append({'Address':address, 'Price':price, 'Eircode': eircode, 'Dwelling Type':dwelling_type, 'Bedrooms':bedrooms, 'Bathrooms':bathrooms, 'Last Refreshed':refreshed, 'Floor Area in sqm':floor_area, 'Facilities':facilities, 'Description':description, 'Directions':directions, 'Ber Details':ber_details, 'Accommodation':accommodation, 'Features':features}, ignore_index = True)\n"
     ]
    },
    {
     "name": "stdout",
     "output_type": "stream",
     "text": [
      "DataFrame length:  1079\n"
     ]
    },
    {
     "name": "stderr",
     "output_type": "stream",
     "text": [
      "C:\\Users\\Harry\\AppData\\Local\\Temp\\ipykernel_35052\\75057381.py:97: FutureWarning: The frame.append method is deprecated and will be removed from pandas in a future version. Use pandas.concat instead.\n",
      "  df = df.append({'Address':address, 'Price':price, 'Eircode': eircode, 'Dwelling Type':dwelling_type, 'Bedrooms':bedrooms, 'Bathrooms':bathrooms, 'Last Refreshed':refreshed, 'Floor Area in sqm':floor_area, 'Facilities':facilities, 'Description':description, 'Directions':directions, 'Ber Details':ber_details, 'Accommodation':accommodation, 'Features':features}, ignore_index = True)\n"
     ]
    },
    {
     "name": "stdout",
     "output_type": "stream",
     "text": [
      "DataFrame length:  1080\n"
     ]
    },
    {
     "name": "stderr",
     "output_type": "stream",
     "text": [
      "C:\\Users\\Harry\\AppData\\Local\\Temp\\ipykernel_35052\\75057381.py:97: FutureWarning: The frame.append method is deprecated and will be removed from pandas in a future version. Use pandas.concat instead.\n",
      "  df = df.append({'Address':address, 'Price':price, 'Eircode': eircode, 'Dwelling Type':dwelling_type, 'Bedrooms':bedrooms, 'Bathrooms':bathrooms, 'Last Refreshed':refreshed, 'Floor Area in sqm':floor_area, 'Facilities':facilities, 'Description':description, 'Directions':directions, 'Ber Details':ber_details, 'Accommodation':accommodation, 'Features':features}, ignore_index = True)\n"
     ]
    },
    {
     "name": "stdout",
     "output_type": "stream",
     "text": [
      "DataFrame length:  1081\n"
     ]
    },
    {
     "name": "stderr",
     "output_type": "stream",
     "text": [
      "C:\\Users\\Harry\\AppData\\Local\\Temp\\ipykernel_35052\\75057381.py:97: FutureWarning: The frame.append method is deprecated and will be removed from pandas in a future version. Use pandas.concat instead.\n",
      "  df = df.append({'Address':address, 'Price':price, 'Eircode': eircode, 'Dwelling Type':dwelling_type, 'Bedrooms':bedrooms, 'Bathrooms':bathrooms, 'Last Refreshed':refreshed, 'Floor Area in sqm':floor_area, 'Facilities':facilities, 'Description':description, 'Directions':directions, 'Ber Details':ber_details, 'Accommodation':accommodation, 'Features':features}, ignore_index = True)\n"
     ]
    },
    {
     "name": "stdout",
     "output_type": "stream",
     "text": [
      "DataFrame length:  1082\n"
     ]
    },
    {
     "name": "stderr",
     "output_type": "stream",
     "text": [
      "C:\\Users\\Harry\\AppData\\Local\\Temp\\ipykernel_35052\\75057381.py:97: FutureWarning: The frame.append method is deprecated and will be removed from pandas in a future version. Use pandas.concat instead.\n",
      "  df = df.append({'Address':address, 'Price':price, 'Eircode': eircode, 'Dwelling Type':dwelling_type, 'Bedrooms':bedrooms, 'Bathrooms':bathrooms, 'Last Refreshed':refreshed, 'Floor Area in sqm':floor_area, 'Facilities':facilities, 'Description':description, 'Directions':directions, 'Ber Details':ber_details, 'Accommodation':accommodation, 'Features':features}, ignore_index = True)\n"
     ]
    },
    {
     "name": "stdout",
     "output_type": "stream",
     "text": [
      "DataFrame length:  1083\n"
     ]
    },
    {
     "name": "stderr",
     "output_type": "stream",
     "text": [
      "C:\\Users\\Harry\\AppData\\Local\\Temp\\ipykernel_35052\\75057381.py:97: FutureWarning: The frame.append method is deprecated and will be removed from pandas in a future version. Use pandas.concat instead.\n",
      "  df = df.append({'Address':address, 'Price':price, 'Eircode': eircode, 'Dwelling Type':dwelling_type, 'Bedrooms':bedrooms, 'Bathrooms':bathrooms, 'Last Refreshed':refreshed, 'Floor Area in sqm':floor_area, 'Facilities':facilities, 'Description':description, 'Directions':directions, 'Ber Details':ber_details, 'Accommodation':accommodation, 'Features':features}, ignore_index = True)\n"
     ]
    },
    {
     "name": "stdout",
     "output_type": "stream",
     "text": [
      "DataFrame length:  1084\n"
     ]
    },
    {
     "name": "stderr",
     "output_type": "stream",
     "text": [
      "C:\\Users\\Harry\\AppData\\Local\\Temp\\ipykernel_35052\\75057381.py:97: FutureWarning: The frame.append method is deprecated and will be removed from pandas in a future version. Use pandas.concat instead.\n",
      "  df = df.append({'Address':address, 'Price':price, 'Eircode': eircode, 'Dwelling Type':dwelling_type, 'Bedrooms':bedrooms, 'Bathrooms':bathrooms, 'Last Refreshed':refreshed, 'Floor Area in sqm':floor_area, 'Facilities':facilities, 'Description':description, 'Directions':directions, 'Ber Details':ber_details, 'Accommodation':accommodation, 'Features':features}, ignore_index = True)\n"
     ]
    },
    {
     "name": "stdout",
     "output_type": "stream",
     "text": [
      "DataFrame length:  1085\n"
     ]
    },
    {
     "name": "stderr",
     "output_type": "stream",
     "text": [
      "C:\\Users\\Harry\\AppData\\Local\\Temp\\ipykernel_35052\\75057381.py:97: FutureWarning: The frame.append method is deprecated and will be removed from pandas in a future version. Use pandas.concat instead.\n",
      "  df = df.append({'Address':address, 'Price':price, 'Eircode': eircode, 'Dwelling Type':dwelling_type, 'Bedrooms':bedrooms, 'Bathrooms':bathrooms, 'Last Refreshed':refreshed, 'Floor Area in sqm':floor_area, 'Facilities':facilities, 'Description':description, 'Directions':directions, 'Ber Details':ber_details, 'Accommodation':accommodation, 'Features':features}, ignore_index = True)\n"
     ]
    },
    {
     "name": "stdout",
     "output_type": "stream",
     "text": [
      "DataFrame length:  1086\n"
     ]
    },
    {
     "name": "stderr",
     "output_type": "stream",
     "text": [
      "C:\\Users\\Harry\\AppData\\Local\\Temp\\ipykernel_35052\\75057381.py:97: FutureWarning: The frame.append method is deprecated and will be removed from pandas in a future version. Use pandas.concat instead.\n",
      "  df = df.append({'Address':address, 'Price':price, 'Eircode': eircode, 'Dwelling Type':dwelling_type, 'Bedrooms':bedrooms, 'Bathrooms':bathrooms, 'Last Refreshed':refreshed, 'Floor Area in sqm':floor_area, 'Facilities':facilities, 'Description':description, 'Directions':directions, 'Ber Details':ber_details, 'Accommodation':accommodation, 'Features':features}, ignore_index = True)\n"
     ]
    },
    {
     "name": "stdout",
     "output_type": "stream",
     "text": [
      "DataFrame length:  1087\n"
     ]
    },
    {
     "name": "stderr",
     "output_type": "stream",
     "text": [
      "C:\\Users\\Harry\\AppData\\Local\\Temp\\ipykernel_35052\\75057381.py:97: FutureWarning: The frame.append method is deprecated and will be removed from pandas in a future version. Use pandas.concat instead.\n",
      "  df = df.append({'Address':address, 'Price':price, 'Eircode': eircode, 'Dwelling Type':dwelling_type, 'Bedrooms':bedrooms, 'Bathrooms':bathrooms, 'Last Refreshed':refreshed, 'Floor Area in sqm':floor_area, 'Facilities':facilities, 'Description':description, 'Directions':directions, 'Ber Details':ber_details, 'Accommodation':accommodation, 'Features':features}, ignore_index = True)\n"
     ]
    },
    {
     "name": "stdout",
     "output_type": "stream",
     "text": [
      "DataFrame length:  1088\n"
     ]
    },
    {
     "name": "stderr",
     "output_type": "stream",
     "text": [
      "C:\\Users\\Harry\\AppData\\Local\\Temp\\ipykernel_35052\\75057381.py:97: FutureWarning: The frame.append method is deprecated and will be removed from pandas in a future version. Use pandas.concat instead.\n",
      "  df = df.append({'Address':address, 'Price':price, 'Eircode': eircode, 'Dwelling Type':dwelling_type, 'Bedrooms':bedrooms, 'Bathrooms':bathrooms, 'Last Refreshed':refreshed, 'Floor Area in sqm':floor_area, 'Facilities':facilities, 'Description':description, 'Directions':directions, 'Ber Details':ber_details, 'Accommodation':accommodation, 'Features':features}, ignore_index = True)\n"
     ]
    },
    {
     "name": "stdout",
     "output_type": "stream",
     "text": [
      "DataFrame length:  1089\n"
     ]
    },
    {
     "name": "stderr",
     "output_type": "stream",
     "text": [
      "C:\\Users\\Harry\\AppData\\Local\\Temp\\ipykernel_35052\\75057381.py:97: FutureWarning: The frame.append method is deprecated and will be removed from pandas in a future version. Use pandas.concat instead.\n",
      "  df = df.append({'Address':address, 'Price':price, 'Eircode': eircode, 'Dwelling Type':dwelling_type, 'Bedrooms':bedrooms, 'Bathrooms':bathrooms, 'Last Refreshed':refreshed, 'Floor Area in sqm':floor_area, 'Facilities':facilities, 'Description':description, 'Directions':directions, 'Ber Details':ber_details, 'Accommodation':accommodation, 'Features':features}, ignore_index = True)\n"
     ]
    },
    {
     "name": "stdout",
     "output_type": "stream",
     "text": [
      "DataFrame length:  1090\n"
     ]
    },
    {
     "name": "stderr",
     "output_type": "stream",
     "text": [
      "C:\\Users\\Harry\\AppData\\Local\\Temp\\ipykernel_35052\\75057381.py:97: FutureWarning: The frame.append method is deprecated and will be removed from pandas in a future version. Use pandas.concat instead.\n",
      "  df = df.append({'Address':address, 'Price':price, 'Eircode': eircode, 'Dwelling Type':dwelling_type, 'Bedrooms':bedrooms, 'Bathrooms':bathrooms, 'Last Refreshed':refreshed, 'Floor Area in sqm':floor_area, 'Facilities':facilities, 'Description':description, 'Directions':directions, 'Ber Details':ber_details, 'Accommodation':accommodation, 'Features':features}, ignore_index = True)\n"
     ]
    },
    {
     "name": "stdout",
     "output_type": "stream",
     "text": [
      "DataFrame length:  1091\n"
     ]
    },
    {
     "name": "stderr",
     "output_type": "stream",
     "text": [
      "C:\\Users\\Harry\\AppData\\Local\\Temp\\ipykernel_35052\\75057381.py:97: FutureWarning: The frame.append method is deprecated and will be removed from pandas in a future version. Use pandas.concat instead.\n",
      "  df = df.append({'Address':address, 'Price':price, 'Eircode': eircode, 'Dwelling Type':dwelling_type, 'Bedrooms':bedrooms, 'Bathrooms':bathrooms, 'Last Refreshed':refreshed, 'Floor Area in sqm':floor_area, 'Facilities':facilities, 'Description':description, 'Directions':directions, 'Ber Details':ber_details, 'Accommodation':accommodation, 'Features':features}, ignore_index = True)\n"
     ]
    },
    {
     "name": "stdout",
     "output_type": "stream",
     "text": [
      "DataFrame length:  1092\n"
     ]
    },
    {
     "name": "stderr",
     "output_type": "stream",
     "text": [
      "C:\\Users\\Harry\\AppData\\Local\\Temp\\ipykernel_35052\\75057381.py:97: FutureWarning: The frame.append method is deprecated and will be removed from pandas in a future version. Use pandas.concat instead.\n",
      "  df = df.append({'Address':address, 'Price':price, 'Eircode': eircode, 'Dwelling Type':dwelling_type, 'Bedrooms':bedrooms, 'Bathrooms':bathrooms, 'Last Refreshed':refreshed, 'Floor Area in sqm':floor_area, 'Facilities':facilities, 'Description':description, 'Directions':directions, 'Ber Details':ber_details, 'Accommodation':accommodation, 'Features':features}, ignore_index = True)\n"
     ]
    },
    {
     "name": "stdout",
     "output_type": "stream",
     "text": [
      "DataFrame length:  1093\n"
     ]
    },
    {
     "name": "stderr",
     "output_type": "stream",
     "text": [
      "C:\\Users\\Harry\\AppData\\Local\\Temp\\ipykernel_35052\\75057381.py:97: FutureWarning: The frame.append method is deprecated and will be removed from pandas in a future version. Use pandas.concat instead.\n",
      "  df = df.append({'Address':address, 'Price':price, 'Eircode': eircode, 'Dwelling Type':dwelling_type, 'Bedrooms':bedrooms, 'Bathrooms':bathrooms, 'Last Refreshed':refreshed, 'Floor Area in sqm':floor_area, 'Facilities':facilities, 'Description':description, 'Directions':directions, 'Ber Details':ber_details, 'Accommodation':accommodation, 'Features':features}, ignore_index = True)\n"
     ]
    },
    {
     "name": "stdout",
     "output_type": "stream",
     "text": [
      "DataFrame length:  1094\n"
     ]
    },
    {
     "name": "stderr",
     "output_type": "stream",
     "text": [
      "C:\\Users\\Harry\\AppData\\Local\\Temp\\ipykernel_35052\\75057381.py:97: FutureWarning: The frame.append method is deprecated and will be removed from pandas in a future version. Use pandas.concat instead.\n",
      "  df = df.append({'Address':address, 'Price':price, 'Eircode': eircode, 'Dwelling Type':dwelling_type, 'Bedrooms':bedrooms, 'Bathrooms':bathrooms, 'Last Refreshed':refreshed, 'Floor Area in sqm':floor_area, 'Facilities':facilities, 'Description':description, 'Directions':directions, 'Ber Details':ber_details, 'Accommodation':accommodation, 'Features':features}, ignore_index = True)\n"
     ]
    },
    {
     "name": "stdout",
     "output_type": "stream",
     "text": [
      "DataFrame length:  1095\n"
     ]
    },
    {
     "name": "stderr",
     "output_type": "stream",
     "text": [
      "C:\\Users\\Harry\\AppData\\Local\\Temp\\ipykernel_35052\\75057381.py:97: FutureWarning: The frame.append method is deprecated and will be removed from pandas in a future version. Use pandas.concat instead.\n",
      "  df = df.append({'Address':address, 'Price':price, 'Eircode': eircode, 'Dwelling Type':dwelling_type, 'Bedrooms':bedrooms, 'Bathrooms':bathrooms, 'Last Refreshed':refreshed, 'Floor Area in sqm':floor_area, 'Facilities':facilities, 'Description':description, 'Directions':directions, 'Ber Details':ber_details, 'Accommodation':accommodation, 'Features':features}, ignore_index = True)\n"
     ]
    },
    {
     "name": "stdout",
     "output_type": "stream",
     "text": [
      "DataFrame length:  1096\n"
     ]
    },
    {
     "name": "stderr",
     "output_type": "stream",
     "text": [
      "C:\\Users\\Harry\\AppData\\Local\\Temp\\ipykernel_35052\\75057381.py:97: FutureWarning: The frame.append method is deprecated and will be removed from pandas in a future version. Use pandas.concat instead.\n",
      "  df = df.append({'Address':address, 'Price':price, 'Eircode': eircode, 'Dwelling Type':dwelling_type, 'Bedrooms':bedrooms, 'Bathrooms':bathrooms, 'Last Refreshed':refreshed, 'Floor Area in sqm':floor_area, 'Facilities':facilities, 'Description':description, 'Directions':directions, 'Ber Details':ber_details, 'Accommodation':accommodation, 'Features':features}, ignore_index = True)\n"
     ]
    },
    {
     "name": "stdout",
     "output_type": "stream",
     "text": [
      "DataFrame length:  1097\n"
     ]
    },
    {
     "name": "stderr",
     "output_type": "stream",
     "text": [
      "C:\\Users\\Harry\\AppData\\Local\\Temp\\ipykernel_35052\\75057381.py:97: FutureWarning: The frame.append method is deprecated and will be removed from pandas in a future version. Use pandas.concat instead.\n",
      "  df = df.append({'Address':address, 'Price':price, 'Eircode': eircode, 'Dwelling Type':dwelling_type, 'Bedrooms':bedrooms, 'Bathrooms':bathrooms, 'Last Refreshed':refreshed, 'Floor Area in sqm':floor_area, 'Facilities':facilities, 'Description':description, 'Directions':directions, 'Ber Details':ber_details, 'Accommodation':accommodation, 'Features':features}, ignore_index = True)\n"
     ]
    },
    {
     "name": "stdout",
     "output_type": "stream",
     "text": [
      "DataFrame length:  1098\n"
     ]
    },
    {
     "name": "stderr",
     "output_type": "stream",
     "text": [
      "C:\\Users\\Harry\\AppData\\Local\\Temp\\ipykernel_35052\\75057381.py:97: FutureWarning: The frame.append method is deprecated and will be removed from pandas in a future version. Use pandas.concat instead.\n",
      "  df = df.append({'Address':address, 'Price':price, 'Eircode': eircode, 'Dwelling Type':dwelling_type, 'Bedrooms':bedrooms, 'Bathrooms':bathrooms, 'Last Refreshed':refreshed, 'Floor Area in sqm':floor_area, 'Facilities':facilities, 'Description':description, 'Directions':directions, 'Ber Details':ber_details, 'Accommodation':accommodation, 'Features':features}, ignore_index = True)\n"
     ]
    },
    {
     "name": "stdout",
     "output_type": "stream",
     "text": [
      "DataFrame length:  1099\n"
     ]
    },
    {
     "name": "stderr",
     "output_type": "stream",
     "text": [
      "C:\\Users\\Harry\\AppData\\Local\\Temp\\ipykernel_35052\\75057381.py:97: FutureWarning: The frame.append method is deprecated and will be removed from pandas in a future version. Use pandas.concat instead.\n",
      "  df = df.append({'Address':address, 'Price':price, 'Eircode': eircode, 'Dwelling Type':dwelling_type, 'Bedrooms':bedrooms, 'Bathrooms':bathrooms, 'Last Refreshed':refreshed, 'Floor Area in sqm':floor_area, 'Facilities':facilities, 'Description':description, 'Directions':directions, 'Ber Details':ber_details, 'Accommodation':accommodation, 'Features':features}, ignore_index = True)\n"
     ]
    },
    {
     "name": "stdout",
     "output_type": "stream",
     "text": [
      "DataFrame length:  1100\n"
     ]
    },
    {
     "name": "stderr",
     "output_type": "stream",
     "text": [
      "C:\\Users\\Harry\\AppData\\Local\\Temp\\ipykernel_35052\\75057381.py:97: FutureWarning: The frame.append method is deprecated and will be removed from pandas in a future version. Use pandas.concat instead.\n",
      "  df = df.append({'Address':address, 'Price':price, 'Eircode': eircode, 'Dwelling Type':dwelling_type, 'Bedrooms':bedrooms, 'Bathrooms':bathrooms, 'Last Refreshed':refreshed, 'Floor Area in sqm':floor_area, 'Facilities':facilities, 'Description':description, 'Directions':directions, 'Ber Details':ber_details, 'Accommodation':accommodation, 'Features':features}, ignore_index = True)\n"
     ]
    },
    {
     "name": "stdout",
     "output_type": "stream",
     "text": [
      "DataFrame length:  1101\n"
     ]
    },
    {
     "name": "stderr",
     "output_type": "stream",
     "text": [
      "C:\\Users\\Harry\\AppData\\Local\\Temp\\ipykernel_35052\\75057381.py:97: FutureWarning: The frame.append method is deprecated and will be removed from pandas in a future version. Use pandas.concat instead.\n",
      "  df = df.append({'Address':address, 'Price':price, 'Eircode': eircode, 'Dwelling Type':dwelling_type, 'Bedrooms':bedrooms, 'Bathrooms':bathrooms, 'Last Refreshed':refreshed, 'Floor Area in sqm':floor_area, 'Facilities':facilities, 'Description':description, 'Directions':directions, 'Ber Details':ber_details, 'Accommodation':accommodation, 'Features':features}, ignore_index = True)\n"
     ]
    },
    {
     "name": "stdout",
     "output_type": "stream",
     "text": [
      "DataFrame length:  1102\n"
     ]
    },
    {
     "name": "stderr",
     "output_type": "stream",
     "text": [
      "C:\\Users\\Harry\\AppData\\Local\\Temp\\ipykernel_35052\\75057381.py:97: FutureWarning: The frame.append method is deprecated and will be removed from pandas in a future version. Use pandas.concat instead.\n",
      "  df = df.append({'Address':address, 'Price':price, 'Eircode': eircode, 'Dwelling Type':dwelling_type, 'Bedrooms':bedrooms, 'Bathrooms':bathrooms, 'Last Refreshed':refreshed, 'Floor Area in sqm':floor_area, 'Facilities':facilities, 'Description':description, 'Directions':directions, 'Ber Details':ber_details, 'Accommodation':accommodation, 'Features':features}, ignore_index = True)\n"
     ]
    },
    {
     "name": "stdout",
     "output_type": "stream",
     "text": [
      "DataFrame length:  1103\n"
     ]
    },
    {
     "name": "stderr",
     "output_type": "stream",
     "text": [
      "C:\\Users\\Harry\\AppData\\Local\\Temp\\ipykernel_35052\\75057381.py:97: FutureWarning: The frame.append method is deprecated and will be removed from pandas in a future version. Use pandas.concat instead.\n",
      "  df = df.append({'Address':address, 'Price':price, 'Eircode': eircode, 'Dwelling Type':dwelling_type, 'Bedrooms':bedrooms, 'Bathrooms':bathrooms, 'Last Refreshed':refreshed, 'Floor Area in sqm':floor_area, 'Facilities':facilities, 'Description':description, 'Directions':directions, 'Ber Details':ber_details, 'Accommodation':accommodation, 'Features':features}, ignore_index = True)\n"
     ]
    },
    {
     "name": "stdout",
     "output_type": "stream",
     "text": [
      "DataFrame length:  1104\n"
     ]
    },
    {
     "name": "stderr",
     "output_type": "stream",
     "text": [
      "C:\\Users\\Harry\\AppData\\Local\\Temp\\ipykernel_35052\\75057381.py:97: FutureWarning: The frame.append method is deprecated and will be removed from pandas in a future version. Use pandas.concat instead.\n",
      "  df = df.append({'Address':address, 'Price':price, 'Eircode': eircode, 'Dwelling Type':dwelling_type, 'Bedrooms':bedrooms, 'Bathrooms':bathrooms, 'Last Refreshed':refreshed, 'Floor Area in sqm':floor_area, 'Facilities':facilities, 'Description':description, 'Directions':directions, 'Ber Details':ber_details, 'Accommodation':accommodation, 'Features':features}, ignore_index = True)\n"
     ]
    },
    {
     "name": "stdout",
     "output_type": "stream",
     "text": [
      "DataFrame length:  1105\n"
     ]
    },
    {
     "name": "stderr",
     "output_type": "stream",
     "text": [
      "C:\\Users\\Harry\\AppData\\Local\\Temp\\ipykernel_35052\\75057381.py:97: FutureWarning: The frame.append method is deprecated and will be removed from pandas in a future version. Use pandas.concat instead.\n",
      "  df = df.append({'Address':address, 'Price':price, 'Eircode': eircode, 'Dwelling Type':dwelling_type, 'Bedrooms':bedrooms, 'Bathrooms':bathrooms, 'Last Refreshed':refreshed, 'Floor Area in sqm':floor_area, 'Facilities':facilities, 'Description':description, 'Directions':directions, 'Ber Details':ber_details, 'Accommodation':accommodation, 'Features':features}, ignore_index = True)\n"
     ]
    },
    {
     "name": "stdout",
     "output_type": "stream",
     "text": [
      "DataFrame length:  1106\n"
     ]
    },
    {
     "name": "stderr",
     "output_type": "stream",
     "text": [
      "C:\\Users\\Harry\\AppData\\Local\\Temp\\ipykernel_35052\\75057381.py:97: FutureWarning: The frame.append method is deprecated and will be removed from pandas in a future version. Use pandas.concat instead.\n",
      "  df = df.append({'Address':address, 'Price':price, 'Eircode': eircode, 'Dwelling Type':dwelling_type, 'Bedrooms':bedrooms, 'Bathrooms':bathrooms, 'Last Refreshed':refreshed, 'Floor Area in sqm':floor_area, 'Facilities':facilities, 'Description':description, 'Directions':directions, 'Ber Details':ber_details, 'Accommodation':accommodation, 'Features':features}, ignore_index = True)\n"
     ]
    },
    {
     "name": "stdout",
     "output_type": "stream",
     "text": [
      "DataFrame length:  1107\n"
     ]
    },
    {
     "name": "stderr",
     "output_type": "stream",
     "text": [
      "C:\\Users\\Harry\\AppData\\Local\\Temp\\ipykernel_35052\\75057381.py:97: FutureWarning: The frame.append method is deprecated and will be removed from pandas in a future version. Use pandas.concat instead.\n",
      "  df = df.append({'Address':address, 'Price':price, 'Eircode': eircode, 'Dwelling Type':dwelling_type, 'Bedrooms':bedrooms, 'Bathrooms':bathrooms, 'Last Refreshed':refreshed, 'Floor Area in sqm':floor_area, 'Facilities':facilities, 'Description':description, 'Directions':directions, 'Ber Details':ber_details, 'Accommodation':accommodation, 'Features':features}, ignore_index = True)\n"
     ]
    },
    {
     "name": "stdout",
     "output_type": "stream",
     "text": [
      "DataFrame length:  1108\n"
     ]
    },
    {
     "name": "stderr",
     "output_type": "stream",
     "text": [
      "C:\\Users\\Harry\\AppData\\Local\\Temp\\ipykernel_35052\\75057381.py:97: FutureWarning: The frame.append method is deprecated and will be removed from pandas in a future version. Use pandas.concat instead.\n",
      "  df = df.append({'Address':address, 'Price':price, 'Eircode': eircode, 'Dwelling Type':dwelling_type, 'Bedrooms':bedrooms, 'Bathrooms':bathrooms, 'Last Refreshed':refreshed, 'Floor Area in sqm':floor_area, 'Facilities':facilities, 'Description':description, 'Directions':directions, 'Ber Details':ber_details, 'Accommodation':accommodation, 'Features':features}, ignore_index = True)\n"
     ]
    },
    {
     "name": "stdout",
     "output_type": "stream",
     "text": [
      "DataFrame length:  1109\n"
     ]
    },
    {
     "name": "stderr",
     "output_type": "stream",
     "text": [
      "C:\\Users\\Harry\\AppData\\Local\\Temp\\ipykernel_35052\\75057381.py:97: FutureWarning: The frame.append method is deprecated and will be removed from pandas in a future version. Use pandas.concat instead.\n",
      "  df = df.append({'Address':address, 'Price':price, 'Eircode': eircode, 'Dwelling Type':dwelling_type, 'Bedrooms':bedrooms, 'Bathrooms':bathrooms, 'Last Refreshed':refreshed, 'Floor Area in sqm':floor_area, 'Facilities':facilities, 'Description':description, 'Directions':directions, 'Ber Details':ber_details, 'Accommodation':accommodation, 'Features':features}, ignore_index = True)\n"
     ]
    },
    {
     "name": "stdout",
     "output_type": "stream",
     "text": [
      "DataFrame length:  1110\n"
     ]
    },
    {
     "name": "stderr",
     "output_type": "stream",
     "text": [
      "C:\\Users\\Harry\\AppData\\Local\\Temp\\ipykernel_35052\\75057381.py:97: FutureWarning: The frame.append method is deprecated and will be removed from pandas in a future version. Use pandas.concat instead.\n",
      "  df = df.append({'Address':address, 'Price':price, 'Eircode': eircode, 'Dwelling Type':dwelling_type, 'Bedrooms':bedrooms, 'Bathrooms':bathrooms, 'Last Refreshed':refreshed, 'Floor Area in sqm':floor_area, 'Facilities':facilities, 'Description':description, 'Directions':directions, 'Ber Details':ber_details, 'Accommodation':accommodation, 'Features':features}, ignore_index = True)\n"
     ]
    },
    {
     "name": "stdout",
     "output_type": "stream",
     "text": [
      "DataFrame length:  1111\n"
     ]
    },
    {
     "name": "stderr",
     "output_type": "stream",
     "text": [
      "C:\\Users\\Harry\\AppData\\Local\\Temp\\ipykernel_35052\\75057381.py:97: FutureWarning: The frame.append method is deprecated and will be removed from pandas in a future version. Use pandas.concat instead.\n",
      "  df = df.append({'Address':address, 'Price':price, 'Eircode': eircode, 'Dwelling Type':dwelling_type, 'Bedrooms':bedrooms, 'Bathrooms':bathrooms, 'Last Refreshed':refreshed, 'Floor Area in sqm':floor_area, 'Facilities':facilities, 'Description':description, 'Directions':directions, 'Ber Details':ber_details, 'Accommodation':accommodation, 'Features':features}, ignore_index = True)\n"
     ]
    },
    {
     "name": "stdout",
     "output_type": "stream",
     "text": [
      "DataFrame length:  1112\n"
     ]
    },
    {
     "name": "stderr",
     "output_type": "stream",
     "text": [
      "C:\\Users\\Harry\\AppData\\Local\\Temp\\ipykernel_35052\\75057381.py:97: FutureWarning: The frame.append method is deprecated and will be removed from pandas in a future version. Use pandas.concat instead.\n",
      "  df = df.append({'Address':address, 'Price':price, 'Eircode': eircode, 'Dwelling Type':dwelling_type, 'Bedrooms':bedrooms, 'Bathrooms':bathrooms, 'Last Refreshed':refreshed, 'Floor Area in sqm':floor_area, 'Facilities':facilities, 'Description':description, 'Directions':directions, 'Ber Details':ber_details, 'Accommodation':accommodation, 'Features':features}, ignore_index = True)\n"
     ]
    },
    {
     "name": "stdout",
     "output_type": "stream",
     "text": [
      "DataFrame length:  1113\n"
     ]
    },
    {
     "name": "stderr",
     "output_type": "stream",
     "text": [
      "C:\\Users\\Harry\\AppData\\Local\\Temp\\ipykernel_35052\\75057381.py:97: FutureWarning: The frame.append method is deprecated and will be removed from pandas in a future version. Use pandas.concat instead.\n",
      "  df = df.append({'Address':address, 'Price':price, 'Eircode': eircode, 'Dwelling Type':dwelling_type, 'Bedrooms':bedrooms, 'Bathrooms':bathrooms, 'Last Refreshed':refreshed, 'Floor Area in sqm':floor_area, 'Facilities':facilities, 'Description':description, 'Directions':directions, 'Ber Details':ber_details, 'Accommodation':accommodation, 'Features':features}, ignore_index = True)\n"
     ]
    },
    {
     "name": "stdout",
     "output_type": "stream",
     "text": [
      "DataFrame length:  1114\n"
     ]
    },
    {
     "name": "stderr",
     "output_type": "stream",
     "text": [
      "C:\\Users\\Harry\\AppData\\Local\\Temp\\ipykernel_35052\\75057381.py:97: FutureWarning: The frame.append method is deprecated and will be removed from pandas in a future version. Use pandas.concat instead.\n",
      "  df = df.append({'Address':address, 'Price':price, 'Eircode': eircode, 'Dwelling Type':dwelling_type, 'Bedrooms':bedrooms, 'Bathrooms':bathrooms, 'Last Refreshed':refreshed, 'Floor Area in sqm':floor_area, 'Facilities':facilities, 'Description':description, 'Directions':directions, 'Ber Details':ber_details, 'Accommodation':accommodation, 'Features':features}, ignore_index = True)\n"
     ]
    },
    {
     "name": "stdout",
     "output_type": "stream",
     "text": [
      "DataFrame length:  1115\n"
     ]
    },
    {
     "name": "stderr",
     "output_type": "stream",
     "text": [
      "C:\\Users\\Harry\\AppData\\Local\\Temp\\ipykernel_35052\\75057381.py:97: FutureWarning: The frame.append method is deprecated and will be removed from pandas in a future version. Use pandas.concat instead.\n",
      "  df = df.append({'Address':address, 'Price':price, 'Eircode': eircode, 'Dwelling Type':dwelling_type, 'Bedrooms':bedrooms, 'Bathrooms':bathrooms, 'Last Refreshed':refreshed, 'Floor Area in sqm':floor_area, 'Facilities':facilities, 'Description':description, 'Directions':directions, 'Ber Details':ber_details, 'Accommodation':accommodation, 'Features':features}, ignore_index = True)\n"
     ]
    },
    {
     "name": "stdout",
     "output_type": "stream",
     "text": [
      "DataFrame length:  1116\n"
     ]
    },
    {
     "name": "stderr",
     "output_type": "stream",
     "text": [
      "C:\\Users\\Harry\\AppData\\Local\\Temp\\ipykernel_35052\\75057381.py:97: FutureWarning: The frame.append method is deprecated and will be removed from pandas in a future version. Use pandas.concat instead.\n",
      "  df = df.append({'Address':address, 'Price':price, 'Eircode': eircode, 'Dwelling Type':dwelling_type, 'Bedrooms':bedrooms, 'Bathrooms':bathrooms, 'Last Refreshed':refreshed, 'Floor Area in sqm':floor_area, 'Facilities':facilities, 'Description':description, 'Directions':directions, 'Ber Details':ber_details, 'Accommodation':accommodation, 'Features':features}, ignore_index = True)\n"
     ]
    },
    {
     "name": "stdout",
     "output_type": "stream",
     "text": [
      "DataFrame length:  1117\n"
     ]
    },
    {
     "name": "stderr",
     "output_type": "stream",
     "text": [
      "C:\\Users\\Harry\\AppData\\Local\\Temp\\ipykernel_35052\\75057381.py:97: FutureWarning: The frame.append method is deprecated and will be removed from pandas in a future version. Use pandas.concat instead.\n",
      "  df = df.append({'Address':address, 'Price':price, 'Eircode': eircode, 'Dwelling Type':dwelling_type, 'Bedrooms':bedrooms, 'Bathrooms':bathrooms, 'Last Refreshed':refreshed, 'Floor Area in sqm':floor_area, 'Facilities':facilities, 'Description':description, 'Directions':directions, 'Ber Details':ber_details, 'Accommodation':accommodation, 'Features':features}, ignore_index = True)\n"
     ]
    },
    {
     "name": "stdout",
     "output_type": "stream",
     "text": [
      "DataFrame length:  1118\n"
     ]
    },
    {
     "name": "stderr",
     "output_type": "stream",
     "text": [
      "C:\\Users\\Harry\\AppData\\Local\\Temp\\ipykernel_35052\\75057381.py:97: FutureWarning: The frame.append method is deprecated and will be removed from pandas in a future version. Use pandas.concat instead.\n",
      "  df = df.append({'Address':address, 'Price':price, 'Eircode': eircode, 'Dwelling Type':dwelling_type, 'Bedrooms':bedrooms, 'Bathrooms':bathrooms, 'Last Refreshed':refreshed, 'Floor Area in sqm':floor_area, 'Facilities':facilities, 'Description':description, 'Directions':directions, 'Ber Details':ber_details, 'Accommodation':accommodation, 'Features':features}, ignore_index = True)\n"
     ]
    },
    {
     "name": "stdout",
     "output_type": "stream",
     "text": [
      "DataFrame length:  1119\n"
     ]
    },
    {
     "name": "stderr",
     "output_type": "stream",
     "text": [
      "C:\\Users\\Harry\\AppData\\Local\\Temp\\ipykernel_35052\\75057381.py:97: FutureWarning: The frame.append method is deprecated and will be removed from pandas in a future version. Use pandas.concat instead.\n",
      "  df = df.append({'Address':address, 'Price':price, 'Eircode': eircode, 'Dwelling Type':dwelling_type, 'Bedrooms':bedrooms, 'Bathrooms':bathrooms, 'Last Refreshed':refreshed, 'Floor Area in sqm':floor_area, 'Facilities':facilities, 'Description':description, 'Directions':directions, 'Ber Details':ber_details, 'Accommodation':accommodation, 'Features':features}, ignore_index = True)\n"
     ]
    },
    {
     "name": "stdout",
     "output_type": "stream",
     "text": [
      "DataFrame length:  1120\n"
     ]
    },
    {
     "name": "stderr",
     "output_type": "stream",
     "text": [
      "C:\\Users\\Harry\\AppData\\Local\\Temp\\ipykernel_35052\\75057381.py:97: FutureWarning: The frame.append method is deprecated and will be removed from pandas in a future version. Use pandas.concat instead.\n",
      "  df = df.append({'Address':address, 'Price':price, 'Eircode': eircode, 'Dwelling Type':dwelling_type, 'Bedrooms':bedrooms, 'Bathrooms':bathrooms, 'Last Refreshed':refreshed, 'Floor Area in sqm':floor_area, 'Facilities':facilities, 'Description':description, 'Directions':directions, 'Ber Details':ber_details, 'Accommodation':accommodation, 'Features':features}, ignore_index = True)\n"
     ]
    },
    {
     "name": "stdout",
     "output_type": "stream",
     "text": [
      "DataFrame length:  1121\n"
     ]
    },
    {
     "name": "stderr",
     "output_type": "stream",
     "text": [
      "C:\\Users\\Harry\\AppData\\Local\\Temp\\ipykernel_35052\\75057381.py:97: FutureWarning: The frame.append method is deprecated and will be removed from pandas in a future version. Use pandas.concat instead.\n",
      "  df = df.append({'Address':address, 'Price':price, 'Eircode': eircode, 'Dwelling Type':dwelling_type, 'Bedrooms':bedrooms, 'Bathrooms':bathrooms, 'Last Refreshed':refreshed, 'Floor Area in sqm':floor_area, 'Facilities':facilities, 'Description':description, 'Directions':directions, 'Ber Details':ber_details, 'Accommodation':accommodation, 'Features':features}, ignore_index = True)\n"
     ]
    },
    {
     "name": "stdout",
     "output_type": "stream",
     "text": [
      "DataFrame length:  1122\n"
     ]
    },
    {
     "name": "stderr",
     "output_type": "stream",
     "text": [
      "C:\\Users\\Harry\\AppData\\Local\\Temp\\ipykernel_35052\\75057381.py:97: FutureWarning: The frame.append method is deprecated and will be removed from pandas in a future version. Use pandas.concat instead.\n",
      "  df = df.append({'Address':address, 'Price':price, 'Eircode': eircode, 'Dwelling Type':dwelling_type, 'Bedrooms':bedrooms, 'Bathrooms':bathrooms, 'Last Refreshed':refreshed, 'Floor Area in sqm':floor_area, 'Facilities':facilities, 'Description':description, 'Directions':directions, 'Ber Details':ber_details, 'Accommodation':accommodation, 'Features':features}, ignore_index = True)\n"
     ]
    },
    {
     "name": "stdout",
     "output_type": "stream",
     "text": [
      "DataFrame length:  1123\n"
     ]
    },
    {
     "name": "stderr",
     "output_type": "stream",
     "text": [
      "C:\\Users\\Harry\\AppData\\Local\\Temp\\ipykernel_35052\\75057381.py:97: FutureWarning: The frame.append method is deprecated and will be removed from pandas in a future version. Use pandas.concat instead.\n",
      "  df = df.append({'Address':address, 'Price':price, 'Eircode': eircode, 'Dwelling Type':dwelling_type, 'Bedrooms':bedrooms, 'Bathrooms':bathrooms, 'Last Refreshed':refreshed, 'Floor Area in sqm':floor_area, 'Facilities':facilities, 'Description':description, 'Directions':directions, 'Ber Details':ber_details, 'Accommodation':accommodation, 'Features':features}, ignore_index = True)\n"
     ]
    },
    {
     "name": "stdout",
     "output_type": "stream",
     "text": [
      "DataFrame length:  1124\n"
     ]
    },
    {
     "name": "stderr",
     "output_type": "stream",
     "text": [
      "C:\\Users\\Harry\\AppData\\Local\\Temp\\ipykernel_35052\\75057381.py:97: FutureWarning: The frame.append method is deprecated and will be removed from pandas in a future version. Use pandas.concat instead.\n",
      "  df = df.append({'Address':address, 'Price':price, 'Eircode': eircode, 'Dwelling Type':dwelling_type, 'Bedrooms':bedrooms, 'Bathrooms':bathrooms, 'Last Refreshed':refreshed, 'Floor Area in sqm':floor_area, 'Facilities':facilities, 'Description':description, 'Directions':directions, 'Ber Details':ber_details, 'Accommodation':accommodation, 'Features':features}, ignore_index = True)\n"
     ]
    },
    {
     "name": "stdout",
     "output_type": "stream",
     "text": [
      "DataFrame length:  1125\n"
     ]
    },
    {
     "name": "stderr",
     "output_type": "stream",
     "text": [
      "C:\\Users\\Harry\\AppData\\Local\\Temp\\ipykernel_35052\\75057381.py:97: FutureWarning: The frame.append method is deprecated and will be removed from pandas in a future version. Use pandas.concat instead.\n",
      "  df = df.append({'Address':address, 'Price':price, 'Eircode': eircode, 'Dwelling Type':dwelling_type, 'Bedrooms':bedrooms, 'Bathrooms':bathrooms, 'Last Refreshed':refreshed, 'Floor Area in sqm':floor_area, 'Facilities':facilities, 'Description':description, 'Directions':directions, 'Ber Details':ber_details, 'Accommodation':accommodation, 'Features':features}, ignore_index = True)\n"
     ]
    },
    {
     "name": "stdout",
     "output_type": "stream",
     "text": [
      "DataFrame length:  1126\n"
     ]
    },
    {
     "name": "stderr",
     "output_type": "stream",
     "text": [
      "C:\\Users\\Harry\\AppData\\Local\\Temp\\ipykernel_35052\\75057381.py:97: FutureWarning: The frame.append method is deprecated and will be removed from pandas in a future version. Use pandas.concat instead.\n",
      "  df = df.append({'Address':address, 'Price':price, 'Eircode': eircode, 'Dwelling Type':dwelling_type, 'Bedrooms':bedrooms, 'Bathrooms':bathrooms, 'Last Refreshed':refreshed, 'Floor Area in sqm':floor_area, 'Facilities':facilities, 'Description':description, 'Directions':directions, 'Ber Details':ber_details, 'Accommodation':accommodation, 'Features':features}, ignore_index = True)\n"
     ]
    },
    {
     "name": "stdout",
     "output_type": "stream",
     "text": [
      "DataFrame length:  1127\n"
     ]
    },
    {
     "name": "stderr",
     "output_type": "stream",
     "text": [
      "C:\\Users\\Harry\\AppData\\Local\\Temp\\ipykernel_35052\\75057381.py:97: FutureWarning: The frame.append method is deprecated and will be removed from pandas in a future version. Use pandas.concat instead.\n",
      "  df = df.append({'Address':address, 'Price':price, 'Eircode': eircode, 'Dwelling Type':dwelling_type, 'Bedrooms':bedrooms, 'Bathrooms':bathrooms, 'Last Refreshed':refreshed, 'Floor Area in sqm':floor_area, 'Facilities':facilities, 'Description':description, 'Directions':directions, 'Ber Details':ber_details, 'Accommodation':accommodation, 'Features':features}, ignore_index = True)\n"
     ]
    },
    {
     "name": "stdout",
     "output_type": "stream",
     "text": [
      "DataFrame length:  1128\n"
     ]
    },
    {
     "name": "stderr",
     "output_type": "stream",
     "text": [
      "C:\\Users\\Harry\\AppData\\Local\\Temp\\ipykernel_35052\\75057381.py:97: FutureWarning: The frame.append method is deprecated and will be removed from pandas in a future version. Use pandas.concat instead.\n",
      "  df = df.append({'Address':address, 'Price':price, 'Eircode': eircode, 'Dwelling Type':dwelling_type, 'Bedrooms':bedrooms, 'Bathrooms':bathrooms, 'Last Refreshed':refreshed, 'Floor Area in sqm':floor_area, 'Facilities':facilities, 'Description':description, 'Directions':directions, 'Ber Details':ber_details, 'Accommodation':accommodation, 'Features':features}, ignore_index = True)\n"
     ]
    },
    {
     "name": "stdout",
     "output_type": "stream",
     "text": [
      "DataFrame length:  1129\n"
     ]
    },
    {
     "name": "stderr",
     "output_type": "stream",
     "text": [
      "C:\\Users\\Harry\\AppData\\Local\\Temp\\ipykernel_35052\\75057381.py:97: FutureWarning: The frame.append method is deprecated and will be removed from pandas in a future version. Use pandas.concat instead.\n",
      "  df = df.append({'Address':address, 'Price':price, 'Eircode': eircode, 'Dwelling Type':dwelling_type, 'Bedrooms':bedrooms, 'Bathrooms':bathrooms, 'Last Refreshed':refreshed, 'Floor Area in sqm':floor_area, 'Facilities':facilities, 'Description':description, 'Directions':directions, 'Ber Details':ber_details, 'Accommodation':accommodation, 'Features':features}, ignore_index = True)\n"
     ]
    },
    {
     "name": "stdout",
     "output_type": "stream",
     "text": [
      "DataFrame length:  1130\n"
     ]
    },
    {
     "name": "stderr",
     "output_type": "stream",
     "text": [
      "C:\\Users\\Harry\\AppData\\Local\\Temp\\ipykernel_35052\\75057381.py:97: FutureWarning: The frame.append method is deprecated and will be removed from pandas in a future version. Use pandas.concat instead.\n",
      "  df = df.append({'Address':address, 'Price':price, 'Eircode': eircode, 'Dwelling Type':dwelling_type, 'Bedrooms':bedrooms, 'Bathrooms':bathrooms, 'Last Refreshed':refreshed, 'Floor Area in sqm':floor_area, 'Facilities':facilities, 'Description':description, 'Directions':directions, 'Ber Details':ber_details, 'Accommodation':accommodation, 'Features':features}, ignore_index = True)\n"
     ]
    },
    {
     "name": "stdout",
     "output_type": "stream",
     "text": [
      "DataFrame length:  1131\n"
     ]
    },
    {
     "name": "stderr",
     "output_type": "stream",
     "text": [
      "C:\\Users\\Harry\\AppData\\Local\\Temp\\ipykernel_35052\\75057381.py:97: FutureWarning: The frame.append method is deprecated and will be removed from pandas in a future version. Use pandas.concat instead.\n",
      "  df = df.append({'Address':address, 'Price':price, 'Eircode': eircode, 'Dwelling Type':dwelling_type, 'Bedrooms':bedrooms, 'Bathrooms':bathrooms, 'Last Refreshed':refreshed, 'Floor Area in sqm':floor_area, 'Facilities':facilities, 'Description':description, 'Directions':directions, 'Ber Details':ber_details, 'Accommodation':accommodation, 'Features':features}, ignore_index = True)\n"
     ]
    },
    {
     "name": "stdout",
     "output_type": "stream",
     "text": [
      "DataFrame length:  1132\n"
     ]
    },
    {
     "name": "stderr",
     "output_type": "stream",
     "text": [
      "C:\\Users\\Harry\\AppData\\Local\\Temp\\ipykernel_35052\\75057381.py:97: FutureWarning: The frame.append method is deprecated and will be removed from pandas in a future version. Use pandas.concat instead.\n",
      "  df = df.append({'Address':address, 'Price':price, 'Eircode': eircode, 'Dwelling Type':dwelling_type, 'Bedrooms':bedrooms, 'Bathrooms':bathrooms, 'Last Refreshed':refreshed, 'Floor Area in sqm':floor_area, 'Facilities':facilities, 'Description':description, 'Directions':directions, 'Ber Details':ber_details, 'Accommodation':accommodation, 'Features':features}, ignore_index = True)\n"
     ]
    },
    {
     "name": "stdout",
     "output_type": "stream",
     "text": [
      "DataFrame length:  1133\n"
     ]
    },
    {
     "name": "stderr",
     "output_type": "stream",
     "text": [
      "C:\\Users\\Harry\\AppData\\Local\\Temp\\ipykernel_35052\\75057381.py:97: FutureWarning: The frame.append method is deprecated and will be removed from pandas in a future version. Use pandas.concat instead.\n",
      "  df = df.append({'Address':address, 'Price':price, 'Eircode': eircode, 'Dwelling Type':dwelling_type, 'Bedrooms':bedrooms, 'Bathrooms':bathrooms, 'Last Refreshed':refreshed, 'Floor Area in sqm':floor_area, 'Facilities':facilities, 'Description':description, 'Directions':directions, 'Ber Details':ber_details, 'Accommodation':accommodation, 'Features':features}, ignore_index = True)\n"
     ]
    },
    {
     "name": "stdout",
     "output_type": "stream",
     "text": [
      "DataFrame length:  1134\n"
     ]
    },
    {
     "name": "stderr",
     "output_type": "stream",
     "text": [
      "C:\\Users\\Harry\\AppData\\Local\\Temp\\ipykernel_35052\\75057381.py:97: FutureWarning: The frame.append method is deprecated and will be removed from pandas in a future version. Use pandas.concat instead.\n",
      "  df = df.append({'Address':address, 'Price':price, 'Eircode': eircode, 'Dwelling Type':dwelling_type, 'Bedrooms':bedrooms, 'Bathrooms':bathrooms, 'Last Refreshed':refreshed, 'Floor Area in sqm':floor_area, 'Facilities':facilities, 'Description':description, 'Directions':directions, 'Ber Details':ber_details, 'Accommodation':accommodation, 'Features':features}, ignore_index = True)\n"
     ]
    },
    {
     "name": "stdout",
     "output_type": "stream",
     "text": [
      "DataFrame length:  1135\n"
     ]
    },
    {
     "name": "stderr",
     "output_type": "stream",
     "text": [
      "C:\\Users\\Harry\\AppData\\Local\\Temp\\ipykernel_35052\\75057381.py:97: FutureWarning: The frame.append method is deprecated and will be removed from pandas in a future version. Use pandas.concat instead.\n",
      "  df = df.append({'Address':address, 'Price':price, 'Eircode': eircode, 'Dwelling Type':dwelling_type, 'Bedrooms':bedrooms, 'Bathrooms':bathrooms, 'Last Refreshed':refreshed, 'Floor Area in sqm':floor_area, 'Facilities':facilities, 'Description':description, 'Directions':directions, 'Ber Details':ber_details, 'Accommodation':accommodation, 'Features':features}, ignore_index = True)\n"
     ]
    },
    {
     "name": "stdout",
     "output_type": "stream",
     "text": [
      "DataFrame length:  1136\n"
     ]
    },
    {
     "name": "stderr",
     "output_type": "stream",
     "text": [
      "C:\\Users\\Harry\\AppData\\Local\\Temp\\ipykernel_35052\\75057381.py:97: FutureWarning: The frame.append method is deprecated and will be removed from pandas in a future version. Use pandas.concat instead.\n",
      "  df = df.append({'Address':address, 'Price':price, 'Eircode': eircode, 'Dwelling Type':dwelling_type, 'Bedrooms':bedrooms, 'Bathrooms':bathrooms, 'Last Refreshed':refreshed, 'Floor Area in sqm':floor_area, 'Facilities':facilities, 'Description':description, 'Directions':directions, 'Ber Details':ber_details, 'Accommodation':accommodation, 'Features':features}, ignore_index = True)\n"
     ]
    },
    {
     "name": "stdout",
     "output_type": "stream",
     "text": [
      "DataFrame length:  1137\n"
     ]
    },
    {
     "name": "stderr",
     "output_type": "stream",
     "text": [
      "C:\\Users\\Harry\\AppData\\Local\\Temp\\ipykernel_35052\\75057381.py:97: FutureWarning: The frame.append method is deprecated and will be removed from pandas in a future version. Use pandas.concat instead.\n",
      "  df = df.append({'Address':address, 'Price':price, 'Eircode': eircode, 'Dwelling Type':dwelling_type, 'Bedrooms':bedrooms, 'Bathrooms':bathrooms, 'Last Refreshed':refreshed, 'Floor Area in sqm':floor_area, 'Facilities':facilities, 'Description':description, 'Directions':directions, 'Ber Details':ber_details, 'Accommodation':accommodation, 'Features':features}, ignore_index = True)\n"
     ]
    },
    {
     "name": "stdout",
     "output_type": "stream",
     "text": [
      "DataFrame length:  1138\n"
     ]
    },
    {
     "name": "stderr",
     "output_type": "stream",
     "text": [
      "C:\\Users\\Harry\\AppData\\Local\\Temp\\ipykernel_35052\\75057381.py:97: FutureWarning: The frame.append method is deprecated and will be removed from pandas in a future version. Use pandas.concat instead.\n",
      "  df = df.append({'Address':address, 'Price':price, 'Eircode': eircode, 'Dwelling Type':dwelling_type, 'Bedrooms':bedrooms, 'Bathrooms':bathrooms, 'Last Refreshed':refreshed, 'Floor Area in sqm':floor_area, 'Facilities':facilities, 'Description':description, 'Directions':directions, 'Ber Details':ber_details, 'Accommodation':accommodation, 'Features':features}, ignore_index = True)\n"
     ]
    },
    {
     "name": "stdout",
     "output_type": "stream",
     "text": [
      "DataFrame length:  1139\n"
     ]
    },
    {
     "name": "stderr",
     "output_type": "stream",
     "text": [
      "C:\\Users\\Harry\\AppData\\Local\\Temp\\ipykernel_35052\\75057381.py:97: FutureWarning: The frame.append method is deprecated and will be removed from pandas in a future version. Use pandas.concat instead.\n",
      "  df = df.append({'Address':address, 'Price':price, 'Eircode': eircode, 'Dwelling Type':dwelling_type, 'Bedrooms':bedrooms, 'Bathrooms':bathrooms, 'Last Refreshed':refreshed, 'Floor Area in sqm':floor_area, 'Facilities':facilities, 'Description':description, 'Directions':directions, 'Ber Details':ber_details, 'Accommodation':accommodation, 'Features':features}, ignore_index = True)\n"
     ]
    },
    {
     "name": "stdout",
     "output_type": "stream",
     "text": [
      "DataFrame length:  1140\n"
     ]
    },
    {
     "name": "stderr",
     "output_type": "stream",
     "text": [
      "C:\\Users\\Harry\\AppData\\Local\\Temp\\ipykernel_35052\\75057381.py:97: FutureWarning: The frame.append method is deprecated and will be removed from pandas in a future version. Use pandas.concat instead.\n",
      "  df = df.append({'Address':address, 'Price':price, 'Eircode': eircode, 'Dwelling Type':dwelling_type, 'Bedrooms':bedrooms, 'Bathrooms':bathrooms, 'Last Refreshed':refreshed, 'Floor Area in sqm':floor_area, 'Facilities':facilities, 'Description':description, 'Directions':directions, 'Ber Details':ber_details, 'Accommodation':accommodation, 'Features':features}, ignore_index = True)\n"
     ]
    },
    {
     "name": "stdout",
     "output_type": "stream",
     "text": [
      "DataFrame length:  1141\n"
     ]
    },
    {
     "name": "stderr",
     "output_type": "stream",
     "text": [
      "C:\\Users\\Harry\\AppData\\Local\\Temp\\ipykernel_35052\\75057381.py:97: FutureWarning: The frame.append method is deprecated and will be removed from pandas in a future version. Use pandas.concat instead.\n",
      "  df = df.append({'Address':address, 'Price':price, 'Eircode': eircode, 'Dwelling Type':dwelling_type, 'Bedrooms':bedrooms, 'Bathrooms':bathrooms, 'Last Refreshed':refreshed, 'Floor Area in sqm':floor_area, 'Facilities':facilities, 'Description':description, 'Directions':directions, 'Ber Details':ber_details, 'Accommodation':accommodation, 'Features':features}, ignore_index = True)\n"
     ]
    },
    {
     "name": "stdout",
     "output_type": "stream",
     "text": [
      "DataFrame length:  1142\n"
     ]
    },
    {
     "name": "stderr",
     "output_type": "stream",
     "text": [
      "C:\\Users\\Harry\\AppData\\Local\\Temp\\ipykernel_35052\\75057381.py:97: FutureWarning: The frame.append method is deprecated and will be removed from pandas in a future version. Use pandas.concat instead.\n",
      "  df = df.append({'Address':address, 'Price':price, 'Eircode': eircode, 'Dwelling Type':dwelling_type, 'Bedrooms':bedrooms, 'Bathrooms':bathrooms, 'Last Refreshed':refreshed, 'Floor Area in sqm':floor_area, 'Facilities':facilities, 'Description':description, 'Directions':directions, 'Ber Details':ber_details, 'Accommodation':accommodation, 'Features':features}, ignore_index = True)\n"
     ]
    },
    {
     "name": "stdout",
     "output_type": "stream",
     "text": [
      "DataFrame length:  1143\n"
     ]
    },
    {
     "name": "stderr",
     "output_type": "stream",
     "text": [
      "C:\\Users\\Harry\\AppData\\Local\\Temp\\ipykernel_35052\\75057381.py:97: FutureWarning: The frame.append method is deprecated and will be removed from pandas in a future version. Use pandas.concat instead.\n",
      "  df = df.append({'Address':address, 'Price':price, 'Eircode': eircode, 'Dwelling Type':dwelling_type, 'Bedrooms':bedrooms, 'Bathrooms':bathrooms, 'Last Refreshed':refreshed, 'Floor Area in sqm':floor_area, 'Facilities':facilities, 'Description':description, 'Directions':directions, 'Ber Details':ber_details, 'Accommodation':accommodation, 'Features':features}, ignore_index = True)\n"
     ]
    },
    {
     "name": "stdout",
     "output_type": "stream",
     "text": [
      "DataFrame length:  1144\n"
     ]
    },
    {
     "name": "stderr",
     "output_type": "stream",
     "text": [
      "C:\\Users\\Harry\\AppData\\Local\\Temp\\ipykernel_35052\\75057381.py:97: FutureWarning: The frame.append method is deprecated and will be removed from pandas in a future version. Use pandas.concat instead.\n",
      "  df = df.append({'Address':address, 'Price':price, 'Eircode': eircode, 'Dwelling Type':dwelling_type, 'Bedrooms':bedrooms, 'Bathrooms':bathrooms, 'Last Refreshed':refreshed, 'Floor Area in sqm':floor_area, 'Facilities':facilities, 'Description':description, 'Directions':directions, 'Ber Details':ber_details, 'Accommodation':accommodation, 'Features':features}, ignore_index = True)\n"
     ]
    },
    {
     "name": "stdout",
     "output_type": "stream",
     "text": [
      "DataFrame length:  1145\n"
     ]
    },
    {
     "name": "stderr",
     "output_type": "stream",
     "text": [
      "C:\\Users\\Harry\\AppData\\Local\\Temp\\ipykernel_35052\\75057381.py:97: FutureWarning: The frame.append method is deprecated and will be removed from pandas in a future version. Use pandas.concat instead.\n",
      "  df = df.append({'Address':address, 'Price':price, 'Eircode': eircode, 'Dwelling Type':dwelling_type, 'Bedrooms':bedrooms, 'Bathrooms':bathrooms, 'Last Refreshed':refreshed, 'Floor Area in sqm':floor_area, 'Facilities':facilities, 'Description':description, 'Directions':directions, 'Ber Details':ber_details, 'Accommodation':accommodation, 'Features':features}, ignore_index = True)\n"
     ]
    },
    {
     "name": "stdout",
     "output_type": "stream",
     "text": [
      "DataFrame length:  1146\n"
     ]
    },
    {
     "name": "stderr",
     "output_type": "stream",
     "text": [
      "C:\\Users\\Harry\\AppData\\Local\\Temp\\ipykernel_35052\\75057381.py:97: FutureWarning: The frame.append method is deprecated and will be removed from pandas in a future version. Use pandas.concat instead.\n",
      "  df = df.append({'Address':address, 'Price':price, 'Eircode': eircode, 'Dwelling Type':dwelling_type, 'Bedrooms':bedrooms, 'Bathrooms':bathrooms, 'Last Refreshed':refreshed, 'Floor Area in sqm':floor_area, 'Facilities':facilities, 'Description':description, 'Directions':directions, 'Ber Details':ber_details, 'Accommodation':accommodation, 'Features':features}, ignore_index = True)\n"
     ]
    },
    {
     "name": "stdout",
     "output_type": "stream",
     "text": [
      "DataFrame length:  1147\n"
     ]
    },
    {
     "name": "stderr",
     "output_type": "stream",
     "text": [
      "C:\\Users\\Harry\\AppData\\Local\\Temp\\ipykernel_35052\\75057381.py:97: FutureWarning: The frame.append method is deprecated and will be removed from pandas in a future version. Use pandas.concat instead.\n",
      "  df = df.append({'Address':address, 'Price':price, 'Eircode': eircode, 'Dwelling Type':dwelling_type, 'Bedrooms':bedrooms, 'Bathrooms':bathrooms, 'Last Refreshed':refreshed, 'Floor Area in sqm':floor_area, 'Facilities':facilities, 'Description':description, 'Directions':directions, 'Ber Details':ber_details, 'Accommodation':accommodation, 'Features':features}, ignore_index = True)\n"
     ]
    },
    {
     "name": "stdout",
     "output_type": "stream",
     "text": [
      "DataFrame length:  1148\n"
     ]
    },
    {
     "name": "stderr",
     "output_type": "stream",
     "text": [
      "C:\\Users\\Harry\\AppData\\Local\\Temp\\ipykernel_35052\\75057381.py:97: FutureWarning: The frame.append method is deprecated and will be removed from pandas in a future version. Use pandas.concat instead.\n",
      "  df = df.append({'Address':address, 'Price':price, 'Eircode': eircode, 'Dwelling Type':dwelling_type, 'Bedrooms':bedrooms, 'Bathrooms':bathrooms, 'Last Refreshed':refreshed, 'Floor Area in sqm':floor_area, 'Facilities':facilities, 'Description':description, 'Directions':directions, 'Ber Details':ber_details, 'Accommodation':accommodation, 'Features':features}, ignore_index = True)\n"
     ]
    },
    {
     "name": "stdout",
     "output_type": "stream",
     "text": [
      "DataFrame length:  1149\n"
     ]
    },
    {
     "name": "stderr",
     "output_type": "stream",
     "text": [
      "C:\\Users\\Harry\\AppData\\Local\\Temp\\ipykernel_35052\\75057381.py:97: FutureWarning: The frame.append method is deprecated and will be removed from pandas in a future version. Use pandas.concat instead.\n",
      "  df = df.append({'Address':address, 'Price':price, 'Eircode': eircode, 'Dwelling Type':dwelling_type, 'Bedrooms':bedrooms, 'Bathrooms':bathrooms, 'Last Refreshed':refreshed, 'Floor Area in sqm':floor_area, 'Facilities':facilities, 'Description':description, 'Directions':directions, 'Ber Details':ber_details, 'Accommodation':accommodation, 'Features':features}, ignore_index = True)\n"
     ]
    },
    {
     "name": "stdout",
     "output_type": "stream",
     "text": [
      "DataFrame length:  1150\n"
     ]
    },
    {
     "name": "stderr",
     "output_type": "stream",
     "text": [
      "C:\\Users\\Harry\\AppData\\Local\\Temp\\ipykernel_35052\\75057381.py:97: FutureWarning: The frame.append method is deprecated and will be removed from pandas in a future version. Use pandas.concat instead.\n",
      "  df = df.append({'Address':address, 'Price':price, 'Eircode': eircode, 'Dwelling Type':dwelling_type, 'Bedrooms':bedrooms, 'Bathrooms':bathrooms, 'Last Refreshed':refreshed, 'Floor Area in sqm':floor_area, 'Facilities':facilities, 'Description':description, 'Directions':directions, 'Ber Details':ber_details, 'Accommodation':accommodation, 'Features':features}, ignore_index = True)\n"
     ]
    },
    {
     "name": "stdout",
     "output_type": "stream",
     "text": [
      "DataFrame length:  1151\n"
     ]
    },
    {
     "name": "stderr",
     "output_type": "stream",
     "text": [
      "C:\\Users\\Harry\\AppData\\Local\\Temp\\ipykernel_35052\\75057381.py:97: FutureWarning: The frame.append method is deprecated and will be removed from pandas in a future version. Use pandas.concat instead.\n",
      "  df = df.append({'Address':address, 'Price':price, 'Eircode': eircode, 'Dwelling Type':dwelling_type, 'Bedrooms':bedrooms, 'Bathrooms':bathrooms, 'Last Refreshed':refreshed, 'Floor Area in sqm':floor_area, 'Facilities':facilities, 'Description':description, 'Directions':directions, 'Ber Details':ber_details, 'Accommodation':accommodation, 'Features':features}, ignore_index = True)\n"
     ]
    },
    {
     "name": "stdout",
     "output_type": "stream",
     "text": [
      "DataFrame length:  1152\n"
     ]
    },
    {
     "name": "stderr",
     "output_type": "stream",
     "text": [
      "C:\\Users\\Harry\\AppData\\Local\\Temp\\ipykernel_35052\\75057381.py:97: FutureWarning: The frame.append method is deprecated and will be removed from pandas in a future version. Use pandas.concat instead.\n",
      "  df = df.append({'Address':address, 'Price':price, 'Eircode': eircode, 'Dwelling Type':dwelling_type, 'Bedrooms':bedrooms, 'Bathrooms':bathrooms, 'Last Refreshed':refreshed, 'Floor Area in sqm':floor_area, 'Facilities':facilities, 'Description':description, 'Directions':directions, 'Ber Details':ber_details, 'Accommodation':accommodation, 'Features':features}, ignore_index = True)\n"
     ]
    },
    {
     "name": "stdout",
     "output_type": "stream",
     "text": [
      "DataFrame length:  1153\n"
     ]
    },
    {
     "name": "stderr",
     "output_type": "stream",
     "text": [
      "C:\\Users\\Harry\\AppData\\Local\\Temp\\ipykernel_35052\\75057381.py:97: FutureWarning: The frame.append method is deprecated and will be removed from pandas in a future version. Use pandas.concat instead.\n",
      "  df = df.append({'Address':address, 'Price':price, 'Eircode': eircode, 'Dwelling Type':dwelling_type, 'Bedrooms':bedrooms, 'Bathrooms':bathrooms, 'Last Refreshed':refreshed, 'Floor Area in sqm':floor_area, 'Facilities':facilities, 'Description':description, 'Directions':directions, 'Ber Details':ber_details, 'Accommodation':accommodation, 'Features':features}, ignore_index = True)\n"
     ]
    },
    {
     "name": "stdout",
     "output_type": "stream",
     "text": [
      "DataFrame length:  1154\n"
     ]
    },
    {
     "name": "stderr",
     "output_type": "stream",
     "text": [
      "C:\\Users\\Harry\\AppData\\Local\\Temp\\ipykernel_35052\\75057381.py:97: FutureWarning: The frame.append method is deprecated and will be removed from pandas in a future version. Use pandas.concat instead.\n",
      "  df = df.append({'Address':address, 'Price':price, 'Eircode': eircode, 'Dwelling Type':dwelling_type, 'Bedrooms':bedrooms, 'Bathrooms':bathrooms, 'Last Refreshed':refreshed, 'Floor Area in sqm':floor_area, 'Facilities':facilities, 'Description':description, 'Directions':directions, 'Ber Details':ber_details, 'Accommodation':accommodation, 'Features':features}, ignore_index = True)\n"
     ]
    },
    {
     "name": "stdout",
     "output_type": "stream",
     "text": [
      "DataFrame length:  1155\n"
     ]
    },
    {
     "name": "stderr",
     "output_type": "stream",
     "text": [
      "C:\\Users\\Harry\\AppData\\Local\\Temp\\ipykernel_35052\\75057381.py:97: FutureWarning: The frame.append method is deprecated and will be removed from pandas in a future version. Use pandas.concat instead.\n",
      "  df = df.append({'Address':address, 'Price':price, 'Eircode': eircode, 'Dwelling Type':dwelling_type, 'Bedrooms':bedrooms, 'Bathrooms':bathrooms, 'Last Refreshed':refreshed, 'Floor Area in sqm':floor_area, 'Facilities':facilities, 'Description':description, 'Directions':directions, 'Ber Details':ber_details, 'Accommodation':accommodation, 'Features':features}, ignore_index = True)\n"
     ]
    },
    {
     "name": "stdout",
     "output_type": "stream",
     "text": [
      "DataFrame length:  1156\n"
     ]
    },
    {
     "name": "stderr",
     "output_type": "stream",
     "text": [
      "C:\\Users\\Harry\\AppData\\Local\\Temp\\ipykernel_35052\\75057381.py:97: FutureWarning: The frame.append method is deprecated and will be removed from pandas in a future version. Use pandas.concat instead.\n",
      "  df = df.append({'Address':address, 'Price':price, 'Eircode': eircode, 'Dwelling Type':dwelling_type, 'Bedrooms':bedrooms, 'Bathrooms':bathrooms, 'Last Refreshed':refreshed, 'Floor Area in sqm':floor_area, 'Facilities':facilities, 'Description':description, 'Directions':directions, 'Ber Details':ber_details, 'Accommodation':accommodation, 'Features':features}, ignore_index = True)\n"
     ]
    },
    {
     "name": "stdout",
     "output_type": "stream",
     "text": [
      "DataFrame length:  1157\n"
     ]
    },
    {
     "name": "stderr",
     "output_type": "stream",
     "text": [
      "C:\\Users\\Harry\\AppData\\Local\\Temp\\ipykernel_35052\\75057381.py:97: FutureWarning: The frame.append method is deprecated and will be removed from pandas in a future version. Use pandas.concat instead.\n",
      "  df = df.append({'Address':address, 'Price':price, 'Eircode': eircode, 'Dwelling Type':dwelling_type, 'Bedrooms':bedrooms, 'Bathrooms':bathrooms, 'Last Refreshed':refreshed, 'Floor Area in sqm':floor_area, 'Facilities':facilities, 'Description':description, 'Directions':directions, 'Ber Details':ber_details, 'Accommodation':accommodation, 'Features':features}, ignore_index = True)\n"
     ]
    },
    {
     "name": "stdout",
     "output_type": "stream",
     "text": [
      "DataFrame length:  1158\n"
     ]
    },
    {
     "name": "stderr",
     "output_type": "stream",
     "text": [
      "C:\\Users\\Harry\\AppData\\Local\\Temp\\ipykernel_35052\\75057381.py:97: FutureWarning: The frame.append method is deprecated and will be removed from pandas in a future version. Use pandas.concat instead.\n",
      "  df = df.append({'Address':address, 'Price':price, 'Eircode': eircode, 'Dwelling Type':dwelling_type, 'Bedrooms':bedrooms, 'Bathrooms':bathrooms, 'Last Refreshed':refreshed, 'Floor Area in sqm':floor_area, 'Facilities':facilities, 'Description':description, 'Directions':directions, 'Ber Details':ber_details, 'Accommodation':accommodation, 'Features':features}, ignore_index = True)\n"
     ]
    },
    {
     "name": "stdout",
     "output_type": "stream",
     "text": [
      "DataFrame length:  1159\n"
     ]
    },
    {
     "name": "stderr",
     "output_type": "stream",
     "text": [
      "C:\\Users\\Harry\\AppData\\Local\\Temp\\ipykernel_35052\\75057381.py:97: FutureWarning: The frame.append method is deprecated and will be removed from pandas in a future version. Use pandas.concat instead.\n",
      "  df = df.append({'Address':address, 'Price':price, 'Eircode': eircode, 'Dwelling Type':dwelling_type, 'Bedrooms':bedrooms, 'Bathrooms':bathrooms, 'Last Refreshed':refreshed, 'Floor Area in sqm':floor_area, 'Facilities':facilities, 'Description':description, 'Directions':directions, 'Ber Details':ber_details, 'Accommodation':accommodation, 'Features':features}, ignore_index = True)\n"
     ]
    },
    {
     "name": "stdout",
     "output_type": "stream",
     "text": [
      "DataFrame length:  1160\n"
     ]
    },
    {
     "name": "stderr",
     "output_type": "stream",
     "text": [
      "C:\\Users\\Harry\\AppData\\Local\\Temp\\ipykernel_35052\\75057381.py:97: FutureWarning: The frame.append method is deprecated and will be removed from pandas in a future version. Use pandas.concat instead.\n",
      "  df = df.append({'Address':address, 'Price':price, 'Eircode': eircode, 'Dwelling Type':dwelling_type, 'Bedrooms':bedrooms, 'Bathrooms':bathrooms, 'Last Refreshed':refreshed, 'Floor Area in sqm':floor_area, 'Facilities':facilities, 'Description':description, 'Directions':directions, 'Ber Details':ber_details, 'Accommodation':accommodation, 'Features':features}, ignore_index = True)\n"
     ]
    },
    {
     "name": "stdout",
     "output_type": "stream",
     "text": [
      "DataFrame length:  1161\n"
     ]
    },
    {
     "name": "stderr",
     "output_type": "stream",
     "text": [
      "C:\\Users\\Harry\\AppData\\Local\\Temp\\ipykernel_35052\\75057381.py:97: FutureWarning: The frame.append method is deprecated and will be removed from pandas in a future version. Use pandas.concat instead.\n",
      "  df = df.append({'Address':address, 'Price':price, 'Eircode': eircode, 'Dwelling Type':dwelling_type, 'Bedrooms':bedrooms, 'Bathrooms':bathrooms, 'Last Refreshed':refreshed, 'Floor Area in sqm':floor_area, 'Facilities':facilities, 'Description':description, 'Directions':directions, 'Ber Details':ber_details, 'Accommodation':accommodation, 'Features':features}, ignore_index = True)\n"
     ]
    },
    {
     "name": "stdout",
     "output_type": "stream",
     "text": [
      "DataFrame length:  1162\n"
     ]
    },
    {
     "name": "stderr",
     "output_type": "stream",
     "text": [
      "C:\\Users\\Harry\\AppData\\Local\\Temp\\ipykernel_35052\\75057381.py:97: FutureWarning: The frame.append method is deprecated and will be removed from pandas in a future version. Use pandas.concat instead.\n",
      "  df = df.append({'Address':address, 'Price':price, 'Eircode': eircode, 'Dwelling Type':dwelling_type, 'Bedrooms':bedrooms, 'Bathrooms':bathrooms, 'Last Refreshed':refreshed, 'Floor Area in sqm':floor_area, 'Facilities':facilities, 'Description':description, 'Directions':directions, 'Ber Details':ber_details, 'Accommodation':accommodation, 'Features':features}, ignore_index = True)\n"
     ]
    },
    {
     "name": "stdout",
     "output_type": "stream",
     "text": [
      "DataFrame length:  1163\n"
     ]
    },
    {
     "name": "stderr",
     "output_type": "stream",
     "text": [
      "C:\\Users\\Harry\\AppData\\Local\\Temp\\ipykernel_35052\\75057381.py:97: FutureWarning: The frame.append method is deprecated and will be removed from pandas in a future version. Use pandas.concat instead.\n",
      "  df = df.append({'Address':address, 'Price':price, 'Eircode': eircode, 'Dwelling Type':dwelling_type, 'Bedrooms':bedrooms, 'Bathrooms':bathrooms, 'Last Refreshed':refreshed, 'Floor Area in sqm':floor_area, 'Facilities':facilities, 'Description':description, 'Directions':directions, 'Ber Details':ber_details, 'Accommodation':accommodation, 'Features':features}, ignore_index = True)\n"
     ]
    },
    {
     "name": "stdout",
     "output_type": "stream",
     "text": [
      "DataFrame length:  1164\n"
     ]
    },
    {
     "name": "stderr",
     "output_type": "stream",
     "text": [
      "C:\\Users\\Harry\\AppData\\Local\\Temp\\ipykernel_35052\\75057381.py:97: FutureWarning: The frame.append method is deprecated and will be removed from pandas in a future version. Use pandas.concat instead.\n",
      "  df = df.append({'Address':address, 'Price':price, 'Eircode': eircode, 'Dwelling Type':dwelling_type, 'Bedrooms':bedrooms, 'Bathrooms':bathrooms, 'Last Refreshed':refreshed, 'Floor Area in sqm':floor_area, 'Facilities':facilities, 'Description':description, 'Directions':directions, 'Ber Details':ber_details, 'Accommodation':accommodation, 'Features':features}, ignore_index = True)\n"
     ]
    },
    {
     "name": "stdout",
     "output_type": "stream",
     "text": [
      "DataFrame length:  1165\n"
     ]
    },
    {
     "name": "stderr",
     "output_type": "stream",
     "text": [
      "C:\\Users\\Harry\\AppData\\Local\\Temp\\ipykernel_35052\\75057381.py:97: FutureWarning: The frame.append method is deprecated and will be removed from pandas in a future version. Use pandas.concat instead.\n",
      "  df = df.append({'Address':address, 'Price':price, 'Eircode': eircode, 'Dwelling Type':dwelling_type, 'Bedrooms':bedrooms, 'Bathrooms':bathrooms, 'Last Refreshed':refreshed, 'Floor Area in sqm':floor_area, 'Facilities':facilities, 'Description':description, 'Directions':directions, 'Ber Details':ber_details, 'Accommodation':accommodation, 'Features':features}, ignore_index = True)\n"
     ]
    },
    {
     "name": "stdout",
     "output_type": "stream",
     "text": [
      "DataFrame length:  1166\n"
     ]
    },
    {
     "name": "stderr",
     "output_type": "stream",
     "text": [
      "C:\\Users\\Harry\\AppData\\Local\\Temp\\ipykernel_35052\\75057381.py:97: FutureWarning: The frame.append method is deprecated and will be removed from pandas in a future version. Use pandas.concat instead.\n",
      "  df = df.append({'Address':address, 'Price':price, 'Eircode': eircode, 'Dwelling Type':dwelling_type, 'Bedrooms':bedrooms, 'Bathrooms':bathrooms, 'Last Refreshed':refreshed, 'Floor Area in sqm':floor_area, 'Facilities':facilities, 'Description':description, 'Directions':directions, 'Ber Details':ber_details, 'Accommodation':accommodation, 'Features':features}, ignore_index = True)\n"
     ]
    },
    {
     "name": "stdout",
     "output_type": "stream",
     "text": [
      "DataFrame length:  1167\n"
     ]
    },
    {
     "name": "stderr",
     "output_type": "stream",
     "text": [
      "C:\\Users\\Harry\\AppData\\Local\\Temp\\ipykernel_35052\\75057381.py:97: FutureWarning: The frame.append method is deprecated and will be removed from pandas in a future version. Use pandas.concat instead.\n",
      "  df = df.append({'Address':address, 'Price':price, 'Eircode': eircode, 'Dwelling Type':dwelling_type, 'Bedrooms':bedrooms, 'Bathrooms':bathrooms, 'Last Refreshed':refreshed, 'Floor Area in sqm':floor_area, 'Facilities':facilities, 'Description':description, 'Directions':directions, 'Ber Details':ber_details, 'Accommodation':accommodation, 'Features':features}, ignore_index = True)\n"
     ]
    },
    {
     "name": "stdout",
     "output_type": "stream",
     "text": [
      "DataFrame length:  1168\n"
     ]
    },
    {
     "name": "stderr",
     "output_type": "stream",
     "text": [
      "C:\\Users\\Harry\\AppData\\Local\\Temp\\ipykernel_35052\\75057381.py:97: FutureWarning: The frame.append method is deprecated and will be removed from pandas in a future version. Use pandas.concat instead.\n",
      "  df = df.append({'Address':address, 'Price':price, 'Eircode': eircode, 'Dwelling Type':dwelling_type, 'Bedrooms':bedrooms, 'Bathrooms':bathrooms, 'Last Refreshed':refreshed, 'Floor Area in sqm':floor_area, 'Facilities':facilities, 'Description':description, 'Directions':directions, 'Ber Details':ber_details, 'Accommodation':accommodation, 'Features':features}, ignore_index = True)\n"
     ]
    },
    {
     "name": "stdout",
     "output_type": "stream",
     "text": [
      "DataFrame length:  1169\n"
     ]
    },
    {
     "name": "stderr",
     "output_type": "stream",
     "text": [
      "C:\\Users\\Harry\\AppData\\Local\\Temp\\ipykernel_35052\\75057381.py:97: FutureWarning: The frame.append method is deprecated and will be removed from pandas in a future version. Use pandas.concat instead.\n",
      "  df = df.append({'Address':address, 'Price':price, 'Eircode': eircode, 'Dwelling Type':dwelling_type, 'Bedrooms':bedrooms, 'Bathrooms':bathrooms, 'Last Refreshed':refreshed, 'Floor Area in sqm':floor_area, 'Facilities':facilities, 'Description':description, 'Directions':directions, 'Ber Details':ber_details, 'Accommodation':accommodation, 'Features':features}, ignore_index = True)\n"
     ]
    },
    {
     "name": "stdout",
     "output_type": "stream",
     "text": [
      "DataFrame length:  1170\n"
     ]
    },
    {
     "name": "stderr",
     "output_type": "stream",
     "text": [
      "C:\\Users\\Harry\\AppData\\Local\\Temp\\ipykernel_35052\\75057381.py:97: FutureWarning: The frame.append method is deprecated and will be removed from pandas in a future version. Use pandas.concat instead.\n",
      "  df = df.append({'Address':address, 'Price':price, 'Eircode': eircode, 'Dwelling Type':dwelling_type, 'Bedrooms':bedrooms, 'Bathrooms':bathrooms, 'Last Refreshed':refreshed, 'Floor Area in sqm':floor_area, 'Facilities':facilities, 'Description':description, 'Directions':directions, 'Ber Details':ber_details, 'Accommodation':accommodation, 'Features':features}, ignore_index = True)\n"
     ]
    },
    {
     "name": "stdout",
     "output_type": "stream",
     "text": [
      "DataFrame length:  1171\n"
     ]
    },
    {
     "name": "stderr",
     "output_type": "stream",
     "text": [
      "C:\\Users\\Harry\\AppData\\Local\\Temp\\ipykernel_35052\\75057381.py:97: FutureWarning: The frame.append method is deprecated and will be removed from pandas in a future version. Use pandas.concat instead.\n",
      "  df = df.append({'Address':address, 'Price':price, 'Eircode': eircode, 'Dwelling Type':dwelling_type, 'Bedrooms':bedrooms, 'Bathrooms':bathrooms, 'Last Refreshed':refreshed, 'Floor Area in sqm':floor_area, 'Facilities':facilities, 'Description':description, 'Directions':directions, 'Ber Details':ber_details, 'Accommodation':accommodation, 'Features':features}, ignore_index = True)\n"
     ]
    },
    {
     "name": "stdout",
     "output_type": "stream",
     "text": [
      "DataFrame length:  1172\n"
     ]
    },
    {
     "name": "stderr",
     "output_type": "stream",
     "text": [
      "C:\\Users\\Harry\\AppData\\Local\\Temp\\ipykernel_35052\\75057381.py:97: FutureWarning: The frame.append method is deprecated and will be removed from pandas in a future version. Use pandas.concat instead.\n",
      "  df = df.append({'Address':address, 'Price':price, 'Eircode': eircode, 'Dwelling Type':dwelling_type, 'Bedrooms':bedrooms, 'Bathrooms':bathrooms, 'Last Refreshed':refreshed, 'Floor Area in sqm':floor_area, 'Facilities':facilities, 'Description':description, 'Directions':directions, 'Ber Details':ber_details, 'Accommodation':accommodation, 'Features':features}, ignore_index = True)\n"
     ]
    },
    {
     "name": "stdout",
     "output_type": "stream",
     "text": [
      "DataFrame length:  1173\n"
     ]
    },
    {
     "name": "stderr",
     "output_type": "stream",
     "text": [
      "C:\\Users\\Harry\\AppData\\Local\\Temp\\ipykernel_35052\\75057381.py:97: FutureWarning: The frame.append method is deprecated and will be removed from pandas in a future version. Use pandas.concat instead.\n",
      "  df = df.append({'Address':address, 'Price':price, 'Eircode': eircode, 'Dwelling Type':dwelling_type, 'Bedrooms':bedrooms, 'Bathrooms':bathrooms, 'Last Refreshed':refreshed, 'Floor Area in sqm':floor_area, 'Facilities':facilities, 'Description':description, 'Directions':directions, 'Ber Details':ber_details, 'Accommodation':accommodation, 'Features':features}, ignore_index = True)\n"
     ]
    },
    {
     "name": "stdout",
     "output_type": "stream",
     "text": [
      "DataFrame length:  1174\n"
     ]
    },
    {
     "name": "stderr",
     "output_type": "stream",
     "text": [
      "C:\\Users\\Harry\\AppData\\Local\\Temp\\ipykernel_35052\\75057381.py:97: FutureWarning: The frame.append method is deprecated and will be removed from pandas in a future version. Use pandas.concat instead.\n",
      "  df = df.append({'Address':address, 'Price':price, 'Eircode': eircode, 'Dwelling Type':dwelling_type, 'Bedrooms':bedrooms, 'Bathrooms':bathrooms, 'Last Refreshed':refreshed, 'Floor Area in sqm':floor_area, 'Facilities':facilities, 'Description':description, 'Directions':directions, 'Ber Details':ber_details, 'Accommodation':accommodation, 'Features':features}, ignore_index = True)\n"
     ]
    },
    {
     "name": "stdout",
     "output_type": "stream",
     "text": [
      "DataFrame length:  1175\n"
     ]
    },
    {
     "name": "stderr",
     "output_type": "stream",
     "text": [
      "C:\\Users\\Harry\\AppData\\Local\\Temp\\ipykernel_35052\\75057381.py:97: FutureWarning: The frame.append method is deprecated and will be removed from pandas in a future version. Use pandas.concat instead.\n",
      "  df = df.append({'Address':address, 'Price':price, 'Eircode': eircode, 'Dwelling Type':dwelling_type, 'Bedrooms':bedrooms, 'Bathrooms':bathrooms, 'Last Refreshed':refreshed, 'Floor Area in sqm':floor_area, 'Facilities':facilities, 'Description':description, 'Directions':directions, 'Ber Details':ber_details, 'Accommodation':accommodation, 'Features':features}, ignore_index = True)\n"
     ]
    },
    {
     "name": "stdout",
     "output_type": "stream",
     "text": [
      "DataFrame length:  1176\n"
     ]
    },
    {
     "name": "stderr",
     "output_type": "stream",
     "text": [
      "C:\\Users\\Harry\\AppData\\Local\\Temp\\ipykernel_35052\\75057381.py:97: FutureWarning: The frame.append method is deprecated and will be removed from pandas in a future version. Use pandas.concat instead.\n",
      "  df = df.append({'Address':address, 'Price':price, 'Eircode': eircode, 'Dwelling Type':dwelling_type, 'Bedrooms':bedrooms, 'Bathrooms':bathrooms, 'Last Refreshed':refreshed, 'Floor Area in sqm':floor_area, 'Facilities':facilities, 'Description':description, 'Directions':directions, 'Ber Details':ber_details, 'Accommodation':accommodation, 'Features':features}, ignore_index = True)\n"
     ]
    },
    {
     "name": "stdout",
     "output_type": "stream",
     "text": [
      "DataFrame length:  1177\n"
     ]
    },
    {
     "name": "stderr",
     "output_type": "stream",
     "text": [
      "C:\\Users\\Harry\\AppData\\Local\\Temp\\ipykernel_35052\\75057381.py:97: FutureWarning: The frame.append method is deprecated and will be removed from pandas in a future version. Use pandas.concat instead.\n",
      "  df = df.append({'Address':address, 'Price':price, 'Eircode': eircode, 'Dwelling Type':dwelling_type, 'Bedrooms':bedrooms, 'Bathrooms':bathrooms, 'Last Refreshed':refreshed, 'Floor Area in sqm':floor_area, 'Facilities':facilities, 'Description':description, 'Directions':directions, 'Ber Details':ber_details, 'Accommodation':accommodation, 'Features':features}, ignore_index = True)\n"
     ]
    },
    {
     "name": "stdout",
     "output_type": "stream",
     "text": [
      "DataFrame length:  1178\n"
     ]
    },
    {
     "name": "stderr",
     "output_type": "stream",
     "text": [
      "C:\\Users\\Harry\\AppData\\Local\\Temp\\ipykernel_35052\\75057381.py:97: FutureWarning: The frame.append method is deprecated and will be removed from pandas in a future version. Use pandas.concat instead.\n",
      "  df = df.append({'Address':address, 'Price':price, 'Eircode': eircode, 'Dwelling Type':dwelling_type, 'Bedrooms':bedrooms, 'Bathrooms':bathrooms, 'Last Refreshed':refreshed, 'Floor Area in sqm':floor_area, 'Facilities':facilities, 'Description':description, 'Directions':directions, 'Ber Details':ber_details, 'Accommodation':accommodation, 'Features':features}, ignore_index = True)\n"
     ]
    },
    {
     "name": "stdout",
     "output_type": "stream",
     "text": [
      "DataFrame length:  1179\n"
     ]
    },
    {
     "name": "stderr",
     "output_type": "stream",
     "text": [
      "C:\\Users\\Harry\\AppData\\Local\\Temp\\ipykernel_35052\\75057381.py:97: FutureWarning: The frame.append method is deprecated and will be removed from pandas in a future version. Use pandas.concat instead.\n",
      "  df = df.append({'Address':address, 'Price':price, 'Eircode': eircode, 'Dwelling Type':dwelling_type, 'Bedrooms':bedrooms, 'Bathrooms':bathrooms, 'Last Refreshed':refreshed, 'Floor Area in sqm':floor_area, 'Facilities':facilities, 'Description':description, 'Directions':directions, 'Ber Details':ber_details, 'Accommodation':accommodation, 'Features':features}, ignore_index = True)\n"
     ]
    },
    {
     "name": "stdout",
     "output_type": "stream",
     "text": [
      "DataFrame length:  1180\n"
     ]
    },
    {
     "name": "stderr",
     "output_type": "stream",
     "text": [
      "C:\\Users\\Harry\\AppData\\Local\\Temp\\ipykernel_35052\\75057381.py:97: FutureWarning: The frame.append method is deprecated and will be removed from pandas in a future version. Use pandas.concat instead.\n",
      "  df = df.append({'Address':address, 'Price':price, 'Eircode': eircode, 'Dwelling Type':dwelling_type, 'Bedrooms':bedrooms, 'Bathrooms':bathrooms, 'Last Refreshed':refreshed, 'Floor Area in sqm':floor_area, 'Facilities':facilities, 'Description':description, 'Directions':directions, 'Ber Details':ber_details, 'Accommodation':accommodation, 'Features':features}, ignore_index = True)\n"
     ]
    },
    {
     "name": "stdout",
     "output_type": "stream",
     "text": [
      "DataFrame length:  1181\n"
     ]
    },
    {
     "name": "stderr",
     "output_type": "stream",
     "text": [
      "C:\\Users\\Harry\\AppData\\Local\\Temp\\ipykernel_35052\\75057381.py:97: FutureWarning: The frame.append method is deprecated and will be removed from pandas in a future version. Use pandas.concat instead.\n",
      "  df = df.append({'Address':address, 'Price':price, 'Eircode': eircode, 'Dwelling Type':dwelling_type, 'Bedrooms':bedrooms, 'Bathrooms':bathrooms, 'Last Refreshed':refreshed, 'Floor Area in sqm':floor_area, 'Facilities':facilities, 'Description':description, 'Directions':directions, 'Ber Details':ber_details, 'Accommodation':accommodation, 'Features':features}, ignore_index = True)\n"
     ]
    },
    {
     "name": "stdout",
     "output_type": "stream",
     "text": [
      "DataFrame length:  1182\n"
     ]
    },
    {
     "name": "stderr",
     "output_type": "stream",
     "text": [
      "C:\\Users\\Harry\\AppData\\Local\\Temp\\ipykernel_35052\\75057381.py:97: FutureWarning: The frame.append method is deprecated and will be removed from pandas in a future version. Use pandas.concat instead.\n",
      "  df = df.append({'Address':address, 'Price':price, 'Eircode': eircode, 'Dwelling Type':dwelling_type, 'Bedrooms':bedrooms, 'Bathrooms':bathrooms, 'Last Refreshed':refreshed, 'Floor Area in sqm':floor_area, 'Facilities':facilities, 'Description':description, 'Directions':directions, 'Ber Details':ber_details, 'Accommodation':accommodation, 'Features':features}, ignore_index = True)\n"
     ]
    },
    {
     "name": "stdout",
     "output_type": "stream",
     "text": [
      "DataFrame length:  1183\n"
     ]
    },
    {
     "name": "stderr",
     "output_type": "stream",
     "text": [
      "C:\\Users\\Harry\\AppData\\Local\\Temp\\ipykernel_35052\\75057381.py:97: FutureWarning: The frame.append method is deprecated and will be removed from pandas in a future version. Use pandas.concat instead.\n",
      "  df = df.append({'Address':address, 'Price':price, 'Eircode': eircode, 'Dwelling Type':dwelling_type, 'Bedrooms':bedrooms, 'Bathrooms':bathrooms, 'Last Refreshed':refreshed, 'Floor Area in sqm':floor_area, 'Facilities':facilities, 'Description':description, 'Directions':directions, 'Ber Details':ber_details, 'Accommodation':accommodation, 'Features':features}, ignore_index = True)\n"
     ]
    },
    {
     "name": "stdout",
     "output_type": "stream",
     "text": [
      "DataFrame length:  1184\n"
     ]
    },
    {
     "name": "stderr",
     "output_type": "stream",
     "text": [
      "C:\\Users\\Harry\\AppData\\Local\\Temp\\ipykernel_35052\\75057381.py:97: FutureWarning: The frame.append method is deprecated and will be removed from pandas in a future version. Use pandas.concat instead.\n",
      "  df = df.append({'Address':address, 'Price':price, 'Eircode': eircode, 'Dwelling Type':dwelling_type, 'Bedrooms':bedrooms, 'Bathrooms':bathrooms, 'Last Refreshed':refreshed, 'Floor Area in sqm':floor_area, 'Facilities':facilities, 'Description':description, 'Directions':directions, 'Ber Details':ber_details, 'Accommodation':accommodation, 'Features':features}, ignore_index = True)\n"
     ]
    },
    {
     "name": "stdout",
     "output_type": "stream",
     "text": [
      "DataFrame length:  1185\n"
     ]
    },
    {
     "name": "stderr",
     "output_type": "stream",
     "text": [
      "C:\\Users\\Harry\\AppData\\Local\\Temp\\ipykernel_35052\\75057381.py:97: FutureWarning: The frame.append method is deprecated and will be removed from pandas in a future version. Use pandas.concat instead.\n",
      "  df = df.append({'Address':address, 'Price':price, 'Eircode': eircode, 'Dwelling Type':dwelling_type, 'Bedrooms':bedrooms, 'Bathrooms':bathrooms, 'Last Refreshed':refreshed, 'Floor Area in sqm':floor_area, 'Facilities':facilities, 'Description':description, 'Directions':directions, 'Ber Details':ber_details, 'Accommodation':accommodation, 'Features':features}, ignore_index = True)\n"
     ]
    },
    {
     "name": "stdout",
     "output_type": "stream",
     "text": [
      "DataFrame length:  1186\n"
     ]
    },
    {
     "name": "stderr",
     "output_type": "stream",
     "text": [
      "C:\\Users\\Harry\\AppData\\Local\\Temp\\ipykernel_35052\\75057381.py:97: FutureWarning: The frame.append method is deprecated and will be removed from pandas in a future version. Use pandas.concat instead.\n",
      "  df = df.append({'Address':address, 'Price':price, 'Eircode': eircode, 'Dwelling Type':dwelling_type, 'Bedrooms':bedrooms, 'Bathrooms':bathrooms, 'Last Refreshed':refreshed, 'Floor Area in sqm':floor_area, 'Facilities':facilities, 'Description':description, 'Directions':directions, 'Ber Details':ber_details, 'Accommodation':accommodation, 'Features':features}, ignore_index = True)\n"
     ]
    },
    {
     "name": "stdout",
     "output_type": "stream",
     "text": [
      "DataFrame length:  1187\n"
     ]
    },
    {
     "name": "stderr",
     "output_type": "stream",
     "text": [
      "C:\\Users\\Harry\\AppData\\Local\\Temp\\ipykernel_35052\\75057381.py:97: FutureWarning: The frame.append method is deprecated and will be removed from pandas in a future version. Use pandas.concat instead.\n",
      "  df = df.append({'Address':address, 'Price':price, 'Eircode': eircode, 'Dwelling Type':dwelling_type, 'Bedrooms':bedrooms, 'Bathrooms':bathrooms, 'Last Refreshed':refreshed, 'Floor Area in sqm':floor_area, 'Facilities':facilities, 'Description':description, 'Directions':directions, 'Ber Details':ber_details, 'Accommodation':accommodation, 'Features':features}, ignore_index = True)\n"
     ]
    },
    {
     "name": "stdout",
     "output_type": "stream",
     "text": [
      "DataFrame length:  1188\n"
     ]
    },
    {
     "name": "stderr",
     "output_type": "stream",
     "text": [
      "C:\\Users\\Harry\\AppData\\Local\\Temp\\ipykernel_35052\\75057381.py:97: FutureWarning: The frame.append method is deprecated and will be removed from pandas in a future version. Use pandas.concat instead.\n",
      "  df = df.append({'Address':address, 'Price':price, 'Eircode': eircode, 'Dwelling Type':dwelling_type, 'Bedrooms':bedrooms, 'Bathrooms':bathrooms, 'Last Refreshed':refreshed, 'Floor Area in sqm':floor_area, 'Facilities':facilities, 'Description':description, 'Directions':directions, 'Ber Details':ber_details, 'Accommodation':accommodation, 'Features':features}, ignore_index = True)\n"
     ]
    },
    {
     "name": "stdout",
     "output_type": "stream",
     "text": [
      "DataFrame length:  1189\n"
     ]
    },
    {
     "name": "stderr",
     "output_type": "stream",
     "text": [
      "C:\\Users\\Harry\\AppData\\Local\\Temp\\ipykernel_35052\\75057381.py:97: FutureWarning: The frame.append method is deprecated and will be removed from pandas in a future version. Use pandas.concat instead.\n",
      "  df = df.append({'Address':address, 'Price':price, 'Eircode': eircode, 'Dwelling Type':dwelling_type, 'Bedrooms':bedrooms, 'Bathrooms':bathrooms, 'Last Refreshed':refreshed, 'Floor Area in sqm':floor_area, 'Facilities':facilities, 'Description':description, 'Directions':directions, 'Ber Details':ber_details, 'Accommodation':accommodation, 'Features':features}, ignore_index = True)\n"
     ]
    },
    {
     "name": "stdout",
     "output_type": "stream",
     "text": [
      "DataFrame length:  1190\n"
     ]
    },
    {
     "name": "stderr",
     "output_type": "stream",
     "text": [
      "C:\\Users\\Harry\\AppData\\Local\\Temp\\ipykernel_35052\\75057381.py:97: FutureWarning: The frame.append method is deprecated and will be removed from pandas in a future version. Use pandas.concat instead.\n",
      "  df = df.append({'Address':address, 'Price':price, 'Eircode': eircode, 'Dwelling Type':dwelling_type, 'Bedrooms':bedrooms, 'Bathrooms':bathrooms, 'Last Refreshed':refreshed, 'Floor Area in sqm':floor_area, 'Facilities':facilities, 'Description':description, 'Directions':directions, 'Ber Details':ber_details, 'Accommodation':accommodation, 'Features':features}, ignore_index = True)\n"
     ]
    },
    {
     "name": "stdout",
     "output_type": "stream",
     "text": [
      "DataFrame length:  1191\n"
     ]
    },
    {
     "name": "stderr",
     "output_type": "stream",
     "text": [
      "C:\\Users\\Harry\\AppData\\Local\\Temp\\ipykernel_35052\\75057381.py:97: FutureWarning: The frame.append method is deprecated and will be removed from pandas in a future version. Use pandas.concat instead.\n",
      "  df = df.append({'Address':address, 'Price':price, 'Eircode': eircode, 'Dwelling Type':dwelling_type, 'Bedrooms':bedrooms, 'Bathrooms':bathrooms, 'Last Refreshed':refreshed, 'Floor Area in sqm':floor_area, 'Facilities':facilities, 'Description':description, 'Directions':directions, 'Ber Details':ber_details, 'Accommodation':accommodation, 'Features':features}, ignore_index = True)\n"
     ]
    },
    {
     "name": "stdout",
     "output_type": "stream",
     "text": [
      "DataFrame length:  1192\n"
     ]
    },
    {
     "name": "stderr",
     "output_type": "stream",
     "text": [
      "C:\\Users\\Harry\\AppData\\Local\\Temp\\ipykernel_35052\\75057381.py:97: FutureWarning: The frame.append method is deprecated and will be removed from pandas in a future version. Use pandas.concat instead.\n",
      "  df = df.append({'Address':address, 'Price':price, 'Eircode': eircode, 'Dwelling Type':dwelling_type, 'Bedrooms':bedrooms, 'Bathrooms':bathrooms, 'Last Refreshed':refreshed, 'Floor Area in sqm':floor_area, 'Facilities':facilities, 'Description':description, 'Directions':directions, 'Ber Details':ber_details, 'Accommodation':accommodation, 'Features':features}, ignore_index = True)\n"
     ]
    },
    {
     "name": "stdout",
     "output_type": "stream",
     "text": [
      "DataFrame length:  1193\n"
     ]
    },
    {
     "name": "stderr",
     "output_type": "stream",
     "text": [
      "C:\\Users\\Harry\\AppData\\Local\\Temp\\ipykernel_35052\\75057381.py:97: FutureWarning: The frame.append method is deprecated and will be removed from pandas in a future version. Use pandas.concat instead.\n",
      "  df = df.append({'Address':address, 'Price':price, 'Eircode': eircode, 'Dwelling Type':dwelling_type, 'Bedrooms':bedrooms, 'Bathrooms':bathrooms, 'Last Refreshed':refreshed, 'Floor Area in sqm':floor_area, 'Facilities':facilities, 'Description':description, 'Directions':directions, 'Ber Details':ber_details, 'Accommodation':accommodation, 'Features':features}, ignore_index = True)\n"
     ]
    },
    {
     "name": "stdout",
     "output_type": "stream",
     "text": [
      "DataFrame length:  1194\n"
     ]
    },
    {
     "name": "stderr",
     "output_type": "stream",
     "text": [
      "C:\\Users\\Harry\\AppData\\Local\\Temp\\ipykernel_35052\\75057381.py:97: FutureWarning: The frame.append method is deprecated and will be removed from pandas in a future version. Use pandas.concat instead.\n",
      "  df = df.append({'Address':address, 'Price':price, 'Eircode': eircode, 'Dwelling Type':dwelling_type, 'Bedrooms':bedrooms, 'Bathrooms':bathrooms, 'Last Refreshed':refreshed, 'Floor Area in sqm':floor_area, 'Facilities':facilities, 'Description':description, 'Directions':directions, 'Ber Details':ber_details, 'Accommodation':accommodation, 'Features':features}, ignore_index = True)\n"
     ]
    },
    {
     "name": "stdout",
     "output_type": "stream",
     "text": [
      "DataFrame length:  1195\n"
     ]
    },
    {
     "name": "stderr",
     "output_type": "stream",
     "text": [
      "C:\\Users\\Harry\\AppData\\Local\\Temp\\ipykernel_35052\\75057381.py:97: FutureWarning: The frame.append method is deprecated and will be removed from pandas in a future version. Use pandas.concat instead.\n",
      "  df = df.append({'Address':address, 'Price':price, 'Eircode': eircode, 'Dwelling Type':dwelling_type, 'Bedrooms':bedrooms, 'Bathrooms':bathrooms, 'Last Refreshed':refreshed, 'Floor Area in sqm':floor_area, 'Facilities':facilities, 'Description':description, 'Directions':directions, 'Ber Details':ber_details, 'Accommodation':accommodation, 'Features':features}, ignore_index = True)\n"
     ]
    },
    {
     "name": "stdout",
     "output_type": "stream",
     "text": [
      "DataFrame length:  1196\n"
     ]
    },
    {
     "name": "stderr",
     "output_type": "stream",
     "text": [
      "C:\\Users\\Harry\\AppData\\Local\\Temp\\ipykernel_35052\\75057381.py:97: FutureWarning: The frame.append method is deprecated and will be removed from pandas in a future version. Use pandas.concat instead.\n",
      "  df = df.append({'Address':address, 'Price':price, 'Eircode': eircode, 'Dwelling Type':dwelling_type, 'Bedrooms':bedrooms, 'Bathrooms':bathrooms, 'Last Refreshed':refreshed, 'Floor Area in sqm':floor_area, 'Facilities':facilities, 'Description':description, 'Directions':directions, 'Ber Details':ber_details, 'Accommodation':accommodation, 'Features':features}, ignore_index = True)\n"
     ]
    },
    {
     "name": "stdout",
     "output_type": "stream",
     "text": [
      "DataFrame length:  1197\n"
     ]
    },
    {
     "name": "stderr",
     "output_type": "stream",
     "text": [
      "C:\\Users\\Harry\\AppData\\Local\\Temp\\ipykernel_35052\\75057381.py:97: FutureWarning: The frame.append method is deprecated and will be removed from pandas in a future version. Use pandas.concat instead.\n",
      "  df = df.append({'Address':address, 'Price':price, 'Eircode': eircode, 'Dwelling Type':dwelling_type, 'Bedrooms':bedrooms, 'Bathrooms':bathrooms, 'Last Refreshed':refreshed, 'Floor Area in sqm':floor_area, 'Facilities':facilities, 'Description':description, 'Directions':directions, 'Ber Details':ber_details, 'Accommodation':accommodation, 'Features':features}, ignore_index = True)\n"
     ]
    },
    {
     "name": "stdout",
     "output_type": "stream",
     "text": [
      "DataFrame length:  1198\n"
     ]
    },
    {
     "name": "stderr",
     "output_type": "stream",
     "text": [
      "C:\\Users\\Harry\\AppData\\Local\\Temp\\ipykernel_35052\\75057381.py:97: FutureWarning: The frame.append method is deprecated and will be removed from pandas in a future version. Use pandas.concat instead.\n",
      "  df = df.append({'Address':address, 'Price':price, 'Eircode': eircode, 'Dwelling Type':dwelling_type, 'Bedrooms':bedrooms, 'Bathrooms':bathrooms, 'Last Refreshed':refreshed, 'Floor Area in sqm':floor_area, 'Facilities':facilities, 'Description':description, 'Directions':directions, 'Ber Details':ber_details, 'Accommodation':accommodation, 'Features':features}, ignore_index = True)\n"
     ]
    },
    {
     "name": "stdout",
     "output_type": "stream",
     "text": [
      "DataFrame length:  1199\n"
     ]
    },
    {
     "name": "stderr",
     "output_type": "stream",
     "text": [
      "C:\\Users\\Harry\\AppData\\Local\\Temp\\ipykernel_35052\\75057381.py:97: FutureWarning: The frame.append method is deprecated and will be removed from pandas in a future version. Use pandas.concat instead.\n",
      "  df = df.append({'Address':address, 'Price':price, 'Eircode': eircode, 'Dwelling Type':dwelling_type, 'Bedrooms':bedrooms, 'Bathrooms':bathrooms, 'Last Refreshed':refreshed, 'Floor Area in sqm':floor_area, 'Facilities':facilities, 'Description':description, 'Directions':directions, 'Ber Details':ber_details, 'Accommodation':accommodation, 'Features':features}, ignore_index = True)\n"
     ]
    },
    {
     "name": "stdout",
     "output_type": "stream",
     "text": [
      "DataFrame length:  1200\n"
     ]
    },
    {
     "name": "stderr",
     "output_type": "stream",
     "text": [
      "C:\\Users\\Harry\\AppData\\Local\\Temp\\ipykernel_35052\\75057381.py:97: FutureWarning: The frame.append method is deprecated and will be removed from pandas in a future version. Use pandas.concat instead.\n",
      "  df = df.append({'Address':address, 'Price':price, 'Eircode': eircode, 'Dwelling Type':dwelling_type, 'Bedrooms':bedrooms, 'Bathrooms':bathrooms, 'Last Refreshed':refreshed, 'Floor Area in sqm':floor_area, 'Facilities':facilities, 'Description':description, 'Directions':directions, 'Ber Details':ber_details, 'Accommodation':accommodation, 'Features':features}, ignore_index = True)\n"
     ]
    },
    {
     "name": "stdout",
     "output_type": "stream",
     "text": [
      "DataFrame length:  1201\n"
     ]
    },
    {
     "name": "stderr",
     "output_type": "stream",
     "text": [
      "C:\\Users\\Harry\\AppData\\Local\\Temp\\ipykernel_35052\\75057381.py:97: FutureWarning: The frame.append method is deprecated and will be removed from pandas in a future version. Use pandas.concat instead.\n",
      "  df = df.append({'Address':address, 'Price':price, 'Eircode': eircode, 'Dwelling Type':dwelling_type, 'Bedrooms':bedrooms, 'Bathrooms':bathrooms, 'Last Refreshed':refreshed, 'Floor Area in sqm':floor_area, 'Facilities':facilities, 'Description':description, 'Directions':directions, 'Ber Details':ber_details, 'Accommodation':accommodation, 'Features':features}, ignore_index = True)\n"
     ]
    },
    {
     "name": "stdout",
     "output_type": "stream",
     "text": [
      "DataFrame length:  1202\n"
     ]
    },
    {
     "name": "stderr",
     "output_type": "stream",
     "text": [
      "C:\\Users\\Harry\\AppData\\Local\\Temp\\ipykernel_35052\\75057381.py:97: FutureWarning: The frame.append method is deprecated and will be removed from pandas in a future version. Use pandas.concat instead.\n",
      "  df = df.append({'Address':address, 'Price':price, 'Eircode': eircode, 'Dwelling Type':dwelling_type, 'Bedrooms':bedrooms, 'Bathrooms':bathrooms, 'Last Refreshed':refreshed, 'Floor Area in sqm':floor_area, 'Facilities':facilities, 'Description':description, 'Directions':directions, 'Ber Details':ber_details, 'Accommodation':accommodation, 'Features':features}, ignore_index = True)\n"
     ]
    },
    {
     "name": "stdout",
     "output_type": "stream",
     "text": [
      "DataFrame length:  1203\n"
     ]
    },
    {
     "name": "stderr",
     "output_type": "stream",
     "text": [
      "C:\\Users\\Harry\\AppData\\Local\\Temp\\ipykernel_35052\\75057381.py:97: FutureWarning: The frame.append method is deprecated and will be removed from pandas in a future version. Use pandas.concat instead.\n",
      "  df = df.append({'Address':address, 'Price':price, 'Eircode': eircode, 'Dwelling Type':dwelling_type, 'Bedrooms':bedrooms, 'Bathrooms':bathrooms, 'Last Refreshed':refreshed, 'Floor Area in sqm':floor_area, 'Facilities':facilities, 'Description':description, 'Directions':directions, 'Ber Details':ber_details, 'Accommodation':accommodation, 'Features':features}, ignore_index = True)\n"
     ]
    },
    {
     "name": "stdout",
     "output_type": "stream",
     "text": [
      "DataFrame length:  1204\n"
     ]
    },
    {
     "name": "stderr",
     "output_type": "stream",
     "text": [
      "C:\\Users\\Harry\\AppData\\Local\\Temp\\ipykernel_35052\\75057381.py:97: FutureWarning: The frame.append method is deprecated and will be removed from pandas in a future version. Use pandas.concat instead.\n",
      "  df = df.append({'Address':address, 'Price':price, 'Eircode': eircode, 'Dwelling Type':dwelling_type, 'Bedrooms':bedrooms, 'Bathrooms':bathrooms, 'Last Refreshed':refreshed, 'Floor Area in sqm':floor_area, 'Facilities':facilities, 'Description':description, 'Directions':directions, 'Ber Details':ber_details, 'Accommodation':accommodation, 'Features':features}, ignore_index = True)\n"
     ]
    },
    {
     "name": "stdout",
     "output_type": "stream",
     "text": [
      "DataFrame length:  1205\n"
     ]
    },
    {
     "name": "stderr",
     "output_type": "stream",
     "text": [
      "C:\\Users\\Harry\\AppData\\Local\\Temp\\ipykernel_35052\\75057381.py:97: FutureWarning: The frame.append method is deprecated and will be removed from pandas in a future version. Use pandas.concat instead.\n",
      "  df = df.append({'Address':address, 'Price':price, 'Eircode': eircode, 'Dwelling Type':dwelling_type, 'Bedrooms':bedrooms, 'Bathrooms':bathrooms, 'Last Refreshed':refreshed, 'Floor Area in sqm':floor_area, 'Facilities':facilities, 'Description':description, 'Directions':directions, 'Ber Details':ber_details, 'Accommodation':accommodation, 'Features':features}, ignore_index = True)\n"
     ]
    },
    {
     "name": "stdout",
     "output_type": "stream",
     "text": [
      "DataFrame length:  1206\n"
     ]
    },
    {
     "name": "stderr",
     "output_type": "stream",
     "text": [
      "C:\\Users\\Harry\\AppData\\Local\\Temp\\ipykernel_35052\\75057381.py:97: FutureWarning: The frame.append method is deprecated and will be removed from pandas in a future version. Use pandas.concat instead.\n",
      "  df = df.append({'Address':address, 'Price':price, 'Eircode': eircode, 'Dwelling Type':dwelling_type, 'Bedrooms':bedrooms, 'Bathrooms':bathrooms, 'Last Refreshed':refreshed, 'Floor Area in sqm':floor_area, 'Facilities':facilities, 'Description':description, 'Directions':directions, 'Ber Details':ber_details, 'Accommodation':accommodation, 'Features':features}, ignore_index = True)\n"
     ]
    },
    {
     "name": "stdout",
     "output_type": "stream",
     "text": [
      "DataFrame length:  1207\n"
     ]
    },
    {
     "name": "stderr",
     "output_type": "stream",
     "text": [
      "C:\\Users\\Harry\\AppData\\Local\\Temp\\ipykernel_35052\\75057381.py:97: FutureWarning: The frame.append method is deprecated and will be removed from pandas in a future version. Use pandas.concat instead.\n",
      "  df = df.append({'Address':address, 'Price':price, 'Eircode': eircode, 'Dwelling Type':dwelling_type, 'Bedrooms':bedrooms, 'Bathrooms':bathrooms, 'Last Refreshed':refreshed, 'Floor Area in sqm':floor_area, 'Facilities':facilities, 'Description':description, 'Directions':directions, 'Ber Details':ber_details, 'Accommodation':accommodation, 'Features':features}, ignore_index = True)\n"
     ]
    },
    {
     "name": "stdout",
     "output_type": "stream",
     "text": [
      "DataFrame length:  1208\n"
     ]
    },
    {
     "name": "stderr",
     "output_type": "stream",
     "text": [
      "C:\\Users\\Harry\\AppData\\Local\\Temp\\ipykernel_35052\\75057381.py:97: FutureWarning: The frame.append method is deprecated and will be removed from pandas in a future version. Use pandas.concat instead.\n",
      "  df = df.append({'Address':address, 'Price':price, 'Eircode': eircode, 'Dwelling Type':dwelling_type, 'Bedrooms':bedrooms, 'Bathrooms':bathrooms, 'Last Refreshed':refreshed, 'Floor Area in sqm':floor_area, 'Facilities':facilities, 'Description':description, 'Directions':directions, 'Ber Details':ber_details, 'Accommodation':accommodation, 'Features':features}, ignore_index = True)\n"
     ]
    },
    {
     "name": "stdout",
     "output_type": "stream",
     "text": [
      "DataFrame length:  1209\n"
     ]
    },
    {
     "name": "stderr",
     "output_type": "stream",
     "text": [
      "C:\\Users\\Harry\\AppData\\Local\\Temp\\ipykernel_35052\\75057381.py:97: FutureWarning: The frame.append method is deprecated and will be removed from pandas in a future version. Use pandas.concat instead.\n",
      "  df = df.append({'Address':address, 'Price':price, 'Eircode': eircode, 'Dwelling Type':dwelling_type, 'Bedrooms':bedrooms, 'Bathrooms':bathrooms, 'Last Refreshed':refreshed, 'Floor Area in sqm':floor_area, 'Facilities':facilities, 'Description':description, 'Directions':directions, 'Ber Details':ber_details, 'Accommodation':accommodation, 'Features':features}, ignore_index = True)\n"
     ]
    },
    {
     "name": "stdout",
     "output_type": "stream",
     "text": [
      "DataFrame length:  1210\n"
     ]
    },
    {
     "name": "stderr",
     "output_type": "stream",
     "text": [
      "C:\\Users\\Harry\\AppData\\Local\\Temp\\ipykernel_35052\\75057381.py:97: FutureWarning: The frame.append method is deprecated and will be removed from pandas in a future version. Use pandas.concat instead.\n",
      "  df = df.append({'Address':address, 'Price':price, 'Eircode': eircode, 'Dwelling Type':dwelling_type, 'Bedrooms':bedrooms, 'Bathrooms':bathrooms, 'Last Refreshed':refreshed, 'Floor Area in sqm':floor_area, 'Facilities':facilities, 'Description':description, 'Directions':directions, 'Ber Details':ber_details, 'Accommodation':accommodation, 'Features':features}, ignore_index = True)\n"
     ]
    },
    {
     "name": "stdout",
     "output_type": "stream",
     "text": [
      "DataFrame length:  1211\n"
     ]
    },
    {
     "name": "stderr",
     "output_type": "stream",
     "text": [
      "C:\\Users\\Harry\\AppData\\Local\\Temp\\ipykernel_35052\\75057381.py:97: FutureWarning: The frame.append method is deprecated and will be removed from pandas in a future version. Use pandas.concat instead.\n",
      "  df = df.append({'Address':address, 'Price':price, 'Eircode': eircode, 'Dwelling Type':dwelling_type, 'Bedrooms':bedrooms, 'Bathrooms':bathrooms, 'Last Refreshed':refreshed, 'Floor Area in sqm':floor_area, 'Facilities':facilities, 'Description':description, 'Directions':directions, 'Ber Details':ber_details, 'Accommodation':accommodation, 'Features':features}, ignore_index = True)\n"
     ]
    },
    {
     "name": "stdout",
     "output_type": "stream",
     "text": [
      "DataFrame length:  1212\n"
     ]
    },
    {
     "name": "stderr",
     "output_type": "stream",
     "text": [
      "C:\\Users\\Harry\\AppData\\Local\\Temp\\ipykernel_35052\\75057381.py:97: FutureWarning: The frame.append method is deprecated and will be removed from pandas in a future version. Use pandas.concat instead.\n",
      "  df = df.append({'Address':address, 'Price':price, 'Eircode': eircode, 'Dwelling Type':dwelling_type, 'Bedrooms':bedrooms, 'Bathrooms':bathrooms, 'Last Refreshed':refreshed, 'Floor Area in sqm':floor_area, 'Facilities':facilities, 'Description':description, 'Directions':directions, 'Ber Details':ber_details, 'Accommodation':accommodation, 'Features':features}, ignore_index = True)\n"
     ]
    },
    {
     "name": "stdout",
     "output_type": "stream",
     "text": [
      "DataFrame length:  1213\n"
     ]
    },
    {
     "name": "stderr",
     "output_type": "stream",
     "text": [
      "C:\\Users\\Harry\\AppData\\Local\\Temp\\ipykernel_35052\\75057381.py:97: FutureWarning: The frame.append method is deprecated and will be removed from pandas in a future version. Use pandas.concat instead.\n",
      "  df = df.append({'Address':address, 'Price':price, 'Eircode': eircode, 'Dwelling Type':dwelling_type, 'Bedrooms':bedrooms, 'Bathrooms':bathrooms, 'Last Refreshed':refreshed, 'Floor Area in sqm':floor_area, 'Facilities':facilities, 'Description':description, 'Directions':directions, 'Ber Details':ber_details, 'Accommodation':accommodation, 'Features':features}, ignore_index = True)\n"
     ]
    },
    {
     "name": "stdout",
     "output_type": "stream",
     "text": [
      "DataFrame length:  1214\n"
     ]
    },
    {
     "name": "stderr",
     "output_type": "stream",
     "text": [
      "C:\\Users\\Harry\\AppData\\Local\\Temp\\ipykernel_35052\\75057381.py:97: FutureWarning: The frame.append method is deprecated and will be removed from pandas in a future version. Use pandas.concat instead.\n",
      "  df = df.append({'Address':address, 'Price':price, 'Eircode': eircode, 'Dwelling Type':dwelling_type, 'Bedrooms':bedrooms, 'Bathrooms':bathrooms, 'Last Refreshed':refreshed, 'Floor Area in sqm':floor_area, 'Facilities':facilities, 'Description':description, 'Directions':directions, 'Ber Details':ber_details, 'Accommodation':accommodation, 'Features':features}, ignore_index = True)\n"
     ]
    },
    {
     "name": "stdout",
     "output_type": "stream",
     "text": [
      "DataFrame length:  1215\n"
     ]
    },
    {
     "name": "stderr",
     "output_type": "stream",
     "text": [
      "C:\\Users\\Harry\\AppData\\Local\\Temp\\ipykernel_35052\\75057381.py:97: FutureWarning: The frame.append method is deprecated and will be removed from pandas in a future version. Use pandas.concat instead.\n",
      "  df = df.append({'Address':address, 'Price':price, 'Eircode': eircode, 'Dwelling Type':dwelling_type, 'Bedrooms':bedrooms, 'Bathrooms':bathrooms, 'Last Refreshed':refreshed, 'Floor Area in sqm':floor_area, 'Facilities':facilities, 'Description':description, 'Directions':directions, 'Ber Details':ber_details, 'Accommodation':accommodation, 'Features':features}, ignore_index = True)\n"
     ]
    },
    {
     "name": "stdout",
     "output_type": "stream",
     "text": [
      "DataFrame length:  1216\n"
     ]
    },
    {
     "name": "stderr",
     "output_type": "stream",
     "text": [
      "C:\\Users\\Harry\\AppData\\Local\\Temp\\ipykernel_35052\\75057381.py:97: FutureWarning: The frame.append method is deprecated and will be removed from pandas in a future version. Use pandas.concat instead.\n",
      "  df = df.append({'Address':address, 'Price':price, 'Eircode': eircode, 'Dwelling Type':dwelling_type, 'Bedrooms':bedrooms, 'Bathrooms':bathrooms, 'Last Refreshed':refreshed, 'Floor Area in sqm':floor_area, 'Facilities':facilities, 'Description':description, 'Directions':directions, 'Ber Details':ber_details, 'Accommodation':accommodation, 'Features':features}, ignore_index = True)\n"
     ]
    },
    {
     "name": "stdout",
     "output_type": "stream",
     "text": [
      "DataFrame length:  1217\n"
     ]
    },
    {
     "name": "stderr",
     "output_type": "stream",
     "text": [
      "C:\\Users\\Harry\\AppData\\Local\\Temp\\ipykernel_35052\\75057381.py:97: FutureWarning: The frame.append method is deprecated and will be removed from pandas in a future version. Use pandas.concat instead.\n",
      "  df = df.append({'Address':address, 'Price':price, 'Eircode': eircode, 'Dwelling Type':dwelling_type, 'Bedrooms':bedrooms, 'Bathrooms':bathrooms, 'Last Refreshed':refreshed, 'Floor Area in sqm':floor_area, 'Facilities':facilities, 'Description':description, 'Directions':directions, 'Ber Details':ber_details, 'Accommodation':accommodation, 'Features':features}, ignore_index = True)\n"
     ]
    },
    {
     "name": "stdout",
     "output_type": "stream",
     "text": [
      "DataFrame length:  1218\n"
     ]
    },
    {
     "name": "stderr",
     "output_type": "stream",
     "text": [
      "C:\\Users\\Harry\\AppData\\Local\\Temp\\ipykernel_35052\\75057381.py:97: FutureWarning: The frame.append method is deprecated and will be removed from pandas in a future version. Use pandas.concat instead.\n",
      "  df = df.append({'Address':address, 'Price':price, 'Eircode': eircode, 'Dwelling Type':dwelling_type, 'Bedrooms':bedrooms, 'Bathrooms':bathrooms, 'Last Refreshed':refreshed, 'Floor Area in sqm':floor_area, 'Facilities':facilities, 'Description':description, 'Directions':directions, 'Ber Details':ber_details, 'Accommodation':accommodation, 'Features':features}, ignore_index = True)\n"
     ]
    },
    {
     "name": "stdout",
     "output_type": "stream",
     "text": [
      "DataFrame length:  1219\n"
     ]
    },
    {
     "name": "stderr",
     "output_type": "stream",
     "text": [
      "C:\\Users\\Harry\\AppData\\Local\\Temp\\ipykernel_35052\\75057381.py:97: FutureWarning: The frame.append method is deprecated and will be removed from pandas in a future version. Use pandas.concat instead.\n",
      "  df = df.append({'Address':address, 'Price':price, 'Eircode': eircode, 'Dwelling Type':dwelling_type, 'Bedrooms':bedrooms, 'Bathrooms':bathrooms, 'Last Refreshed':refreshed, 'Floor Area in sqm':floor_area, 'Facilities':facilities, 'Description':description, 'Directions':directions, 'Ber Details':ber_details, 'Accommodation':accommodation, 'Features':features}, ignore_index = True)\n"
     ]
    },
    {
     "name": "stdout",
     "output_type": "stream",
     "text": [
      "DataFrame length:  1220\n"
     ]
    },
    {
     "name": "stderr",
     "output_type": "stream",
     "text": [
      "C:\\Users\\Harry\\AppData\\Local\\Temp\\ipykernel_35052\\75057381.py:97: FutureWarning: The frame.append method is deprecated and will be removed from pandas in a future version. Use pandas.concat instead.\n",
      "  df = df.append({'Address':address, 'Price':price, 'Eircode': eircode, 'Dwelling Type':dwelling_type, 'Bedrooms':bedrooms, 'Bathrooms':bathrooms, 'Last Refreshed':refreshed, 'Floor Area in sqm':floor_area, 'Facilities':facilities, 'Description':description, 'Directions':directions, 'Ber Details':ber_details, 'Accommodation':accommodation, 'Features':features}, ignore_index = True)\n"
     ]
    },
    {
     "name": "stdout",
     "output_type": "stream",
     "text": [
      "DataFrame length:  1221\n"
     ]
    },
    {
     "name": "stderr",
     "output_type": "stream",
     "text": [
      "C:\\Users\\Harry\\AppData\\Local\\Temp\\ipykernel_35052\\75057381.py:97: FutureWarning: The frame.append method is deprecated and will be removed from pandas in a future version. Use pandas.concat instead.\n",
      "  df = df.append({'Address':address, 'Price':price, 'Eircode': eircode, 'Dwelling Type':dwelling_type, 'Bedrooms':bedrooms, 'Bathrooms':bathrooms, 'Last Refreshed':refreshed, 'Floor Area in sqm':floor_area, 'Facilities':facilities, 'Description':description, 'Directions':directions, 'Ber Details':ber_details, 'Accommodation':accommodation, 'Features':features}, ignore_index = True)\n"
     ]
    },
    {
     "name": "stdout",
     "output_type": "stream",
     "text": [
      "DataFrame length:  1222\n"
     ]
    },
    {
     "name": "stderr",
     "output_type": "stream",
     "text": [
      "C:\\Users\\Harry\\AppData\\Local\\Temp\\ipykernel_35052\\75057381.py:97: FutureWarning: The frame.append method is deprecated and will be removed from pandas in a future version. Use pandas.concat instead.\n",
      "  df = df.append({'Address':address, 'Price':price, 'Eircode': eircode, 'Dwelling Type':dwelling_type, 'Bedrooms':bedrooms, 'Bathrooms':bathrooms, 'Last Refreshed':refreshed, 'Floor Area in sqm':floor_area, 'Facilities':facilities, 'Description':description, 'Directions':directions, 'Ber Details':ber_details, 'Accommodation':accommodation, 'Features':features}, ignore_index = True)\n"
     ]
    },
    {
     "name": "stdout",
     "output_type": "stream",
     "text": [
      "DataFrame length:  1223\n"
     ]
    },
    {
     "name": "stderr",
     "output_type": "stream",
     "text": [
      "C:\\Users\\Harry\\AppData\\Local\\Temp\\ipykernel_35052\\75057381.py:97: FutureWarning: The frame.append method is deprecated and will be removed from pandas in a future version. Use pandas.concat instead.\n",
      "  df = df.append({'Address':address, 'Price':price, 'Eircode': eircode, 'Dwelling Type':dwelling_type, 'Bedrooms':bedrooms, 'Bathrooms':bathrooms, 'Last Refreshed':refreshed, 'Floor Area in sqm':floor_area, 'Facilities':facilities, 'Description':description, 'Directions':directions, 'Ber Details':ber_details, 'Accommodation':accommodation, 'Features':features}, ignore_index = True)\n"
     ]
    },
    {
     "name": "stdout",
     "output_type": "stream",
     "text": [
      "DataFrame length:  1224\n"
     ]
    },
    {
     "name": "stderr",
     "output_type": "stream",
     "text": [
      "C:\\Users\\Harry\\AppData\\Local\\Temp\\ipykernel_35052\\75057381.py:97: FutureWarning: The frame.append method is deprecated and will be removed from pandas in a future version. Use pandas.concat instead.\n",
      "  df = df.append({'Address':address, 'Price':price, 'Eircode': eircode, 'Dwelling Type':dwelling_type, 'Bedrooms':bedrooms, 'Bathrooms':bathrooms, 'Last Refreshed':refreshed, 'Floor Area in sqm':floor_area, 'Facilities':facilities, 'Description':description, 'Directions':directions, 'Ber Details':ber_details, 'Accommodation':accommodation, 'Features':features}, ignore_index = True)\n"
     ]
    },
    {
     "name": "stdout",
     "output_type": "stream",
     "text": [
      "DataFrame length:  1225\n"
     ]
    },
    {
     "name": "stderr",
     "output_type": "stream",
     "text": [
      "C:\\Users\\Harry\\AppData\\Local\\Temp\\ipykernel_35052\\75057381.py:97: FutureWarning: The frame.append method is deprecated and will be removed from pandas in a future version. Use pandas.concat instead.\n",
      "  df = df.append({'Address':address, 'Price':price, 'Eircode': eircode, 'Dwelling Type':dwelling_type, 'Bedrooms':bedrooms, 'Bathrooms':bathrooms, 'Last Refreshed':refreshed, 'Floor Area in sqm':floor_area, 'Facilities':facilities, 'Description':description, 'Directions':directions, 'Ber Details':ber_details, 'Accommodation':accommodation, 'Features':features}, ignore_index = True)\n"
     ]
    },
    {
     "name": "stdout",
     "output_type": "stream",
     "text": [
      "DataFrame length:  1226\n"
     ]
    },
    {
     "name": "stderr",
     "output_type": "stream",
     "text": [
      "C:\\Users\\Harry\\AppData\\Local\\Temp\\ipykernel_35052\\75057381.py:97: FutureWarning: The frame.append method is deprecated and will be removed from pandas in a future version. Use pandas.concat instead.\n",
      "  df = df.append({'Address':address, 'Price':price, 'Eircode': eircode, 'Dwelling Type':dwelling_type, 'Bedrooms':bedrooms, 'Bathrooms':bathrooms, 'Last Refreshed':refreshed, 'Floor Area in sqm':floor_area, 'Facilities':facilities, 'Description':description, 'Directions':directions, 'Ber Details':ber_details, 'Accommodation':accommodation, 'Features':features}, ignore_index = True)\n"
     ]
    },
    {
     "name": "stdout",
     "output_type": "stream",
     "text": [
      "DataFrame length:  1227\n"
     ]
    },
    {
     "name": "stderr",
     "output_type": "stream",
     "text": [
      "C:\\Users\\Harry\\AppData\\Local\\Temp\\ipykernel_35052\\75057381.py:97: FutureWarning: The frame.append method is deprecated and will be removed from pandas in a future version. Use pandas.concat instead.\n",
      "  df = df.append({'Address':address, 'Price':price, 'Eircode': eircode, 'Dwelling Type':dwelling_type, 'Bedrooms':bedrooms, 'Bathrooms':bathrooms, 'Last Refreshed':refreshed, 'Floor Area in sqm':floor_area, 'Facilities':facilities, 'Description':description, 'Directions':directions, 'Ber Details':ber_details, 'Accommodation':accommodation, 'Features':features}, ignore_index = True)\n"
     ]
    },
    {
     "name": "stdout",
     "output_type": "stream",
     "text": [
      "DataFrame length:  1228\n"
     ]
    },
    {
     "name": "stderr",
     "output_type": "stream",
     "text": [
      "C:\\Users\\Harry\\AppData\\Local\\Temp\\ipykernel_35052\\75057381.py:97: FutureWarning: The frame.append method is deprecated and will be removed from pandas in a future version. Use pandas.concat instead.\n",
      "  df = df.append({'Address':address, 'Price':price, 'Eircode': eircode, 'Dwelling Type':dwelling_type, 'Bedrooms':bedrooms, 'Bathrooms':bathrooms, 'Last Refreshed':refreshed, 'Floor Area in sqm':floor_area, 'Facilities':facilities, 'Description':description, 'Directions':directions, 'Ber Details':ber_details, 'Accommodation':accommodation, 'Features':features}, ignore_index = True)\n"
     ]
    },
    {
     "name": "stdout",
     "output_type": "stream",
     "text": [
      "DataFrame length:  1229\n"
     ]
    },
    {
     "name": "stderr",
     "output_type": "stream",
     "text": [
      "C:\\Users\\Harry\\AppData\\Local\\Temp\\ipykernel_35052\\75057381.py:97: FutureWarning: The frame.append method is deprecated and will be removed from pandas in a future version. Use pandas.concat instead.\n",
      "  df = df.append({'Address':address, 'Price':price, 'Eircode': eircode, 'Dwelling Type':dwelling_type, 'Bedrooms':bedrooms, 'Bathrooms':bathrooms, 'Last Refreshed':refreshed, 'Floor Area in sqm':floor_area, 'Facilities':facilities, 'Description':description, 'Directions':directions, 'Ber Details':ber_details, 'Accommodation':accommodation, 'Features':features}, ignore_index = True)\n"
     ]
    },
    {
     "name": "stdout",
     "output_type": "stream",
     "text": [
      "DataFrame length:  1230\n"
     ]
    },
    {
     "name": "stderr",
     "output_type": "stream",
     "text": [
      "C:\\Users\\Harry\\AppData\\Local\\Temp\\ipykernel_35052\\75057381.py:97: FutureWarning: The frame.append method is deprecated and will be removed from pandas in a future version. Use pandas.concat instead.\n",
      "  df = df.append({'Address':address, 'Price':price, 'Eircode': eircode, 'Dwelling Type':dwelling_type, 'Bedrooms':bedrooms, 'Bathrooms':bathrooms, 'Last Refreshed':refreshed, 'Floor Area in sqm':floor_area, 'Facilities':facilities, 'Description':description, 'Directions':directions, 'Ber Details':ber_details, 'Accommodation':accommodation, 'Features':features}, ignore_index = True)\n"
     ]
    },
    {
     "name": "stdout",
     "output_type": "stream",
     "text": [
      "DataFrame length:  1231\n"
     ]
    },
    {
     "name": "stderr",
     "output_type": "stream",
     "text": [
      "C:\\Users\\Harry\\AppData\\Local\\Temp\\ipykernel_35052\\75057381.py:97: FutureWarning: The frame.append method is deprecated and will be removed from pandas in a future version. Use pandas.concat instead.\n",
      "  df = df.append({'Address':address, 'Price':price, 'Eircode': eircode, 'Dwelling Type':dwelling_type, 'Bedrooms':bedrooms, 'Bathrooms':bathrooms, 'Last Refreshed':refreshed, 'Floor Area in sqm':floor_area, 'Facilities':facilities, 'Description':description, 'Directions':directions, 'Ber Details':ber_details, 'Accommodation':accommodation, 'Features':features}, ignore_index = True)\n"
     ]
    },
    {
     "name": "stdout",
     "output_type": "stream",
     "text": [
      "DataFrame length:  1232\n"
     ]
    },
    {
     "name": "stderr",
     "output_type": "stream",
     "text": [
      "C:\\Users\\Harry\\AppData\\Local\\Temp\\ipykernel_35052\\75057381.py:97: FutureWarning: The frame.append method is deprecated and will be removed from pandas in a future version. Use pandas.concat instead.\n",
      "  df = df.append({'Address':address, 'Price':price, 'Eircode': eircode, 'Dwelling Type':dwelling_type, 'Bedrooms':bedrooms, 'Bathrooms':bathrooms, 'Last Refreshed':refreshed, 'Floor Area in sqm':floor_area, 'Facilities':facilities, 'Description':description, 'Directions':directions, 'Ber Details':ber_details, 'Accommodation':accommodation, 'Features':features}, ignore_index = True)\n"
     ]
    },
    {
     "name": "stdout",
     "output_type": "stream",
     "text": [
      "DataFrame length:  1233\n"
     ]
    },
    {
     "name": "stderr",
     "output_type": "stream",
     "text": [
      "C:\\Users\\Harry\\AppData\\Local\\Temp\\ipykernel_35052\\75057381.py:97: FutureWarning: The frame.append method is deprecated and will be removed from pandas in a future version. Use pandas.concat instead.\n",
      "  df = df.append({'Address':address, 'Price':price, 'Eircode': eircode, 'Dwelling Type':dwelling_type, 'Bedrooms':bedrooms, 'Bathrooms':bathrooms, 'Last Refreshed':refreshed, 'Floor Area in sqm':floor_area, 'Facilities':facilities, 'Description':description, 'Directions':directions, 'Ber Details':ber_details, 'Accommodation':accommodation, 'Features':features}, ignore_index = True)\n"
     ]
    },
    {
     "name": "stdout",
     "output_type": "stream",
     "text": [
      "DataFrame length:  1234\n"
     ]
    },
    {
     "name": "stderr",
     "output_type": "stream",
     "text": [
      "C:\\Users\\Harry\\AppData\\Local\\Temp\\ipykernel_35052\\75057381.py:97: FutureWarning: The frame.append method is deprecated and will be removed from pandas in a future version. Use pandas.concat instead.\n",
      "  df = df.append({'Address':address, 'Price':price, 'Eircode': eircode, 'Dwelling Type':dwelling_type, 'Bedrooms':bedrooms, 'Bathrooms':bathrooms, 'Last Refreshed':refreshed, 'Floor Area in sqm':floor_area, 'Facilities':facilities, 'Description':description, 'Directions':directions, 'Ber Details':ber_details, 'Accommodation':accommodation, 'Features':features}, ignore_index = True)\n"
     ]
    },
    {
     "name": "stdout",
     "output_type": "stream",
     "text": [
      "DataFrame length:  1235\n"
     ]
    },
    {
     "name": "stderr",
     "output_type": "stream",
     "text": [
      "C:\\Users\\Harry\\AppData\\Local\\Temp\\ipykernel_35052\\75057381.py:97: FutureWarning: The frame.append method is deprecated and will be removed from pandas in a future version. Use pandas.concat instead.\n",
      "  df = df.append({'Address':address, 'Price':price, 'Eircode': eircode, 'Dwelling Type':dwelling_type, 'Bedrooms':bedrooms, 'Bathrooms':bathrooms, 'Last Refreshed':refreshed, 'Floor Area in sqm':floor_area, 'Facilities':facilities, 'Description':description, 'Directions':directions, 'Ber Details':ber_details, 'Accommodation':accommodation, 'Features':features}, ignore_index = True)\n"
     ]
    },
    {
     "name": "stdout",
     "output_type": "stream",
     "text": [
      "DataFrame length:  1236\n"
     ]
    },
    {
     "name": "stderr",
     "output_type": "stream",
     "text": [
      "C:\\Users\\Harry\\AppData\\Local\\Temp\\ipykernel_35052\\75057381.py:97: FutureWarning: The frame.append method is deprecated and will be removed from pandas in a future version. Use pandas.concat instead.\n",
      "  df = df.append({'Address':address, 'Price':price, 'Eircode': eircode, 'Dwelling Type':dwelling_type, 'Bedrooms':bedrooms, 'Bathrooms':bathrooms, 'Last Refreshed':refreshed, 'Floor Area in sqm':floor_area, 'Facilities':facilities, 'Description':description, 'Directions':directions, 'Ber Details':ber_details, 'Accommodation':accommodation, 'Features':features}, ignore_index = True)\n"
     ]
    },
    {
     "name": "stdout",
     "output_type": "stream",
     "text": [
      "DataFrame length:  1237\n"
     ]
    },
    {
     "name": "stderr",
     "output_type": "stream",
     "text": [
      "C:\\Users\\Harry\\AppData\\Local\\Temp\\ipykernel_35052\\75057381.py:97: FutureWarning: The frame.append method is deprecated and will be removed from pandas in a future version. Use pandas.concat instead.\n",
      "  df = df.append({'Address':address, 'Price':price, 'Eircode': eircode, 'Dwelling Type':dwelling_type, 'Bedrooms':bedrooms, 'Bathrooms':bathrooms, 'Last Refreshed':refreshed, 'Floor Area in sqm':floor_area, 'Facilities':facilities, 'Description':description, 'Directions':directions, 'Ber Details':ber_details, 'Accommodation':accommodation, 'Features':features}, ignore_index = True)\n"
     ]
    },
    {
     "name": "stdout",
     "output_type": "stream",
     "text": [
      "DataFrame length:  1238\n"
     ]
    },
    {
     "name": "stderr",
     "output_type": "stream",
     "text": [
      "C:\\Users\\Harry\\AppData\\Local\\Temp\\ipykernel_35052\\75057381.py:97: FutureWarning: The frame.append method is deprecated and will be removed from pandas in a future version. Use pandas.concat instead.\n",
      "  df = df.append({'Address':address, 'Price':price, 'Eircode': eircode, 'Dwelling Type':dwelling_type, 'Bedrooms':bedrooms, 'Bathrooms':bathrooms, 'Last Refreshed':refreshed, 'Floor Area in sqm':floor_area, 'Facilities':facilities, 'Description':description, 'Directions':directions, 'Ber Details':ber_details, 'Accommodation':accommodation, 'Features':features}, ignore_index = True)\n"
     ]
    },
    {
     "name": "stdout",
     "output_type": "stream",
     "text": [
      "DataFrame length:  1239\n"
     ]
    },
    {
     "name": "stderr",
     "output_type": "stream",
     "text": [
      "C:\\Users\\Harry\\AppData\\Local\\Temp\\ipykernel_35052\\75057381.py:97: FutureWarning: The frame.append method is deprecated and will be removed from pandas in a future version. Use pandas.concat instead.\n",
      "  df = df.append({'Address':address, 'Price':price, 'Eircode': eircode, 'Dwelling Type':dwelling_type, 'Bedrooms':bedrooms, 'Bathrooms':bathrooms, 'Last Refreshed':refreshed, 'Floor Area in sqm':floor_area, 'Facilities':facilities, 'Description':description, 'Directions':directions, 'Ber Details':ber_details, 'Accommodation':accommodation, 'Features':features}, ignore_index = True)\n"
     ]
    },
    {
     "name": "stdout",
     "output_type": "stream",
     "text": [
      "DataFrame length:  1240\n"
     ]
    },
    {
     "name": "stderr",
     "output_type": "stream",
     "text": [
      "C:\\Users\\Harry\\AppData\\Local\\Temp\\ipykernel_35052\\75057381.py:97: FutureWarning: The frame.append method is deprecated and will be removed from pandas in a future version. Use pandas.concat instead.\n",
      "  df = df.append({'Address':address, 'Price':price, 'Eircode': eircode, 'Dwelling Type':dwelling_type, 'Bedrooms':bedrooms, 'Bathrooms':bathrooms, 'Last Refreshed':refreshed, 'Floor Area in sqm':floor_area, 'Facilities':facilities, 'Description':description, 'Directions':directions, 'Ber Details':ber_details, 'Accommodation':accommodation, 'Features':features}, ignore_index = True)\n"
     ]
    },
    {
     "name": "stdout",
     "output_type": "stream",
     "text": [
      "DataFrame length:  1241\n"
     ]
    },
    {
     "name": "stderr",
     "output_type": "stream",
     "text": [
      "C:\\Users\\Harry\\AppData\\Local\\Temp\\ipykernel_35052\\75057381.py:97: FutureWarning: The frame.append method is deprecated and will be removed from pandas in a future version. Use pandas.concat instead.\n",
      "  df = df.append({'Address':address, 'Price':price, 'Eircode': eircode, 'Dwelling Type':dwelling_type, 'Bedrooms':bedrooms, 'Bathrooms':bathrooms, 'Last Refreshed':refreshed, 'Floor Area in sqm':floor_area, 'Facilities':facilities, 'Description':description, 'Directions':directions, 'Ber Details':ber_details, 'Accommodation':accommodation, 'Features':features}, ignore_index = True)\n"
     ]
    },
    {
     "name": "stdout",
     "output_type": "stream",
     "text": [
      "DataFrame length:  1242\n"
     ]
    },
    {
     "name": "stderr",
     "output_type": "stream",
     "text": [
      "C:\\Users\\Harry\\AppData\\Local\\Temp\\ipykernel_35052\\75057381.py:97: FutureWarning: The frame.append method is deprecated and will be removed from pandas in a future version. Use pandas.concat instead.\n",
      "  df = df.append({'Address':address, 'Price':price, 'Eircode': eircode, 'Dwelling Type':dwelling_type, 'Bedrooms':bedrooms, 'Bathrooms':bathrooms, 'Last Refreshed':refreshed, 'Floor Area in sqm':floor_area, 'Facilities':facilities, 'Description':description, 'Directions':directions, 'Ber Details':ber_details, 'Accommodation':accommodation, 'Features':features}, ignore_index = True)\n"
     ]
    },
    {
     "name": "stdout",
     "output_type": "stream",
     "text": [
      "DataFrame length:  1243\n"
     ]
    },
    {
     "name": "stderr",
     "output_type": "stream",
     "text": [
      "C:\\Users\\Harry\\AppData\\Local\\Temp\\ipykernel_35052\\75057381.py:97: FutureWarning: The frame.append method is deprecated and will be removed from pandas in a future version. Use pandas.concat instead.\n",
      "  df = df.append({'Address':address, 'Price':price, 'Eircode': eircode, 'Dwelling Type':dwelling_type, 'Bedrooms':bedrooms, 'Bathrooms':bathrooms, 'Last Refreshed':refreshed, 'Floor Area in sqm':floor_area, 'Facilities':facilities, 'Description':description, 'Directions':directions, 'Ber Details':ber_details, 'Accommodation':accommodation, 'Features':features}, ignore_index = True)\n"
     ]
    },
    {
     "name": "stdout",
     "output_type": "stream",
     "text": [
      "DataFrame length:  1244\n"
     ]
    },
    {
     "name": "stderr",
     "output_type": "stream",
     "text": [
      "C:\\Users\\Harry\\AppData\\Local\\Temp\\ipykernel_35052\\75057381.py:97: FutureWarning: The frame.append method is deprecated and will be removed from pandas in a future version. Use pandas.concat instead.\n",
      "  df = df.append({'Address':address, 'Price':price, 'Eircode': eircode, 'Dwelling Type':dwelling_type, 'Bedrooms':bedrooms, 'Bathrooms':bathrooms, 'Last Refreshed':refreshed, 'Floor Area in sqm':floor_area, 'Facilities':facilities, 'Description':description, 'Directions':directions, 'Ber Details':ber_details, 'Accommodation':accommodation, 'Features':features}, ignore_index = True)\n"
     ]
    },
    {
     "name": "stdout",
     "output_type": "stream",
     "text": [
      "DataFrame length:  1245\n"
     ]
    },
    {
     "name": "stderr",
     "output_type": "stream",
     "text": [
      "C:\\Users\\Harry\\AppData\\Local\\Temp\\ipykernel_35052\\75057381.py:97: FutureWarning: The frame.append method is deprecated and will be removed from pandas in a future version. Use pandas.concat instead.\n",
      "  df = df.append({'Address':address, 'Price':price, 'Eircode': eircode, 'Dwelling Type':dwelling_type, 'Bedrooms':bedrooms, 'Bathrooms':bathrooms, 'Last Refreshed':refreshed, 'Floor Area in sqm':floor_area, 'Facilities':facilities, 'Description':description, 'Directions':directions, 'Ber Details':ber_details, 'Accommodation':accommodation, 'Features':features}, ignore_index = True)\n"
     ]
    },
    {
     "name": "stdout",
     "output_type": "stream",
     "text": [
      "DataFrame length:  1246\n"
     ]
    },
    {
     "name": "stderr",
     "output_type": "stream",
     "text": [
      "C:\\Users\\Harry\\AppData\\Local\\Temp\\ipykernel_35052\\75057381.py:97: FutureWarning: The frame.append method is deprecated and will be removed from pandas in a future version. Use pandas.concat instead.\n",
      "  df = df.append({'Address':address, 'Price':price, 'Eircode': eircode, 'Dwelling Type':dwelling_type, 'Bedrooms':bedrooms, 'Bathrooms':bathrooms, 'Last Refreshed':refreshed, 'Floor Area in sqm':floor_area, 'Facilities':facilities, 'Description':description, 'Directions':directions, 'Ber Details':ber_details, 'Accommodation':accommodation, 'Features':features}, ignore_index = True)\n"
     ]
    },
    {
     "name": "stdout",
     "output_type": "stream",
     "text": [
      "DataFrame length:  1247\n"
     ]
    },
    {
     "name": "stderr",
     "output_type": "stream",
     "text": [
      "C:\\Users\\Harry\\AppData\\Local\\Temp\\ipykernel_35052\\75057381.py:97: FutureWarning: The frame.append method is deprecated and will be removed from pandas in a future version. Use pandas.concat instead.\n",
      "  df = df.append({'Address':address, 'Price':price, 'Eircode': eircode, 'Dwelling Type':dwelling_type, 'Bedrooms':bedrooms, 'Bathrooms':bathrooms, 'Last Refreshed':refreshed, 'Floor Area in sqm':floor_area, 'Facilities':facilities, 'Description':description, 'Directions':directions, 'Ber Details':ber_details, 'Accommodation':accommodation, 'Features':features}, ignore_index = True)\n"
     ]
    },
    {
     "name": "stdout",
     "output_type": "stream",
     "text": [
      "DataFrame length:  1248\n"
     ]
    },
    {
     "name": "stderr",
     "output_type": "stream",
     "text": [
      "C:\\Users\\Harry\\AppData\\Local\\Temp\\ipykernel_35052\\75057381.py:97: FutureWarning: The frame.append method is deprecated and will be removed from pandas in a future version. Use pandas.concat instead.\n",
      "  df = df.append({'Address':address, 'Price':price, 'Eircode': eircode, 'Dwelling Type':dwelling_type, 'Bedrooms':bedrooms, 'Bathrooms':bathrooms, 'Last Refreshed':refreshed, 'Floor Area in sqm':floor_area, 'Facilities':facilities, 'Description':description, 'Directions':directions, 'Ber Details':ber_details, 'Accommodation':accommodation, 'Features':features}, ignore_index = True)\n"
     ]
    },
    {
     "name": "stdout",
     "output_type": "stream",
     "text": [
      "DataFrame length:  1249\n"
     ]
    },
    {
     "name": "stderr",
     "output_type": "stream",
     "text": [
      "C:\\Users\\Harry\\AppData\\Local\\Temp\\ipykernel_35052\\75057381.py:97: FutureWarning: The frame.append method is deprecated and will be removed from pandas in a future version. Use pandas.concat instead.\n",
      "  df = df.append({'Address':address, 'Price':price, 'Eircode': eircode, 'Dwelling Type':dwelling_type, 'Bedrooms':bedrooms, 'Bathrooms':bathrooms, 'Last Refreshed':refreshed, 'Floor Area in sqm':floor_area, 'Facilities':facilities, 'Description':description, 'Directions':directions, 'Ber Details':ber_details, 'Accommodation':accommodation, 'Features':features}, ignore_index = True)\n"
     ]
    },
    {
     "name": "stdout",
     "output_type": "stream",
     "text": [
      "DataFrame length:  1250\n"
     ]
    },
    {
     "name": "stderr",
     "output_type": "stream",
     "text": [
      "C:\\Users\\Harry\\AppData\\Local\\Temp\\ipykernel_35052\\75057381.py:97: FutureWarning: The frame.append method is deprecated and will be removed from pandas in a future version. Use pandas.concat instead.\n",
      "  df = df.append({'Address':address, 'Price':price, 'Eircode': eircode, 'Dwelling Type':dwelling_type, 'Bedrooms':bedrooms, 'Bathrooms':bathrooms, 'Last Refreshed':refreshed, 'Floor Area in sqm':floor_area, 'Facilities':facilities, 'Description':description, 'Directions':directions, 'Ber Details':ber_details, 'Accommodation':accommodation, 'Features':features}, ignore_index = True)\n"
     ]
    },
    {
     "name": "stdout",
     "output_type": "stream",
     "text": [
      "DataFrame length:  1251\n"
     ]
    },
    {
     "name": "stderr",
     "output_type": "stream",
     "text": [
      "C:\\Users\\Harry\\AppData\\Local\\Temp\\ipykernel_35052\\75057381.py:97: FutureWarning: The frame.append method is deprecated and will be removed from pandas in a future version. Use pandas.concat instead.\n",
      "  df = df.append({'Address':address, 'Price':price, 'Eircode': eircode, 'Dwelling Type':dwelling_type, 'Bedrooms':bedrooms, 'Bathrooms':bathrooms, 'Last Refreshed':refreshed, 'Floor Area in sqm':floor_area, 'Facilities':facilities, 'Description':description, 'Directions':directions, 'Ber Details':ber_details, 'Accommodation':accommodation, 'Features':features}, ignore_index = True)\n"
     ]
    },
    {
     "name": "stdout",
     "output_type": "stream",
     "text": [
      "DataFrame length:  1252\n"
     ]
    },
    {
     "name": "stderr",
     "output_type": "stream",
     "text": [
      "C:\\Users\\Harry\\AppData\\Local\\Temp\\ipykernel_35052\\75057381.py:97: FutureWarning: The frame.append method is deprecated and will be removed from pandas in a future version. Use pandas.concat instead.\n",
      "  df = df.append({'Address':address, 'Price':price, 'Eircode': eircode, 'Dwelling Type':dwelling_type, 'Bedrooms':bedrooms, 'Bathrooms':bathrooms, 'Last Refreshed':refreshed, 'Floor Area in sqm':floor_area, 'Facilities':facilities, 'Description':description, 'Directions':directions, 'Ber Details':ber_details, 'Accommodation':accommodation, 'Features':features}, ignore_index = True)\n"
     ]
    },
    {
     "name": "stdout",
     "output_type": "stream",
     "text": [
      "DataFrame length:  1253\n"
     ]
    },
    {
     "name": "stderr",
     "output_type": "stream",
     "text": [
      "C:\\Users\\Harry\\AppData\\Local\\Temp\\ipykernel_35052\\75057381.py:97: FutureWarning: The frame.append method is deprecated and will be removed from pandas in a future version. Use pandas.concat instead.\n",
      "  df = df.append({'Address':address, 'Price':price, 'Eircode': eircode, 'Dwelling Type':dwelling_type, 'Bedrooms':bedrooms, 'Bathrooms':bathrooms, 'Last Refreshed':refreshed, 'Floor Area in sqm':floor_area, 'Facilities':facilities, 'Description':description, 'Directions':directions, 'Ber Details':ber_details, 'Accommodation':accommodation, 'Features':features}, ignore_index = True)\n"
     ]
    },
    {
     "name": "stdout",
     "output_type": "stream",
     "text": [
      "DataFrame length:  1254\n"
     ]
    },
    {
     "name": "stderr",
     "output_type": "stream",
     "text": [
      "C:\\Users\\Harry\\AppData\\Local\\Temp\\ipykernel_35052\\75057381.py:97: FutureWarning: The frame.append method is deprecated and will be removed from pandas in a future version. Use pandas.concat instead.\n",
      "  df = df.append({'Address':address, 'Price':price, 'Eircode': eircode, 'Dwelling Type':dwelling_type, 'Bedrooms':bedrooms, 'Bathrooms':bathrooms, 'Last Refreshed':refreshed, 'Floor Area in sqm':floor_area, 'Facilities':facilities, 'Description':description, 'Directions':directions, 'Ber Details':ber_details, 'Accommodation':accommodation, 'Features':features}, ignore_index = True)\n"
     ]
    },
    {
     "name": "stdout",
     "output_type": "stream",
     "text": [
      "DataFrame length:  1255\n"
     ]
    },
    {
     "name": "stderr",
     "output_type": "stream",
     "text": [
      "C:\\Users\\Harry\\AppData\\Local\\Temp\\ipykernel_35052\\75057381.py:97: FutureWarning: The frame.append method is deprecated and will be removed from pandas in a future version. Use pandas.concat instead.\n",
      "  df = df.append({'Address':address, 'Price':price, 'Eircode': eircode, 'Dwelling Type':dwelling_type, 'Bedrooms':bedrooms, 'Bathrooms':bathrooms, 'Last Refreshed':refreshed, 'Floor Area in sqm':floor_area, 'Facilities':facilities, 'Description':description, 'Directions':directions, 'Ber Details':ber_details, 'Accommodation':accommodation, 'Features':features}, ignore_index = True)\n"
     ]
    },
    {
     "name": "stdout",
     "output_type": "stream",
     "text": [
      "DataFrame length:  1256\n"
     ]
    },
    {
     "name": "stderr",
     "output_type": "stream",
     "text": [
      "C:\\Users\\Harry\\AppData\\Local\\Temp\\ipykernel_35052\\75057381.py:97: FutureWarning: The frame.append method is deprecated and will be removed from pandas in a future version. Use pandas.concat instead.\n",
      "  df = df.append({'Address':address, 'Price':price, 'Eircode': eircode, 'Dwelling Type':dwelling_type, 'Bedrooms':bedrooms, 'Bathrooms':bathrooms, 'Last Refreshed':refreshed, 'Floor Area in sqm':floor_area, 'Facilities':facilities, 'Description':description, 'Directions':directions, 'Ber Details':ber_details, 'Accommodation':accommodation, 'Features':features}, ignore_index = True)\n"
     ]
    },
    {
     "name": "stdout",
     "output_type": "stream",
     "text": [
      "DataFrame length:  1257\n"
     ]
    },
    {
     "name": "stderr",
     "output_type": "stream",
     "text": [
      "C:\\Users\\Harry\\AppData\\Local\\Temp\\ipykernel_35052\\75057381.py:97: FutureWarning: The frame.append method is deprecated and will be removed from pandas in a future version. Use pandas.concat instead.\n",
      "  df = df.append({'Address':address, 'Price':price, 'Eircode': eircode, 'Dwelling Type':dwelling_type, 'Bedrooms':bedrooms, 'Bathrooms':bathrooms, 'Last Refreshed':refreshed, 'Floor Area in sqm':floor_area, 'Facilities':facilities, 'Description':description, 'Directions':directions, 'Ber Details':ber_details, 'Accommodation':accommodation, 'Features':features}, ignore_index = True)\n"
     ]
    },
    {
     "name": "stdout",
     "output_type": "stream",
     "text": [
      "DataFrame length:  1258\n"
     ]
    },
    {
     "name": "stderr",
     "output_type": "stream",
     "text": [
      "C:\\Users\\Harry\\AppData\\Local\\Temp\\ipykernel_35052\\75057381.py:97: FutureWarning: The frame.append method is deprecated and will be removed from pandas in a future version. Use pandas.concat instead.\n",
      "  df = df.append({'Address':address, 'Price':price, 'Eircode': eircode, 'Dwelling Type':dwelling_type, 'Bedrooms':bedrooms, 'Bathrooms':bathrooms, 'Last Refreshed':refreshed, 'Floor Area in sqm':floor_area, 'Facilities':facilities, 'Description':description, 'Directions':directions, 'Ber Details':ber_details, 'Accommodation':accommodation, 'Features':features}, ignore_index = True)\n"
     ]
    },
    {
     "name": "stdout",
     "output_type": "stream",
     "text": [
      "DataFrame length:  1259\n"
     ]
    },
    {
     "name": "stderr",
     "output_type": "stream",
     "text": [
      "C:\\Users\\Harry\\AppData\\Local\\Temp\\ipykernel_35052\\75057381.py:97: FutureWarning: The frame.append method is deprecated and will be removed from pandas in a future version. Use pandas.concat instead.\n",
      "  df = df.append({'Address':address, 'Price':price, 'Eircode': eircode, 'Dwelling Type':dwelling_type, 'Bedrooms':bedrooms, 'Bathrooms':bathrooms, 'Last Refreshed':refreshed, 'Floor Area in sqm':floor_area, 'Facilities':facilities, 'Description':description, 'Directions':directions, 'Ber Details':ber_details, 'Accommodation':accommodation, 'Features':features}, ignore_index = True)\n"
     ]
    },
    {
     "name": "stdout",
     "output_type": "stream",
     "text": [
      "DataFrame length:  1260\n"
     ]
    },
    {
     "name": "stderr",
     "output_type": "stream",
     "text": [
      "C:\\Users\\Harry\\AppData\\Local\\Temp\\ipykernel_35052\\75057381.py:97: FutureWarning: The frame.append method is deprecated and will be removed from pandas in a future version. Use pandas.concat instead.\n",
      "  df = df.append({'Address':address, 'Price':price, 'Eircode': eircode, 'Dwelling Type':dwelling_type, 'Bedrooms':bedrooms, 'Bathrooms':bathrooms, 'Last Refreshed':refreshed, 'Floor Area in sqm':floor_area, 'Facilities':facilities, 'Description':description, 'Directions':directions, 'Ber Details':ber_details, 'Accommodation':accommodation, 'Features':features}, ignore_index = True)\n"
     ]
    },
    {
     "name": "stdout",
     "output_type": "stream",
     "text": [
      "DataFrame length:  1261\n"
     ]
    },
    {
     "name": "stderr",
     "output_type": "stream",
     "text": [
      "C:\\Users\\Harry\\AppData\\Local\\Temp\\ipykernel_35052\\75057381.py:97: FutureWarning: The frame.append method is deprecated and will be removed from pandas in a future version. Use pandas.concat instead.\n",
      "  df = df.append({'Address':address, 'Price':price, 'Eircode': eircode, 'Dwelling Type':dwelling_type, 'Bedrooms':bedrooms, 'Bathrooms':bathrooms, 'Last Refreshed':refreshed, 'Floor Area in sqm':floor_area, 'Facilities':facilities, 'Description':description, 'Directions':directions, 'Ber Details':ber_details, 'Accommodation':accommodation, 'Features':features}, ignore_index = True)\n"
     ]
    },
    {
     "name": "stdout",
     "output_type": "stream",
     "text": [
      "DataFrame length:  1262\n"
     ]
    },
    {
     "name": "stderr",
     "output_type": "stream",
     "text": [
      "C:\\Users\\Harry\\AppData\\Local\\Temp\\ipykernel_35052\\75057381.py:97: FutureWarning: The frame.append method is deprecated and will be removed from pandas in a future version. Use pandas.concat instead.\n",
      "  df = df.append({'Address':address, 'Price':price, 'Eircode': eircode, 'Dwelling Type':dwelling_type, 'Bedrooms':bedrooms, 'Bathrooms':bathrooms, 'Last Refreshed':refreshed, 'Floor Area in sqm':floor_area, 'Facilities':facilities, 'Description':description, 'Directions':directions, 'Ber Details':ber_details, 'Accommodation':accommodation, 'Features':features}, ignore_index = True)\n"
     ]
    },
    {
     "name": "stdout",
     "output_type": "stream",
     "text": [
      "DataFrame length:  1263\n"
     ]
    },
    {
     "name": "stderr",
     "output_type": "stream",
     "text": [
      "C:\\Users\\Harry\\AppData\\Local\\Temp\\ipykernel_35052\\75057381.py:97: FutureWarning: The frame.append method is deprecated and will be removed from pandas in a future version. Use pandas.concat instead.\n",
      "  df = df.append({'Address':address, 'Price':price, 'Eircode': eircode, 'Dwelling Type':dwelling_type, 'Bedrooms':bedrooms, 'Bathrooms':bathrooms, 'Last Refreshed':refreshed, 'Floor Area in sqm':floor_area, 'Facilities':facilities, 'Description':description, 'Directions':directions, 'Ber Details':ber_details, 'Accommodation':accommodation, 'Features':features}, ignore_index = True)\n"
     ]
    },
    {
     "name": "stdout",
     "output_type": "stream",
     "text": [
      "DataFrame length:  1264\n"
     ]
    },
    {
     "name": "stderr",
     "output_type": "stream",
     "text": [
      "C:\\Users\\Harry\\AppData\\Local\\Temp\\ipykernel_35052\\75057381.py:97: FutureWarning: The frame.append method is deprecated and will be removed from pandas in a future version. Use pandas.concat instead.\n",
      "  df = df.append({'Address':address, 'Price':price, 'Eircode': eircode, 'Dwelling Type':dwelling_type, 'Bedrooms':bedrooms, 'Bathrooms':bathrooms, 'Last Refreshed':refreshed, 'Floor Area in sqm':floor_area, 'Facilities':facilities, 'Description':description, 'Directions':directions, 'Ber Details':ber_details, 'Accommodation':accommodation, 'Features':features}, ignore_index = True)\n"
     ]
    },
    {
     "name": "stdout",
     "output_type": "stream",
     "text": [
      "DataFrame length:  1265\n"
     ]
    },
    {
     "name": "stderr",
     "output_type": "stream",
     "text": [
      "C:\\Users\\Harry\\AppData\\Local\\Temp\\ipykernel_35052\\75057381.py:97: FutureWarning: The frame.append method is deprecated and will be removed from pandas in a future version. Use pandas.concat instead.\n",
      "  df = df.append({'Address':address, 'Price':price, 'Eircode': eircode, 'Dwelling Type':dwelling_type, 'Bedrooms':bedrooms, 'Bathrooms':bathrooms, 'Last Refreshed':refreshed, 'Floor Area in sqm':floor_area, 'Facilities':facilities, 'Description':description, 'Directions':directions, 'Ber Details':ber_details, 'Accommodation':accommodation, 'Features':features}, ignore_index = True)\n"
     ]
    },
    {
     "name": "stdout",
     "output_type": "stream",
     "text": [
      "DataFrame length:  1266\n"
     ]
    },
    {
     "name": "stderr",
     "output_type": "stream",
     "text": [
      "C:\\Users\\Harry\\AppData\\Local\\Temp\\ipykernel_35052\\75057381.py:97: FutureWarning: The frame.append method is deprecated and will be removed from pandas in a future version. Use pandas.concat instead.\n",
      "  df = df.append({'Address':address, 'Price':price, 'Eircode': eircode, 'Dwelling Type':dwelling_type, 'Bedrooms':bedrooms, 'Bathrooms':bathrooms, 'Last Refreshed':refreshed, 'Floor Area in sqm':floor_area, 'Facilities':facilities, 'Description':description, 'Directions':directions, 'Ber Details':ber_details, 'Accommodation':accommodation, 'Features':features}, ignore_index = True)\n"
     ]
    },
    {
     "name": "stdout",
     "output_type": "stream",
     "text": [
      "DataFrame length:  1267\n"
     ]
    },
    {
     "name": "stderr",
     "output_type": "stream",
     "text": [
      "C:\\Users\\Harry\\AppData\\Local\\Temp\\ipykernel_35052\\75057381.py:97: FutureWarning: The frame.append method is deprecated and will be removed from pandas in a future version. Use pandas.concat instead.\n",
      "  df = df.append({'Address':address, 'Price':price, 'Eircode': eircode, 'Dwelling Type':dwelling_type, 'Bedrooms':bedrooms, 'Bathrooms':bathrooms, 'Last Refreshed':refreshed, 'Floor Area in sqm':floor_area, 'Facilities':facilities, 'Description':description, 'Directions':directions, 'Ber Details':ber_details, 'Accommodation':accommodation, 'Features':features}, ignore_index = True)\n"
     ]
    },
    {
     "name": "stdout",
     "output_type": "stream",
     "text": [
      "DataFrame length:  1268\n"
     ]
    },
    {
     "name": "stderr",
     "output_type": "stream",
     "text": [
      "C:\\Users\\Harry\\AppData\\Local\\Temp\\ipykernel_35052\\75057381.py:97: FutureWarning: The frame.append method is deprecated and will be removed from pandas in a future version. Use pandas.concat instead.\n",
      "  df = df.append({'Address':address, 'Price':price, 'Eircode': eircode, 'Dwelling Type':dwelling_type, 'Bedrooms':bedrooms, 'Bathrooms':bathrooms, 'Last Refreshed':refreshed, 'Floor Area in sqm':floor_area, 'Facilities':facilities, 'Description':description, 'Directions':directions, 'Ber Details':ber_details, 'Accommodation':accommodation, 'Features':features}, ignore_index = True)\n"
     ]
    },
    {
     "name": "stdout",
     "output_type": "stream",
     "text": [
      "DataFrame length:  1269\n"
     ]
    },
    {
     "name": "stderr",
     "output_type": "stream",
     "text": [
      "C:\\Users\\Harry\\AppData\\Local\\Temp\\ipykernel_35052\\75057381.py:97: FutureWarning: The frame.append method is deprecated and will be removed from pandas in a future version. Use pandas.concat instead.\n",
      "  df = df.append({'Address':address, 'Price':price, 'Eircode': eircode, 'Dwelling Type':dwelling_type, 'Bedrooms':bedrooms, 'Bathrooms':bathrooms, 'Last Refreshed':refreshed, 'Floor Area in sqm':floor_area, 'Facilities':facilities, 'Description':description, 'Directions':directions, 'Ber Details':ber_details, 'Accommodation':accommodation, 'Features':features}, ignore_index = True)\n"
     ]
    },
    {
     "name": "stdout",
     "output_type": "stream",
     "text": [
      "DataFrame length:  1270\n"
     ]
    },
    {
     "name": "stderr",
     "output_type": "stream",
     "text": [
      "C:\\Users\\Harry\\AppData\\Local\\Temp\\ipykernel_35052\\75057381.py:97: FutureWarning: The frame.append method is deprecated and will be removed from pandas in a future version. Use pandas.concat instead.\n",
      "  df = df.append({'Address':address, 'Price':price, 'Eircode': eircode, 'Dwelling Type':dwelling_type, 'Bedrooms':bedrooms, 'Bathrooms':bathrooms, 'Last Refreshed':refreshed, 'Floor Area in sqm':floor_area, 'Facilities':facilities, 'Description':description, 'Directions':directions, 'Ber Details':ber_details, 'Accommodation':accommodation, 'Features':features}, ignore_index = True)\n"
     ]
    },
    {
     "name": "stdout",
     "output_type": "stream",
     "text": [
      "DataFrame length:  1271\n"
     ]
    },
    {
     "name": "stderr",
     "output_type": "stream",
     "text": [
      "C:\\Users\\Harry\\AppData\\Local\\Temp\\ipykernel_35052\\75057381.py:97: FutureWarning: The frame.append method is deprecated and will be removed from pandas in a future version. Use pandas.concat instead.\n",
      "  df = df.append({'Address':address, 'Price':price, 'Eircode': eircode, 'Dwelling Type':dwelling_type, 'Bedrooms':bedrooms, 'Bathrooms':bathrooms, 'Last Refreshed':refreshed, 'Floor Area in sqm':floor_area, 'Facilities':facilities, 'Description':description, 'Directions':directions, 'Ber Details':ber_details, 'Accommodation':accommodation, 'Features':features}, ignore_index = True)\n"
     ]
    },
    {
     "name": "stdout",
     "output_type": "stream",
     "text": [
      "DataFrame length:  1272\n"
     ]
    },
    {
     "name": "stderr",
     "output_type": "stream",
     "text": [
      "C:\\Users\\Harry\\AppData\\Local\\Temp\\ipykernel_35052\\75057381.py:97: FutureWarning: The frame.append method is deprecated and will be removed from pandas in a future version. Use pandas.concat instead.\n",
      "  df = df.append({'Address':address, 'Price':price, 'Eircode': eircode, 'Dwelling Type':dwelling_type, 'Bedrooms':bedrooms, 'Bathrooms':bathrooms, 'Last Refreshed':refreshed, 'Floor Area in sqm':floor_area, 'Facilities':facilities, 'Description':description, 'Directions':directions, 'Ber Details':ber_details, 'Accommodation':accommodation, 'Features':features}, ignore_index = True)\n"
     ]
    },
    {
     "name": "stdout",
     "output_type": "stream",
     "text": [
      "DataFrame length:  1273\n"
     ]
    },
    {
     "name": "stderr",
     "output_type": "stream",
     "text": [
      "C:\\Users\\Harry\\AppData\\Local\\Temp\\ipykernel_35052\\75057381.py:97: FutureWarning: The frame.append method is deprecated and will be removed from pandas in a future version. Use pandas.concat instead.\n",
      "  df = df.append({'Address':address, 'Price':price, 'Eircode': eircode, 'Dwelling Type':dwelling_type, 'Bedrooms':bedrooms, 'Bathrooms':bathrooms, 'Last Refreshed':refreshed, 'Floor Area in sqm':floor_area, 'Facilities':facilities, 'Description':description, 'Directions':directions, 'Ber Details':ber_details, 'Accommodation':accommodation, 'Features':features}, ignore_index = True)\n"
     ]
    },
    {
     "name": "stdout",
     "output_type": "stream",
     "text": [
      "DataFrame length:  1274\n"
     ]
    },
    {
     "name": "stderr",
     "output_type": "stream",
     "text": [
      "C:\\Users\\Harry\\AppData\\Local\\Temp\\ipykernel_35052\\75057381.py:97: FutureWarning: The frame.append method is deprecated and will be removed from pandas in a future version. Use pandas.concat instead.\n",
      "  df = df.append({'Address':address, 'Price':price, 'Eircode': eircode, 'Dwelling Type':dwelling_type, 'Bedrooms':bedrooms, 'Bathrooms':bathrooms, 'Last Refreshed':refreshed, 'Floor Area in sqm':floor_area, 'Facilities':facilities, 'Description':description, 'Directions':directions, 'Ber Details':ber_details, 'Accommodation':accommodation, 'Features':features}, ignore_index = True)\n"
     ]
    },
    {
     "name": "stdout",
     "output_type": "stream",
     "text": [
      "DataFrame length:  1275\n"
     ]
    },
    {
     "name": "stderr",
     "output_type": "stream",
     "text": [
      "C:\\Users\\Harry\\AppData\\Local\\Temp\\ipykernel_35052\\75057381.py:97: FutureWarning: The frame.append method is deprecated and will be removed from pandas in a future version. Use pandas.concat instead.\n",
      "  df = df.append({'Address':address, 'Price':price, 'Eircode': eircode, 'Dwelling Type':dwelling_type, 'Bedrooms':bedrooms, 'Bathrooms':bathrooms, 'Last Refreshed':refreshed, 'Floor Area in sqm':floor_area, 'Facilities':facilities, 'Description':description, 'Directions':directions, 'Ber Details':ber_details, 'Accommodation':accommodation, 'Features':features}, ignore_index = True)\n"
     ]
    },
    {
     "name": "stdout",
     "output_type": "stream",
     "text": [
      "DataFrame length:  1276\n"
     ]
    },
    {
     "name": "stderr",
     "output_type": "stream",
     "text": [
      "C:\\Users\\Harry\\AppData\\Local\\Temp\\ipykernel_35052\\75057381.py:97: FutureWarning: The frame.append method is deprecated and will be removed from pandas in a future version. Use pandas.concat instead.\n",
      "  df = df.append({'Address':address, 'Price':price, 'Eircode': eircode, 'Dwelling Type':dwelling_type, 'Bedrooms':bedrooms, 'Bathrooms':bathrooms, 'Last Refreshed':refreshed, 'Floor Area in sqm':floor_area, 'Facilities':facilities, 'Description':description, 'Directions':directions, 'Ber Details':ber_details, 'Accommodation':accommodation, 'Features':features}, ignore_index = True)\n"
     ]
    },
    {
     "name": "stdout",
     "output_type": "stream",
     "text": [
      "DataFrame length:  1277\n"
     ]
    },
    {
     "name": "stderr",
     "output_type": "stream",
     "text": [
      "C:\\Users\\Harry\\AppData\\Local\\Temp\\ipykernel_35052\\75057381.py:97: FutureWarning: The frame.append method is deprecated and will be removed from pandas in a future version. Use pandas.concat instead.\n",
      "  df = df.append({'Address':address, 'Price':price, 'Eircode': eircode, 'Dwelling Type':dwelling_type, 'Bedrooms':bedrooms, 'Bathrooms':bathrooms, 'Last Refreshed':refreshed, 'Floor Area in sqm':floor_area, 'Facilities':facilities, 'Description':description, 'Directions':directions, 'Ber Details':ber_details, 'Accommodation':accommodation, 'Features':features}, ignore_index = True)\n"
     ]
    },
    {
     "name": "stdout",
     "output_type": "stream",
     "text": [
      "DataFrame length:  1278\n"
     ]
    },
    {
     "name": "stderr",
     "output_type": "stream",
     "text": [
      "C:\\Users\\Harry\\AppData\\Local\\Temp\\ipykernel_35052\\75057381.py:97: FutureWarning: The frame.append method is deprecated and will be removed from pandas in a future version. Use pandas.concat instead.\n",
      "  df = df.append({'Address':address, 'Price':price, 'Eircode': eircode, 'Dwelling Type':dwelling_type, 'Bedrooms':bedrooms, 'Bathrooms':bathrooms, 'Last Refreshed':refreshed, 'Floor Area in sqm':floor_area, 'Facilities':facilities, 'Description':description, 'Directions':directions, 'Ber Details':ber_details, 'Accommodation':accommodation, 'Features':features}, ignore_index = True)\n"
     ]
    },
    {
     "name": "stdout",
     "output_type": "stream",
     "text": [
      "DataFrame length:  1279\n"
     ]
    },
    {
     "name": "stderr",
     "output_type": "stream",
     "text": [
      "C:\\Users\\Harry\\AppData\\Local\\Temp\\ipykernel_35052\\75057381.py:97: FutureWarning: The frame.append method is deprecated and will be removed from pandas in a future version. Use pandas.concat instead.\n",
      "  df = df.append({'Address':address, 'Price':price, 'Eircode': eircode, 'Dwelling Type':dwelling_type, 'Bedrooms':bedrooms, 'Bathrooms':bathrooms, 'Last Refreshed':refreshed, 'Floor Area in sqm':floor_area, 'Facilities':facilities, 'Description':description, 'Directions':directions, 'Ber Details':ber_details, 'Accommodation':accommodation, 'Features':features}, ignore_index = True)\n"
     ]
    },
    {
     "name": "stdout",
     "output_type": "stream",
     "text": [
      "DataFrame length:  1280\n"
     ]
    },
    {
     "name": "stderr",
     "output_type": "stream",
     "text": [
      "C:\\Users\\Harry\\AppData\\Local\\Temp\\ipykernel_35052\\75057381.py:97: FutureWarning: The frame.append method is deprecated and will be removed from pandas in a future version. Use pandas.concat instead.\n",
      "  df = df.append({'Address':address, 'Price':price, 'Eircode': eircode, 'Dwelling Type':dwelling_type, 'Bedrooms':bedrooms, 'Bathrooms':bathrooms, 'Last Refreshed':refreshed, 'Floor Area in sqm':floor_area, 'Facilities':facilities, 'Description':description, 'Directions':directions, 'Ber Details':ber_details, 'Accommodation':accommodation, 'Features':features}, ignore_index = True)\n"
     ]
    },
    {
     "name": "stdout",
     "output_type": "stream",
     "text": [
      "DataFrame length:  1281\n"
     ]
    },
    {
     "name": "stderr",
     "output_type": "stream",
     "text": [
      "C:\\Users\\Harry\\AppData\\Local\\Temp\\ipykernel_35052\\75057381.py:97: FutureWarning: The frame.append method is deprecated and will be removed from pandas in a future version. Use pandas.concat instead.\n",
      "  df = df.append({'Address':address, 'Price':price, 'Eircode': eircode, 'Dwelling Type':dwelling_type, 'Bedrooms':bedrooms, 'Bathrooms':bathrooms, 'Last Refreshed':refreshed, 'Floor Area in sqm':floor_area, 'Facilities':facilities, 'Description':description, 'Directions':directions, 'Ber Details':ber_details, 'Accommodation':accommodation, 'Features':features}, ignore_index = True)\n"
     ]
    },
    {
     "name": "stdout",
     "output_type": "stream",
     "text": [
      "DataFrame length:  1282\n"
     ]
    },
    {
     "name": "stderr",
     "output_type": "stream",
     "text": [
      "C:\\Users\\Harry\\AppData\\Local\\Temp\\ipykernel_35052\\75057381.py:97: FutureWarning: The frame.append method is deprecated and will be removed from pandas in a future version. Use pandas.concat instead.\n",
      "  df = df.append({'Address':address, 'Price':price, 'Eircode': eircode, 'Dwelling Type':dwelling_type, 'Bedrooms':bedrooms, 'Bathrooms':bathrooms, 'Last Refreshed':refreshed, 'Floor Area in sqm':floor_area, 'Facilities':facilities, 'Description':description, 'Directions':directions, 'Ber Details':ber_details, 'Accommodation':accommodation, 'Features':features}, ignore_index = True)\n"
     ]
    },
    {
     "name": "stdout",
     "output_type": "stream",
     "text": [
      "DataFrame length:  1283\n"
     ]
    },
    {
     "name": "stderr",
     "output_type": "stream",
     "text": [
      "C:\\Users\\Harry\\AppData\\Local\\Temp\\ipykernel_35052\\75057381.py:97: FutureWarning: The frame.append method is deprecated and will be removed from pandas in a future version. Use pandas.concat instead.\n",
      "  df = df.append({'Address':address, 'Price':price, 'Eircode': eircode, 'Dwelling Type':dwelling_type, 'Bedrooms':bedrooms, 'Bathrooms':bathrooms, 'Last Refreshed':refreshed, 'Floor Area in sqm':floor_area, 'Facilities':facilities, 'Description':description, 'Directions':directions, 'Ber Details':ber_details, 'Accommodation':accommodation, 'Features':features}, ignore_index = True)\n"
     ]
    },
    {
     "name": "stdout",
     "output_type": "stream",
     "text": [
      "DataFrame length:  1284\n"
     ]
    },
    {
     "name": "stderr",
     "output_type": "stream",
     "text": [
      "C:\\Users\\Harry\\AppData\\Local\\Temp\\ipykernel_35052\\75057381.py:97: FutureWarning: The frame.append method is deprecated and will be removed from pandas in a future version. Use pandas.concat instead.\n",
      "  df = df.append({'Address':address, 'Price':price, 'Eircode': eircode, 'Dwelling Type':dwelling_type, 'Bedrooms':bedrooms, 'Bathrooms':bathrooms, 'Last Refreshed':refreshed, 'Floor Area in sqm':floor_area, 'Facilities':facilities, 'Description':description, 'Directions':directions, 'Ber Details':ber_details, 'Accommodation':accommodation, 'Features':features}, ignore_index = True)\n"
     ]
    },
    {
     "name": "stdout",
     "output_type": "stream",
     "text": [
      "DataFrame length:  1285\n"
     ]
    },
    {
     "name": "stderr",
     "output_type": "stream",
     "text": [
      "C:\\Users\\Harry\\AppData\\Local\\Temp\\ipykernel_35052\\75057381.py:97: FutureWarning: The frame.append method is deprecated and will be removed from pandas in a future version. Use pandas.concat instead.\n",
      "  df = df.append({'Address':address, 'Price':price, 'Eircode': eircode, 'Dwelling Type':dwelling_type, 'Bedrooms':bedrooms, 'Bathrooms':bathrooms, 'Last Refreshed':refreshed, 'Floor Area in sqm':floor_area, 'Facilities':facilities, 'Description':description, 'Directions':directions, 'Ber Details':ber_details, 'Accommodation':accommodation, 'Features':features}, ignore_index = True)\n"
     ]
    },
    {
     "name": "stdout",
     "output_type": "stream",
     "text": [
      "DataFrame length:  1286\n"
     ]
    },
    {
     "name": "stderr",
     "output_type": "stream",
     "text": [
      "C:\\Users\\Harry\\AppData\\Local\\Temp\\ipykernel_35052\\75057381.py:97: FutureWarning: The frame.append method is deprecated and will be removed from pandas in a future version. Use pandas.concat instead.\n",
      "  df = df.append({'Address':address, 'Price':price, 'Eircode': eircode, 'Dwelling Type':dwelling_type, 'Bedrooms':bedrooms, 'Bathrooms':bathrooms, 'Last Refreshed':refreshed, 'Floor Area in sqm':floor_area, 'Facilities':facilities, 'Description':description, 'Directions':directions, 'Ber Details':ber_details, 'Accommodation':accommodation, 'Features':features}, ignore_index = True)\n"
     ]
    },
    {
     "name": "stdout",
     "output_type": "stream",
     "text": [
      "DataFrame length:  1287\n"
     ]
    },
    {
     "name": "stderr",
     "output_type": "stream",
     "text": [
      "C:\\Users\\Harry\\AppData\\Local\\Temp\\ipykernel_35052\\75057381.py:97: FutureWarning: The frame.append method is deprecated and will be removed from pandas in a future version. Use pandas.concat instead.\n",
      "  df = df.append({'Address':address, 'Price':price, 'Eircode': eircode, 'Dwelling Type':dwelling_type, 'Bedrooms':bedrooms, 'Bathrooms':bathrooms, 'Last Refreshed':refreshed, 'Floor Area in sqm':floor_area, 'Facilities':facilities, 'Description':description, 'Directions':directions, 'Ber Details':ber_details, 'Accommodation':accommodation, 'Features':features}, ignore_index = True)\n"
     ]
    },
    {
     "name": "stdout",
     "output_type": "stream",
     "text": [
      "DataFrame length:  1288\n"
     ]
    },
    {
     "name": "stderr",
     "output_type": "stream",
     "text": [
      "C:\\Users\\Harry\\AppData\\Local\\Temp\\ipykernel_35052\\75057381.py:97: FutureWarning: The frame.append method is deprecated and will be removed from pandas in a future version. Use pandas.concat instead.\n",
      "  df = df.append({'Address':address, 'Price':price, 'Eircode': eircode, 'Dwelling Type':dwelling_type, 'Bedrooms':bedrooms, 'Bathrooms':bathrooms, 'Last Refreshed':refreshed, 'Floor Area in sqm':floor_area, 'Facilities':facilities, 'Description':description, 'Directions':directions, 'Ber Details':ber_details, 'Accommodation':accommodation, 'Features':features}, ignore_index = True)\n"
     ]
    },
    {
     "name": "stdout",
     "output_type": "stream",
     "text": [
      "DataFrame length:  1289\n"
     ]
    },
    {
     "name": "stderr",
     "output_type": "stream",
     "text": [
      "C:\\Users\\Harry\\AppData\\Local\\Temp\\ipykernel_35052\\75057381.py:97: FutureWarning: The frame.append method is deprecated and will be removed from pandas in a future version. Use pandas.concat instead.\n",
      "  df = df.append({'Address':address, 'Price':price, 'Eircode': eircode, 'Dwelling Type':dwelling_type, 'Bedrooms':bedrooms, 'Bathrooms':bathrooms, 'Last Refreshed':refreshed, 'Floor Area in sqm':floor_area, 'Facilities':facilities, 'Description':description, 'Directions':directions, 'Ber Details':ber_details, 'Accommodation':accommodation, 'Features':features}, ignore_index = True)\n"
     ]
    },
    {
     "name": "stdout",
     "output_type": "stream",
     "text": [
      "DataFrame length:  1290\n"
     ]
    },
    {
     "name": "stderr",
     "output_type": "stream",
     "text": [
      "C:\\Users\\Harry\\AppData\\Local\\Temp\\ipykernel_35052\\75057381.py:97: FutureWarning: The frame.append method is deprecated and will be removed from pandas in a future version. Use pandas.concat instead.\n",
      "  df = df.append({'Address':address, 'Price':price, 'Eircode': eircode, 'Dwelling Type':dwelling_type, 'Bedrooms':bedrooms, 'Bathrooms':bathrooms, 'Last Refreshed':refreshed, 'Floor Area in sqm':floor_area, 'Facilities':facilities, 'Description':description, 'Directions':directions, 'Ber Details':ber_details, 'Accommodation':accommodation, 'Features':features}, ignore_index = True)\n"
     ]
    },
    {
     "name": "stdout",
     "output_type": "stream",
     "text": [
      "DataFrame length:  1291\n"
     ]
    },
    {
     "name": "stderr",
     "output_type": "stream",
     "text": [
      "C:\\Users\\Harry\\AppData\\Local\\Temp\\ipykernel_35052\\75057381.py:97: FutureWarning: The frame.append method is deprecated and will be removed from pandas in a future version. Use pandas.concat instead.\n",
      "  df = df.append({'Address':address, 'Price':price, 'Eircode': eircode, 'Dwelling Type':dwelling_type, 'Bedrooms':bedrooms, 'Bathrooms':bathrooms, 'Last Refreshed':refreshed, 'Floor Area in sqm':floor_area, 'Facilities':facilities, 'Description':description, 'Directions':directions, 'Ber Details':ber_details, 'Accommodation':accommodation, 'Features':features}, ignore_index = True)\n"
     ]
    },
    {
     "name": "stdout",
     "output_type": "stream",
     "text": [
      "DataFrame length:  1292\n"
     ]
    },
    {
     "name": "stderr",
     "output_type": "stream",
     "text": [
      "C:\\Users\\Harry\\AppData\\Local\\Temp\\ipykernel_35052\\75057381.py:97: FutureWarning: The frame.append method is deprecated and will be removed from pandas in a future version. Use pandas.concat instead.\n",
      "  df = df.append({'Address':address, 'Price':price, 'Eircode': eircode, 'Dwelling Type':dwelling_type, 'Bedrooms':bedrooms, 'Bathrooms':bathrooms, 'Last Refreshed':refreshed, 'Floor Area in sqm':floor_area, 'Facilities':facilities, 'Description':description, 'Directions':directions, 'Ber Details':ber_details, 'Accommodation':accommodation, 'Features':features}, ignore_index = True)\n"
     ]
    },
    {
     "name": "stdout",
     "output_type": "stream",
     "text": [
      "DataFrame length:  1293\n"
     ]
    },
    {
     "name": "stderr",
     "output_type": "stream",
     "text": [
      "C:\\Users\\Harry\\AppData\\Local\\Temp\\ipykernel_35052\\75057381.py:97: FutureWarning: The frame.append method is deprecated and will be removed from pandas in a future version. Use pandas.concat instead.\n",
      "  df = df.append({'Address':address, 'Price':price, 'Eircode': eircode, 'Dwelling Type':dwelling_type, 'Bedrooms':bedrooms, 'Bathrooms':bathrooms, 'Last Refreshed':refreshed, 'Floor Area in sqm':floor_area, 'Facilities':facilities, 'Description':description, 'Directions':directions, 'Ber Details':ber_details, 'Accommodation':accommodation, 'Features':features}, ignore_index = True)\n"
     ]
    },
    {
     "name": "stdout",
     "output_type": "stream",
     "text": [
      "DataFrame length:  1294\n"
     ]
    },
    {
     "name": "stderr",
     "output_type": "stream",
     "text": [
      "C:\\Users\\Harry\\AppData\\Local\\Temp\\ipykernel_35052\\75057381.py:97: FutureWarning: The frame.append method is deprecated and will be removed from pandas in a future version. Use pandas.concat instead.\n",
      "  df = df.append({'Address':address, 'Price':price, 'Eircode': eircode, 'Dwelling Type':dwelling_type, 'Bedrooms':bedrooms, 'Bathrooms':bathrooms, 'Last Refreshed':refreshed, 'Floor Area in sqm':floor_area, 'Facilities':facilities, 'Description':description, 'Directions':directions, 'Ber Details':ber_details, 'Accommodation':accommodation, 'Features':features}, ignore_index = True)\n"
     ]
    },
    {
     "name": "stdout",
     "output_type": "stream",
     "text": [
      "DataFrame length:  1295\n"
     ]
    },
    {
     "name": "stderr",
     "output_type": "stream",
     "text": [
      "C:\\Users\\Harry\\AppData\\Local\\Temp\\ipykernel_35052\\75057381.py:97: FutureWarning: The frame.append method is deprecated and will be removed from pandas in a future version. Use pandas.concat instead.\n",
      "  df = df.append({'Address':address, 'Price':price, 'Eircode': eircode, 'Dwelling Type':dwelling_type, 'Bedrooms':bedrooms, 'Bathrooms':bathrooms, 'Last Refreshed':refreshed, 'Floor Area in sqm':floor_area, 'Facilities':facilities, 'Description':description, 'Directions':directions, 'Ber Details':ber_details, 'Accommodation':accommodation, 'Features':features}, ignore_index = True)\n"
     ]
    },
    {
     "name": "stdout",
     "output_type": "stream",
     "text": [
      "DataFrame length:  1296\n"
     ]
    },
    {
     "name": "stderr",
     "output_type": "stream",
     "text": [
      "C:\\Users\\Harry\\AppData\\Local\\Temp\\ipykernel_35052\\75057381.py:97: FutureWarning: The frame.append method is deprecated and will be removed from pandas in a future version. Use pandas.concat instead.\n",
      "  df = df.append({'Address':address, 'Price':price, 'Eircode': eircode, 'Dwelling Type':dwelling_type, 'Bedrooms':bedrooms, 'Bathrooms':bathrooms, 'Last Refreshed':refreshed, 'Floor Area in sqm':floor_area, 'Facilities':facilities, 'Description':description, 'Directions':directions, 'Ber Details':ber_details, 'Accommodation':accommodation, 'Features':features}, ignore_index = True)\n"
     ]
    },
    {
     "name": "stdout",
     "output_type": "stream",
     "text": [
      "DataFrame length:  1297\n"
     ]
    },
    {
     "name": "stderr",
     "output_type": "stream",
     "text": [
      "C:\\Users\\Harry\\AppData\\Local\\Temp\\ipykernel_35052\\75057381.py:97: FutureWarning: The frame.append method is deprecated and will be removed from pandas in a future version. Use pandas.concat instead.\n",
      "  df = df.append({'Address':address, 'Price':price, 'Eircode': eircode, 'Dwelling Type':dwelling_type, 'Bedrooms':bedrooms, 'Bathrooms':bathrooms, 'Last Refreshed':refreshed, 'Floor Area in sqm':floor_area, 'Facilities':facilities, 'Description':description, 'Directions':directions, 'Ber Details':ber_details, 'Accommodation':accommodation, 'Features':features}, ignore_index = True)\n"
     ]
    },
    {
     "name": "stdout",
     "output_type": "stream",
     "text": [
      "DataFrame length:  1298\n"
     ]
    },
    {
     "name": "stderr",
     "output_type": "stream",
     "text": [
      "C:\\Users\\Harry\\AppData\\Local\\Temp\\ipykernel_35052\\75057381.py:97: FutureWarning: The frame.append method is deprecated and will be removed from pandas in a future version. Use pandas.concat instead.\n",
      "  df = df.append({'Address':address, 'Price':price, 'Eircode': eircode, 'Dwelling Type':dwelling_type, 'Bedrooms':bedrooms, 'Bathrooms':bathrooms, 'Last Refreshed':refreshed, 'Floor Area in sqm':floor_area, 'Facilities':facilities, 'Description':description, 'Directions':directions, 'Ber Details':ber_details, 'Accommodation':accommodation, 'Features':features}, ignore_index = True)\n"
     ]
    },
    {
     "name": "stdout",
     "output_type": "stream",
     "text": [
      "DataFrame length:  1299\n"
     ]
    },
    {
     "name": "stderr",
     "output_type": "stream",
     "text": [
      "C:\\Users\\Harry\\AppData\\Local\\Temp\\ipykernel_35052\\75057381.py:97: FutureWarning: The frame.append method is deprecated and will be removed from pandas in a future version. Use pandas.concat instead.\n",
      "  df = df.append({'Address':address, 'Price':price, 'Eircode': eircode, 'Dwelling Type':dwelling_type, 'Bedrooms':bedrooms, 'Bathrooms':bathrooms, 'Last Refreshed':refreshed, 'Floor Area in sqm':floor_area, 'Facilities':facilities, 'Description':description, 'Directions':directions, 'Ber Details':ber_details, 'Accommodation':accommodation, 'Features':features}, ignore_index = True)\n"
     ]
    },
    {
     "name": "stdout",
     "output_type": "stream",
     "text": [
      "DataFrame length:  1300\n"
     ]
    },
    {
     "name": "stderr",
     "output_type": "stream",
     "text": [
      "C:\\Users\\Harry\\AppData\\Local\\Temp\\ipykernel_35052\\75057381.py:97: FutureWarning: The frame.append method is deprecated and will be removed from pandas in a future version. Use pandas.concat instead.\n",
      "  df = df.append({'Address':address, 'Price':price, 'Eircode': eircode, 'Dwelling Type':dwelling_type, 'Bedrooms':bedrooms, 'Bathrooms':bathrooms, 'Last Refreshed':refreshed, 'Floor Area in sqm':floor_area, 'Facilities':facilities, 'Description':description, 'Directions':directions, 'Ber Details':ber_details, 'Accommodation':accommodation, 'Features':features}, ignore_index = True)\n"
     ]
    },
    {
     "name": "stdout",
     "output_type": "stream",
     "text": [
      "DataFrame length:  1301\n"
     ]
    },
    {
     "name": "stderr",
     "output_type": "stream",
     "text": [
      "C:\\Users\\Harry\\AppData\\Local\\Temp\\ipykernel_35052\\75057381.py:97: FutureWarning: The frame.append method is deprecated and will be removed from pandas in a future version. Use pandas.concat instead.\n",
      "  df = df.append({'Address':address, 'Price':price, 'Eircode': eircode, 'Dwelling Type':dwelling_type, 'Bedrooms':bedrooms, 'Bathrooms':bathrooms, 'Last Refreshed':refreshed, 'Floor Area in sqm':floor_area, 'Facilities':facilities, 'Description':description, 'Directions':directions, 'Ber Details':ber_details, 'Accommodation':accommodation, 'Features':features}, ignore_index = True)\n"
     ]
    },
    {
     "name": "stdout",
     "output_type": "stream",
     "text": [
      "DataFrame length:  1302\n"
     ]
    },
    {
     "name": "stderr",
     "output_type": "stream",
     "text": [
      "C:\\Users\\Harry\\AppData\\Local\\Temp\\ipykernel_35052\\75057381.py:97: FutureWarning: The frame.append method is deprecated and will be removed from pandas in a future version. Use pandas.concat instead.\n",
      "  df = df.append({'Address':address, 'Price':price, 'Eircode': eircode, 'Dwelling Type':dwelling_type, 'Bedrooms':bedrooms, 'Bathrooms':bathrooms, 'Last Refreshed':refreshed, 'Floor Area in sqm':floor_area, 'Facilities':facilities, 'Description':description, 'Directions':directions, 'Ber Details':ber_details, 'Accommodation':accommodation, 'Features':features}, ignore_index = True)\n"
     ]
    },
    {
     "name": "stdout",
     "output_type": "stream",
     "text": [
      "DataFrame length:  1303\n"
     ]
    },
    {
     "name": "stderr",
     "output_type": "stream",
     "text": [
      "C:\\Users\\Harry\\AppData\\Local\\Temp\\ipykernel_35052\\75057381.py:97: FutureWarning: The frame.append method is deprecated and will be removed from pandas in a future version. Use pandas.concat instead.\n",
      "  df = df.append({'Address':address, 'Price':price, 'Eircode': eircode, 'Dwelling Type':dwelling_type, 'Bedrooms':bedrooms, 'Bathrooms':bathrooms, 'Last Refreshed':refreshed, 'Floor Area in sqm':floor_area, 'Facilities':facilities, 'Description':description, 'Directions':directions, 'Ber Details':ber_details, 'Accommodation':accommodation, 'Features':features}, ignore_index = True)\n"
     ]
    },
    {
     "name": "stdout",
     "output_type": "stream",
     "text": [
      "DataFrame length:  1304\n"
     ]
    },
    {
     "name": "stderr",
     "output_type": "stream",
     "text": [
      "C:\\Users\\Harry\\AppData\\Local\\Temp\\ipykernel_35052\\75057381.py:97: FutureWarning: The frame.append method is deprecated and will be removed from pandas in a future version. Use pandas.concat instead.\n",
      "  df = df.append({'Address':address, 'Price':price, 'Eircode': eircode, 'Dwelling Type':dwelling_type, 'Bedrooms':bedrooms, 'Bathrooms':bathrooms, 'Last Refreshed':refreshed, 'Floor Area in sqm':floor_area, 'Facilities':facilities, 'Description':description, 'Directions':directions, 'Ber Details':ber_details, 'Accommodation':accommodation, 'Features':features}, ignore_index = True)\n"
     ]
    },
    {
     "name": "stdout",
     "output_type": "stream",
     "text": [
      "DataFrame length:  1305\n"
     ]
    },
    {
     "name": "stderr",
     "output_type": "stream",
     "text": [
      "C:\\Users\\Harry\\AppData\\Local\\Temp\\ipykernel_35052\\75057381.py:97: FutureWarning: The frame.append method is deprecated and will be removed from pandas in a future version. Use pandas.concat instead.\n",
      "  df = df.append({'Address':address, 'Price':price, 'Eircode': eircode, 'Dwelling Type':dwelling_type, 'Bedrooms':bedrooms, 'Bathrooms':bathrooms, 'Last Refreshed':refreshed, 'Floor Area in sqm':floor_area, 'Facilities':facilities, 'Description':description, 'Directions':directions, 'Ber Details':ber_details, 'Accommodation':accommodation, 'Features':features}, ignore_index = True)\n"
     ]
    },
    {
     "name": "stdout",
     "output_type": "stream",
     "text": [
      "DataFrame length:  1306\n"
     ]
    },
    {
     "name": "stderr",
     "output_type": "stream",
     "text": [
      "C:\\Users\\Harry\\AppData\\Local\\Temp\\ipykernel_35052\\75057381.py:97: FutureWarning: The frame.append method is deprecated and will be removed from pandas in a future version. Use pandas.concat instead.\n",
      "  df = df.append({'Address':address, 'Price':price, 'Eircode': eircode, 'Dwelling Type':dwelling_type, 'Bedrooms':bedrooms, 'Bathrooms':bathrooms, 'Last Refreshed':refreshed, 'Floor Area in sqm':floor_area, 'Facilities':facilities, 'Description':description, 'Directions':directions, 'Ber Details':ber_details, 'Accommodation':accommodation, 'Features':features}, ignore_index = True)\n"
     ]
    },
    {
     "name": "stdout",
     "output_type": "stream",
     "text": [
      "DataFrame length:  1307\n"
     ]
    },
    {
     "name": "stderr",
     "output_type": "stream",
     "text": [
      "C:\\Users\\Harry\\AppData\\Local\\Temp\\ipykernel_35052\\75057381.py:97: FutureWarning: The frame.append method is deprecated and will be removed from pandas in a future version. Use pandas.concat instead.\n",
      "  df = df.append({'Address':address, 'Price':price, 'Eircode': eircode, 'Dwelling Type':dwelling_type, 'Bedrooms':bedrooms, 'Bathrooms':bathrooms, 'Last Refreshed':refreshed, 'Floor Area in sqm':floor_area, 'Facilities':facilities, 'Description':description, 'Directions':directions, 'Ber Details':ber_details, 'Accommodation':accommodation, 'Features':features}, ignore_index = True)\n"
     ]
    },
    {
     "name": "stdout",
     "output_type": "stream",
     "text": [
      "DataFrame length:  1308\n"
     ]
    },
    {
     "name": "stderr",
     "output_type": "stream",
     "text": [
      "C:\\Users\\Harry\\AppData\\Local\\Temp\\ipykernel_35052\\75057381.py:97: FutureWarning: The frame.append method is deprecated and will be removed from pandas in a future version. Use pandas.concat instead.\n",
      "  df = df.append({'Address':address, 'Price':price, 'Eircode': eircode, 'Dwelling Type':dwelling_type, 'Bedrooms':bedrooms, 'Bathrooms':bathrooms, 'Last Refreshed':refreshed, 'Floor Area in sqm':floor_area, 'Facilities':facilities, 'Description':description, 'Directions':directions, 'Ber Details':ber_details, 'Accommodation':accommodation, 'Features':features}, ignore_index = True)\n"
     ]
    },
    {
     "name": "stdout",
     "output_type": "stream",
     "text": [
      "DataFrame length:  1309\n"
     ]
    },
    {
     "name": "stderr",
     "output_type": "stream",
     "text": [
      "C:\\Users\\Harry\\AppData\\Local\\Temp\\ipykernel_35052\\75057381.py:97: FutureWarning: The frame.append method is deprecated and will be removed from pandas in a future version. Use pandas.concat instead.\n",
      "  df = df.append({'Address':address, 'Price':price, 'Eircode': eircode, 'Dwelling Type':dwelling_type, 'Bedrooms':bedrooms, 'Bathrooms':bathrooms, 'Last Refreshed':refreshed, 'Floor Area in sqm':floor_area, 'Facilities':facilities, 'Description':description, 'Directions':directions, 'Ber Details':ber_details, 'Accommodation':accommodation, 'Features':features}, ignore_index = True)\n"
     ]
    },
    {
     "name": "stdout",
     "output_type": "stream",
     "text": [
      "DataFrame length:  1310\n"
     ]
    },
    {
     "name": "stderr",
     "output_type": "stream",
     "text": [
      "C:\\Users\\Harry\\AppData\\Local\\Temp\\ipykernel_35052\\75057381.py:97: FutureWarning: The frame.append method is deprecated and will be removed from pandas in a future version. Use pandas.concat instead.\n",
      "  df = df.append({'Address':address, 'Price':price, 'Eircode': eircode, 'Dwelling Type':dwelling_type, 'Bedrooms':bedrooms, 'Bathrooms':bathrooms, 'Last Refreshed':refreshed, 'Floor Area in sqm':floor_area, 'Facilities':facilities, 'Description':description, 'Directions':directions, 'Ber Details':ber_details, 'Accommodation':accommodation, 'Features':features}, ignore_index = True)\n"
     ]
    },
    {
     "name": "stdout",
     "output_type": "stream",
     "text": [
      "DataFrame length:  1311\n"
     ]
    },
    {
     "name": "stderr",
     "output_type": "stream",
     "text": [
      "C:\\Users\\Harry\\AppData\\Local\\Temp\\ipykernel_35052\\75057381.py:97: FutureWarning: The frame.append method is deprecated and will be removed from pandas in a future version. Use pandas.concat instead.\n",
      "  df = df.append({'Address':address, 'Price':price, 'Eircode': eircode, 'Dwelling Type':dwelling_type, 'Bedrooms':bedrooms, 'Bathrooms':bathrooms, 'Last Refreshed':refreshed, 'Floor Area in sqm':floor_area, 'Facilities':facilities, 'Description':description, 'Directions':directions, 'Ber Details':ber_details, 'Accommodation':accommodation, 'Features':features}, ignore_index = True)\n"
     ]
    },
    {
     "name": "stdout",
     "output_type": "stream",
     "text": [
      "DataFrame length:  1312\n"
     ]
    },
    {
     "name": "stderr",
     "output_type": "stream",
     "text": [
      "C:\\Users\\Harry\\AppData\\Local\\Temp\\ipykernel_35052\\75057381.py:97: FutureWarning: The frame.append method is deprecated and will be removed from pandas in a future version. Use pandas.concat instead.\n",
      "  df = df.append({'Address':address, 'Price':price, 'Eircode': eircode, 'Dwelling Type':dwelling_type, 'Bedrooms':bedrooms, 'Bathrooms':bathrooms, 'Last Refreshed':refreshed, 'Floor Area in sqm':floor_area, 'Facilities':facilities, 'Description':description, 'Directions':directions, 'Ber Details':ber_details, 'Accommodation':accommodation, 'Features':features}, ignore_index = True)\n"
     ]
    },
    {
     "name": "stdout",
     "output_type": "stream",
     "text": [
      "DataFrame length:  1313\n"
     ]
    },
    {
     "name": "stderr",
     "output_type": "stream",
     "text": [
      "C:\\Users\\Harry\\AppData\\Local\\Temp\\ipykernel_35052\\75057381.py:97: FutureWarning: The frame.append method is deprecated and will be removed from pandas in a future version. Use pandas.concat instead.\n",
      "  df = df.append({'Address':address, 'Price':price, 'Eircode': eircode, 'Dwelling Type':dwelling_type, 'Bedrooms':bedrooms, 'Bathrooms':bathrooms, 'Last Refreshed':refreshed, 'Floor Area in sqm':floor_area, 'Facilities':facilities, 'Description':description, 'Directions':directions, 'Ber Details':ber_details, 'Accommodation':accommodation, 'Features':features}, ignore_index = True)\n"
     ]
    },
    {
     "name": "stdout",
     "output_type": "stream",
     "text": [
      "DataFrame length:  1314\n"
     ]
    },
    {
     "name": "stderr",
     "output_type": "stream",
     "text": [
      "C:\\Users\\Harry\\AppData\\Local\\Temp\\ipykernel_35052\\75057381.py:97: FutureWarning: The frame.append method is deprecated and will be removed from pandas in a future version. Use pandas.concat instead.\n",
      "  df = df.append({'Address':address, 'Price':price, 'Eircode': eircode, 'Dwelling Type':dwelling_type, 'Bedrooms':bedrooms, 'Bathrooms':bathrooms, 'Last Refreshed':refreshed, 'Floor Area in sqm':floor_area, 'Facilities':facilities, 'Description':description, 'Directions':directions, 'Ber Details':ber_details, 'Accommodation':accommodation, 'Features':features}, ignore_index = True)\n"
     ]
    },
    {
     "name": "stdout",
     "output_type": "stream",
     "text": [
      "DataFrame length:  1315\n"
     ]
    },
    {
     "name": "stderr",
     "output_type": "stream",
     "text": [
      "C:\\Users\\Harry\\AppData\\Local\\Temp\\ipykernel_35052\\75057381.py:97: FutureWarning: The frame.append method is deprecated and will be removed from pandas in a future version. Use pandas.concat instead.\n",
      "  df = df.append({'Address':address, 'Price':price, 'Eircode': eircode, 'Dwelling Type':dwelling_type, 'Bedrooms':bedrooms, 'Bathrooms':bathrooms, 'Last Refreshed':refreshed, 'Floor Area in sqm':floor_area, 'Facilities':facilities, 'Description':description, 'Directions':directions, 'Ber Details':ber_details, 'Accommodation':accommodation, 'Features':features}, ignore_index = True)\n"
     ]
    },
    {
     "name": "stdout",
     "output_type": "stream",
     "text": [
      "DataFrame length:  1316\n"
     ]
    },
    {
     "name": "stderr",
     "output_type": "stream",
     "text": [
      "C:\\Users\\Harry\\AppData\\Local\\Temp\\ipykernel_35052\\75057381.py:97: FutureWarning: The frame.append method is deprecated and will be removed from pandas in a future version. Use pandas.concat instead.\n",
      "  df = df.append({'Address':address, 'Price':price, 'Eircode': eircode, 'Dwelling Type':dwelling_type, 'Bedrooms':bedrooms, 'Bathrooms':bathrooms, 'Last Refreshed':refreshed, 'Floor Area in sqm':floor_area, 'Facilities':facilities, 'Description':description, 'Directions':directions, 'Ber Details':ber_details, 'Accommodation':accommodation, 'Features':features}, ignore_index = True)\n"
     ]
    },
    {
     "name": "stdout",
     "output_type": "stream",
     "text": [
      "DataFrame length:  1317\n"
     ]
    },
    {
     "name": "stderr",
     "output_type": "stream",
     "text": [
      "C:\\Users\\Harry\\AppData\\Local\\Temp\\ipykernel_35052\\75057381.py:97: FutureWarning: The frame.append method is deprecated and will be removed from pandas in a future version. Use pandas.concat instead.\n",
      "  df = df.append({'Address':address, 'Price':price, 'Eircode': eircode, 'Dwelling Type':dwelling_type, 'Bedrooms':bedrooms, 'Bathrooms':bathrooms, 'Last Refreshed':refreshed, 'Floor Area in sqm':floor_area, 'Facilities':facilities, 'Description':description, 'Directions':directions, 'Ber Details':ber_details, 'Accommodation':accommodation, 'Features':features}, ignore_index = True)\n"
     ]
    },
    {
     "name": "stdout",
     "output_type": "stream",
     "text": [
      "DataFrame length:  1318\n"
     ]
    },
    {
     "name": "stderr",
     "output_type": "stream",
     "text": [
      "C:\\Users\\Harry\\AppData\\Local\\Temp\\ipykernel_35052\\75057381.py:97: FutureWarning: The frame.append method is deprecated and will be removed from pandas in a future version. Use pandas.concat instead.\n",
      "  df = df.append({'Address':address, 'Price':price, 'Eircode': eircode, 'Dwelling Type':dwelling_type, 'Bedrooms':bedrooms, 'Bathrooms':bathrooms, 'Last Refreshed':refreshed, 'Floor Area in sqm':floor_area, 'Facilities':facilities, 'Description':description, 'Directions':directions, 'Ber Details':ber_details, 'Accommodation':accommodation, 'Features':features}, ignore_index = True)\n"
     ]
    },
    {
     "name": "stdout",
     "output_type": "stream",
     "text": [
      "DataFrame length:  1319\n"
     ]
    },
    {
     "name": "stderr",
     "output_type": "stream",
     "text": [
      "C:\\Users\\Harry\\AppData\\Local\\Temp\\ipykernel_35052\\75057381.py:97: FutureWarning: The frame.append method is deprecated and will be removed from pandas in a future version. Use pandas.concat instead.\n",
      "  df = df.append({'Address':address, 'Price':price, 'Eircode': eircode, 'Dwelling Type':dwelling_type, 'Bedrooms':bedrooms, 'Bathrooms':bathrooms, 'Last Refreshed':refreshed, 'Floor Area in sqm':floor_area, 'Facilities':facilities, 'Description':description, 'Directions':directions, 'Ber Details':ber_details, 'Accommodation':accommodation, 'Features':features}, ignore_index = True)\n"
     ]
    },
    {
     "name": "stdout",
     "output_type": "stream",
     "text": [
      "DataFrame length:  1320\n"
     ]
    },
    {
     "name": "stderr",
     "output_type": "stream",
     "text": [
      "C:\\Users\\Harry\\AppData\\Local\\Temp\\ipykernel_35052\\75057381.py:97: FutureWarning: The frame.append method is deprecated and will be removed from pandas in a future version. Use pandas.concat instead.\n",
      "  df = df.append({'Address':address, 'Price':price, 'Eircode': eircode, 'Dwelling Type':dwelling_type, 'Bedrooms':bedrooms, 'Bathrooms':bathrooms, 'Last Refreshed':refreshed, 'Floor Area in sqm':floor_area, 'Facilities':facilities, 'Description':description, 'Directions':directions, 'Ber Details':ber_details, 'Accommodation':accommodation, 'Features':features}, ignore_index = True)\n"
     ]
    },
    {
     "name": "stdout",
     "output_type": "stream",
     "text": [
      "DataFrame length:  1321\n"
     ]
    },
    {
     "name": "stderr",
     "output_type": "stream",
     "text": [
      "C:\\Users\\Harry\\AppData\\Local\\Temp\\ipykernel_35052\\75057381.py:97: FutureWarning: The frame.append method is deprecated and will be removed from pandas in a future version. Use pandas.concat instead.\n",
      "  df = df.append({'Address':address, 'Price':price, 'Eircode': eircode, 'Dwelling Type':dwelling_type, 'Bedrooms':bedrooms, 'Bathrooms':bathrooms, 'Last Refreshed':refreshed, 'Floor Area in sqm':floor_area, 'Facilities':facilities, 'Description':description, 'Directions':directions, 'Ber Details':ber_details, 'Accommodation':accommodation, 'Features':features}, ignore_index = True)\n"
     ]
    },
    {
     "name": "stdout",
     "output_type": "stream",
     "text": [
      "DataFrame length:  1322\n"
     ]
    },
    {
     "name": "stderr",
     "output_type": "stream",
     "text": [
      "C:\\Users\\Harry\\AppData\\Local\\Temp\\ipykernel_35052\\75057381.py:97: FutureWarning: The frame.append method is deprecated and will be removed from pandas in a future version. Use pandas.concat instead.\n",
      "  df = df.append({'Address':address, 'Price':price, 'Eircode': eircode, 'Dwelling Type':dwelling_type, 'Bedrooms':bedrooms, 'Bathrooms':bathrooms, 'Last Refreshed':refreshed, 'Floor Area in sqm':floor_area, 'Facilities':facilities, 'Description':description, 'Directions':directions, 'Ber Details':ber_details, 'Accommodation':accommodation, 'Features':features}, ignore_index = True)\n"
     ]
    },
    {
     "name": "stdout",
     "output_type": "stream",
     "text": [
      "DataFrame length:  1323\n"
     ]
    },
    {
     "name": "stderr",
     "output_type": "stream",
     "text": [
      "C:\\Users\\Harry\\AppData\\Local\\Temp\\ipykernel_35052\\75057381.py:97: FutureWarning: The frame.append method is deprecated and will be removed from pandas in a future version. Use pandas.concat instead.\n",
      "  df = df.append({'Address':address, 'Price':price, 'Eircode': eircode, 'Dwelling Type':dwelling_type, 'Bedrooms':bedrooms, 'Bathrooms':bathrooms, 'Last Refreshed':refreshed, 'Floor Area in sqm':floor_area, 'Facilities':facilities, 'Description':description, 'Directions':directions, 'Ber Details':ber_details, 'Accommodation':accommodation, 'Features':features}, ignore_index = True)\n"
     ]
    },
    {
     "name": "stdout",
     "output_type": "stream",
     "text": [
      "DataFrame length:  1324\n"
     ]
    },
    {
     "name": "stderr",
     "output_type": "stream",
     "text": [
      "C:\\Users\\Harry\\AppData\\Local\\Temp\\ipykernel_35052\\75057381.py:97: FutureWarning: The frame.append method is deprecated and will be removed from pandas in a future version. Use pandas.concat instead.\n",
      "  df = df.append({'Address':address, 'Price':price, 'Eircode': eircode, 'Dwelling Type':dwelling_type, 'Bedrooms':bedrooms, 'Bathrooms':bathrooms, 'Last Refreshed':refreshed, 'Floor Area in sqm':floor_area, 'Facilities':facilities, 'Description':description, 'Directions':directions, 'Ber Details':ber_details, 'Accommodation':accommodation, 'Features':features}, ignore_index = True)\n"
     ]
    },
    {
     "name": "stdout",
     "output_type": "stream",
     "text": [
      "DataFrame length:  1325\n"
     ]
    },
    {
     "name": "stderr",
     "output_type": "stream",
     "text": [
      "C:\\Users\\Harry\\AppData\\Local\\Temp\\ipykernel_35052\\75057381.py:97: FutureWarning: The frame.append method is deprecated and will be removed from pandas in a future version. Use pandas.concat instead.\n",
      "  df = df.append({'Address':address, 'Price':price, 'Eircode': eircode, 'Dwelling Type':dwelling_type, 'Bedrooms':bedrooms, 'Bathrooms':bathrooms, 'Last Refreshed':refreshed, 'Floor Area in sqm':floor_area, 'Facilities':facilities, 'Description':description, 'Directions':directions, 'Ber Details':ber_details, 'Accommodation':accommodation, 'Features':features}, ignore_index = True)\n"
     ]
    },
    {
     "name": "stdout",
     "output_type": "stream",
     "text": [
      "DataFrame length:  1326\n"
     ]
    },
    {
     "name": "stderr",
     "output_type": "stream",
     "text": [
      "C:\\Users\\Harry\\AppData\\Local\\Temp\\ipykernel_35052\\75057381.py:97: FutureWarning: The frame.append method is deprecated and will be removed from pandas in a future version. Use pandas.concat instead.\n",
      "  df = df.append({'Address':address, 'Price':price, 'Eircode': eircode, 'Dwelling Type':dwelling_type, 'Bedrooms':bedrooms, 'Bathrooms':bathrooms, 'Last Refreshed':refreshed, 'Floor Area in sqm':floor_area, 'Facilities':facilities, 'Description':description, 'Directions':directions, 'Ber Details':ber_details, 'Accommodation':accommodation, 'Features':features}, ignore_index = True)\n"
     ]
    },
    {
     "name": "stdout",
     "output_type": "stream",
     "text": [
      "DataFrame length:  1327\n"
     ]
    },
    {
     "name": "stderr",
     "output_type": "stream",
     "text": [
      "C:\\Users\\Harry\\AppData\\Local\\Temp\\ipykernel_35052\\75057381.py:97: FutureWarning: The frame.append method is deprecated and will be removed from pandas in a future version. Use pandas.concat instead.\n",
      "  df = df.append({'Address':address, 'Price':price, 'Eircode': eircode, 'Dwelling Type':dwelling_type, 'Bedrooms':bedrooms, 'Bathrooms':bathrooms, 'Last Refreshed':refreshed, 'Floor Area in sqm':floor_area, 'Facilities':facilities, 'Description':description, 'Directions':directions, 'Ber Details':ber_details, 'Accommodation':accommodation, 'Features':features}, ignore_index = True)\n"
     ]
    },
    {
     "name": "stdout",
     "output_type": "stream",
     "text": [
      "DataFrame length:  1328\n"
     ]
    },
    {
     "name": "stderr",
     "output_type": "stream",
     "text": [
      "C:\\Users\\Harry\\AppData\\Local\\Temp\\ipykernel_35052\\75057381.py:97: FutureWarning: The frame.append method is deprecated and will be removed from pandas in a future version. Use pandas.concat instead.\n",
      "  df = df.append({'Address':address, 'Price':price, 'Eircode': eircode, 'Dwelling Type':dwelling_type, 'Bedrooms':bedrooms, 'Bathrooms':bathrooms, 'Last Refreshed':refreshed, 'Floor Area in sqm':floor_area, 'Facilities':facilities, 'Description':description, 'Directions':directions, 'Ber Details':ber_details, 'Accommodation':accommodation, 'Features':features}, ignore_index = True)\n"
     ]
    },
    {
     "name": "stdout",
     "output_type": "stream",
     "text": [
      "DataFrame length:  1329\n"
     ]
    },
    {
     "name": "stderr",
     "output_type": "stream",
     "text": [
      "C:\\Users\\Harry\\AppData\\Local\\Temp\\ipykernel_35052\\75057381.py:97: FutureWarning: The frame.append method is deprecated and will be removed from pandas in a future version. Use pandas.concat instead.\n",
      "  df = df.append({'Address':address, 'Price':price, 'Eircode': eircode, 'Dwelling Type':dwelling_type, 'Bedrooms':bedrooms, 'Bathrooms':bathrooms, 'Last Refreshed':refreshed, 'Floor Area in sqm':floor_area, 'Facilities':facilities, 'Description':description, 'Directions':directions, 'Ber Details':ber_details, 'Accommodation':accommodation, 'Features':features}, ignore_index = True)\n"
     ]
    },
    {
     "name": "stdout",
     "output_type": "stream",
     "text": [
      "DataFrame length:  1330\n"
     ]
    },
    {
     "name": "stderr",
     "output_type": "stream",
     "text": [
      "C:\\Users\\Harry\\AppData\\Local\\Temp\\ipykernel_35052\\75057381.py:97: FutureWarning: The frame.append method is deprecated and will be removed from pandas in a future version. Use pandas.concat instead.\n",
      "  df = df.append({'Address':address, 'Price':price, 'Eircode': eircode, 'Dwelling Type':dwelling_type, 'Bedrooms':bedrooms, 'Bathrooms':bathrooms, 'Last Refreshed':refreshed, 'Floor Area in sqm':floor_area, 'Facilities':facilities, 'Description':description, 'Directions':directions, 'Ber Details':ber_details, 'Accommodation':accommodation, 'Features':features}, ignore_index = True)\n"
     ]
    },
    {
     "name": "stdout",
     "output_type": "stream",
     "text": [
      "DataFrame length:  1331\n"
     ]
    },
    {
     "name": "stderr",
     "output_type": "stream",
     "text": [
      "C:\\Users\\Harry\\AppData\\Local\\Temp\\ipykernel_35052\\75057381.py:97: FutureWarning: The frame.append method is deprecated and will be removed from pandas in a future version. Use pandas.concat instead.\n",
      "  df = df.append({'Address':address, 'Price':price, 'Eircode': eircode, 'Dwelling Type':dwelling_type, 'Bedrooms':bedrooms, 'Bathrooms':bathrooms, 'Last Refreshed':refreshed, 'Floor Area in sqm':floor_area, 'Facilities':facilities, 'Description':description, 'Directions':directions, 'Ber Details':ber_details, 'Accommodation':accommodation, 'Features':features}, ignore_index = True)\n"
     ]
    },
    {
     "name": "stdout",
     "output_type": "stream",
     "text": [
      "DataFrame length:  1332\n"
     ]
    },
    {
     "name": "stderr",
     "output_type": "stream",
     "text": [
      "C:\\Users\\Harry\\AppData\\Local\\Temp\\ipykernel_35052\\75057381.py:97: FutureWarning: The frame.append method is deprecated and will be removed from pandas in a future version. Use pandas.concat instead.\n",
      "  df = df.append({'Address':address, 'Price':price, 'Eircode': eircode, 'Dwelling Type':dwelling_type, 'Bedrooms':bedrooms, 'Bathrooms':bathrooms, 'Last Refreshed':refreshed, 'Floor Area in sqm':floor_area, 'Facilities':facilities, 'Description':description, 'Directions':directions, 'Ber Details':ber_details, 'Accommodation':accommodation, 'Features':features}, ignore_index = True)\n"
     ]
    },
    {
     "name": "stdout",
     "output_type": "stream",
     "text": [
      "DataFrame length:  1333\n"
     ]
    },
    {
     "name": "stderr",
     "output_type": "stream",
     "text": [
      "C:\\Users\\Harry\\AppData\\Local\\Temp\\ipykernel_35052\\75057381.py:97: FutureWarning: The frame.append method is deprecated and will be removed from pandas in a future version. Use pandas.concat instead.\n",
      "  df = df.append({'Address':address, 'Price':price, 'Eircode': eircode, 'Dwelling Type':dwelling_type, 'Bedrooms':bedrooms, 'Bathrooms':bathrooms, 'Last Refreshed':refreshed, 'Floor Area in sqm':floor_area, 'Facilities':facilities, 'Description':description, 'Directions':directions, 'Ber Details':ber_details, 'Accommodation':accommodation, 'Features':features}, ignore_index = True)\n"
     ]
    },
    {
     "name": "stdout",
     "output_type": "stream",
     "text": [
      "DataFrame length:  1334\n"
     ]
    },
    {
     "name": "stderr",
     "output_type": "stream",
     "text": [
      "C:\\Users\\Harry\\AppData\\Local\\Temp\\ipykernel_35052\\75057381.py:97: FutureWarning: The frame.append method is deprecated and will be removed from pandas in a future version. Use pandas.concat instead.\n",
      "  df = df.append({'Address':address, 'Price':price, 'Eircode': eircode, 'Dwelling Type':dwelling_type, 'Bedrooms':bedrooms, 'Bathrooms':bathrooms, 'Last Refreshed':refreshed, 'Floor Area in sqm':floor_area, 'Facilities':facilities, 'Description':description, 'Directions':directions, 'Ber Details':ber_details, 'Accommodation':accommodation, 'Features':features}, ignore_index = True)\n"
     ]
    },
    {
     "name": "stdout",
     "output_type": "stream",
     "text": [
      "DataFrame length:  1335\n"
     ]
    },
    {
     "name": "stderr",
     "output_type": "stream",
     "text": [
      "C:\\Users\\Harry\\AppData\\Local\\Temp\\ipykernel_35052\\75057381.py:97: FutureWarning: The frame.append method is deprecated and will be removed from pandas in a future version. Use pandas.concat instead.\n",
      "  df = df.append({'Address':address, 'Price':price, 'Eircode': eircode, 'Dwelling Type':dwelling_type, 'Bedrooms':bedrooms, 'Bathrooms':bathrooms, 'Last Refreshed':refreshed, 'Floor Area in sqm':floor_area, 'Facilities':facilities, 'Description':description, 'Directions':directions, 'Ber Details':ber_details, 'Accommodation':accommodation, 'Features':features}, ignore_index = True)\n"
     ]
    },
    {
     "name": "stdout",
     "output_type": "stream",
     "text": [
      "DataFrame length:  1336\n"
     ]
    },
    {
     "name": "stderr",
     "output_type": "stream",
     "text": [
      "C:\\Users\\Harry\\AppData\\Local\\Temp\\ipykernel_35052\\75057381.py:97: FutureWarning: The frame.append method is deprecated and will be removed from pandas in a future version. Use pandas.concat instead.\n",
      "  df = df.append({'Address':address, 'Price':price, 'Eircode': eircode, 'Dwelling Type':dwelling_type, 'Bedrooms':bedrooms, 'Bathrooms':bathrooms, 'Last Refreshed':refreshed, 'Floor Area in sqm':floor_area, 'Facilities':facilities, 'Description':description, 'Directions':directions, 'Ber Details':ber_details, 'Accommodation':accommodation, 'Features':features}, ignore_index = True)\n"
     ]
    },
    {
     "name": "stdout",
     "output_type": "stream",
     "text": [
      "DataFrame length:  1337\n"
     ]
    },
    {
     "name": "stderr",
     "output_type": "stream",
     "text": [
      "C:\\Users\\Harry\\AppData\\Local\\Temp\\ipykernel_35052\\75057381.py:97: FutureWarning: The frame.append method is deprecated and will be removed from pandas in a future version. Use pandas.concat instead.\n",
      "  df = df.append({'Address':address, 'Price':price, 'Eircode': eircode, 'Dwelling Type':dwelling_type, 'Bedrooms':bedrooms, 'Bathrooms':bathrooms, 'Last Refreshed':refreshed, 'Floor Area in sqm':floor_area, 'Facilities':facilities, 'Description':description, 'Directions':directions, 'Ber Details':ber_details, 'Accommodation':accommodation, 'Features':features}, ignore_index = True)\n"
     ]
    },
    {
     "name": "stdout",
     "output_type": "stream",
     "text": [
      "DataFrame length:  1338\n"
     ]
    },
    {
     "name": "stderr",
     "output_type": "stream",
     "text": [
      "C:\\Users\\Harry\\AppData\\Local\\Temp\\ipykernel_35052\\75057381.py:97: FutureWarning: The frame.append method is deprecated and will be removed from pandas in a future version. Use pandas.concat instead.\n",
      "  df = df.append({'Address':address, 'Price':price, 'Eircode': eircode, 'Dwelling Type':dwelling_type, 'Bedrooms':bedrooms, 'Bathrooms':bathrooms, 'Last Refreshed':refreshed, 'Floor Area in sqm':floor_area, 'Facilities':facilities, 'Description':description, 'Directions':directions, 'Ber Details':ber_details, 'Accommodation':accommodation, 'Features':features}, ignore_index = True)\n"
     ]
    },
    {
     "name": "stdout",
     "output_type": "stream",
     "text": [
      "DataFrame length:  1339\n"
     ]
    },
    {
     "name": "stderr",
     "output_type": "stream",
     "text": [
      "C:\\Users\\Harry\\AppData\\Local\\Temp\\ipykernel_35052\\75057381.py:97: FutureWarning: The frame.append method is deprecated and will be removed from pandas in a future version. Use pandas.concat instead.\n",
      "  df = df.append({'Address':address, 'Price':price, 'Eircode': eircode, 'Dwelling Type':dwelling_type, 'Bedrooms':bedrooms, 'Bathrooms':bathrooms, 'Last Refreshed':refreshed, 'Floor Area in sqm':floor_area, 'Facilities':facilities, 'Description':description, 'Directions':directions, 'Ber Details':ber_details, 'Accommodation':accommodation, 'Features':features}, ignore_index = True)\n"
     ]
    },
    {
     "name": "stdout",
     "output_type": "stream",
     "text": [
      "DataFrame length:  1340\n"
     ]
    },
    {
     "name": "stderr",
     "output_type": "stream",
     "text": [
      "C:\\Users\\Harry\\AppData\\Local\\Temp\\ipykernel_35052\\75057381.py:97: FutureWarning: The frame.append method is deprecated and will be removed from pandas in a future version. Use pandas.concat instead.\n",
      "  df = df.append({'Address':address, 'Price':price, 'Eircode': eircode, 'Dwelling Type':dwelling_type, 'Bedrooms':bedrooms, 'Bathrooms':bathrooms, 'Last Refreshed':refreshed, 'Floor Area in sqm':floor_area, 'Facilities':facilities, 'Description':description, 'Directions':directions, 'Ber Details':ber_details, 'Accommodation':accommodation, 'Features':features}, ignore_index = True)\n"
     ]
    },
    {
     "name": "stdout",
     "output_type": "stream",
     "text": [
      "DataFrame length:  1341\n"
     ]
    },
    {
     "name": "stderr",
     "output_type": "stream",
     "text": [
      "C:\\Users\\Harry\\AppData\\Local\\Temp\\ipykernel_35052\\75057381.py:97: FutureWarning: The frame.append method is deprecated and will be removed from pandas in a future version. Use pandas.concat instead.\n",
      "  df = df.append({'Address':address, 'Price':price, 'Eircode': eircode, 'Dwelling Type':dwelling_type, 'Bedrooms':bedrooms, 'Bathrooms':bathrooms, 'Last Refreshed':refreshed, 'Floor Area in sqm':floor_area, 'Facilities':facilities, 'Description':description, 'Directions':directions, 'Ber Details':ber_details, 'Accommodation':accommodation, 'Features':features}, ignore_index = True)\n"
     ]
    },
    {
     "name": "stdout",
     "output_type": "stream",
     "text": [
      "DataFrame length:  1342\n"
     ]
    },
    {
     "name": "stderr",
     "output_type": "stream",
     "text": [
      "C:\\Users\\Harry\\AppData\\Local\\Temp\\ipykernel_35052\\75057381.py:97: FutureWarning: The frame.append method is deprecated and will be removed from pandas in a future version. Use pandas.concat instead.\n",
      "  df = df.append({'Address':address, 'Price':price, 'Eircode': eircode, 'Dwelling Type':dwelling_type, 'Bedrooms':bedrooms, 'Bathrooms':bathrooms, 'Last Refreshed':refreshed, 'Floor Area in sqm':floor_area, 'Facilities':facilities, 'Description':description, 'Directions':directions, 'Ber Details':ber_details, 'Accommodation':accommodation, 'Features':features}, ignore_index = True)\n"
     ]
    },
    {
     "name": "stdout",
     "output_type": "stream",
     "text": [
      "DataFrame length:  1343\n"
     ]
    },
    {
     "name": "stderr",
     "output_type": "stream",
     "text": [
      "C:\\Users\\Harry\\AppData\\Local\\Temp\\ipykernel_35052\\75057381.py:97: FutureWarning: The frame.append method is deprecated and will be removed from pandas in a future version. Use pandas.concat instead.\n",
      "  df = df.append({'Address':address, 'Price':price, 'Eircode': eircode, 'Dwelling Type':dwelling_type, 'Bedrooms':bedrooms, 'Bathrooms':bathrooms, 'Last Refreshed':refreshed, 'Floor Area in sqm':floor_area, 'Facilities':facilities, 'Description':description, 'Directions':directions, 'Ber Details':ber_details, 'Accommodation':accommodation, 'Features':features}, ignore_index = True)\n"
     ]
    },
    {
     "name": "stdout",
     "output_type": "stream",
     "text": [
      "DataFrame length:  1344\n"
     ]
    },
    {
     "name": "stderr",
     "output_type": "stream",
     "text": [
      "C:\\Users\\Harry\\AppData\\Local\\Temp\\ipykernel_35052\\75057381.py:97: FutureWarning: The frame.append method is deprecated and will be removed from pandas in a future version. Use pandas.concat instead.\n",
      "  df = df.append({'Address':address, 'Price':price, 'Eircode': eircode, 'Dwelling Type':dwelling_type, 'Bedrooms':bedrooms, 'Bathrooms':bathrooms, 'Last Refreshed':refreshed, 'Floor Area in sqm':floor_area, 'Facilities':facilities, 'Description':description, 'Directions':directions, 'Ber Details':ber_details, 'Accommodation':accommodation, 'Features':features}, ignore_index = True)\n"
     ]
    },
    {
     "name": "stdout",
     "output_type": "stream",
     "text": [
      "DataFrame length:  1345\n"
     ]
    },
    {
     "name": "stderr",
     "output_type": "stream",
     "text": [
      "C:\\Users\\Harry\\AppData\\Local\\Temp\\ipykernel_35052\\75057381.py:97: FutureWarning: The frame.append method is deprecated and will be removed from pandas in a future version. Use pandas.concat instead.\n",
      "  df = df.append({'Address':address, 'Price':price, 'Eircode': eircode, 'Dwelling Type':dwelling_type, 'Bedrooms':bedrooms, 'Bathrooms':bathrooms, 'Last Refreshed':refreshed, 'Floor Area in sqm':floor_area, 'Facilities':facilities, 'Description':description, 'Directions':directions, 'Ber Details':ber_details, 'Accommodation':accommodation, 'Features':features}, ignore_index = True)\n"
     ]
    },
    {
     "name": "stdout",
     "output_type": "stream",
     "text": [
      "DataFrame length:  1346\n"
     ]
    },
    {
     "name": "stderr",
     "output_type": "stream",
     "text": [
      "C:\\Users\\Harry\\AppData\\Local\\Temp\\ipykernel_35052\\75057381.py:97: FutureWarning: The frame.append method is deprecated and will be removed from pandas in a future version. Use pandas.concat instead.\n",
      "  df = df.append({'Address':address, 'Price':price, 'Eircode': eircode, 'Dwelling Type':dwelling_type, 'Bedrooms':bedrooms, 'Bathrooms':bathrooms, 'Last Refreshed':refreshed, 'Floor Area in sqm':floor_area, 'Facilities':facilities, 'Description':description, 'Directions':directions, 'Ber Details':ber_details, 'Accommodation':accommodation, 'Features':features}, ignore_index = True)\n"
     ]
    },
    {
     "name": "stdout",
     "output_type": "stream",
     "text": [
      "DataFrame length:  1347\n"
     ]
    },
    {
     "name": "stderr",
     "output_type": "stream",
     "text": [
      "C:\\Users\\Harry\\AppData\\Local\\Temp\\ipykernel_35052\\75057381.py:97: FutureWarning: The frame.append method is deprecated and will be removed from pandas in a future version. Use pandas.concat instead.\n",
      "  df = df.append({'Address':address, 'Price':price, 'Eircode': eircode, 'Dwelling Type':dwelling_type, 'Bedrooms':bedrooms, 'Bathrooms':bathrooms, 'Last Refreshed':refreshed, 'Floor Area in sqm':floor_area, 'Facilities':facilities, 'Description':description, 'Directions':directions, 'Ber Details':ber_details, 'Accommodation':accommodation, 'Features':features}, ignore_index = True)\n"
     ]
    },
    {
     "name": "stdout",
     "output_type": "stream",
     "text": [
      "DataFrame length:  1348\n"
     ]
    },
    {
     "name": "stderr",
     "output_type": "stream",
     "text": [
      "C:\\Users\\Harry\\AppData\\Local\\Temp\\ipykernel_35052\\75057381.py:97: FutureWarning: The frame.append method is deprecated and will be removed from pandas in a future version. Use pandas.concat instead.\n",
      "  df = df.append({'Address':address, 'Price':price, 'Eircode': eircode, 'Dwelling Type':dwelling_type, 'Bedrooms':bedrooms, 'Bathrooms':bathrooms, 'Last Refreshed':refreshed, 'Floor Area in sqm':floor_area, 'Facilities':facilities, 'Description':description, 'Directions':directions, 'Ber Details':ber_details, 'Accommodation':accommodation, 'Features':features}, ignore_index = True)\n"
     ]
    },
    {
     "name": "stdout",
     "output_type": "stream",
     "text": [
      "DataFrame length:  1349\n"
     ]
    },
    {
     "name": "stderr",
     "output_type": "stream",
     "text": [
      "C:\\Users\\Harry\\AppData\\Local\\Temp\\ipykernel_35052\\75057381.py:97: FutureWarning: The frame.append method is deprecated and will be removed from pandas in a future version. Use pandas.concat instead.\n",
      "  df = df.append({'Address':address, 'Price':price, 'Eircode': eircode, 'Dwelling Type':dwelling_type, 'Bedrooms':bedrooms, 'Bathrooms':bathrooms, 'Last Refreshed':refreshed, 'Floor Area in sqm':floor_area, 'Facilities':facilities, 'Description':description, 'Directions':directions, 'Ber Details':ber_details, 'Accommodation':accommodation, 'Features':features}, ignore_index = True)\n"
     ]
    },
    {
     "name": "stdout",
     "output_type": "stream",
     "text": [
      "DataFrame length:  1350\n"
     ]
    },
    {
     "name": "stderr",
     "output_type": "stream",
     "text": [
      "C:\\Users\\Harry\\AppData\\Local\\Temp\\ipykernel_35052\\75057381.py:97: FutureWarning: The frame.append method is deprecated and will be removed from pandas in a future version. Use pandas.concat instead.\n",
      "  df = df.append({'Address':address, 'Price':price, 'Eircode': eircode, 'Dwelling Type':dwelling_type, 'Bedrooms':bedrooms, 'Bathrooms':bathrooms, 'Last Refreshed':refreshed, 'Floor Area in sqm':floor_area, 'Facilities':facilities, 'Description':description, 'Directions':directions, 'Ber Details':ber_details, 'Accommodation':accommodation, 'Features':features}, ignore_index = True)\n"
     ]
    },
    {
     "name": "stdout",
     "output_type": "stream",
     "text": [
      "DataFrame length:  1351\n"
     ]
    },
    {
     "name": "stderr",
     "output_type": "stream",
     "text": [
      "C:\\Users\\Harry\\AppData\\Local\\Temp\\ipykernel_35052\\75057381.py:97: FutureWarning: The frame.append method is deprecated and will be removed from pandas in a future version. Use pandas.concat instead.\n",
      "  df = df.append({'Address':address, 'Price':price, 'Eircode': eircode, 'Dwelling Type':dwelling_type, 'Bedrooms':bedrooms, 'Bathrooms':bathrooms, 'Last Refreshed':refreshed, 'Floor Area in sqm':floor_area, 'Facilities':facilities, 'Description':description, 'Directions':directions, 'Ber Details':ber_details, 'Accommodation':accommodation, 'Features':features}, ignore_index = True)\n"
     ]
    },
    {
     "name": "stdout",
     "output_type": "stream",
     "text": [
      "DataFrame length:  1352\n"
     ]
    },
    {
     "name": "stderr",
     "output_type": "stream",
     "text": [
      "C:\\Users\\Harry\\AppData\\Local\\Temp\\ipykernel_35052\\75057381.py:97: FutureWarning: The frame.append method is deprecated and will be removed from pandas in a future version. Use pandas.concat instead.\n",
      "  df = df.append({'Address':address, 'Price':price, 'Eircode': eircode, 'Dwelling Type':dwelling_type, 'Bedrooms':bedrooms, 'Bathrooms':bathrooms, 'Last Refreshed':refreshed, 'Floor Area in sqm':floor_area, 'Facilities':facilities, 'Description':description, 'Directions':directions, 'Ber Details':ber_details, 'Accommodation':accommodation, 'Features':features}, ignore_index = True)\n"
     ]
    },
    {
     "name": "stdout",
     "output_type": "stream",
     "text": [
      "DataFrame length:  1353\n"
     ]
    },
    {
     "name": "stderr",
     "output_type": "stream",
     "text": [
      "C:\\Users\\Harry\\AppData\\Local\\Temp\\ipykernel_35052\\75057381.py:97: FutureWarning: The frame.append method is deprecated and will be removed from pandas in a future version. Use pandas.concat instead.\n",
      "  df = df.append({'Address':address, 'Price':price, 'Eircode': eircode, 'Dwelling Type':dwelling_type, 'Bedrooms':bedrooms, 'Bathrooms':bathrooms, 'Last Refreshed':refreshed, 'Floor Area in sqm':floor_area, 'Facilities':facilities, 'Description':description, 'Directions':directions, 'Ber Details':ber_details, 'Accommodation':accommodation, 'Features':features}, ignore_index = True)\n"
     ]
    },
    {
     "name": "stdout",
     "output_type": "stream",
     "text": [
      "DataFrame length:  1354\n"
     ]
    },
    {
     "name": "stderr",
     "output_type": "stream",
     "text": [
      "C:\\Users\\Harry\\AppData\\Local\\Temp\\ipykernel_35052\\75057381.py:97: FutureWarning: The frame.append method is deprecated and will be removed from pandas in a future version. Use pandas.concat instead.\n",
      "  df = df.append({'Address':address, 'Price':price, 'Eircode': eircode, 'Dwelling Type':dwelling_type, 'Bedrooms':bedrooms, 'Bathrooms':bathrooms, 'Last Refreshed':refreshed, 'Floor Area in sqm':floor_area, 'Facilities':facilities, 'Description':description, 'Directions':directions, 'Ber Details':ber_details, 'Accommodation':accommodation, 'Features':features}, ignore_index = True)\n"
     ]
    },
    {
     "name": "stdout",
     "output_type": "stream",
     "text": [
      "DataFrame length:  1355\n"
     ]
    },
    {
     "name": "stderr",
     "output_type": "stream",
     "text": [
      "C:\\Users\\Harry\\AppData\\Local\\Temp\\ipykernel_35052\\75057381.py:97: FutureWarning: The frame.append method is deprecated and will be removed from pandas in a future version. Use pandas.concat instead.\n",
      "  df = df.append({'Address':address, 'Price':price, 'Eircode': eircode, 'Dwelling Type':dwelling_type, 'Bedrooms':bedrooms, 'Bathrooms':bathrooms, 'Last Refreshed':refreshed, 'Floor Area in sqm':floor_area, 'Facilities':facilities, 'Description':description, 'Directions':directions, 'Ber Details':ber_details, 'Accommodation':accommodation, 'Features':features}, ignore_index = True)\n"
     ]
    },
    {
     "name": "stdout",
     "output_type": "stream",
     "text": [
      "DataFrame length:  1356\n"
     ]
    },
    {
     "name": "stderr",
     "output_type": "stream",
     "text": [
      "C:\\Users\\Harry\\AppData\\Local\\Temp\\ipykernel_35052\\75057381.py:97: FutureWarning: The frame.append method is deprecated and will be removed from pandas in a future version. Use pandas.concat instead.\n",
      "  df = df.append({'Address':address, 'Price':price, 'Eircode': eircode, 'Dwelling Type':dwelling_type, 'Bedrooms':bedrooms, 'Bathrooms':bathrooms, 'Last Refreshed':refreshed, 'Floor Area in sqm':floor_area, 'Facilities':facilities, 'Description':description, 'Directions':directions, 'Ber Details':ber_details, 'Accommodation':accommodation, 'Features':features}, ignore_index = True)\n"
     ]
    },
    {
     "name": "stdout",
     "output_type": "stream",
     "text": [
      "DataFrame length:  1357\n"
     ]
    },
    {
     "name": "stderr",
     "output_type": "stream",
     "text": [
      "C:\\Users\\Harry\\AppData\\Local\\Temp\\ipykernel_35052\\75057381.py:97: FutureWarning: The frame.append method is deprecated and will be removed from pandas in a future version. Use pandas.concat instead.\n",
      "  df = df.append({'Address':address, 'Price':price, 'Eircode': eircode, 'Dwelling Type':dwelling_type, 'Bedrooms':bedrooms, 'Bathrooms':bathrooms, 'Last Refreshed':refreshed, 'Floor Area in sqm':floor_area, 'Facilities':facilities, 'Description':description, 'Directions':directions, 'Ber Details':ber_details, 'Accommodation':accommodation, 'Features':features}, ignore_index = True)\n"
     ]
    },
    {
     "name": "stdout",
     "output_type": "stream",
     "text": [
      "DataFrame length:  1358\n"
     ]
    },
    {
     "name": "stderr",
     "output_type": "stream",
     "text": [
      "C:\\Users\\Harry\\AppData\\Local\\Temp\\ipykernel_35052\\75057381.py:97: FutureWarning: The frame.append method is deprecated and will be removed from pandas in a future version. Use pandas.concat instead.\n",
      "  df = df.append({'Address':address, 'Price':price, 'Eircode': eircode, 'Dwelling Type':dwelling_type, 'Bedrooms':bedrooms, 'Bathrooms':bathrooms, 'Last Refreshed':refreshed, 'Floor Area in sqm':floor_area, 'Facilities':facilities, 'Description':description, 'Directions':directions, 'Ber Details':ber_details, 'Accommodation':accommodation, 'Features':features}, ignore_index = True)\n"
     ]
    },
    {
     "name": "stdout",
     "output_type": "stream",
     "text": [
      "DataFrame length:  1359\n"
     ]
    },
    {
     "name": "stderr",
     "output_type": "stream",
     "text": [
      "C:\\Users\\Harry\\AppData\\Local\\Temp\\ipykernel_35052\\75057381.py:97: FutureWarning: The frame.append method is deprecated and will be removed from pandas in a future version. Use pandas.concat instead.\n",
      "  df = df.append({'Address':address, 'Price':price, 'Eircode': eircode, 'Dwelling Type':dwelling_type, 'Bedrooms':bedrooms, 'Bathrooms':bathrooms, 'Last Refreshed':refreshed, 'Floor Area in sqm':floor_area, 'Facilities':facilities, 'Description':description, 'Directions':directions, 'Ber Details':ber_details, 'Accommodation':accommodation, 'Features':features}, ignore_index = True)\n"
     ]
    },
    {
     "name": "stdout",
     "output_type": "stream",
     "text": [
      "DataFrame length:  1360\n"
     ]
    },
    {
     "name": "stderr",
     "output_type": "stream",
     "text": [
      "C:\\Users\\Harry\\AppData\\Local\\Temp\\ipykernel_35052\\75057381.py:97: FutureWarning: The frame.append method is deprecated and will be removed from pandas in a future version. Use pandas.concat instead.\n",
      "  df = df.append({'Address':address, 'Price':price, 'Eircode': eircode, 'Dwelling Type':dwelling_type, 'Bedrooms':bedrooms, 'Bathrooms':bathrooms, 'Last Refreshed':refreshed, 'Floor Area in sqm':floor_area, 'Facilities':facilities, 'Description':description, 'Directions':directions, 'Ber Details':ber_details, 'Accommodation':accommodation, 'Features':features}, ignore_index = True)\n"
     ]
    },
    {
     "name": "stdout",
     "output_type": "stream",
     "text": [
      "DataFrame length:  1361\n"
     ]
    },
    {
     "name": "stderr",
     "output_type": "stream",
     "text": [
      "C:\\Users\\Harry\\AppData\\Local\\Temp\\ipykernel_35052\\75057381.py:97: FutureWarning: The frame.append method is deprecated and will be removed from pandas in a future version. Use pandas.concat instead.\n",
      "  df = df.append({'Address':address, 'Price':price, 'Eircode': eircode, 'Dwelling Type':dwelling_type, 'Bedrooms':bedrooms, 'Bathrooms':bathrooms, 'Last Refreshed':refreshed, 'Floor Area in sqm':floor_area, 'Facilities':facilities, 'Description':description, 'Directions':directions, 'Ber Details':ber_details, 'Accommodation':accommodation, 'Features':features}, ignore_index = True)\n"
     ]
    },
    {
     "name": "stdout",
     "output_type": "stream",
     "text": [
      "DataFrame length:  1362\n"
     ]
    },
    {
     "name": "stderr",
     "output_type": "stream",
     "text": [
      "C:\\Users\\Harry\\AppData\\Local\\Temp\\ipykernel_35052\\75057381.py:97: FutureWarning: The frame.append method is deprecated and will be removed from pandas in a future version. Use pandas.concat instead.\n",
      "  df = df.append({'Address':address, 'Price':price, 'Eircode': eircode, 'Dwelling Type':dwelling_type, 'Bedrooms':bedrooms, 'Bathrooms':bathrooms, 'Last Refreshed':refreshed, 'Floor Area in sqm':floor_area, 'Facilities':facilities, 'Description':description, 'Directions':directions, 'Ber Details':ber_details, 'Accommodation':accommodation, 'Features':features}, ignore_index = True)\n"
     ]
    },
    {
     "name": "stdout",
     "output_type": "stream",
     "text": [
      "DataFrame length:  1363\n"
     ]
    },
    {
     "name": "stderr",
     "output_type": "stream",
     "text": [
      "C:\\Users\\Harry\\AppData\\Local\\Temp\\ipykernel_35052\\75057381.py:97: FutureWarning: The frame.append method is deprecated and will be removed from pandas in a future version. Use pandas.concat instead.\n",
      "  df = df.append({'Address':address, 'Price':price, 'Eircode': eircode, 'Dwelling Type':dwelling_type, 'Bedrooms':bedrooms, 'Bathrooms':bathrooms, 'Last Refreshed':refreshed, 'Floor Area in sqm':floor_area, 'Facilities':facilities, 'Description':description, 'Directions':directions, 'Ber Details':ber_details, 'Accommodation':accommodation, 'Features':features}, ignore_index = True)\n"
     ]
    },
    {
     "name": "stdout",
     "output_type": "stream",
     "text": [
      "DataFrame length:  1364\n"
     ]
    },
    {
     "name": "stderr",
     "output_type": "stream",
     "text": [
      "C:\\Users\\Harry\\AppData\\Local\\Temp\\ipykernel_35052\\75057381.py:97: FutureWarning: The frame.append method is deprecated and will be removed from pandas in a future version. Use pandas.concat instead.\n",
      "  df = df.append({'Address':address, 'Price':price, 'Eircode': eircode, 'Dwelling Type':dwelling_type, 'Bedrooms':bedrooms, 'Bathrooms':bathrooms, 'Last Refreshed':refreshed, 'Floor Area in sqm':floor_area, 'Facilities':facilities, 'Description':description, 'Directions':directions, 'Ber Details':ber_details, 'Accommodation':accommodation, 'Features':features}, ignore_index = True)\n"
     ]
    },
    {
     "name": "stdout",
     "output_type": "stream",
     "text": [
      "DataFrame length:  1365\n"
     ]
    },
    {
     "name": "stderr",
     "output_type": "stream",
     "text": [
      "C:\\Users\\Harry\\AppData\\Local\\Temp\\ipykernel_35052\\75057381.py:97: FutureWarning: The frame.append method is deprecated and will be removed from pandas in a future version. Use pandas.concat instead.\n",
      "  df = df.append({'Address':address, 'Price':price, 'Eircode': eircode, 'Dwelling Type':dwelling_type, 'Bedrooms':bedrooms, 'Bathrooms':bathrooms, 'Last Refreshed':refreshed, 'Floor Area in sqm':floor_area, 'Facilities':facilities, 'Description':description, 'Directions':directions, 'Ber Details':ber_details, 'Accommodation':accommodation, 'Features':features}, ignore_index = True)\n"
     ]
    },
    {
     "name": "stdout",
     "output_type": "stream",
     "text": [
      "DataFrame length:  1366\n"
     ]
    },
    {
     "name": "stderr",
     "output_type": "stream",
     "text": [
      "C:\\Users\\Harry\\AppData\\Local\\Temp\\ipykernel_35052\\75057381.py:97: FutureWarning: The frame.append method is deprecated and will be removed from pandas in a future version. Use pandas.concat instead.\n",
      "  df = df.append({'Address':address, 'Price':price, 'Eircode': eircode, 'Dwelling Type':dwelling_type, 'Bedrooms':bedrooms, 'Bathrooms':bathrooms, 'Last Refreshed':refreshed, 'Floor Area in sqm':floor_area, 'Facilities':facilities, 'Description':description, 'Directions':directions, 'Ber Details':ber_details, 'Accommodation':accommodation, 'Features':features}, ignore_index = True)\n"
     ]
    },
    {
     "name": "stdout",
     "output_type": "stream",
     "text": [
      "DataFrame length:  1367\n"
     ]
    },
    {
     "name": "stderr",
     "output_type": "stream",
     "text": [
      "C:\\Users\\Harry\\AppData\\Local\\Temp\\ipykernel_35052\\75057381.py:97: FutureWarning: The frame.append method is deprecated and will be removed from pandas in a future version. Use pandas.concat instead.\n",
      "  df = df.append({'Address':address, 'Price':price, 'Eircode': eircode, 'Dwelling Type':dwelling_type, 'Bedrooms':bedrooms, 'Bathrooms':bathrooms, 'Last Refreshed':refreshed, 'Floor Area in sqm':floor_area, 'Facilities':facilities, 'Description':description, 'Directions':directions, 'Ber Details':ber_details, 'Accommodation':accommodation, 'Features':features}, ignore_index = True)\n"
     ]
    },
    {
     "name": "stdout",
     "output_type": "stream",
     "text": [
      "DataFrame length:  1368\n"
     ]
    },
    {
     "name": "stderr",
     "output_type": "stream",
     "text": [
      "C:\\Users\\Harry\\AppData\\Local\\Temp\\ipykernel_35052\\75057381.py:97: FutureWarning: The frame.append method is deprecated and will be removed from pandas in a future version. Use pandas.concat instead.\n",
      "  df = df.append({'Address':address, 'Price':price, 'Eircode': eircode, 'Dwelling Type':dwelling_type, 'Bedrooms':bedrooms, 'Bathrooms':bathrooms, 'Last Refreshed':refreshed, 'Floor Area in sqm':floor_area, 'Facilities':facilities, 'Description':description, 'Directions':directions, 'Ber Details':ber_details, 'Accommodation':accommodation, 'Features':features}, ignore_index = True)\n"
     ]
    },
    {
     "name": "stdout",
     "output_type": "stream",
     "text": [
      "DataFrame length:  1369\n"
     ]
    },
    {
     "name": "stderr",
     "output_type": "stream",
     "text": [
      "C:\\Users\\Harry\\AppData\\Local\\Temp\\ipykernel_35052\\75057381.py:97: FutureWarning: The frame.append method is deprecated and will be removed from pandas in a future version. Use pandas.concat instead.\n",
      "  df = df.append({'Address':address, 'Price':price, 'Eircode': eircode, 'Dwelling Type':dwelling_type, 'Bedrooms':bedrooms, 'Bathrooms':bathrooms, 'Last Refreshed':refreshed, 'Floor Area in sqm':floor_area, 'Facilities':facilities, 'Description':description, 'Directions':directions, 'Ber Details':ber_details, 'Accommodation':accommodation, 'Features':features}, ignore_index = True)\n"
     ]
    },
    {
     "name": "stdout",
     "output_type": "stream",
     "text": [
      "DataFrame length:  1370\n"
     ]
    },
    {
     "name": "stderr",
     "output_type": "stream",
     "text": [
      "C:\\Users\\Harry\\AppData\\Local\\Temp\\ipykernel_35052\\75057381.py:97: FutureWarning: The frame.append method is deprecated and will be removed from pandas in a future version. Use pandas.concat instead.\n",
      "  df = df.append({'Address':address, 'Price':price, 'Eircode': eircode, 'Dwelling Type':dwelling_type, 'Bedrooms':bedrooms, 'Bathrooms':bathrooms, 'Last Refreshed':refreshed, 'Floor Area in sqm':floor_area, 'Facilities':facilities, 'Description':description, 'Directions':directions, 'Ber Details':ber_details, 'Accommodation':accommodation, 'Features':features}, ignore_index = True)\n"
     ]
    },
    {
     "name": "stdout",
     "output_type": "stream",
     "text": [
      "DataFrame length:  1371\n"
     ]
    },
    {
     "name": "stderr",
     "output_type": "stream",
     "text": [
      "C:\\Users\\Harry\\AppData\\Local\\Temp\\ipykernel_35052\\75057381.py:97: FutureWarning: The frame.append method is deprecated and will be removed from pandas in a future version. Use pandas.concat instead.\n",
      "  df = df.append({'Address':address, 'Price':price, 'Eircode': eircode, 'Dwelling Type':dwelling_type, 'Bedrooms':bedrooms, 'Bathrooms':bathrooms, 'Last Refreshed':refreshed, 'Floor Area in sqm':floor_area, 'Facilities':facilities, 'Description':description, 'Directions':directions, 'Ber Details':ber_details, 'Accommodation':accommodation, 'Features':features}, ignore_index = True)\n"
     ]
    },
    {
     "name": "stdout",
     "output_type": "stream",
     "text": [
      "DataFrame length:  1372\n"
     ]
    },
    {
     "name": "stderr",
     "output_type": "stream",
     "text": [
      "C:\\Users\\Harry\\AppData\\Local\\Temp\\ipykernel_35052\\75057381.py:97: FutureWarning: The frame.append method is deprecated and will be removed from pandas in a future version. Use pandas.concat instead.\n",
      "  df = df.append({'Address':address, 'Price':price, 'Eircode': eircode, 'Dwelling Type':dwelling_type, 'Bedrooms':bedrooms, 'Bathrooms':bathrooms, 'Last Refreshed':refreshed, 'Floor Area in sqm':floor_area, 'Facilities':facilities, 'Description':description, 'Directions':directions, 'Ber Details':ber_details, 'Accommodation':accommodation, 'Features':features}, ignore_index = True)\n"
     ]
    },
    {
     "name": "stdout",
     "output_type": "stream",
     "text": [
      "DataFrame length:  1373\n"
     ]
    },
    {
     "name": "stderr",
     "output_type": "stream",
     "text": [
      "C:\\Users\\Harry\\AppData\\Local\\Temp\\ipykernel_35052\\75057381.py:97: FutureWarning: The frame.append method is deprecated and will be removed from pandas in a future version. Use pandas.concat instead.\n",
      "  df = df.append({'Address':address, 'Price':price, 'Eircode': eircode, 'Dwelling Type':dwelling_type, 'Bedrooms':bedrooms, 'Bathrooms':bathrooms, 'Last Refreshed':refreshed, 'Floor Area in sqm':floor_area, 'Facilities':facilities, 'Description':description, 'Directions':directions, 'Ber Details':ber_details, 'Accommodation':accommodation, 'Features':features}, ignore_index = True)\n"
     ]
    },
    {
     "name": "stdout",
     "output_type": "stream",
     "text": [
      "DataFrame length:  1374\n"
     ]
    },
    {
     "name": "stderr",
     "output_type": "stream",
     "text": [
      "C:\\Users\\Harry\\AppData\\Local\\Temp\\ipykernel_35052\\75057381.py:97: FutureWarning: The frame.append method is deprecated and will be removed from pandas in a future version. Use pandas.concat instead.\n",
      "  df = df.append({'Address':address, 'Price':price, 'Eircode': eircode, 'Dwelling Type':dwelling_type, 'Bedrooms':bedrooms, 'Bathrooms':bathrooms, 'Last Refreshed':refreshed, 'Floor Area in sqm':floor_area, 'Facilities':facilities, 'Description':description, 'Directions':directions, 'Ber Details':ber_details, 'Accommodation':accommodation, 'Features':features}, ignore_index = True)\n"
     ]
    },
    {
     "name": "stdout",
     "output_type": "stream",
     "text": [
      "DataFrame length:  1375\n"
     ]
    },
    {
     "name": "stderr",
     "output_type": "stream",
     "text": [
      "C:\\Users\\Harry\\AppData\\Local\\Temp\\ipykernel_35052\\75057381.py:97: FutureWarning: The frame.append method is deprecated and will be removed from pandas in a future version. Use pandas.concat instead.\n",
      "  df = df.append({'Address':address, 'Price':price, 'Eircode': eircode, 'Dwelling Type':dwelling_type, 'Bedrooms':bedrooms, 'Bathrooms':bathrooms, 'Last Refreshed':refreshed, 'Floor Area in sqm':floor_area, 'Facilities':facilities, 'Description':description, 'Directions':directions, 'Ber Details':ber_details, 'Accommodation':accommodation, 'Features':features}, ignore_index = True)\n"
     ]
    },
    {
     "name": "stdout",
     "output_type": "stream",
     "text": [
      "DataFrame length:  1376\n"
     ]
    },
    {
     "name": "stderr",
     "output_type": "stream",
     "text": [
      "C:\\Users\\Harry\\AppData\\Local\\Temp\\ipykernel_35052\\75057381.py:97: FutureWarning: The frame.append method is deprecated and will be removed from pandas in a future version. Use pandas.concat instead.\n",
      "  df = df.append({'Address':address, 'Price':price, 'Eircode': eircode, 'Dwelling Type':dwelling_type, 'Bedrooms':bedrooms, 'Bathrooms':bathrooms, 'Last Refreshed':refreshed, 'Floor Area in sqm':floor_area, 'Facilities':facilities, 'Description':description, 'Directions':directions, 'Ber Details':ber_details, 'Accommodation':accommodation, 'Features':features}, ignore_index = True)\n"
     ]
    },
    {
     "name": "stdout",
     "output_type": "stream",
     "text": [
      "DataFrame length:  1377\n"
     ]
    },
    {
     "name": "stderr",
     "output_type": "stream",
     "text": [
      "C:\\Users\\Harry\\AppData\\Local\\Temp\\ipykernel_35052\\75057381.py:97: FutureWarning: The frame.append method is deprecated and will be removed from pandas in a future version. Use pandas.concat instead.\n",
      "  df = df.append({'Address':address, 'Price':price, 'Eircode': eircode, 'Dwelling Type':dwelling_type, 'Bedrooms':bedrooms, 'Bathrooms':bathrooms, 'Last Refreshed':refreshed, 'Floor Area in sqm':floor_area, 'Facilities':facilities, 'Description':description, 'Directions':directions, 'Ber Details':ber_details, 'Accommodation':accommodation, 'Features':features}, ignore_index = True)\n"
     ]
    },
    {
     "name": "stdout",
     "output_type": "stream",
     "text": [
      "DataFrame length:  1378\n"
     ]
    },
    {
     "name": "stderr",
     "output_type": "stream",
     "text": [
      "C:\\Users\\Harry\\AppData\\Local\\Temp\\ipykernel_35052\\75057381.py:97: FutureWarning: The frame.append method is deprecated and will be removed from pandas in a future version. Use pandas.concat instead.\n",
      "  df = df.append({'Address':address, 'Price':price, 'Eircode': eircode, 'Dwelling Type':dwelling_type, 'Bedrooms':bedrooms, 'Bathrooms':bathrooms, 'Last Refreshed':refreshed, 'Floor Area in sqm':floor_area, 'Facilities':facilities, 'Description':description, 'Directions':directions, 'Ber Details':ber_details, 'Accommodation':accommodation, 'Features':features}, ignore_index = True)\n"
     ]
    },
    {
     "name": "stdout",
     "output_type": "stream",
     "text": [
      "DataFrame length:  1379\n"
     ]
    },
    {
     "name": "stderr",
     "output_type": "stream",
     "text": [
      "C:\\Users\\Harry\\AppData\\Local\\Temp\\ipykernel_35052\\75057381.py:97: FutureWarning: The frame.append method is deprecated and will be removed from pandas in a future version. Use pandas.concat instead.\n",
      "  df = df.append({'Address':address, 'Price':price, 'Eircode': eircode, 'Dwelling Type':dwelling_type, 'Bedrooms':bedrooms, 'Bathrooms':bathrooms, 'Last Refreshed':refreshed, 'Floor Area in sqm':floor_area, 'Facilities':facilities, 'Description':description, 'Directions':directions, 'Ber Details':ber_details, 'Accommodation':accommodation, 'Features':features}, ignore_index = True)\n"
     ]
    },
    {
     "name": "stdout",
     "output_type": "stream",
     "text": [
      "DataFrame length:  1380\n"
     ]
    },
    {
     "name": "stderr",
     "output_type": "stream",
     "text": [
      "C:\\Users\\Harry\\AppData\\Local\\Temp\\ipykernel_35052\\75057381.py:97: FutureWarning: The frame.append method is deprecated and will be removed from pandas in a future version. Use pandas.concat instead.\n",
      "  df = df.append({'Address':address, 'Price':price, 'Eircode': eircode, 'Dwelling Type':dwelling_type, 'Bedrooms':bedrooms, 'Bathrooms':bathrooms, 'Last Refreshed':refreshed, 'Floor Area in sqm':floor_area, 'Facilities':facilities, 'Description':description, 'Directions':directions, 'Ber Details':ber_details, 'Accommodation':accommodation, 'Features':features}, ignore_index = True)\n"
     ]
    },
    {
     "name": "stdout",
     "output_type": "stream",
     "text": [
      "DataFrame length:  1381\n"
     ]
    },
    {
     "name": "stderr",
     "output_type": "stream",
     "text": [
      "C:\\Users\\Harry\\AppData\\Local\\Temp\\ipykernel_35052\\75057381.py:97: FutureWarning: The frame.append method is deprecated and will be removed from pandas in a future version. Use pandas.concat instead.\n",
      "  df = df.append({'Address':address, 'Price':price, 'Eircode': eircode, 'Dwelling Type':dwelling_type, 'Bedrooms':bedrooms, 'Bathrooms':bathrooms, 'Last Refreshed':refreshed, 'Floor Area in sqm':floor_area, 'Facilities':facilities, 'Description':description, 'Directions':directions, 'Ber Details':ber_details, 'Accommodation':accommodation, 'Features':features}, ignore_index = True)\n"
     ]
    },
    {
     "name": "stdout",
     "output_type": "stream",
     "text": [
      "DataFrame length:  1382\n"
     ]
    },
    {
     "name": "stderr",
     "output_type": "stream",
     "text": [
      "C:\\Users\\Harry\\AppData\\Local\\Temp\\ipykernel_35052\\75057381.py:97: FutureWarning: The frame.append method is deprecated and will be removed from pandas in a future version. Use pandas.concat instead.\n",
      "  df = df.append({'Address':address, 'Price':price, 'Eircode': eircode, 'Dwelling Type':dwelling_type, 'Bedrooms':bedrooms, 'Bathrooms':bathrooms, 'Last Refreshed':refreshed, 'Floor Area in sqm':floor_area, 'Facilities':facilities, 'Description':description, 'Directions':directions, 'Ber Details':ber_details, 'Accommodation':accommodation, 'Features':features}, ignore_index = True)\n"
     ]
    },
    {
     "name": "stdout",
     "output_type": "stream",
     "text": [
      "DataFrame length:  1383\n"
     ]
    },
    {
     "name": "stderr",
     "output_type": "stream",
     "text": [
      "C:\\Users\\Harry\\AppData\\Local\\Temp\\ipykernel_35052\\75057381.py:97: FutureWarning: The frame.append method is deprecated and will be removed from pandas in a future version. Use pandas.concat instead.\n",
      "  df = df.append({'Address':address, 'Price':price, 'Eircode': eircode, 'Dwelling Type':dwelling_type, 'Bedrooms':bedrooms, 'Bathrooms':bathrooms, 'Last Refreshed':refreshed, 'Floor Area in sqm':floor_area, 'Facilities':facilities, 'Description':description, 'Directions':directions, 'Ber Details':ber_details, 'Accommodation':accommodation, 'Features':features}, ignore_index = True)\n"
     ]
    },
    {
     "name": "stdout",
     "output_type": "stream",
     "text": [
      "DataFrame length:  1384\n"
     ]
    }
   ],
   "source": [
    "#To remove duplicates\n",
    "property_list = list(set(property_list)) \n",
    "print('Number of unique Properties: ', len(property_list))\n",
    "for item in property_list:\n",
    "    try:\n",
    "        url = f\"https://www.myhome.ie{item}\"\n",
    "        text = urlopen(url).read()\n",
    "        soup = bs4.BeautifulSoup(text, features=\"lxml\")\n",
    "        #Get Address\n",
    "        address = soup.find(\"h1\", {\"class\": \"PropertyBrochure__Address\"}).get_text()\n",
    "        address = address.strip()\n",
    "        #Get Price\n",
    "        price = soup.find(\"div\", {\"class\": \"PropertyBrochure__Price\"}).get_text()\n",
    "        price = price.replace('€', '')\n",
    "        price = price.replace('AMV', '')\n",
    "        price = price.replace(',', '')\n",
    "        price = price.replace('POA', '')\n",
    "        try:\n",
    "            price = int(price)\n",
    "        except:\n",
    "            price = np.nan\n",
    "        #Get Eircode\n",
    "        try:\n",
    "            eircode = soup.find(\"div\", {\"class\": \"PropertyBrochure__Eircode ng-star-inserted\"}).get_text()\n",
    "            eircode = eircode.replace('Eircode:', '')\n",
    "            eircode = eircode.replace(' ', '')\n",
    "            if len(eircode) != 7:\n",
    "                eircode = np.nan\n",
    "        except:\n",
    "            eircode = np.nan\n",
    "        #Get Dwelling Type, Bedrooms, Bathrooms, Floor Area\n",
    "        additional_data = soup.find_all(\"span\", {\"class\": \"PropertyInfoStrip__Detail PropertyInfoStrip__Detail--dark ng-star-inserted\"})\n",
    "        lines = [span.get_text() for span in additional_data]\n",
    "        dwelling_type = np.nan\n",
    "        dwelling_type_list = ['Apartment', 'Bungalow', 'Cottage', 'Country House', 'Detached House', 'Development Land', 'Dormer', 'Duplex', 'End of Terrace House', 'Farm', 'Farm Land', 'Holiday Home', 'House', 'Investment', 'Live-Work Unit', 'Mews', 'Penthouse', 'Period House', 'Semi-Detached House', 'Site', 'Studio', 'Terraced House', 'Townhouse']\n",
    "        for x in dwelling_type_list:\n",
    "            if x in lines[-2]:\n",
    "                dwelling_type = lines[-2]\n",
    "        #print(dwelling_type)\n",
    "        bedrooms = np.nan\n",
    "        if 'bed' in lines[0]:\n",
    "            bedrooms = lines[0]\n",
    "        #print(bedrooms)\n",
    "        bathrooms = np.nan\n",
    "        if 'bath' in lines[1]:\n",
    "            bathrooms = lines[1]\n",
    "        #print(bathrooms)\n",
    "        refreshed = np.nan\n",
    "        if 'Refreshed' in lines[-1]:\n",
    "            refreshed = lines[-1]\n",
    "        #print(refreshed)\n",
    "        floor_area = np.nan\n",
    "        for x in lines:\n",
    "            if ('m 2' or 'ft 2') in x:\n",
    "                floor_area = x\n",
    "        #Get facility list\n",
    "        try:\n",
    "            data = soup.find_all(\"div\", {\"class\": \"FeatureList__FeatureTitle\"})\n",
    "            facilities = [div.get_text() for div in data]\n",
    "        except:\n",
    "            facilities = np.nan \n",
    "        #Get Property Description text, Ber Rating and directions\n",
    "        data = soup.find_all(\"div\", {\"class\": \"mb-5 ng-star-inserted\"})\n",
    "        description = np.nan\n",
    "        ber_details = np.nan\n",
    "        directions = np.nan\n",
    "        accommodation = np.nan\n",
    "        features = np.nan\n",
    "        for item in data:\n",
    "            headline = item.find('h4').get_text()\n",
    "            text = item.find('section').get_text()\n",
    "            if 'Description' in headline:\n",
    "                description = text\n",
    "                #print(description)\n",
    "            elif 'BER Details' in headline:\n",
    "                ber_details = text\n",
    "               #print(ber_details)\n",
    "            elif 'Directions' in headline:\n",
    "                directions = text\n",
    "                #print(directions)\n",
    "            elif 'Accommodation' in headline:\n",
    "                accommodation = text\n",
    "                #print(accommodation)\n",
    "            elif 'Features' in headline:\n",
    "                features = text\n",
    "                #print(features)\n",
    "        #Get Coordinates - does not work..\n",
    "        '''data = soup.find_all(\"div\", {\"class\": \"MhPropertyInfoModalComponent__StaticMap ng-star-inserted\"})\n",
    "        coordinates = np.nan\n",
    "        for image in data:\n",
    "            print(data)\n",
    "            coordinates_temp = image.find(\"source\").get_text()\n",
    "            print(coordinates_temp)\n",
    "            if 'maps.googleapis' in coordinates_temp:\n",
    "                coordinates = coordinates_temp'''\n",
    "    \n",
    "        df = df.append({'Address':address, 'Price':price, 'Eircode': eircode, 'Dwelling Type':dwelling_type, 'Bedrooms':bedrooms, 'Bathrooms':bathrooms, 'Last Refreshed':refreshed, 'Floor Area in sqm':floor_area, 'Facilities':facilities, 'Description':description, 'Directions':directions, 'Ber Details':ber_details, 'Accommodation':accommodation, 'Features':features}, ignore_index = True)\n",
    "        print('DataFrame length: ',len(df))\n",
    "    except:\n",
    "        None\n",
    "\n"
   ]
  },
  {
   "cell_type": "code",
   "execution_count": 6,
   "metadata": {
    "scrolled": true
   },
   "outputs": [
    {
     "ename": "NameError",
     "evalue": "name 'os' is not defined",
     "output_type": "error",
     "traceback": [
      "\u001b[1;31m---------------------------------------------------------------------------\u001b[0m",
      "\u001b[1;31mNameError\u001b[0m                                 Traceback (most recent call last)",
      "Input \u001b[1;32mIn [6]\u001b[0m, in \u001b[0;36m<cell line: 2>\u001b[1;34m()\u001b[0m\n\u001b[0;32m      1\u001b[0m \u001b[38;5;66;03m#Save final dataframe to csv file - change path accordingly!        \u001b[39;00m\n\u001b[1;32m----> 2\u001b[0m df\u001b[38;5;241m.\u001b[39mto_csv(\u001b[43mos\u001b[49m\u001b[38;5;241m.\u001b[39mpath\u001b[38;5;241m.\u001b[39mjoin(report_dir, \u001b[38;5;124m'\u001b[39m\u001b[38;5;124mmy_homes_data_asof10102022.csv\u001b[39m\u001b[38;5;124m'\u001b[39m), index\u001b[38;5;241m=\u001b[39m\u001b[38;5;28;01mFalse\u001b[39;00m)\n",
      "\u001b[1;31mNameError\u001b[0m: name 'os' is not defined"
     ]
    }
   ],
   "source": [
    "#Save final dataframe to csv file - change path accordingly!        \n",
    "df.to_csv(os.path.join(report_dir, 'my_homes_data_asof10102022.csv'), index=False)"
   ]
  },
  {
   "cell_type": "code",
   "execution_count": null,
   "metadata": {},
   "outputs": [],
   "source": [
    "df"
   ]
  },
  {
   "cell_type": "code",
   "execution_count": null,
   "metadata": {},
   "outputs": [],
   "source": []
  }
 ],
 "metadata": {
  "kernelspec": {
   "display_name": "Python 3 (ipykernel)",
   "language": "python",
   "name": "python3"
  },
  "language_info": {
   "codemirror_mode": {
    "name": "ipython",
    "version": 3
   },
   "file_extension": ".py",
   "mimetype": "text/x-python",
   "name": "python",
   "nbconvert_exporter": "python",
   "pygments_lexer": "ipython3",
   "version": "3.10.4"
  }
 },
 "nbformat": 4,
 "nbformat_minor": 4
}
